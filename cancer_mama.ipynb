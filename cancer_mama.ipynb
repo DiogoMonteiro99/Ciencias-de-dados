{
 "cells": [
  {
   "cell_type": "markdown",
   "metadata": {},
   "source": [
    "Informações do atributo:\n",
    "\n",
    "1) ID número\n",
    "2) Diagnóstico (M = maligno, B = benigno) 3-32)\n",
    "Dez características de valor real são calculadas para cada núcleo celular:\n",
    "\n",
    "a) raio (média das distâncias do centro aos pontos do perímetro) b) textura (desvio padrão dos valores da escala de cinza) c) perímetro\n",
    "d) área e) suavidade (variação local nos comprimentos dos raios) f) compacidade (perímetro^2 / área\n",
    "- 1,0) g) concavidade (severidade das porções côncavas do contorno) h) pontos côncavos (número de porções côncavas do contorno) i)\n",
    "simetria\n",
    "j) dimensão fractal (\"aproximação do litoral\" - 1)\n",
    "\n",
    "A média, o erro padrão e o \"pior\" ou maior (média dos três\n",
    "maiores valores) dessas características foram computados para cada imagem,\n",
    "resultando em 30 características. Por exemplo, o campo 3 é Raio Médio, o campo 13 é Raio SE, o campo\n",
    "23 é Pior Raio.\n",
    "\n",
    "Todos os valores de recurso são recodificados com quatro dígitos significativos.\n",
    "\n",
    "Valores de atributo ausentes: nenhum\n"
   ]
  },
  {
   "cell_type": "markdown",
   "metadata": {},
   "source": [
    "Importando as bibliotecas"
   ]
  },
  {
   "cell_type": "code",
   "execution_count": 1,
   "metadata": {},
   "outputs": [
    {
     "name": "stderr",
     "output_type": "stream",
     "text": [
      "/usr/lib/python3/dist-packages/scipy/__init__.py:146: UserWarning: A NumPy version >=1.17.3 and <1.25.0 is required for this version of SciPy (detected version 1.26.1\n",
      "  warnings.warn(f\"A NumPy version >={np_minversion} and <{np_maxversion}\"\n"
     ]
    },
    {
     "data": {
      "text/html": [
       "<div>\n",
       "<style scoped>\n",
       "    .dataframe tbody tr th:only-of-type {\n",
       "        vertical-align: middle;\n",
       "    }\n",
       "\n",
       "    .dataframe tbody tr th {\n",
       "        vertical-align: top;\n",
       "    }\n",
       "\n",
       "    .dataframe thead th {\n",
       "        text-align: right;\n",
       "    }\n",
       "</style>\n",
       "<table border=\"1\" class=\"dataframe\">\n",
       "  <thead>\n",
       "    <tr style=\"text-align: right;\">\n",
       "      <th></th>\n",
       "      <th>id</th>\n",
       "      <th>diagnosis</th>\n",
       "      <th>radius_mean</th>\n",
       "      <th>texture_mean</th>\n",
       "      <th>perimeter_mean</th>\n",
       "      <th>area_mean</th>\n",
       "      <th>smoothness_mean</th>\n",
       "      <th>compactness_mean</th>\n",
       "      <th>concavity_mean</th>\n",
       "      <th>concave points_mean</th>\n",
       "      <th>...</th>\n",
       "      <th>texture_worst</th>\n",
       "      <th>perimeter_worst</th>\n",
       "      <th>area_worst</th>\n",
       "      <th>smoothness_worst</th>\n",
       "      <th>compactness_worst</th>\n",
       "      <th>concavity_worst</th>\n",
       "      <th>concave points_worst</th>\n",
       "      <th>symmetry_worst</th>\n",
       "      <th>fractal_dimension_worst</th>\n",
       "      <th>Unnamed: 32</th>\n",
       "    </tr>\n",
       "  </thead>\n",
       "  <tbody>\n",
       "    <tr>\n",
       "      <th>0</th>\n",
       "      <td>842302</td>\n",
       "      <td>M</td>\n",
       "      <td>17.99</td>\n",
       "      <td>10.38</td>\n",
       "      <td>122.80</td>\n",
       "      <td>1001.0</td>\n",
       "      <td>0.11840</td>\n",
       "      <td>0.27760</td>\n",
       "      <td>0.30010</td>\n",
       "      <td>0.14710</td>\n",
       "      <td>...</td>\n",
       "      <td>17.33</td>\n",
       "      <td>184.60</td>\n",
       "      <td>2019.0</td>\n",
       "      <td>0.1622</td>\n",
       "      <td>0.6656</td>\n",
       "      <td>0.7119</td>\n",
       "      <td>0.26540</td>\n",
       "      <td>0.4601</td>\n",
       "      <td>0.11890</td>\n",
       "      <td>NaN</td>\n",
       "    </tr>\n",
       "    <tr>\n",
       "      <th>1</th>\n",
       "      <td>842517</td>\n",
       "      <td>M</td>\n",
       "      <td>20.57</td>\n",
       "      <td>17.77</td>\n",
       "      <td>132.90</td>\n",
       "      <td>1326.0</td>\n",
       "      <td>0.08474</td>\n",
       "      <td>0.07864</td>\n",
       "      <td>0.08690</td>\n",
       "      <td>0.07017</td>\n",
       "      <td>...</td>\n",
       "      <td>23.41</td>\n",
       "      <td>158.80</td>\n",
       "      <td>1956.0</td>\n",
       "      <td>0.1238</td>\n",
       "      <td>0.1866</td>\n",
       "      <td>0.2416</td>\n",
       "      <td>0.18600</td>\n",
       "      <td>0.2750</td>\n",
       "      <td>0.08902</td>\n",
       "      <td>NaN</td>\n",
       "    </tr>\n",
       "    <tr>\n",
       "      <th>2</th>\n",
       "      <td>84300903</td>\n",
       "      <td>M</td>\n",
       "      <td>19.69</td>\n",
       "      <td>21.25</td>\n",
       "      <td>130.00</td>\n",
       "      <td>1203.0</td>\n",
       "      <td>0.10960</td>\n",
       "      <td>0.15990</td>\n",
       "      <td>0.19740</td>\n",
       "      <td>0.12790</td>\n",
       "      <td>...</td>\n",
       "      <td>25.53</td>\n",
       "      <td>152.50</td>\n",
       "      <td>1709.0</td>\n",
       "      <td>0.1444</td>\n",
       "      <td>0.4245</td>\n",
       "      <td>0.4504</td>\n",
       "      <td>0.24300</td>\n",
       "      <td>0.3613</td>\n",
       "      <td>0.08758</td>\n",
       "      <td>NaN</td>\n",
       "    </tr>\n",
       "    <tr>\n",
       "      <th>3</th>\n",
       "      <td>84348301</td>\n",
       "      <td>M</td>\n",
       "      <td>11.42</td>\n",
       "      <td>20.38</td>\n",
       "      <td>77.58</td>\n",
       "      <td>386.1</td>\n",
       "      <td>0.14250</td>\n",
       "      <td>0.28390</td>\n",
       "      <td>0.24140</td>\n",
       "      <td>0.10520</td>\n",
       "      <td>...</td>\n",
       "      <td>26.50</td>\n",
       "      <td>98.87</td>\n",
       "      <td>567.7</td>\n",
       "      <td>0.2098</td>\n",
       "      <td>0.8663</td>\n",
       "      <td>0.6869</td>\n",
       "      <td>0.25750</td>\n",
       "      <td>0.6638</td>\n",
       "      <td>0.17300</td>\n",
       "      <td>NaN</td>\n",
       "    </tr>\n",
       "    <tr>\n",
       "      <th>4</th>\n",
       "      <td>84358402</td>\n",
       "      <td>M</td>\n",
       "      <td>20.29</td>\n",
       "      <td>14.34</td>\n",
       "      <td>135.10</td>\n",
       "      <td>1297.0</td>\n",
       "      <td>0.10030</td>\n",
       "      <td>0.13280</td>\n",
       "      <td>0.19800</td>\n",
       "      <td>0.10430</td>\n",
       "      <td>...</td>\n",
       "      <td>16.67</td>\n",
       "      <td>152.20</td>\n",
       "      <td>1575.0</td>\n",
       "      <td>0.1374</td>\n",
       "      <td>0.2050</td>\n",
       "      <td>0.4000</td>\n",
       "      <td>0.16250</td>\n",
       "      <td>0.2364</td>\n",
       "      <td>0.07678</td>\n",
       "      <td>NaN</td>\n",
       "    </tr>\n",
       "    <tr>\n",
       "      <th>5</th>\n",
       "      <td>843786</td>\n",
       "      <td>M</td>\n",
       "      <td>12.45</td>\n",
       "      <td>15.70</td>\n",
       "      <td>82.57</td>\n",
       "      <td>477.1</td>\n",
       "      <td>0.12780</td>\n",
       "      <td>0.17000</td>\n",
       "      <td>0.15780</td>\n",
       "      <td>0.08089</td>\n",
       "      <td>...</td>\n",
       "      <td>23.75</td>\n",
       "      <td>103.40</td>\n",
       "      <td>741.6</td>\n",
       "      <td>0.1791</td>\n",
       "      <td>0.5249</td>\n",
       "      <td>0.5355</td>\n",
       "      <td>0.17410</td>\n",
       "      <td>0.3985</td>\n",
       "      <td>0.12440</td>\n",
       "      <td>NaN</td>\n",
       "    </tr>\n",
       "    <tr>\n",
       "      <th>6</th>\n",
       "      <td>844359</td>\n",
       "      <td>M</td>\n",
       "      <td>18.25</td>\n",
       "      <td>19.98</td>\n",
       "      <td>119.60</td>\n",
       "      <td>1040.0</td>\n",
       "      <td>0.09463</td>\n",
       "      <td>0.10900</td>\n",
       "      <td>0.11270</td>\n",
       "      <td>0.07400</td>\n",
       "      <td>...</td>\n",
       "      <td>27.66</td>\n",
       "      <td>153.20</td>\n",
       "      <td>1606.0</td>\n",
       "      <td>0.1442</td>\n",
       "      <td>0.2576</td>\n",
       "      <td>0.3784</td>\n",
       "      <td>0.19320</td>\n",
       "      <td>0.3063</td>\n",
       "      <td>0.08368</td>\n",
       "      <td>NaN</td>\n",
       "    </tr>\n",
       "    <tr>\n",
       "      <th>7</th>\n",
       "      <td>84458202</td>\n",
       "      <td>M</td>\n",
       "      <td>13.71</td>\n",
       "      <td>20.83</td>\n",
       "      <td>90.20</td>\n",
       "      <td>577.9</td>\n",
       "      <td>0.11890</td>\n",
       "      <td>0.16450</td>\n",
       "      <td>0.09366</td>\n",
       "      <td>0.05985</td>\n",
       "      <td>...</td>\n",
       "      <td>28.14</td>\n",
       "      <td>110.60</td>\n",
       "      <td>897.0</td>\n",
       "      <td>0.1654</td>\n",
       "      <td>0.3682</td>\n",
       "      <td>0.2678</td>\n",
       "      <td>0.15560</td>\n",
       "      <td>0.3196</td>\n",
       "      <td>0.11510</td>\n",
       "      <td>NaN</td>\n",
       "    </tr>\n",
       "    <tr>\n",
       "      <th>8</th>\n",
       "      <td>844981</td>\n",
       "      <td>M</td>\n",
       "      <td>13.00</td>\n",
       "      <td>21.82</td>\n",
       "      <td>87.50</td>\n",
       "      <td>519.8</td>\n",
       "      <td>0.12730</td>\n",
       "      <td>0.19320</td>\n",
       "      <td>0.18590</td>\n",
       "      <td>0.09353</td>\n",
       "      <td>...</td>\n",
       "      <td>30.73</td>\n",
       "      <td>106.20</td>\n",
       "      <td>739.3</td>\n",
       "      <td>0.1703</td>\n",
       "      <td>0.5401</td>\n",
       "      <td>0.5390</td>\n",
       "      <td>0.20600</td>\n",
       "      <td>0.4378</td>\n",
       "      <td>0.10720</td>\n",
       "      <td>NaN</td>\n",
       "    </tr>\n",
       "    <tr>\n",
       "      <th>9</th>\n",
       "      <td>84501001</td>\n",
       "      <td>M</td>\n",
       "      <td>12.46</td>\n",
       "      <td>24.04</td>\n",
       "      <td>83.97</td>\n",
       "      <td>475.9</td>\n",
       "      <td>0.11860</td>\n",
       "      <td>0.23960</td>\n",
       "      <td>0.22730</td>\n",
       "      <td>0.08543</td>\n",
       "      <td>...</td>\n",
       "      <td>40.68</td>\n",
       "      <td>97.65</td>\n",
       "      <td>711.4</td>\n",
       "      <td>0.1853</td>\n",
       "      <td>1.0580</td>\n",
       "      <td>1.1050</td>\n",
       "      <td>0.22100</td>\n",
       "      <td>0.4366</td>\n",
       "      <td>0.20750</td>\n",
       "      <td>NaN</td>\n",
       "    </tr>\n",
       "    <tr>\n",
       "      <th>10</th>\n",
       "      <td>845636</td>\n",
       "      <td>M</td>\n",
       "      <td>16.02</td>\n",
       "      <td>23.24</td>\n",
       "      <td>102.70</td>\n",
       "      <td>797.8</td>\n",
       "      <td>0.08206</td>\n",
       "      <td>0.06669</td>\n",
       "      <td>0.03299</td>\n",
       "      <td>0.03323</td>\n",
       "      <td>...</td>\n",
       "      <td>33.88</td>\n",
       "      <td>123.80</td>\n",
       "      <td>1150.0</td>\n",
       "      <td>0.1181</td>\n",
       "      <td>0.1551</td>\n",
       "      <td>0.1459</td>\n",
       "      <td>0.09975</td>\n",
       "      <td>0.2948</td>\n",
       "      <td>0.08452</td>\n",
       "      <td>NaN</td>\n",
       "    </tr>\n",
       "    <tr>\n",
       "      <th>11</th>\n",
       "      <td>84610002</td>\n",
       "      <td>M</td>\n",
       "      <td>15.78</td>\n",
       "      <td>17.89</td>\n",
       "      <td>103.60</td>\n",
       "      <td>781.0</td>\n",
       "      <td>0.09710</td>\n",
       "      <td>0.12920</td>\n",
       "      <td>0.09954</td>\n",
       "      <td>0.06606</td>\n",
       "      <td>...</td>\n",
       "      <td>27.28</td>\n",
       "      <td>136.50</td>\n",
       "      <td>1299.0</td>\n",
       "      <td>0.1396</td>\n",
       "      <td>0.5609</td>\n",
       "      <td>0.3965</td>\n",
       "      <td>0.18100</td>\n",
       "      <td>0.3792</td>\n",
       "      <td>0.10480</td>\n",
       "      <td>NaN</td>\n",
       "    </tr>\n",
       "    <tr>\n",
       "      <th>12</th>\n",
       "      <td>846226</td>\n",
       "      <td>M</td>\n",
       "      <td>19.17</td>\n",
       "      <td>24.80</td>\n",
       "      <td>132.40</td>\n",
       "      <td>1123.0</td>\n",
       "      <td>0.09740</td>\n",
       "      <td>0.24580</td>\n",
       "      <td>0.20650</td>\n",
       "      <td>0.11180</td>\n",
       "      <td>...</td>\n",
       "      <td>29.94</td>\n",
       "      <td>151.70</td>\n",
       "      <td>1332.0</td>\n",
       "      <td>0.1037</td>\n",
       "      <td>0.3903</td>\n",
       "      <td>0.3639</td>\n",
       "      <td>0.17670</td>\n",
       "      <td>0.3176</td>\n",
       "      <td>0.10230</td>\n",
       "      <td>NaN</td>\n",
       "    </tr>\n",
       "    <tr>\n",
       "      <th>13</th>\n",
       "      <td>846381</td>\n",
       "      <td>M</td>\n",
       "      <td>15.85</td>\n",
       "      <td>23.95</td>\n",
       "      <td>103.70</td>\n",
       "      <td>782.7</td>\n",
       "      <td>0.08401</td>\n",
       "      <td>0.10020</td>\n",
       "      <td>0.09938</td>\n",
       "      <td>0.05364</td>\n",
       "      <td>...</td>\n",
       "      <td>27.66</td>\n",
       "      <td>112.00</td>\n",
       "      <td>876.5</td>\n",
       "      <td>0.1131</td>\n",
       "      <td>0.1924</td>\n",
       "      <td>0.2322</td>\n",
       "      <td>0.11190</td>\n",
       "      <td>0.2809</td>\n",
       "      <td>0.06287</td>\n",
       "      <td>NaN</td>\n",
       "    </tr>\n",
       "    <tr>\n",
       "      <th>14</th>\n",
       "      <td>84667401</td>\n",
       "      <td>M</td>\n",
       "      <td>13.73</td>\n",
       "      <td>22.61</td>\n",
       "      <td>93.60</td>\n",
       "      <td>578.3</td>\n",
       "      <td>0.11310</td>\n",
       "      <td>0.22930</td>\n",
       "      <td>0.21280</td>\n",
       "      <td>0.08025</td>\n",
       "      <td>...</td>\n",
       "      <td>32.01</td>\n",
       "      <td>108.80</td>\n",
       "      <td>697.7</td>\n",
       "      <td>0.1651</td>\n",
       "      <td>0.7725</td>\n",
       "      <td>0.6943</td>\n",
       "      <td>0.22080</td>\n",
       "      <td>0.3596</td>\n",
       "      <td>0.14310</td>\n",
       "      <td>NaN</td>\n",
       "    </tr>\n",
       "    <tr>\n",
       "      <th>15</th>\n",
       "      <td>84799002</td>\n",
       "      <td>M</td>\n",
       "      <td>14.54</td>\n",
       "      <td>27.54</td>\n",
       "      <td>96.73</td>\n",
       "      <td>658.8</td>\n",
       "      <td>0.11390</td>\n",
       "      <td>0.15950</td>\n",
       "      <td>0.16390</td>\n",
       "      <td>0.07364</td>\n",
       "      <td>...</td>\n",
       "      <td>37.13</td>\n",
       "      <td>124.10</td>\n",
       "      <td>943.2</td>\n",
       "      <td>0.1678</td>\n",
       "      <td>0.6577</td>\n",
       "      <td>0.7026</td>\n",
       "      <td>0.17120</td>\n",
       "      <td>0.4218</td>\n",
       "      <td>0.13410</td>\n",
       "      <td>NaN</td>\n",
       "    </tr>\n",
       "    <tr>\n",
       "      <th>16</th>\n",
       "      <td>848406</td>\n",
       "      <td>M</td>\n",
       "      <td>14.68</td>\n",
       "      <td>20.13</td>\n",
       "      <td>94.74</td>\n",
       "      <td>684.5</td>\n",
       "      <td>0.09867</td>\n",
       "      <td>0.07200</td>\n",
       "      <td>0.07395</td>\n",
       "      <td>0.05259</td>\n",
       "      <td>...</td>\n",
       "      <td>30.88</td>\n",
       "      <td>123.40</td>\n",
       "      <td>1138.0</td>\n",
       "      <td>0.1464</td>\n",
       "      <td>0.1871</td>\n",
       "      <td>0.2914</td>\n",
       "      <td>0.16090</td>\n",
       "      <td>0.3029</td>\n",
       "      <td>0.08216</td>\n",
       "      <td>NaN</td>\n",
       "    </tr>\n",
       "    <tr>\n",
       "      <th>17</th>\n",
       "      <td>84862001</td>\n",
       "      <td>M</td>\n",
       "      <td>16.13</td>\n",
       "      <td>20.68</td>\n",
       "      <td>108.10</td>\n",
       "      <td>798.8</td>\n",
       "      <td>0.11700</td>\n",
       "      <td>0.20220</td>\n",
       "      <td>0.17220</td>\n",
       "      <td>0.10280</td>\n",
       "      <td>...</td>\n",
       "      <td>31.48</td>\n",
       "      <td>136.80</td>\n",
       "      <td>1315.0</td>\n",
       "      <td>0.1789</td>\n",
       "      <td>0.4233</td>\n",
       "      <td>0.4784</td>\n",
       "      <td>0.20730</td>\n",
       "      <td>0.3706</td>\n",
       "      <td>0.11420</td>\n",
       "      <td>NaN</td>\n",
       "    </tr>\n",
       "    <tr>\n",
       "      <th>18</th>\n",
       "      <td>849014</td>\n",
       "      <td>M</td>\n",
       "      <td>19.81</td>\n",
       "      <td>22.15</td>\n",
       "      <td>130.00</td>\n",
       "      <td>1260.0</td>\n",
       "      <td>0.09831</td>\n",
       "      <td>0.10270</td>\n",
       "      <td>0.14790</td>\n",
       "      <td>0.09498</td>\n",
       "      <td>...</td>\n",
       "      <td>30.88</td>\n",
       "      <td>186.80</td>\n",
       "      <td>2398.0</td>\n",
       "      <td>0.1512</td>\n",
       "      <td>0.3150</td>\n",
       "      <td>0.5372</td>\n",
       "      <td>0.23880</td>\n",
       "      <td>0.2768</td>\n",
       "      <td>0.07615</td>\n",
       "      <td>NaN</td>\n",
       "    </tr>\n",
       "    <tr>\n",
       "      <th>19</th>\n",
       "      <td>8510426</td>\n",
       "      <td>B</td>\n",
       "      <td>13.54</td>\n",
       "      <td>14.36</td>\n",
       "      <td>87.46</td>\n",
       "      <td>566.3</td>\n",
       "      <td>0.09779</td>\n",
       "      <td>0.08129</td>\n",
       "      <td>0.06664</td>\n",
       "      <td>0.04781</td>\n",
       "      <td>...</td>\n",
       "      <td>19.26</td>\n",
       "      <td>99.70</td>\n",
       "      <td>711.2</td>\n",
       "      <td>0.1440</td>\n",
       "      <td>0.1773</td>\n",
       "      <td>0.2390</td>\n",
       "      <td>0.12880</td>\n",
       "      <td>0.2977</td>\n",
       "      <td>0.07259</td>\n",
       "      <td>NaN</td>\n",
       "    </tr>\n",
       "  </tbody>\n",
       "</table>\n",
       "<p>20 rows × 33 columns</p>\n",
       "</div>"
      ],
      "text/plain": [
       "          id diagnosis  radius_mean  texture_mean  perimeter_mean  area_mean  \\\n",
       "0     842302         M        17.99         10.38          122.80     1001.0   \n",
       "1     842517         M        20.57         17.77          132.90     1326.0   \n",
       "2   84300903         M        19.69         21.25          130.00     1203.0   \n",
       "3   84348301         M        11.42         20.38           77.58      386.1   \n",
       "4   84358402         M        20.29         14.34          135.10     1297.0   \n",
       "5     843786         M        12.45         15.70           82.57      477.1   \n",
       "6     844359         M        18.25         19.98          119.60     1040.0   \n",
       "7   84458202         M        13.71         20.83           90.20      577.9   \n",
       "8     844981         M        13.00         21.82           87.50      519.8   \n",
       "9   84501001         M        12.46         24.04           83.97      475.9   \n",
       "10    845636         M        16.02         23.24          102.70      797.8   \n",
       "11  84610002         M        15.78         17.89          103.60      781.0   \n",
       "12    846226         M        19.17         24.80          132.40     1123.0   \n",
       "13    846381         M        15.85         23.95          103.70      782.7   \n",
       "14  84667401         M        13.73         22.61           93.60      578.3   \n",
       "15  84799002         M        14.54         27.54           96.73      658.8   \n",
       "16    848406         M        14.68         20.13           94.74      684.5   \n",
       "17  84862001         M        16.13         20.68          108.10      798.8   \n",
       "18    849014         M        19.81         22.15          130.00     1260.0   \n",
       "19   8510426         B        13.54         14.36           87.46      566.3   \n",
       "\n",
       "    smoothness_mean  compactness_mean  concavity_mean  concave points_mean  \\\n",
       "0           0.11840           0.27760         0.30010              0.14710   \n",
       "1           0.08474           0.07864         0.08690              0.07017   \n",
       "2           0.10960           0.15990         0.19740              0.12790   \n",
       "3           0.14250           0.28390         0.24140              0.10520   \n",
       "4           0.10030           0.13280         0.19800              0.10430   \n",
       "5           0.12780           0.17000         0.15780              0.08089   \n",
       "6           0.09463           0.10900         0.11270              0.07400   \n",
       "7           0.11890           0.16450         0.09366              0.05985   \n",
       "8           0.12730           0.19320         0.18590              0.09353   \n",
       "9           0.11860           0.23960         0.22730              0.08543   \n",
       "10          0.08206           0.06669         0.03299              0.03323   \n",
       "11          0.09710           0.12920         0.09954              0.06606   \n",
       "12          0.09740           0.24580         0.20650              0.11180   \n",
       "13          0.08401           0.10020         0.09938              0.05364   \n",
       "14          0.11310           0.22930         0.21280              0.08025   \n",
       "15          0.11390           0.15950         0.16390              0.07364   \n",
       "16          0.09867           0.07200         0.07395              0.05259   \n",
       "17          0.11700           0.20220         0.17220              0.10280   \n",
       "18          0.09831           0.10270         0.14790              0.09498   \n",
       "19          0.09779           0.08129         0.06664              0.04781   \n",
       "\n",
       "    ...  texture_worst  perimeter_worst  area_worst  smoothness_worst  \\\n",
       "0   ...          17.33           184.60      2019.0            0.1622   \n",
       "1   ...          23.41           158.80      1956.0            0.1238   \n",
       "2   ...          25.53           152.50      1709.0            0.1444   \n",
       "3   ...          26.50            98.87       567.7            0.2098   \n",
       "4   ...          16.67           152.20      1575.0            0.1374   \n",
       "5   ...          23.75           103.40       741.6            0.1791   \n",
       "6   ...          27.66           153.20      1606.0            0.1442   \n",
       "7   ...          28.14           110.60       897.0            0.1654   \n",
       "8   ...          30.73           106.20       739.3            0.1703   \n",
       "9   ...          40.68            97.65       711.4            0.1853   \n",
       "10  ...          33.88           123.80      1150.0            0.1181   \n",
       "11  ...          27.28           136.50      1299.0            0.1396   \n",
       "12  ...          29.94           151.70      1332.0            0.1037   \n",
       "13  ...          27.66           112.00       876.5            0.1131   \n",
       "14  ...          32.01           108.80       697.7            0.1651   \n",
       "15  ...          37.13           124.10       943.2            0.1678   \n",
       "16  ...          30.88           123.40      1138.0            0.1464   \n",
       "17  ...          31.48           136.80      1315.0            0.1789   \n",
       "18  ...          30.88           186.80      2398.0            0.1512   \n",
       "19  ...          19.26            99.70       711.2            0.1440   \n",
       "\n",
       "    compactness_worst  concavity_worst  concave points_worst  symmetry_worst  \\\n",
       "0              0.6656           0.7119               0.26540          0.4601   \n",
       "1              0.1866           0.2416               0.18600          0.2750   \n",
       "2              0.4245           0.4504               0.24300          0.3613   \n",
       "3              0.8663           0.6869               0.25750          0.6638   \n",
       "4              0.2050           0.4000               0.16250          0.2364   \n",
       "5              0.5249           0.5355               0.17410          0.3985   \n",
       "6              0.2576           0.3784               0.19320          0.3063   \n",
       "7              0.3682           0.2678               0.15560          0.3196   \n",
       "8              0.5401           0.5390               0.20600          0.4378   \n",
       "9              1.0580           1.1050               0.22100          0.4366   \n",
       "10             0.1551           0.1459               0.09975          0.2948   \n",
       "11             0.5609           0.3965               0.18100          0.3792   \n",
       "12             0.3903           0.3639               0.17670          0.3176   \n",
       "13             0.1924           0.2322               0.11190          0.2809   \n",
       "14             0.7725           0.6943               0.22080          0.3596   \n",
       "15             0.6577           0.7026               0.17120          0.4218   \n",
       "16             0.1871           0.2914               0.16090          0.3029   \n",
       "17             0.4233           0.4784               0.20730          0.3706   \n",
       "18             0.3150           0.5372               0.23880          0.2768   \n",
       "19             0.1773           0.2390               0.12880          0.2977   \n",
       "\n",
       "    fractal_dimension_worst  Unnamed: 32  \n",
       "0                   0.11890          NaN  \n",
       "1                   0.08902          NaN  \n",
       "2                   0.08758          NaN  \n",
       "3                   0.17300          NaN  \n",
       "4                   0.07678          NaN  \n",
       "5                   0.12440          NaN  \n",
       "6                   0.08368          NaN  \n",
       "7                   0.11510          NaN  \n",
       "8                   0.10720          NaN  \n",
       "9                   0.20750          NaN  \n",
       "10                  0.08452          NaN  \n",
       "11                  0.10480          NaN  \n",
       "12                  0.10230          NaN  \n",
       "13                  0.06287          NaN  \n",
       "14                  0.14310          NaN  \n",
       "15                  0.13410          NaN  \n",
       "16                  0.08216          NaN  \n",
       "17                  0.11420          NaN  \n",
       "18                  0.07615          NaN  \n",
       "19                  0.07259          NaN  \n",
       "\n",
       "[20 rows x 33 columns]"
      ]
     },
     "execution_count": 1,
     "metadata": {},
     "output_type": "execute_result"
    }
   ],
   "source": [
    "import pandas as pd\n",
    "import numpy as np\n",
    "import plotly.express as px\n",
    "import matplotlib.pyplot as plt\n",
    "import seaborn as sns\n",
    "\n",
    "# Avisos\n",
    "import warnings\n",
    "warnings.filterwarnings('ignore')\n",
    "\n",
    "\n",
    "df = pd.read_csv('data_cancer2.csv')\n",
    "\n",
    "df.head(20)"
   ]
  },
  {
   "cell_type": "markdown",
   "metadata": {},
   "source": [
    "Criando uma função para analisar as colunas"
   ]
  },
  {
   "cell_type": "code",
   "execution_count": 6,
   "metadata": {},
   "outputs": [],
   "source": [
    "def analise(dados):\n",
    "      \n",
    "    if dados.dtypes == 'int64' or dados.dtypes == 'float64':\n",
    "        print(f'Nome da coluna:\\n {dados.name}')\n",
    "        print(f'\\ntipo da coluna:\\n {dados.dtypes}')\n",
    "        print(f'\\nQuantidade dados na coluna:\\n {dados.shape}')\n",
    "        print(f'\\nQuantidade de valores unicos:\\n {dados.nunique()}')\n",
    "        print(f'\\nQuantidade de valores nulos:\\n {dados.isnull().sum()}')\n",
    "        print(f'\\nAnalisando a média:\\n {dados.describe()}')\n",
    "        print(f'\\nQuantidade por opção:\\n {dados.value_counts().sort_index()}')\n",
    "        fig = px.box(dados)\n",
    "        fig.show()\n",
    "\n",
    "    else:\n",
    "        print(f'Nome da coluna:\\n {dados.name}')\n",
    "        print(f'\\ntipo da coluna:\\n {dados.dtypes}')\n",
    "        print(f'\\nQuantidade dados na coluna:\\n {dados.shape}')\n",
    "        print(f'\\nQuantidade de valores unicos:\\n {dados.nunique()}')\n",
    "        print(f'\\nQuantidade de valores nulos:\\n {dados.isnull().sum()}')\n",
    "        print(f'\\nQuantidade por opção:\\n {dados.value_counts().sort_index()}')\n",
    "        fig = px.bar(dados)\n",
    "        fig.show()\n",
    "\n",
    "def analise1(dados):\n",
    "    for coluna in dados.columns:   \n",
    "        if coluna.dtypes == 'int64' or coluna.dtypes == 'float64':\n",
    "            print(f'Nome da coluna:\\n {coluna.name}')\n",
    "            print(f'\\ntipo da coluna:\\n {coluna.dtypes}')\n",
    "            print(f'\\nQuantidade dados na coluna:\\n {coluna.shape}')\n",
    "            print(f'\\nQuantidade de valores unicos:\\n {coluna.nunique()}')\n",
    "            print(f'\\nQuantidade de valores nulos:\\n {coluna.isnull().sum()}')\n",
    "            print(f'\\nAnalisando a média:\\n {coluna.describe()}')\n",
    "            print(f'\\nQuantidade por opção:\\n {coluna.value_counts().sort_index()}')\n",
    "            fig = px.box(coluna)\n",
    "            fig.show()\n",
    "\n",
    "        else:\n",
    "            print(f'Nome da coluna:\\n {coluna.name}')\n",
    "            print(f'\\ntipo da coluna:\\n {coluna.dtypes}')\n",
    "            print(f'\\nQuantidade dados na coluna:\\n {coluna.shape}')\n",
    "            print(f'\\nQuantidade de valores unicos:\\n {coluna.nunique()}')\n",
    "            print(f'\\nQuantidade de valores nulos:\\n {coluna.isnull().sum()}')\n",
    "            print(f'\\nQuantidade por opção:\\n {coluna.value_counts().sort_index()}')\n",
    "            fig = px.bar(coluna)\n",
    "            fig.show()"
   ]
  },
  {
   "cell_type": "code",
   "execution_count": 7,
   "metadata": {},
   "outputs": [
    {
     "ename": "TypeError",
     "evalue": "'Index' object is not callable",
     "output_type": "error",
     "traceback": [
      "\u001b[0;31m---------------------------------------------------------------------------\u001b[0m",
      "\u001b[0;31mTypeError\u001b[0m                                 Traceback (most recent call last)",
      "\u001b[0;32m/tmp/ipykernel_4773/2026068079.py\u001b[0m in \u001b[0;36m<module>\u001b[0;34m\u001b[0m\n\u001b[0;32m----> 1\u001b[0;31m \u001b[0manalise1\u001b[0m\u001b[0;34m(\u001b[0m\u001b[0mdados\u001b[0m\u001b[0;34m=\u001b[0m\u001b[0mdf\u001b[0m\u001b[0;34m)\u001b[0m\u001b[0;34m\u001b[0m\u001b[0;34m\u001b[0m\u001b[0m\n\u001b[0m",
      "\u001b[0;32m/tmp/ipykernel_4773/2026133446.py\u001b[0m in \u001b[0;36manalise1\u001b[0;34m(dados)\u001b[0m\n\u001b[1;32m     23\u001b[0m \u001b[0;34m\u001b[0m\u001b[0m\n\u001b[1;32m     24\u001b[0m \u001b[0;32mdef\u001b[0m \u001b[0manalise1\u001b[0m\u001b[0;34m(\u001b[0m\u001b[0mdados\u001b[0m\u001b[0;34m)\u001b[0m\u001b[0;34m:\u001b[0m\u001b[0;34m\u001b[0m\u001b[0;34m\u001b[0m\u001b[0m\n\u001b[0;32m---> 25\u001b[0;31m     \u001b[0;32mfor\u001b[0m \u001b[0mcoluna\u001b[0m \u001b[0;32min\u001b[0m \u001b[0mdados\u001b[0m\u001b[0;34m.\u001b[0m\u001b[0mcolumns\u001b[0m\u001b[0;34m(\u001b[0m\u001b[0;34m)\u001b[0m\u001b[0;34m:\u001b[0m\u001b[0;34m\u001b[0m\u001b[0;34m\u001b[0m\u001b[0m\n\u001b[0m\u001b[1;32m     26\u001b[0m         \u001b[0;32mif\u001b[0m \u001b[0mcoluna\u001b[0m\u001b[0;34m.\u001b[0m\u001b[0mdtypes\u001b[0m \u001b[0;34m==\u001b[0m \u001b[0;34m'int64'\u001b[0m \u001b[0;32mor\u001b[0m \u001b[0mcoluna\u001b[0m\u001b[0;34m.\u001b[0m\u001b[0mdtypes\u001b[0m \u001b[0;34m==\u001b[0m \u001b[0;34m'float64'\u001b[0m\u001b[0;34m:\u001b[0m\u001b[0;34m\u001b[0m\u001b[0;34m\u001b[0m\u001b[0m\n\u001b[1;32m     27\u001b[0m             \u001b[0mprint\u001b[0m\u001b[0;34m(\u001b[0m\u001b[0;34mf'Nome da coluna:\\n {coluna.name}'\u001b[0m\u001b[0;34m)\u001b[0m\u001b[0;34m\u001b[0m\u001b[0;34m\u001b[0m\u001b[0m\n",
      "\u001b[0;31mTypeError\u001b[0m: 'Index' object is not callable"
     ]
    }
   ],
   "source": [
    "analise1(dados=df)"
   ]
  },
  {
   "cell_type": "code",
   "execution_count": 3,
   "metadata": {},
   "outputs": [
    {
     "name": "stdout",
     "output_type": "stream",
     "text": [
      "Nome da coluna:\n",
      " id\n",
      "\n",
      "tipo da coluna:\n",
      " int64\n",
      "\n",
      "Quantidade dados na coluna:\n",
      " (569,)\n",
      "\n",
      "Quantidade de valores unicos:\n",
      " 569\n",
      "\n",
      "Quantidade de valores nulos:\n",
      " 0\n",
      "\n",
      "Analisando a média:\n",
      " count    5.690000e+02\n",
      "mean     3.037183e+07\n",
      "std      1.250206e+08\n",
      "min      8.670000e+03\n",
      "25%      8.692180e+05\n",
      "50%      9.060240e+05\n",
      "75%      8.813129e+06\n",
      "max      9.113205e+08\n",
      "Name: id, dtype: float64\n",
      "\n",
      "Quantidade por opção:\n",
      " id\n",
      "8670         1\n",
      "8913         1\n",
      "8915         1\n",
      "9047         1\n",
      "85715        1\n",
      "            ..\n",
      "911157302    1\n",
      "911296201    1\n",
      "911296202    1\n",
      "911320501    1\n",
      "911320502    1\n",
      "Name: count, Length: 569, dtype: int64\n"
     ]
    },
    {
     "data": {
      "application/vnd.plotly.v1+json": {
       "config": {
        "plotlyServerURL": "https://plot.ly"
       },
       "data": [
        {
         "alignmentgroup": "True",
         "hovertemplate": "variable=%{x}<br>value=%{y}<extra></extra>",
         "legendgroup": "",
         "marker": {
          "color": "#636efa"
         },
         "name": "",
         "notched": false,
         "offsetgroup": "",
         "orientation": "v",
         "showlegend": false,
         "type": "box",
         "x": [
          "id",
          "id",
          "id",
          "id",
          "id",
          "id",
          "id",
          "id",
          "id",
          "id",
          "id",
          "id",
          "id",
          "id",
          "id",
          "id",
          "id",
          "id",
          "id",
          "id",
          "id",
          "id",
          "id",
          "id",
          "id",
          "id",
          "id",
          "id",
          "id",
          "id",
          "id",
          "id",
          "id",
          "id",
          "id",
          "id",
          "id",
          "id",
          "id",
          "id",
          "id",
          "id",
          "id",
          "id",
          "id",
          "id",
          "id",
          "id",
          "id",
          "id",
          "id",
          "id",
          "id",
          "id",
          "id",
          "id",
          "id",
          "id",
          "id",
          "id",
          "id",
          "id",
          "id",
          "id",
          "id",
          "id",
          "id",
          "id",
          "id",
          "id",
          "id",
          "id",
          "id",
          "id",
          "id",
          "id",
          "id",
          "id",
          "id",
          "id",
          "id",
          "id",
          "id",
          "id",
          "id",
          "id",
          "id",
          "id",
          "id",
          "id",
          "id",
          "id",
          "id",
          "id",
          "id",
          "id",
          "id",
          "id",
          "id",
          "id",
          "id",
          "id",
          "id",
          "id",
          "id",
          "id",
          "id",
          "id",
          "id",
          "id",
          "id",
          "id",
          "id",
          "id",
          "id",
          "id",
          "id",
          "id",
          "id",
          "id",
          "id",
          "id",
          "id",
          "id",
          "id",
          "id",
          "id",
          "id",
          "id",
          "id",
          "id",
          "id",
          "id",
          "id",
          "id",
          "id",
          "id",
          "id",
          "id",
          "id",
          "id",
          "id",
          "id",
          "id",
          "id",
          "id",
          "id",
          "id",
          "id",
          "id",
          "id",
          "id",
          "id",
          "id",
          "id",
          "id",
          "id",
          "id",
          "id",
          "id",
          "id",
          "id",
          "id",
          "id",
          "id",
          "id",
          "id",
          "id",
          "id",
          "id",
          "id",
          "id",
          "id",
          "id",
          "id",
          "id",
          "id",
          "id",
          "id",
          "id",
          "id",
          "id",
          "id",
          "id",
          "id",
          "id",
          "id",
          "id",
          "id",
          "id",
          "id",
          "id",
          "id",
          "id",
          "id",
          "id",
          "id",
          "id",
          "id",
          "id",
          "id",
          "id",
          "id",
          "id",
          "id",
          "id",
          "id",
          "id",
          "id",
          "id",
          "id",
          "id",
          "id",
          "id",
          "id",
          "id",
          "id",
          "id",
          "id",
          "id",
          "id",
          "id",
          "id",
          "id",
          "id",
          "id",
          "id",
          "id",
          "id",
          "id",
          "id",
          "id",
          "id",
          "id",
          "id",
          "id",
          "id",
          "id",
          "id",
          "id",
          "id",
          "id",
          "id",
          "id",
          "id",
          "id",
          "id",
          "id",
          "id",
          "id",
          "id",
          "id",
          "id",
          "id",
          "id",
          "id",
          "id",
          "id",
          "id",
          "id",
          "id",
          "id",
          "id",
          "id",
          "id",
          "id",
          "id",
          "id",
          "id",
          "id",
          "id",
          "id",
          "id",
          "id",
          "id",
          "id",
          "id",
          "id",
          "id",
          "id",
          "id",
          "id",
          "id",
          "id",
          "id",
          "id",
          "id",
          "id",
          "id",
          "id",
          "id",
          "id",
          "id",
          "id",
          "id",
          "id",
          "id",
          "id",
          "id",
          "id",
          "id",
          "id",
          "id",
          "id",
          "id",
          "id",
          "id",
          "id",
          "id",
          "id",
          "id",
          "id",
          "id",
          "id",
          "id",
          "id",
          "id",
          "id",
          "id",
          "id",
          "id",
          "id",
          "id",
          "id",
          "id",
          "id",
          "id",
          "id",
          "id",
          "id",
          "id",
          "id",
          "id",
          "id",
          "id",
          "id",
          "id",
          "id",
          "id",
          "id",
          "id",
          "id",
          "id",
          "id",
          "id",
          "id",
          "id",
          "id",
          "id",
          "id",
          "id",
          "id",
          "id",
          "id",
          "id",
          "id",
          "id",
          "id",
          "id",
          "id",
          "id",
          "id",
          "id",
          "id",
          "id",
          "id",
          "id",
          "id",
          "id",
          "id",
          "id",
          "id",
          "id",
          "id",
          "id",
          "id",
          "id",
          "id",
          "id",
          "id",
          "id",
          "id",
          "id",
          "id",
          "id",
          "id",
          "id",
          "id",
          "id",
          "id",
          "id",
          "id",
          "id",
          "id",
          "id",
          "id",
          "id",
          "id",
          "id",
          "id",
          "id",
          "id",
          "id",
          "id",
          "id",
          "id",
          "id",
          "id",
          "id",
          "id",
          "id",
          "id",
          "id",
          "id",
          "id",
          "id",
          "id",
          "id",
          "id",
          "id",
          "id",
          "id",
          "id",
          "id",
          "id",
          "id",
          "id",
          "id",
          "id",
          "id",
          "id",
          "id",
          "id",
          "id",
          "id",
          "id",
          "id",
          "id",
          "id",
          "id",
          "id",
          "id",
          "id",
          "id",
          "id",
          "id",
          "id",
          "id",
          "id",
          "id",
          "id",
          "id",
          "id",
          "id",
          "id",
          "id",
          "id",
          "id",
          "id",
          "id",
          "id",
          "id",
          "id",
          "id",
          "id",
          "id",
          "id",
          "id",
          "id",
          "id",
          "id",
          "id",
          "id",
          "id",
          "id",
          "id",
          "id",
          "id",
          "id",
          "id",
          "id",
          "id",
          "id",
          "id",
          "id",
          "id",
          "id",
          "id",
          "id",
          "id",
          "id",
          "id",
          "id",
          "id",
          "id",
          "id",
          "id",
          "id",
          "id",
          "id",
          "id",
          "id",
          "id",
          "id",
          "id",
          "id",
          "id",
          "id",
          "id",
          "id",
          "id",
          "id",
          "id",
          "id",
          "id",
          "id",
          "id",
          "id",
          "id",
          "id",
          "id",
          "id",
          "id",
          "id",
          "id",
          "id",
          "id",
          "id",
          "id",
          "id",
          "id",
          "id",
          "id",
          "id",
          "id",
          "id",
          "id",
          "id",
          "id",
          "id",
          "id",
          "id",
          "id",
          "id",
          "id",
          "id",
          "id",
          "id",
          "id",
          "id",
          "id",
          "id",
          "id",
          "id",
          "id",
          "id",
          "id",
          "id",
          "id",
          "id",
          "id",
          "id",
          "id",
          "id",
          "id",
          "id",
          "id",
          "id",
          "id"
         ],
         "x0": " ",
         "xaxis": "x",
         "y": [
          842302,
          842517,
          84300903,
          84348301,
          84358402,
          843786,
          844359,
          84458202,
          844981,
          84501001,
          845636,
          84610002,
          846226,
          846381,
          84667401,
          84799002,
          848406,
          84862001,
          849014,
          8510426,
          8510653,
          8510824,
          8511133,
          851509,
          852552,
          852631,
          852763,
          852781,
          852973,
          853201,
          853401,
          853612,
          85382601,
          854002,
          854039,
          854253,
          854268,
          854941,
          855133,
          855138,
          855167,
          855563,
          855625,
          856106,
          85638502,
          857010,
          85713702,
          85715,
          857155,
          857156,
          857343,
          857373,
          857374,
          857392,
          857438,
          85759902,
          857637,
          857793,
          857810,
          858477,
          858970,
          858981,
          858986,
          859196,
          85922302,
          859283,
          859464,
          859465,
          859471,
          859487,
          859575,
          859711,
          859717,
          859983,
          8610175,
          8610404,
          8610629,
          8610637,
          8610862,
          8610908,
          861103,
          8611161,
          8611555,
          8611792,
          8612080,
          8612399,
          86135501,
          86135502,
          861597,
          861598,
          861648,
          861799,
          861853,
          862009,
          862028,
          86208,
          86211,
          862261,
          862485,
          862548,
          862717,
          862722,
          862965,
          862980,
          862989,
          863030,
          863031,
          863270,
          86355,
          864018,
          864033,
          86408,
          86409,
          864292,
          864496,
          864685,
          864726,
          864729,
          864877,
          865128,
          865137,
          86517,
          865423,
          865432,
          865468,
          86561,
          866083,
          866203,
          866458,
          866674,
          866714,
          8670,
          86730502,
          867387,
          867739,
          868202,
          868223,
          868682,
          868826,
          868871,
          868999,
          869104,
          869218,
          869224,
          869254,
          869476,
          869691,
          86973701,
          86973702,
          869931,
          871001501,
          871001502,
          8710441,
          87106,
          8711002,
          8711003,
          8711202,
          8711216,
          871122,
          871149,
          8711561,
          8711803,
          871201,
          8712064,
          8712289,
          8712291,
          87127,
          8712729,
          8712766,
          8712853,
          87139402,
          87163,
          87164,
          871641,
          871642,
          872113,
          872608,
          87281702,
          873357,
          873586,
          873592,
          873593,
          873701,
          873843,
          873885,
          874158,
          874217,
          874373,
          874662,
          874839,
          874858,
          875093,
          875099,
          875263,
          87556202,
          875878,
          875938,
          877159,
          877486,
          877500,
          877501,
          877989,
          878796,
          87880,
          87930,
          879523,
          879804,
          879830,
          8810158,
          8810436,
          881046502,
          8810528,
          8810703,
          881094802,
          8810955,
          8810987,
          8811523,
          8811779,
          8811842,
          88119002,
          8812816,
          8812818,
          8812844,
          8812877,
          8813129,
          88143502,
          88147101,
          88147102,
          88147202,
          881861,
          881972,
          88199202,
          88203002,
          88206102,
          882488,
          88249602,
          88299702,
          883263,
          883270,
          88330202,
          88350402,
          883539,
          883852,
          88411702,
          884180,
          884437,
          884448,
          884626,
          88466802,
          884689,
          884948,
          88518501,
          885429,
          8860702,
          886226,
          886452,
          88649001,
          886776,
          887181,
          88725602,
          887549,
          888264,
          888570,
          889403,
          889719,
          88995002,
          8910251,
          8910499,
          8910506,
          8910720,
          8910721,
          8910748,
          8910988,
          8910996,
          8911163,
          8911164,
          8911230,
          8911670,
          8911800,
          8911834,
          8912049,
          8912055,
          89122,
          8912280,
          8912284,
          8912521,
          8912909,
          8913,
          8913049,
          89143601,
          89143602,
          8915,
          891670,
          891703,
          891716,
          891923,
          891936,
          892189,
          892214,
          892399,
          892438,
          892604,
          89263202,
          892657,
          89296,
          893061,
          89344,
          89346,
          893526,
          893548,
          893783,
          89382601,
          89382602,
          893988,
          894047,
          894089,
          894090,
          894326,
          894329,
          894335,
          894604,
          894618,
          894855,
          895100,
          89511501,
          89511502,
          89524,
          895299,
          8953902,
          895633,
          896839,
          896864,
          897132,
          897137,
          897374,
          89742801,
          897604,
          897630,
          897880,
          89812,
          89813,
          898143,
          89827,
          898431,
          89864002,
          898677,
          898678,
          89869,
          898690,
          899147,
          899187,
          899667,
          899987,
          9010018,
          901011,
          9010258,
          9010259,
          901028,
          9010333,
          901034301,
          901034302,
          901041,
          9010598,
          9010872,
          9010877,
          901088,
          9011494,
          9011495,
          9011971,
          9012000,
          9012315,
          9012568,
          9012795,
          901288,
          9013005,
          901303,
          901315,
          9013579,
          9013594,
          9013838,
          901549,
          901836,
          90250,
          90251,
          902727,
          90291,
          902975,
          902976,
          903011,
          90312,
          90317302,
          903483,
          903507,
          903516,
          903554,
          903811,
          90401601,
          90401602,
          904302,
          904357,
          90439701,
          904647,
          904689,
          9047,
          904969,
          904971,
          905189,
          905190,
          90524101,
          905501,
          905502,
          905520,
          905539,
          905557,
          905680,
          905686,
          905978,
          90602302,
          906024,
          906290,
          906539,
          906564,
          906616,
          906878,
          907145,
          907367,
          907409,
          90745,
          90769601,
          90769602,
          907914,
          907915,
          908194,
          908445,
          908469,
          908489,
          908916,
          909220,
          909231,
          909410,
          909411,
          909445,
          90944601,
          909777,
          9110127,
          9110720,
          9110732,
          9110944,
          911150,
          911157302,
          9111596,
          9111805,
          9111843,
          911201,
          911202,
          9112085,
          9112366,
          9112367,
          9112594,
          9112712,
          911296201,
          911296202,
          9113156,
          911320501,
          911320502,
          9113239,
          9113455,
          9113514,
          9113538,
          911366,
          9113778,
          9113816,
          911384,
          9113846,
          911391,
          911408,
          911654,
          911673,
          911685,
          911916,
          912193,
          91227,
          912519,
          912558,
          912600,
          913063,
          913102,
          913505,
          913512,
          913535,
          91376701,
          91376702,
          914062,
          914101,
          914102,
          914333,
          914366,
          914580,
          914769,
          91485,
          914862,
          91504,
          91505,
          915143,
          915186,
          915276,
          91544001,
          91544002,
          915452,
          915460,
          91550,
          915664,
          915691,
          915940,
          91594602,
          916221,
          916799,
          916838,
          917062,
          917080,
          917092,
          91762702,
          91789,
          917896,
          917897,
          91805,
          91813701,
          91813702,
          918192,
          918465,
          91858,
          91903901,
          91903902,
          91930402,
          919537,
          919555,
          91979701,
          919812,
          921092,
          921362,
          921385,
          921386,
          921644,
          922296,
          922297,
          922576,
          922577,
          922840,
          923169,
          923465,
          923748,
          923780,
          924084,
          924342,
          924632,
          924934,
          924964,
          925236,
          925277,
          925291,
          925292,
          925311,
          925622,
          926125,
          926424,
          926682,
          926954,
          927241,
          92751
         ],
         "y0": " ",
         "yaxis": "y"
        }
       ],
       "layout": {
        "boxmode": "group",
        "legend": {
         "tracegroupgap": 0
        },
        "margin": {
         "t": 60
        },
        "template": {
         "data": {
          "bar": [
           {
            "error_x": {
             "color": "#2a3f5f"
            },
            "error_y": {
             "color": "#2a3f5f"
            },
            "marker": {
             "line": {
              "color": "#E5ECF6",
              "width": 0.5
             },
             "pattern": {
              "fillmode": "overlay",
              "size": 10,
              "solidity": 0.2
             }
            },
            "type": "bar"
           }
          ],
          "barpolar": [
           {
            "marker": {
             "line": {
              "color": "#E5ECF6",
              "width": 0.5
             },
             "pattern": {
              "fillmode": "overlay",
              "size": 10,
              "solidity": 0.2
             }
            },
            "type": "barpolar"
           }
          ],
          "carpet": [
           {
            "aaxis": {
             "endlinecolor": "#2a3f5f",
             "gridcolor": "white",
             "linecolor": "white",
             "minorgridcolor": "white",
             "startlinecolor": "#2a3f5f"
            },
            "baxis": {
             "endlinecolor": "#2a3f5f",
             "gridcolor": "white",
             "linecolor": "white",
             "minorgridcolor": "white",
             "startlinecolor": "#2a3f5f"
            },
            "type": "carpet"
           }
          ],
          "choropleth": [
           {
            "colorbar": {
             "outlinewidth": 0,
             "ticks": ""
            },
            "type": "choropleth"
           }
          ],
          "contour": [
           {
            "colorbar": {
             "outlinewidth": 0,
             "ticks": ""
            },
            "colorscale": [
             [
              0,
              "#0d0887"
             ],
             [
              0.1111111111111111,
              "#46039f"
             ],
             [
              0.2222222222222222,
              "#7201a8"
             ],
             [
              0.3333333333333333,
              "#9c179e"
             ],
             [
              0.4444444444444444,
              "#bd3786"
             ],
             [
              0.5555555555555556,
              "#d8576b"
             ],
             [
              0.6666666666666666,
              "#ed7953"
             ],
             [
              0.7777777777777778,
              "#fb9f3a"
             ],
             [
              0.8888888888888888,
              "#fdca26"
             ],
             [
              1,
              "#f0f921"
             ]
            ],
            "type": "contour"
           }
          ],
          "contourcarpet": [
           {
            "colorbar": {
             "outlinewidth": 0,
             "ticks": ""
            },
            "type": "contourcarpet"
           }
          ],
          "heatmap": [
           {
            "colorbar": {
             "outlinewidth": 0,
             "ticks": ""
            },
            "colorscale": [
             [
              0,
              "#0d0887"
             ],
             [
              0.1111111111111111,
              "#46039f"
             ],
             [
              0.2222222222222222,
              "#7201a8"
             ],
             [
              0.3333333333333333,
              "#9c179e"
             ],
             [
              0.4444444444444444,
              "#bd3786"
             ],
             [
              0.5555555555555556,
              "#d8576b"
             ],
             [
              0.6666666666666666,
              "#ed7953"
             ],
             [
              0.7777777777777778,
              "#fb9f3a"
             ],
             [
              0.8888888888888888,
              "#fdca26"
             ],
             [
              1,
              "#f0f921"
             ]
            ],
            "type": "heatmap"
           }
          ],
          "heatmapgl": [
           {
            "colorbar": {
             "outlinewidth": 0,
             "ticks": ""
            },
            "colorscale": [
             [
              0,
              "#0d0887"
             ],
             [
              0.1111111111111111,
              "#46039f"
             ],
             [
              0.2222222222222222,
              "#7201a8"
             ],
             [
              0.3333333333333333,
              "#9c179e"
             ],
             [
              0.4444444444444444,
              "#bd3786"
             ],
             [
              0.5555555555555556,
              "#d8576b"
             ],
             [
              0.6666666666666666,
              "#ed7953"
             ],
             [
              0.7777777777777778,
              "#fb9f3a"
             ],
             [
              0.8888888888888888,
              "#fdca26"
             ],
             [
              1,
              "#f0f921"
             ]
            ],
            "type": "heatmapgl"
           }
          ],
          "histogram": [
           {
            "marker": {
             "pattern": {
              "fillmode": "overlay",
              "size": 10,
              "solidity": 0.2
             }
            },
            "type": "histogram"
           }
          ],
          "histogram2d": [
           {
            "colorbar": {
             "outlinewidth": 0,
             "ticks": ""
            },
            "colorscale": [
             [
              0,
              "#0d0887"
             ],
             [
              0.1111111111111111,
              "#46039f"
             ],
             [
              0.2222222222222222,
              "#7201a8"
             ],
             [
              0.3333333333333333,
              "#9c179e"
             ],
             [
              0.4444444444444444,
              "#bd3786"
             ],
             [
              0.5555555555555556,
              "#d8576b"
             ],
             [
              0.6666666666666666,
              "#ed7953"
             ],
             [
              0.7777777777777778,
              "#fb9f3a"
             ],
             [
              0.8888888888888888,
              "#fdca26"
             ],
             [
              1,
              "#f0f921"
             ]
            ],
            "type": "histogram2d"
           }
          ],
          "histogram2dcontour": [
           {
            "colorbar": {
             "outlinewidth": 0,
             "ticks": ""
            },
            "colorscale": [
             [
              0,
              "#0d0887"
             ],
             [
              0.1111111111111111,
              "#46039f"
             ],
             [
              0.2222222222222222,
              "#7201a8"
             ],
             [
              0.3333333333333333,
              "#9c179e"
             ],
             [
              0.4444444444444444,
              "#bd3786"
             ],
             [
              0.5555555555555556,
              "#d8576b"
             ],
             [
              0.6666666666666666,
              "#ed7953"
             ],
             [
              0.7777777777777778,
              "#fb9f3a"
             ],
             [
              0.8888888888888888,
              "#fdca26"
             ],
             [
              1,
              "#f0f921"
             ]
            ],
            "type": "histogram2dcontour"
           }
          ],
          "mesh3d": [
           {
            "colorbar": {
             "outlinewidth": 0,
             "ticks": ""
            },
            "type": "mesh3d"
           }
          ],
          "parcoords": [
           {
            "line": {
             "colorbar": {
              "outlinewidth": 0,
              "ticks": ""
             }
            },
            "type": "parcoords"
           }
          ],
          "pie": [
           {
            "automargin": true,
            "type": "pie"
           }
          ],
          "scatter": [
           {
            "fillpattern": {
             "fillmode": "overlay",
             "size": 10,
             "solidity": 0.2
            },
            "type": "scatter"
           }
          ],
          "scatter3d": [
           {
            "line": {
             "colorbar": {
              "outlinewidth": 0,
              "ticks": ""
             }
            },
            "marker": {
             "colorbar": {
              "outlinewidth": 0,
              "ticks": ""
             }
            },
            "type": "scatter3d"
           }
          ],
          "scattercarpet": [
           {
            "marker": {
             "colorbar": {
              "outlinewidth": 0,
              "ticks": ""
             }
            },
            "type": "scattercarpet"
           }
          ],
          "scattergeo": [
           {
            "marker": {
             "colorbar": {
              "outlinewidth": 0,
              "ticks": ""
             }
            },
            "type": "scattergeo"
           }
          ],
          "scattergl": [
           {
            "marker": {
             "colorbar": {
              "outlinewidth": 0,
              "ticks": ""
             }
            },
            "type": "scattergl"
           }
          ],
          "scattermapbox": [
           {
            "marker": {
             "colorbar": {
              "outlinewidth": 0,
              "ticks": ""
             }
            },
            "type": "scattermapbox"
           }
          ],
          "scatterpolar": [
           {
            "marker": {
             "colorbar": {
              "outlinewidth": 0,
              "ticks": ""
             }
            },
            "type": "scatterpolar"
           }
          ],
          "scatterpolargl": [
           {
            "marker": {
             "colorbar": {
              "outlinewidth": 0,
              "ticks": ""
             }
            },
            "type": "scatterpolargl"
           }
          ],
          "scatterternary": [
           {
            "marker": {
             "colorbar": {
              "outlinewidth": 0,
              "ticks": ""
             }
            },
            "type": "scatterternary"
           }
          ],
          "surface": [
           {
            "colorbar": {
             "outlinewidth": 0,
             "ticks": ""
            },
            "colorscale": [
             [
              0,
              "#0d0887"
             ],
             [
              0.1111111111111111,
              "#46039f"
             ],
             [
              0.2222222222222222,
              "#7201a8"
             ],
             [
              0.3333333333333333,
              "#9c179e"
             ],
             [
              0.4444444444444444,
              "#bd3786"
             ],
             [
              0.5555555555555556,
              "#d8576b"
             ],
             [
              0.6666666666666666,
              "#ed7953"
             ],
             [
              0.7777777777777778,
              "#fb9f3a"
             ],
             [
              0.8888888888888888,
              "#fdca26"
             ],
             [
              1,
              "#f0f921"
             ]
            ],
            "type": "surface"
           }
          ],
          "table": [
           {
            "cells": {
             "fill": {
              "color": "#EBF0F8"
             },
             "line": {
              "color": "white"
             }
            },
            "header": {
             "fill": {
              "color": "#C8D4E3"
             },
             "line": {
              "color": "white"
             }
            },
            "type": "table"
           }
          ]
         },
         "layout": {
          "annotationdefaults": {
           "arrowcolor": "#2a3f5f",
           "arrowhead": 0,
           "arrowwidth": 1
          },
          "autotypenumbers": "strict",
          "coloraxis": {
           "colorbar": {
            "outlinewidth": 0,
            "ticks": ""
           }
          },
          "colorscale": {
           "diverging": [
            [
             0,
             "#8e0152"
            ],
            [
             0.1,
             "#c51b7d"
            ],
            [
             0.2,
             "#de77ae"
            ],
            [
             0.3,
             "#f1b6da"
            ],
            [
             0.4,
             "#fde0ef"
            ],
            [
             0.5,
             "#f7f7f7"
            ],
            [
             0.6,
             "#e6f5d0"
            ],
            [
             0.7,
             "#b8e186"
            ],
            [
             0.8,
             "#7fbc41"
            ],
            [
             0.9,
             "#4d9221"
            ],
            [
             1,
             "#276419"
            ]
           ],
           "sequential": [
            [
             0,
             "#0d0887"
            ],
            [
             0.1111111111111111,
             "#46039f"
            ],
            [
             0.2222222222222222,
             "#7201a8"
            ],
            [
             0.3333333333333333,
             "#9c179e"
            ],
            [
             0.4444444444444444,
             "#bd3786"
            ],
            [
             0.5555555555555556,
             "#d8576b"
            ],
            [
             0.6666666666666666,
             "#ed7953"
            ],
            [
             0.7777777777777778,
             "#fb9f3a"
            ],
            [
             0.8888888888888888,
             "#fdca26"
            ],
            [
             1,
             "#f0f921"
            ]
           ],
           "sequentialminus": [
            [
             0,
             "#0d0887"
            ],
            [
             0.1111111111111111,
             "#46039f"
            ],
            [
             0.2222222222222222,
             "#7201a8"
            ],
            [
             0.3333333333333333,
             "#9c179e"
            ],
            [
             0.4444444444444444,
             "#bd3786"
            ],
            [
             0.5555555555555556,
             "#d8576b"
            ],
            [
             0.6666666666666666,
             "#ed7953"
            ],
            [
             0.7777777777777778,
             "#fb9f3a"
            ],
            [
             0.8888888888888888,
             "#fdca26"
            ],
            [
             1,
             "#f0f921"
            ]
           ]
          },
          "colorway": [
           "#636efa",
           "#EF553B",
           "#00cc96",
           "#ab63fa",
           "#FFA15A",
           "#19d3f3",
           "#FF6692",
           "#B6E880",
           "#FF97FF",
           "#FECB52"
          ],
          "font": {
           "color": "#2a3f5f"
          },
          "geo": {
           "bgcolor": "white",
           "lakecolor": "white",
           "landcolor": "#E5ECF6",
           "showlakes": true,
           "showland": true,
           "subunitcolor": "white"
          },
          "hoverlabel": {
           "align": "left"
          },
          "hovermode": "closest",
          "mapbox": {
           "style": "light"
          },
          "paper_bgcolor": "white",
          "plot_bgcolor": "#E5ECF6",
          "polar": {
           "angularaxis": {
            "gridcolor": "white",
            "linecolor": "white",
            "ticks": ""
           },
           "bgcolor": "#E5ECF6",
           "radialaxis": {
            "gridcolor": "white",
            "linecolor": "white",
            "ticks": ""
           }
          },
          "scene": {
           "xaxis": {
            "backgroundcolor": "#E5ECF6",
            "gridcolor": "white",
            "gridwidth": 2,
            "linecolor": "white",
            "showbackground": true,
            "ticks": "",
            "zerolinecolor": "white"
           },
           "yaxis": {
            "backgroundcolor": "#E5ECF6",
            "gridcolor": "white",
            "gridwidth": 2,
            "linecolor": "white",
            "showbackground": true,
            "ticks": "",
            "zerolinecolor": "white"
           },
           "zaxis": {
            "backgroundcolor": "#E5ECF6",
            "gridcolor": "white",
            "gridwidth": 2,
            "linecolor": "white",
            "showbackground": true,
            "ticks": "",
            "zerolinecolor": "white"
           }
          },
          "shapedefaults": {
           "line": {
            "color": "#2a3f5f"
           }
          },
          "ternary": {
           "aaxis": {
            "gridcolor": "white",
            "linecolor": "white",
            "ticks": ""
           },
           "baxis": {
            "gridcolor": "white",
            "linecolor": "white",
            "ticks": ""
           },
           "bgcolor": "#E5ECF6",
           "caxis": {
            "gridcolor": "white",
            "linecolor": "white",
            "ticks": ""
           }
          },
          "title": {
           "x": 0.05
          },
          "xaxis": {
           "automargin": true,
           "gridcolor": "white",
           "linecolor": "white",
           "ticks": "",
           "title": {
            "standoff": 15
           },
           "zerolinecolor": "white",
           "zerolinewidth": 2
          },
          "yaxis": {
           "automargin": true,
           "gridcolor": "white",
           "linecolor": "white",
           "ticks": "",
           "title": {
            "standoff": 15
           },
           "zerolinecolor": "white",
           "zerolinewidth": 2
          }
         }
        },
        "xaxis": {
         "anchor": "y",
         "domain": [
          0,
          1
         ],
         "title": {
          "text": "variable"
         }
        },
        "yaxis": {
         "anchor": "x",
         "domain": [
          0,
          1
         ],
         "title": {
          "text": "value"
         }
        }
       }
      }
     },
     "metadata": {},
     "output_type": "display_data"
    }
   ],
   "source": [
    "analise(dados=df['id'])"
   ]
  },
  {
   "cell_type": "code",
   "execution_count": 4,
   "metadata": {},
   "outputs": [
    {
     "name": "stdout",
     "output_type": "stream",
     "text": [
      "Nome da coluna:\n",
      " diagnosis\n",
      "\n",
      "tipo da coluna:\n",
      " object\n",
      "\n",
      "Quantidade dados na coluna:\n",
      " (569,)\n",
      "\n",
      "Quantidade de valores unicos:\n",
      " 2\n",
      "\n",
      "Quantidade de valores nulos:\n",
      " 0\n",
      "\n",
      "Quantidade por opção:\n",
      " diagnosis\n",
      "B    357\n",
      "M    212\n",
      "Name: count, dtype: int64\n"
     ]
    },
    {
     "data": {
      "application/vnd.plotly.v1+json": {
       "config": {
        "plotlyServerURL": "https://plot.ly"
       },
       "data": [
        {
         "alignmentgroup": "True",
         "hovertemplate": "variable=diagnosis<br>value=%{x}<br>count=%{y}<extra></extra>",
         "legendgroup": "diagnosis",
         "marker": {
          "color": "#636efa",
          "pattern": {
           "shape": ""
          }
         },
         "name": "diagnosis",
         "offsetgroup": "diagnosis",
         "orientation": "v",
         "showlegend": true,
         "textposition": "auto",
         "type": "bar",
         "x": [
          "M",
          "M",
          "M",
          "M",
          "M",
          "M",
          "M",
          "M",
          "M",
          "M",
          "M",
          "M",
          "M",
          "M",
          "M",
          "M",
          "M",
          "M",
          "M",
          "B",
          "B",
          "B",
          "M",
          "M",
          "M",
          "M",
          "M",
          "M",
          "M",
          "M",
          "M",
          "M",
          "M",
          "M",
          "M",
          "M",
          "M",
          "B",
          "M",
          "M",
          "M",
          "M",
          "M",
          "M",
          "M",
          "M",
          "B",
          "M",
          "B",
          "B",
          "B",
          "B",
          "B",
          "M",
          "M",
          "B",
          "M",
          "M",
          "B",
          "B",
          "B",
          "B",
          "M",
          "B",
          "M",
          "M",
          "B",
          "B",
          "B",
          "B",
          "M",
          "B",
          "M",
          "M",
          "B",
          "M",
          "B",
          "M",
          "M",
          "B",
          "B",
          "B",
          "M",
          "M",
          "B",
          "M",
          "M",
          "M",
          "B",
          "B",
          "B",
          "M",
          "B",
          "B",
          "M",
          "M",
          "B",
          "B",
          "B",
          "M",
          "M",
          "B",
          "B",
          "B",
          "B",
          "M",
          "B",
          "B",
          "M",
          "B",
          "B",
          "B",
          "B",
          "B",
          "B",
          "B",
          "B",
          "M",
          "M",
          "M",
          "B",
          "M",
          "M",
          "B",
          "B",
          "B",
          "M",
          "M",
          "B",
          "M",
          "B",
          "M",
          "M",
          "B",
          "M",
          "M",
          "B",
          "B",
          "M",
          "B",
          "B",
          "M",
          "B",
          "B",
          "B",
          "B",
          "M",
          "B",
          "B",
          "B",
          "B",
          "B",
          "B",
          "B",
          "B",
          "B",
          "M",
          "B",
          "B",
          "B",
          "B",
          "M",
          "M",
          "B",
          "M",
          "B",
          "B",
          "M",
          "M",
          "B",
          "B",
          "M",
          "M",
          "B",
          "B",
          "B",
          "B",
          "M",
          "B",
          "B",
          "M",
          "M",
          "M",
          "B",
          "M",
          "B",
          "M",
          "B",
          "B",
          "B",
          "M",
          "B",
          "B",
          "M",
          "M",
          "B",
          "M",
          "M",
          "M",
          "M",
          "B",
          "M",
          "M",
          "M",
          "B",
          "M",
          "B",
          "M",
          "B",
          "B",
          "M",
          "B",
          "M",
          "M",
          "M",
          "M",
          "B",
          "B",
          "M",
          "M",
          "B",
          "B",
          "B",
          "M",
          "B",
          "B",
          "B",
          "B",
          "B",
          "M",
          "M",
          "B",
          "B",
          "M",
          "B",
          "B",
          "M",
          "M",
          "B",
          "M",
          "B",
          "B",
          "B",
          "B",
          "M",
          "B",
          "B",
          "B",
          "B",
          "B",
          "M",
          "B",
          "M",
          "M",
          "M",
          "M",
          "M",
          "M",
          "M",
          "M",
          "M",
          "M",
          "M",
          "M",
          "M",
          "M",
          "B",
          "B",
          "B",
          "B",
          "B",
          "B",
          "M",
          "B",
          "M",
          "B",
          "B",
          "M",
          "B",
          "B",
          "M",
          "B",
          "M",
          "M",
          "B",
          "B",
          "B",
          "B",
          "B",
          "B",
          "B",
          "B",
          "B",
          "B",
          "B",
          "B",
          "B",
          "M",
          "B",
          "B",
          "M",
          "B",
          "M",
          "B",
          "B",
          "B",
          "B",
          "B",
          "B",
          "B",
          "B",
          "B",
          "B",
          "B",
          "B",
          "B",
          "B",
          "M",
          "B",
          "B",
          "B",
          "M",
          "B",
          "M",
          "B",
          "B",
          "B",
          "B",
          "M",
          "M",
          "M",
          "B",
          "B",
          "B",
          "B",
          "M",
          "B",
          "M",
          "B",
          "M",
          "B",
          "B",
          "B",
          "M",
          "B",
          "B",
          "B",
          "B",
          "B",
          "B",
          "B",
          "M",
          "M",
          "M",
          "B",
          "B",
          "B",
          "B",
          "B",
          "B",
          "B",
          "B",
          "B",
          "B",
          "B",
          "M",
          "M",
          "B",
          "M",
          "M",
          "M",
          "B",
          "M",
          "M",
          "B",
          "B",
          "B",
          "B",
          "B",
          "M",
          "B",
          "B",
          "B",
          "B",
          "B",
          "M",
          "B",
          "B",
          "B",
          "M",
          "B",
          "B",
          "M",
          "M",
          "B",
          "B",
          "B",
          "B",
          "B",
          "B",
          "M",
          "B",
          "B",
          "B",
          "B",
          "B",
          "B",
          "B",
          "M",
          "B",
          "B",
          "B",
          "B",
          "B",
          "M",
          "B",
          "B",
          "M",
          "B",
          "B",
          "B",
          "B",
          "B",
          "B",
          "B",
          "B",
          "B",
          "B",
          "B",
          "B",
          "M",
          "B",
          "M",
          "M",
          "B",
          "M",
          "B",
          "B",
          "B",
          "B",
          "B",
          "M",
          "B",
          "B",
          "M",
          "B",
          "M",
          "B",
          "B",
          "M",
          "B",
          "M",
          "B",
          "B",
          "B",
          "B",
          "B",
          "B",
          "B",
          "B",
          "M",
          "M",
          "B",
          "B",
          "B",
          "B",
          "B",
          "B",
          "M",
          "B",
          "B",
          "B",
          "B",
          "B",
          "B",
          "B",
          "B",
          "B",
          "B",
          "M",
          "B",
          "B",
          "B",
          "B",
          "B",
          "B",
          "B",
          "M",
          "B",
          "M",
          "B",
          "B",
          "M",
          "B",
          "B",
          "B",
          "B",
          "B",
          "M",
          "M",
          "B",
          "M",
          "B",
          "M",
          "B",
          "B",
          "B",
          "B",
          "B",
          "M",
          "B",
          "B",
          "M",
          "B",
          "M",
          "B",
          "M",
          "M",
          "B",
          "B",
          "B",
          "M",
          "B",
          "B",
          "B",
          "B",
          "B",
          "B",
          "B",
          "B",
          "B",
          "B",
          "B",
          "M",
          "B",
          "M",
          "M",
          "B",
          "B",
          "B",
          "B",
          "B",
          "B",
          "B",
          "B",
          "B",
          "B",
          "B",
          "B",
          "B",
          "B",
          "B",
          "B",
          "B",
          "B",
          "B",
          "B",
          "B",
          "B",
          "B",
          "B",
          "B",
          "M",
          "M",
          "M",
          "M",
          "M",
          "M",
          "B"
         ],
         "xaxis": "x",
         "y": [
          1,
          1,
          1,
          1,
          1,
          1,
          1,
          1,
          1,
          1,
          1,
          1,
          1,
          1,
          1,
          1,
          1,
          1,
          1,
          1,
          1,
          1,
          1,
          1,
          1,
          1,
          1,
          1,
          1,
          1,
          1,
          1,
          1,
          1,
          1,
          1,
          1,
          1,
          1,
          1,
          1,
          1,
          1,
          1,
          1,
          1,
          1,
          1,
          1,
          1,
          1,
          1,
          1,
          1,
          1,
          1,
          1,
          1,
          1,
          1,
          1,
          1,
          1,
          1,
          1,
          1,
          1,
          1,
          1,
          1,
          1,
          1,
          1,
          1,
          1,
          1,
          1,
          1,
          1,
          1,
          1,
          1,
          1,
          1,
          1,
          1,
          1,
          1,
          1,
          1,
          1,
          1,
          1,
          1,
          1,
          1,
          1,
          1,
          1,
          1,
          1,
          1,
          1,
          1,
          1,
          1,
          1,
          1,
          1,
          1,
          1,
          1,
          1,
          1,
          1,
          1,
          1,
          1,
          1,
          1,
          1,
          1,
          1,
          1,
          1,
          1,
          1,
          1,
          1,
          1,
          1,
          1,
          1,
          1,
          1,
          1,
          1,
          1,
          1,
          1,
          1,
          1,
          1,
          1,
          1,
          1,
          1,
          1,
          1,
          1,
          1,
          1,
          1,
          1,
          1,
          1,
          1,
          1,
          1,
          1,
          1,
          1,
          1,
          1,
          1,
          1,
          1,
          1,
          1,
          1,
          1,
          1,
          1,
          1,
          1,
          1,
          1,
          1,
          1,
          1,
          1,
          1,
          1,
          1,
          1,
          1,
          1,
          1,
          1,
          1,
          1,
          1,
          1,
          1,
          1,
          1,
          1,
          1,
          1,
          1,
          1,
          1,
          1,
          1,
          1,
          1,
          1,
          1,
          1,
          1,
          1,
          1,
          1,
          1,
          1,
          1,
          1,
          1,
          1,
          1,
          1,
          1,
          1,
          1,
          1,
          1,
          1,
          1,
          1,
          1,
          1,
          1,
          1,
          1,
          1,
          1,
          1,
          1,
          1,
          1,
          1,
          1,
          1,
          1,
          1,
          1,
          1,
          1,
          1,
          1,
          1,
          1,
          1,
          1,
          1,
          1,
          1,
          1,
          1,
          1,
          1,
          1,
          1,
          1,
          1,
          1,
          1,
          1,
          1,
          1,
          1,
          1,
          1,
          1,
          1,
          1,
          1,
          1,
          1,
          1,
          1,
          1,
          1,
          1,
          1,
          1,
          1,
          1,
          1,
          1,
          1,
          1,
          1,
          1,
          1,
          1,
          1,
          1,
          1,
          1,
          1,
          1,
          1,
          1,
          1,
          1,
          1,
          1,
          1,
          1,
          1,
          1,
          1,
          1,
          1,
          1,
          1,
          1,
          1,
          1,
          1,
          1,
          1,
          1,
          1,
          1,
          1,
          1,
          1,
          1,
          1,
          1,
          1,
          1,
          1,
          1,
          1,
          1,
          1,
          1,
          1,
          1,
          1,
          1,
          1,
          1,
          1,
          1,
          1,
          1,
          1,
          1,
          1,
          1,
          1,
          1,
          1,
          1,
          1,
          1,
          1,
          1,
          1,
          1,
          1,
          1,
          1,
          1,
          1,
          1,
          1,
          1,
          1,
          1,
          1,
          1,
          1,
          1,
          1,
          1,
          1,
          1,
          1,
          1,
          1,
          1,
          1,
          1,
          1,
          1,
          1,
          1,
          1,
          1,
          1,
          1,
          1,
          1,
          1,
          1,
          1,
          1,
          1,
          1,
          1,
          1,
          1,
          1,
          1,
          1,
          1,
          1,
          1,
          1,
          1,
          1,
          1,
          1,
          1,
          1,
          1,
          1,
          1,
          1,
          1,
          1,
          1,
          1,
          1,
          1,
          1,
          1,
          1,
          1,
          1,
          1,
          1,
          1,
          1,
          1,
          1,
          1,
          1,
          1,
          1,
          1,
          1,
          1,
          1,
          1,
          1,
          1,
          1,
          1,
          1,
          1,
          1,
          1,
          1,
          1,
          1,
          1,
          1,
          1,
          1,
          1,
          1,
          1,
          1,
          1,
          1,
          1,
          1,
          1,
          1,
          1,
          1,
          1,
          1,
          1,
          1,
          1,
          1,
          1,
          1,
          1,
          1,
          1,
          1,
          1,
          1,
          1,
          1,
          1,
          1,
          1,
          1,
          1,
          1,
          1,
          1,
          1,
          1,
          1,
          1,
          1,
          1,
          1,
          1,
          1,
          1,
          1,
          1,
          1,
          1,
          1,
          1,
          1,
          1,
          1,
          1,
          1,
          1,
          1,
          1,
          1,
          1,
          1,
          1,
          1,
          1,
          1,
          1,
          1,
          1,
          1,
          1,
          1,
          1,
          1,
          1,
          1,
          1,
          1,
          1,
          1,
          1,
          1,
          1,
          1,
          1,
          1,
          1,
          1,
          1,
          1,
          1,
          1,
          1,
          1,
          1,
          1,
          1,
          1,
          1,
          1,
          1,
          1,
          1
         ],
         "yaxis": "y"
        }
       ],
       "layout": {
        "barmode": "relative",
        "legend": {
         "title": {
          "text": "variable"
         },
         "tracegroupgap": 0
        },
        "margin": {
         "t": 60
        },
        "template": {
         "data": {
          "bar": [
           {
            "error_x": {
             "color": "#2a3f5f"
            },
            "error_y": {
             "color": "#2a3f5f"
            },
            "marker": {
             "line": {
              "color": "#E5ECF6",
              "width": 0.5
             },
             "pattern": {
              "fillmode": "overlay",
              "size": 10,
              "solidity": 0.2
             }
            },
            "type": "bar"
           }
          ],
          "barpolar": [
           {
            "marker": {
             "line": {
              "color": "#E5ECF6",
              "width": 0.5
             },
             "pattern": {
              "fillmode": "overlay",
              "size": 10,
              "solidity": 0.2
             }
            },
            "type": "barpolar"
           }
          ],
          "carpet": [
           {
            "aaxis": {
             "endlinecolor": "#2a3f5f",
             "gridcolor": "white",
             "linecolor": "white",
             "minorgridcolor": "white",
             "startlinecolor": "#2a3f5f"
            },
            "baxis": {
             "endlinecolor": "#2a3f5f",
             "gridcolor": "white",
             "linecolor": "white",
             "minorgridcolor": "white",
             "startlinecolor": "#2a3f5f"
            },
            "type": "carpet"
           }
          ],
          "choropleth": [
           {
            "colorbar": {
             "outlinewidth": 0,
             "ticks": ""
            },
            "type": "choropleth"
           }
          ],
          "contour": [
           {
            "colorbar": {
             "outlinewidth": 0,
             "ticks": ""
            },
            "colorscale": [
             [
              0,
              "#0d0887"
             ],
             [
              0.1111111111111111,
              "#46039f"
             ],
             [
              0.2222222222222222,
              "#7201a8"
             ],
             [
              0.3333333333333333,
              "#9c179e"
             ],
             [
              0.4444444444444444,
              "#bd3786"
             ],
             [
              0.5555555555555556,
              "#d8576b"
             ],
             [
              0.6666666666666666,
              "#ed7953"
             ],
             [
              0.7777777777777778,
              "#fb9f3a"
             ],
             [
              0.8888888888888888,
              "#fdca26"
             ],
             [
              1,
              "#f0f921"
             ]
            ],
            "type": "contour"
           }
          ],
          "contourcarpet": [
           {
            "colorbar": {
             "outlinewidth": 0,
             "ticks": ""
            },
            "type": "contourcarpet"
           }
          ],
          "heatmap": [
           {
            "colorbar": {
             "outlinewidth": 0,
             "ticks": ""
            },
            "colorscale": [
             [
              0,
              "#0d0887"
             ],
             [
              0.1111111111111111,
              "#46039f"
             ],
             [
              0.2222222222222222,
              "#7201a8"
             ],
             [
              0.3333333333333333,
              "#9c179e"
             ],
             [
              0.4444444444444444,
              "#bd3786"
             ],
             [
              0.5555555555555556,
              "#d8576b"
             ],
             [
              0.6666666666666666,
              "#ed7953"
             ],
             [
              0.7777777777777778,
              "#fb9f3a"
             ],
             [
              0.8888888888888888,
              "#fdca26"
             ],
             [
              1,
              "#f0f921"
             ]
            ],
            "type": "heatmap"
           }
          ],
          "heatmapgl": [
           {
            "colorbar": {
             "outlinewidth": 0,
             "ticks": ""
            },
            "colorscale": [
             [
              0,
              "#0d0887"
             ],
             [
              0.1111111111111111,
              "#46039f"
             ],
             [
              0.2222222222222222,
              "#7201a8"
             ],
             [
              0.3333333333333333,
              "#9c179e"
             ],
             [
              0.4444444444444444,
              "#bd3786"
             ],
             [
              0.5555555555555556,
              "#d8576b"
             ],
             [
              0.6666666666666666,
              "#ed7953"
             ],
             [
              0.7777777777777778,
              "#fb9f3a"
             ],
             [
              0.8888888888888888,
              "#fdca26"
             ],
             [
              1,
              "#f0f921"
             ]
            ],
            "type": "heatmapgl"
           }
          ],
          "histogram": [
           {
            "marker": {
             "pattern": {
              "fillmode": "overlay",
              "size": 10,
              "solidity": 0.2
             }
            },
            "type": "histogram"
           }
          ],
          "histogram2d": [
           {
            "colorbar": {
             "outlinewidth": 0,
             "ticks": ""
            },
            "colorscale": [
             [
              0,
              "#0d0887"
             ],
             [
              0.1111111111111111,
              "#46039f"
             ],
             [
              0.2222222222222222,
              "#7201a8"
             ],
             [
              0.3333333333333333,
              "#9c179e"
             ],
             [
              0.4444444444444444,
              "#bd3786"
             ],
             [
              0.5555555555555556,
              "#d8576b"
             ],
             [
              0.6666666666666666,
              "#ed7953"
             ],
             [
              0.7777777777777778,
              "#fb9f3a"
             ],
             [
              0.8888888888888888,
              "#fdca26"
             ],
             [
              1,
              "#f0f921"
             ]
            ],
            "type": "histogram2d"
           }
          ],
          "histogram2dcontour": [
           {
            "colorbar": {
             "outlinewidth": 0,
             "ticks": ""
            },
            "colorscale": [
             [
              0,
              "#0d0887"
             ],
             [
              0.1111111111111111,
              "#46039f"
             ],
             [
              0.2222222222222222,
              "#7201a8"
             ],
             [
              0.3333333333333333,
              "#9c179e"
             ],
             [
              0.4444444444444444,
              "#bd3786"
             ],
             [
              0.5555555555555556,
              "#d8576b"
             ],
             [
              0.6666666666666666,
              "#ed7953"
             ],
             [
              0.7777777777777778,
              "#fb9f3a"
             ],
             [
              0.8888888888888888,
              "#fdca26"
             ],
             [
              1,
              "#f0f921"
             ]
            ],
            "type": "histogram2dcontour"
           }
          ],
          "mesh3d": [
           {
            "colorbar": {
             "outlinewidth": 0,
             "ticks": ""
            },
            "type": "mesh3d"
           }
          ],
          "parcoords": [
           {
            "line": {
             "colorbar": {
              "outlinewidth": 0,
              "ticks": ""
             }
            },
            "type": "parcoords"
           }
          ],
          "pie": [
           {
            "automargin": true,
            "type": "pie"
           }
          ],
          "scatter": [
           {
            "fillpattern": {
             "fillmode": "overlay",
             "size": 10,
             "solidity": 0.2
            },
            "type": "scatter"
           }
          ],
          "scatter3d": [
           {
            "line": {
             "colorbar": {
              "outlinewidth": 0,
              "ticks": ""
             }
            },
            "marker": {
             "colorbar": {
              "outlinewidth": 0,
              "ticks": ""
             }
            },
            "type": "scatter3d"
           }
          ],
          "scattercarpet": [
           {
            "marker": {
             "colorbar": {
              "outlinewidth": 0,
              "ticks": ""
             }
            },
            "type": "scattercarpet"
           }
          ],
          "scattergeo": [
           {
            "marker": {
             "colorbar": {
              "outlinewidth": 0,
              "ticks": ""
             }
            },
            "type": "scattergeo"
           }
          ],
          "scattergl": [
           {
            "marker": {
             "colorbar": {
              "outlinewidth": 0,
              "ticks": ""
             }
            },
            "type": "scattergl"
           }
          ],
          "scattermapbox": [
           {
            "marker": {
             "colorbar": {
              "outlinewidth": 0,
              "ticks": ""
             }
            },
            "type": "scattermapbox"
           }
          ],
          "scatterpolar": [
           {
            "marker": {
             "colorbar": {
              "outlinewidth": 0,
              "ticks": ""
             }
            },
            "type": "scatterpolar"
           }
          ],
          "scatterpolargl": [
           {
            "marker": {
             "colorbar": {
              "outlinewidth": 0,
              "ticks": ""
             }
            },
            "type": "scatterpolargl"
           }
          ],
          "scatterternary": [
           {
            "marker": {
             "colorbar": {
              "outlinewidth": 0,
              "ticks": ""
             }
            },
            "type": "scatterternary"
           }
          ],
          "surface": [
           {
            "colorbar": {
             "outlinewidth": 0,
             "ticks": ""
            },
            "colorscale": [
             [
              0,
              "#0d0887"
             ],
             [
              0.1111111111111111,
              "#46039f"
             ],
             [
              0.2222222222222222,
              "#7201a8"
             ],
             [
              0.3333333333333333,
              "#9c179e"
             ],
             [
              0.4444444444444444,
              "#bd3786"
             ],
             [
              0.5555555555555556,
              "#d8576b"
             ],
             [
              0.6666666666666666,
              "#ed7953"
             ],
             [
              0.7777777777777778,
              "#fb9f3a"
             ],
             [
              0.8888888888888888,
              "#fdca26"
             ],
             [
              1,
              "#f0f921"
             ]
            ],
            "type": "surface"
           }
          ],
          "table": [
           {
            "cells": {
             "fill": {
              "color": "#EBF0F8"
             },
             "line": {
              "color": "white"
             }
            },
            "header": {
             "fill": {
              "color": "#C8D4E3"
             },
             "line": {
              "color": "white"
             }
            },
            "type": "table"
           }
          ]
         },
         "layout": {
          "annotationdefaults": {
           "arrowcolor": "#2a3f5f",
           "arrowhead": 0,
           "arrowwidth": 1
          },
          "autotypenumbers": "strict",
          "coloraxis": {
           "colorbar": {
            "outlinewidth": 0,
            "ticks": ""
           }
          },
          "colorscale": {
           "diverging": [
            [
             0,
             "#8e0152"
            ],
            [
             0.1,
             "#c51b7d"
            ],
            [
             0.2,
             "#de77ae"
            ],
            [
             0.3,
             "#f1b6da"
            ],
            [
             0.4,
             "#fde0ef"
            ],
            [
             0.5,
             "#f7f7f7"
            ],
            [
             0.6,
             "#e6f5d0"
            ],
            [
             0.7,
             "#b8e186"
            ],
            [
             0.8,
             "#7fbc41"
            ],
            [
             0.9,
             "#4d9221"
            ],
            [
             1,
             "#276419"
            ]
           ],
           "sequential": [
            [
             0,
             "#0d0887"
            ],
            [
             0.1111111111111111,
             "#46039f"
            ],
            [
             0.2222222222222222,
             "#7201a8"
            ],
            [
             0.3333333333333333,
             "#9c179e"
            ],
            [
             0.4444444444444444,
             "#bd3786"
            ],
            [
             0.5555555555555556,
             "#d8576b"
            ],
            [
             0.6666666666666666,
             "#ed7953"
            ],
            [
             0.7777777777777778,
             "#fb9f3a"
            ],
            [
             0.8888888888888888,
             "#fdca26"
            ],
            [
             1,
             "#f0f921"
            ]
           ],
           "sequentialminus": [
            [
             0,
             "#0d0887"
            ],
            [
             0.1111111111111111,
             "#46039f"
            ],
            [
             0.2222222222222222,
             "#7201a8"
            ],
            [
             0.3333333333333333,
             "#9c179e"
            ],
            [
             0.4444444444444444,
             "#bd3786"
            ],
            [
             0.5555555555555556,
             "#d8576b"
            ],
            [
             0.6666666666666666,
             "#ed7953"
            ],
            [
             0.7777777777777778,
             "#fb9f3a"
            ],
            [
             0.8888888888888888,
             "#fdca26"
            ],
            [
             1,
             "#f0f921"
            ]
           ]
          },
          "colorway": [
           "#636efa",
           "#EF553B",
           "#00cc96",
           "#ab63fa",
           "#FFA15A",
           "#19d3f3",
           "#FF6692",
           "#B6E880",
           "#FF97FF",
           "#FECB52"
          ],
          "font": {
           "color": "#2a3f5f"
          },
          "geo": {
           "bgcolor": "white",
           "lakecolor": "white",
           "landcolor": "#E5ECF6",
           "showlakes": true,
           "showland": true,
           "subunitcolor": "white"
          },
          "hoverlabel": {
           "align": "left"
          },
          "hovermode": "closest",
          "mapbox": {
           "style": "light"
          },
          "paper_bgcolor": "white",
          "plot_bgcolor": "#E5ECF6",
          "polar": {
           "angularaxis": {
            "gridcolor": "white",
            "linecolor": "white",
            "ticks": ""
           },
           "bgcolor": "#E5ECF6",
           "radialaxis": {
            "gridcolor": "white",
            "linecolor": "white",
            "ticks": ""
           }
          },
          "scene": {
           "xaxis": {
            "backgroundcolor": "#E5ECF6",
            "gridcolor": "white",
            "gridwidth": 2,
            "linecolor": "white",
            "showbackground": true,
            "ticks": "",
            "zerolinecolor": "white"
           },
           "yaxis": {
            "backgroundcolor": "#E5ECF6",
            "gridcolor": "white",
            "gridwidth": 2,
            "linecolor": "white",
            "showbackground": true,
            "ticks": "",
            "zerolinecolor": "white"
           },
           "zaxis": {
            "backgroundcolor": "#E5ECF6",
            "gridcolor": "white",
            "gridwidth": 2,
            "linecolor": "white",
            "showbackground": true,
            "ticks": "",
            "zerolinecolor": "white"
           }
          },
          "shapedefaults": {
           "line": {
            "color": "#2a3f5f"
           }
          },
          "ternary": {
           "aaxis": {
            "gridcolor": "white",
            "linecolor": "white",
            "ticks": ""
           },
           "baxis": {
            "gridcolor": "white",
            "linecolor": "white",
            "ticks": ""
           },
           "bgcolor": "#E5ECF6",
           "caxis": {
            "gridcolor": "white",
            "linecolor": "white",
            "ticks": ""
           }
          },
          "title": {
           "x": 0.05
          },
          "xaxis": {
           "automargin": true,
           "gridcolor": "white",
           "linecolor": "white",
           "ticks": "",
           "title": {
            "standoff": 15
           },
           "zerolinecolor": "white",
           "zerolinewidth": 2
          },
          "yaxis": {
           "automargin": true,
           "gridcolor": "white",
           "linecolor": "white",
           "ticks": "",
           "title": {
            "standoff": 15
           },
           "zerolinecolor": "white",
           "zerolinewidth": 2
          }
         }
        },
        "xaxis": {
         "anchor": "y",
         "domain": [
          0,
          1
         ],
         "title": {
          "text": "value"
         }
        },
        "yaxis": {
         "anchor": "x",
         "domain": [
          0,
          1
         ],
         "title": {
          "text": "count"
         }
        }
       }
      }
     },
     "metadata": {},
     "output_type": "display_data"
    }
   ],
   "source": [
    "analise(dados=df['diagnosis'])"
   ]
  },
  {
   "cell_type": "code",
   "execution_count": 5,
   "metadata": {},
   "outputs": [
    {
     "name": "stdout",
     "output_type": "stream",
     "text": [
      "Nome da coluna:\n",
      " radius_mean\n",
      "\n",
      "tipo da coluna:\n",
      " float64\n",
      "\n",
      "Quantidade dados na coluna:\n",
      " (569,)\n",
      "\n",
      "Quantidade de valores unicos:\n",
      " 456\n",
      "\n",
      "Quantidade de valores nulos:\n",
      " 0\n",
      "\n",
      "Analisando a média:\n",
      " count    569.000000\n",
      "mean      14.127292\n",
      "std        3.524049\n",
      "min        6.981000\n",
      "25%       11.700000\n",
      "50%       13.370000\n",
      "75%       15.780000\n",
      "max       28.110000\n",
      "Name: radius_mean, dtype: float64\n",
      "\n",
      "Quantidade por opção:\n",
      " radius_mean\n",
      "6.981     1\n",
      "7.691     1\n",
      "7.729     1\n",
      "7.760     1\n",
      "8.196     1\n",
      "         ..\n",
      "25.220    1\n",
      "25.730    1\n",
      "27.220    1\n",
      "27.420    1\n",
      "28.110    1\n",
      "Name: count, Length: 456, dtype: int64\n"
     ]
    },
    {
     "data": {
      "application/vnd.plotly.v1+json": {
       "config": {
        "plotlyServerURL": "https://plot.ly"
       },
       "data": [
        {
         "alignmentgroup": "True",
         "hovertemplate": "variable=%{x}<br>value=%{y}<extra></extra>",
         "legendgroup": "",
         "marker": {
          "color": "#636efa"
         },
         "name": "",
         "notched": false,
         "offsetgroup": "",
         "orientation": "v",
         "showlegend": false,
         "type": "box",
         "x": [
          "radius_mean",
          "radius_mean",
          "radius_mean",
          "radius_mean",
          "radius_mean",
          "radius_mean",
          "radius_mean",
          "radius_mean",
          "radius_mean",
          "radius_mean",
          "radius_mean",
          "radius_mean",
          "radius_mean",
          "radius_mean",
          "radius_mean",
          "radius_mean",
          "radius_mean",
          "radius_mean",
          "radius_mean",
          "radius_mean",
          "radius_mean",
          "radius_mean",
          "radius_mean",
          "radius_mean",
          "radius_mean",
          "radius_mean",
          "radius_mean",
          "radius_mean",
          "radius_mean",
          "radius_mean",
          "radius_mean",
          "radius_mean",
          "radius_mean",
          "radius_mean",
          "radius_mean",
          "radius_mean",
          "radius_mean",
          "radius_mean",
          "radius_mean",
          "radius_mean",
          "radius_mean",
          "radius_mean",
          "radius_mean",
          "radius_mean",
          "radius_mean",
          "radius_mean",
          "radius_mean",
          "radius_mean",
          "radius_mean",
          "radius_mean",
          "radius_mean",
          "radius_mean",
          "radius_mean",
          "radius_mean",
          "radius_mean",
          "radius_mean",
          "radius_mean",
          "radius_mean",
          "radius_mean",
          "radius_mean",
          "radius_mean",
          "radius_mean",
          "radius_mean",
          "radius_mean",
          "radius_mean",
          "radius_mean",
          "radius_mean",
          "radius_mean",
          "radius_mean",
          "radius_mean",
          "radius_mean",
          "radius_mean",
          "radius_mean",
          "radius_mean",
          "radius_mean",
          "radius_mean",
          "radius_mean",
          "radius_mean",
          "radius_mean",
          "radius_mean",
          "radius_mean",
          "radius_mean",
          "radius_mean",
          "radius_mean",
          "radius_mean",
          "radius_mean",
          "radius_mean",
          "radius_mean",
          "radius_mean",
          "radius_mean",
          "radius_mean",
          "radius_mean",
          "radius_mean",
          "radius_mean",
          "radius_mean",
          "radius_mean",
          "radius_mean",
          "radius_mean",
          "radius_mean",
          "radius_mean",
          "radius_mean",
          "radius_mean",
          "radius_mean",
          "radius_mean",
          "radius_mean",
          "radius_mean",
          "radius_mean",
          "radius_mean",
          "radius_mean",
          "radius_mean",
          "radius_mean",
          "radius_mean",
          "radius_mean",
          "radius_mean",
          "radius_mean",
          "radius_mean",
          "radius_mean",
          "radius_mean",
          "radius_mean",
          "radius_mean",
          "radius_mean",
          "radius_mean",
          "radius_mean",
          "radius_mean",
          "radius_mean",
          "radius_mean",
          "radius_mean",
          "radius_mean",
          "radius_mean",
          "radius_mean",
          "radius_mean",
          "radius_mean",
          "radius_mean",
          "radius_mean",
          "radius_mean",
          "radius_mean",
          "radius_mean",
          "radius_mean",
          "radius_mean",
          "radius_mean",
          "radius_mean",
          "radius_mean",
          "radius_mean",
          "radius_mean",
          "radius_mean",
          "radius_mean",
          "radius_mean",
          "radius_mean",
          "radius_mean",
          "radius_mean",
          "radius_mean",
          "radius_mean",
          "radius_mean",
          "radius_mean",
          "radius_mean",
          "radius_mean",
          "radius_mean",
          "radius_mean",
          "radius_mean",
          "radius_mean",
          "radius_mean",
          "radius_mean",
          "radius_mean",
          "radius_mean",
          "radius_mean",
          "radius_mean",
          "radius_mean",
          "radius_mean",
          "radius_mean",
          "radius_mean",
          "radius_mean",
          "radius_mean",
          "radius_mean",
          "radius_mean",
          "radius_mean",
          "radius_mean",
          "radius_mean",
          "radius_mean",
          "radius_mean",
          "radius_mean",
          "radius_mean",
          "radius_mean",
          "radius_mean",
          "radius_mean",
          "radius_mean",
          "radius_mean",
          "radius_mean",
          "radius_mean",
          "radius_mean",
          "radius_mean",
          "radius_mean",
          "radius_mean",
          "radius_mean",
          "radius_mean",
          "radius_mean",
          "radius_mean",
          "radius_mean",
          "radius_mean",
          "radius_mean",
          "radius_mean",
          "radius_mean",
          "radius_mean",
          "radius_mean",
          "radius_mean",
          "radius_mean",
          "radius_mean",
          "radius_mean",
          "radius_mean",
          "radius_mean",
          "radius_mean",
          "radius_mean",
          "radius_mean",
          "radius_mean",
          "radius_mean",
          "radius_mean",
          "radius_mean",
          "radius_mean",
          "radius_mean",
          "radius_mean",
          "radius_mean",
          "radius_mean",
          "radius_mean",
          "radius_mean",
          "radius_mean",
          "radius_mean",
          "radius_mean",
          "radius_mean",
          "radius_mean",
          "radius_mean",
          "radius_mean",
          "radius_mean",
          "radius_mean",
          "radius_mean",
          "radius_mean",
          "radius_mean",
          "radius_mean",
          "radius_mean",
          "radius_mean",
          "radius_mean",
          "radius_mean",
          "radius_mean",
          "radius_mean",
          "radius_mean",
          "radius_mean",
          "radius_mean",
          "radius_mean",
          "radius_mean",
          "radius_mean",
          "radius_mean",
          "radius_mean",
          "radius_mean",
          "radius_mean",
          "radius_mean",
          "radius_mean",
          "radius_mean",
          "radius_mean",
          "radius_mean",
          "radius_mean",
          "radius_mean",
          "radius_mean",
          "radius_mean",
          "radius_mean",
          "radius_mean",
          "radius_mean",
          "radius_mean",
          "radius_mean",
          "radius_mean",
          "radius_mean",
          "radius_mean",
          "radius_mean",
          "radius_mean",
          "radius_mean",
          "radius_mean",
          "radius_mean",
          "radius_mean",
          "radius_mean",
          "radius_mean",
          "radius_mean",
          "radius_mean",
          "radius_mean",
          "radius_mean",
          "radius_mean",
          "radius_mean",
          "radius_mean",
          "radius_mean",
          "radius_mean",
          "radius_mean",
          "radius_mean",
          "radius_mean",
          "radius_mean",
          "radius_mean",
          "radius_mean",
          "radius_mean",
          "radius_mean",
          "radius_mean",
          "radius_mean",
          "radius_mean",
          "radius_mean",
          "radius_mean",
          "radius_mean",
          "radius_mean",
          "radius_mean",
          "radius_mean",
          "radius_mean",
          "radius_mean",
          "radius_mean",
          "radius_mean",
          "radius_mean",
          "radius_mean",
          "radius_mean",
          "radius_mean",
          "radius_mean",
          "radius_mean",
          "radius_mean",
          "radius_mean",
          "radius_mean",
          "radius_mean",
          "radius_mean",
          "radius_mean",
          "radius_mean",
          "radius_mean",
          "radius_mean",
          "radius_mean",
          "radius_mean",
          "radius_mean",
          "radius_mean",
          "radius_mean",
          "radius_mean",
          "radius_mean",
          "radius_mean",
          "radius_mean",
          "radius_mean",
          "radius_mean",
          "radius_mean",
          "radius_mean",
          "radius_mean",
          "radius_mean",
          "radius_mean",
          "radius_mean",
          "radius_mean",
          "radius_mean",
          "radius_mean",
          "radius_mean",
          "radius_mean",
          "radius_mean",
          "radius_mean",
          "radius_mean",
          "radius_mean",
          "radius_mean",
          "radius_mean",
          "radius_mean",
          "radius_mean",
          "radius_mean",
          "radius_mean",
          "radius_mean",
          "radius_mean",
          "radius_mean",
          "radius_mean",
          "radius_mean",
          "radius_mean",
          "radius_mean",
          "radius_mean",
          "radius_mean",
          "radius_mean",
          "radius_mean",
          "radius_mean",
          "radius_mean",
          "radius_mean",
          "radius_mean",
          "radius_mean",
          "radius_mean",
          "radius_mean",
          "radius_mean",
          "radius_mean",
          "radius_mean",
          "radius_mean",
          "radius_mean",
          "radius_mean",
          "radius_mean",
          "radius_mean",
          "radius_mean",
          "radius_mean",
          "radius_mean",
          "radius_mean",
          "radius_mean",
          "radius_mean",
          "radius_mean",
          "radius_mean",
          "radius_mean",
          "radius_mean",
          "radius_mean",
          "radius_mean",
          "radius_mean",
          "radius_mean",
          "radius_mean",
          "radius_mean",
          "radius_mean",
          "radius_mean",
          "radius_mean",
          "radius_mean",
          "radius_mean",
          "radius_mean",
          "radius_mean",
          "radius_mean",
          "radius_mean",
          "radius_mean",
          "radius_mean",
          "radius_mean",
          "radius_mean",
          "radius_mean",
          "radius_mean",
          "radius_mean",
          "radius_mean",
          "radius_mean",
          "radius_mean",
          "radius_mean",
          "radius_mean",
          "radius_mean",
          "radius_mean",
          "radius_mean",
          "radius_mean",
          "radius_mean",
          "radius_mean",
          "radius_mean",
          "radius_mean",
          "radius_mean",
          "radius_mean",
          "radius_mean",
          "radius_mean",
          "radius_mean",
          "radius_mean",
          "radius_mean",
          "radius_mean",
          "radius_mean",
          "radius_mean",
          "radius_mean",
          "radius_mean",
          "radius_mean",
          "radius_mean",
          "radius_mean",
          "radius_mean",
          "radius_mean",
          "radius_mean",
          "radius_mean",
          "radius_mean",
          "radius_mean",
          "radius_mean",
          "radius_mean",
          "radius_mean",
          "radius_mean",
          "radius_mean",
          "radius_mean",
          "radius_mean",
          "radius_mean",
          "radius_mean",
          "radius_mean",
          "radius_mean",
          "radius_mean",
          "radius_mean",
          "radius_mean",
          "radius_mean",
          "radius_mean",
          "radius_mean",
          "radius_mean",
          "radius_mean",
          "radius_mean",
          "radius_mean",
          "radius_mean",
          "radius_mean",
          "radius_mean",
          "radius_mean",
          "radius_mean",
          "radius_mean",
          "radius_mean",
          "radius_mean",
          "radius_mean",
          "radius_mean",
          "radius_mean",
          "radius_mean",
          "radius_mean",
          "radius_mean",
          "radius_mean",
          "radius_mean",
          "radius_mean",
          "radius_mean",
          "radius_mean",
          "radius_mean",
          "radius_mean",
          "radius_mean",
          "radius_mean",
          "radius_mean",
          "radius_mean",
          "radius_mean",
          "radius_mean",
          "radius_mean",
          "radius_mean",
          "radius_mean",
          "radius_mean",
          "radius_mean",
          "radius_mean",
          "radius_mean",
          "radius_mean",
          "radius_mean",
          "radius_mean",
          "radius_mean",
          "radius_mean",
          "radius_mean",
          "radius_mean",
          "radius_mean",
          "radius_mean",
          "radius_mean",
          "radius_mean",
          "radius_mean",
          "radius_mean",
          "radius_mean",
          "radius_mean",
          "radius_mean",
          "radius_mean",
          "radius_mean",
          "radius_mean",
          "radius_mean",
          "radius_mean",
          "radius_mean",
          "radius_mean",
          "radius_mean",
          "radius_mean",
          "radius_mean",
          "radius_mean",
          "radius_mean",
          "radius_mean",
          "radius_mean",
          "radius_mean",
          "radius_mean",
          "radius_mean",
          "radius_mean",
          "radius_mean",
          "radius_mean",
          "radius_mean",
          "radius_mean",
          "radius_mean",
          "radius_mean",
          "radius_mean",
          "radius_mean",
          "radius_mean",
          "radius_mean",
          "radius_mean",
          "radius_mean",
          "radius_mean",
          "radius_mean",
          "radius_mean",
          "radius_mean",
          "radius_mean",
          "radius_mean",
          "radius_mean",
          "radius_mean",
          "radius_mean",
          "radius_mean",
          "radius_mean",
          "radius_mean",
          "radius_mean",
          "radius_mean",
          "radius_mean",
          "radius_mean",
          "radius_mean",
          "radius_mean",
          "radius_mean",
          "radius_mean",
          "radius_mean",
          "radius_mean"
         ],
         "x0": " ",
         "xaxis": "x",
         "y": [
          17.99,
          20.57,
          19.69,
          11.42,
          20.29,
          12.45,
          18.25,
          13.71,
          13,
          12.46,
          16.02,
          15.78,
          19.17,
          15.85,
          13.73,
          14.54,
          14.68,
          16.13,
          19.81,
          13.54,
          13.08,
          9.504,
          15.34,
          21.16,
          16.65,
          17.14,
          14.58,
          18.61,
          15.3,
          17.57,
          18.63,
          11.84,
          17.02,
          19.27,
          16.13,
          16.74,
          14.25,
          13.03,
          14.99,
          13.48,
          13.44,
          10.95,
          19.07,
          13.28,
          13.17,
          18.65,
          8.196,
          13.17,
          12.05,
          13.49,
          11.76,
          13.64,
          11.94,
          18.22,
          15.1,
          11.52,
          19.21,
          14.71,
          13.05,
          8.618,
          10.17,
          8.598,
          14.25,
          9.173,
          12.68,
          14.78,
          9.465,
          11.31,
          9.029,
          12.78,
          18.94,
          8.888,
          17.2,
          13.8,
          12.31,
          16.07,
          13.53,
          18.05,
          20.18,
          12.86,
          11.45,
          13.34,
          25.22,
          19.1,
          12,
          18.46,
          14.48,
          19.02,
          12.36,
          14.64,
          14.62,
          15.37,
          13.27,
          13.45,
          15.06,
          20.26,
          12.18,
          9.787,
          11.6,
          14.42,
          13.61,
          6.981,
          12.18,
          9.876,
          10.49,
          13.11,
          11.64,
          12.36,
          22.27,
          11.34,
          9.777,
          12.63,
          14.26,
          10.51,
          8.726,
          11.93,
          8.95,
          14.87,
          15.78,
          17.95,
          11.41,
          18.66,
          24.25,
          14.5,
          13.37,
          13.85,
          13.61,
          19,
          15.1,
          19.79,
          12.19,
          15.46,
          16.16,
          15.71,
          18.45,
          12.77,
          11.71,
          11.43,
          14.95,
          11.28,
          9.738,
          16.11,
          11.43,
          12.9,
          10.75,
          11.9,
          11.8,
          14.95,
          14.44,
          13.74,
          13,
          8.219,
          9.731,
          11.15,
          13.15,
          12.25,
          17.68,
          16.84,
          12.06,
          10.9,
          11.75,
          19.19,
          19.59,
          12.34,
          23.27,
          14.97,
          10.8,
          16.78,
          17.47,
          14.97,
          12.32,
          13.43,
          15.46,
          11.08,
          10.66,
          8.671,
          9.904,
          16.46,
          13.01,
          12.81,
          27.22,
          21.09,
          15.7,
          11.41,
          15.28,
          10.08,
          18.31,
          11.71,
          11.81,
          12.3,
          14.22,
          12.77,
          9.72,
          12.34,
          14.86,
          12.91,
          13.77,
          18.08,
          19.18,
          14.45,
          12.23,
          17.54,
          23.29,
          13.81,
          12.47,
          15.12,
          9.876,
          17.01,
          13.11,
          15.27,
          20.58,
          11.84,
          28.11,
          17.42,
          14.19,
          13.86,
          11.89,
          10.2,
          19.8,
          19.53,
          13.65,
          13.56,
          10.18,
          15.75,
          13.27,
          14.34,
          10.44,
          15,
          12.62,
          12.83,
          17.05,
          11.32,
          11.22,
          20.51,
          9.567,
          14.03,
          23.21,
          20.48,
          14.22,
          17.46,
          13.64,
          12.42,
          11.3,
          13.75,
          19.4,
          10.48,
          13.2,
          12.89,
          10.65,
          11.52,
          20.94,
          11.5,
          19.73,
          17.3,
          19.45,
          13.96,
          19.55,
          15.32,
          15.66,
          15.53,
          20.31,
          17.35,
          17.29,
          15.61,
          17.19,
          20.73,
          10.6,
          13.59,
          12.87,
          10.71,
          14.29,
          11.29,
          21.75,
          9.742,
          17.93,
          11.89,
          11.33,
          18.81,
          13.59,
          13.85,
          19.16,
          11.74,
          19.4,
          16.24,
          12.89,
          12.58,
          11.94,
          12.89,
          11.26,
          11.37,
          14.41,
          14.96,
          12.95,
          11.85,
          12.72,
          13.77,
          10.91,
          11.76,
          14.26,
          10.51,
          19.53,
          12.46,
          20.09,
          10.49,
          11.46,
          11.6,
          13.2,
          9,
          13.5,
          13.05,
          11.7,
          14.61,
          12.76,
          11.54,
          8.597,
          12.49,
          12.18,
          18.22,
          9.042,
          12.43,
          10.25,
          20.16,
          12.86,
          20.34,
          12.2,
          12.67,
          14.11,
          12.03,
          16.27,
          16.26,
          16.03,
          12.98,
          11.22,
          11.25,
          12.3,
          17.06,
          12.99,
          18.77,
          10.05,
          23.51,
          14.42,
          9.606,
          11.06,
          19.68,
          11.71,
          10.26,
          12.06,
          14.76,
          11.47,
          11.95,
          11.66,
          15.75,
          25.73,
          15.08,
          11.14,
          12.56,
          13.05,
          13.87,
          8.878,
          9.436,
          12.54,
          13.3,
          12.76,
          16.5,
          13.4,
          20.44,
          20.2,
          12.21,
          21.71,
          22.01,
          16.35,
          15.19,
          21.37,
          20.64,
          13.69,
          16.17,
          10.57,
          13.46,
          13.66,
          11.08,
          11.27,
          11.04,
          12.05,
          12.39,
          13.28,
          14.6,
          12.21,
          13.88,
          11.27,
          19.55,
          10.26,
          8.734,
          15.49,
          21.61,
          12.1,
          14.06,
          13.51,
          12.8,
          11.06,
          11.8,
          17.91,
          11.93,
          12.96,
          12.94,
          12.34,
          10.94,
          16.14,
          12.85,
          17.99,
          12.27,
          11.36,
          11.04,
          9.397,
          14.99,
          15.13,
          11.89,
          9.405,
          15.5,
          12.7,
          11.16,
          11.57,
          14.69,
          11.61,
          13.66,
          9.742,
          10.03,
          10.48,
          10.8,
          11.13,
          12.72,
          14.9,
          12.4,
          20.18,
          18.82,
          14.86,
          13.98,
          12.87,
          14.04,
          13.85,
          14.02,
          10.97,
          17.27,
          13.78,
          10.57,
          18.03,
          11.99,
          17.75,
          14.8,
          14.53,
          21.1,
          11.87,
          19.59,
          12,
          14.53,
          12.62,
          13.38,
          11.63,
          13.21,
          13,
          9.755,
          17.08,
          27.42,
          14.4,
          11.6,
          13.17,
          13.24,
          13.14,
          9.668,
          17.6,
          11.62,
          9.667,
          12.04,
          14.92,
          12.27,
          10.88,
          12.83,
          14.2,
          13.9,
          11.49,
          16.25,
          12.16,
          13.9,
          13.47,
          13.7,
          15.73,
          12.45,
          14.64,
          19.44,
          11.68,
          16.69,
          12.25,
          17.85,
          18.01,
          12.46,
          13.16,
          14.87,
          12.65,
          12.47,
          18.49,
          20.59,
          15.04,
          13.82,
          12.54,
          23.09,
          9.268,
          9.676,
          12.22,
          11.06,
          16.3,
          15.46,
          11.74,
          14.81,
          13.4,
          14.58,
          15.05,
          11.34,
          18.31,
          19.89,
          12.88,
          12.75,
          9.295,
          24.63,
          11.26,
          13.71,
          9.847,
          8.571,
          13.46,
          12.34,
          13.94,
          12.07,
          11.75,
          11.67,
          13.68,
          20.47,
          10.96,
          20.55,
          14.27,
          11.69,
          7.729,
          7.691,
          11.54,
          14.47,
          14.74,
          13.21,
          13.87,
          13.62,
          10.32,
          10.26,
          9.683,
          10.82,
          10.86,
          11.13,
          12.77,
          9.333,
          12.88,
          10.29,
          10.16,
          9.423,
          14.59,
          11.51,
          14.05,
          11.2,
          15.22,
          20.92,
          21.56,
          20.13,
          16.6,
          20.6,
          7.76
         ],
         "y0": " ",
         "yaxis": "y"
        }
       ],
       "layout": {
        "boxmode": "group",
        "legend": {
         "tracegroupgap": 0
        },
        "margin": {
         "t": 60
        },
        "template": {
         "data": {
          "bar": [
           {
            "error_x": {
             "color": "#2a3f5f"
            },
            "error_y": {
             "color": "#2a3f5f"
            },
            "marker": {
             "line": {
              "color": "#E5ECF6",
              "width": 0.5
             },
             "pattern": {
              "fillmode": "overlay",
              "size": 10,
              "solidity": 0.2
             }
            },
            "type": "bar"
           }
          ],
          "barpolar": [
           {
            "marker": {
             "line": {
              "color": "#E5ECF6",
              "width": 0.5
             },
             "pattern": {
              "fillmode": "overlay",
              "size": 10,
              "solidity": 0.2
             }
            },
            "type": "barpolar"
           }
          ],
          "carpet": [
           {
            "aaxis": {
             "endlinecolor": "#2a3f5f",
             "gridcolor": "white",
             "linecolor": "white",
             "minorgridcolor": "white",
             "startlinecolor": "#2a3f5f"
            },
            "baxis": {
             "endlinecolor": "#2a3f5f",
             "gridcolor": "white",
             "linecolor": "white",
             "minorgridcolor": "white",
             "startlinecolor": "#2a3f5f"
            },
            "type": "carpet"
           }
          ],
          "choropleth": [
           {
            "colorbar": {
             "outlinewidth": 0,
             "ticks": ""
            },
            "type": "choropleth"
           }
          ],
          "contour": [
           {
            "colorbar": {
             "outlinewidth": 0,
             "ticks": ""
            },
            "colorscale": [
             [
              0,
              "#0d0887"
             ],
             [
              0.1111111111111111,
              "#46039f"
             ],
             [
              0.2222222222222222,
              "#7201a8"
             ],
             [
              0.3333333333333333,
              "#9c179e"
             ],
             [
              0.4444444444444444,
              "#bd3786"
             ],
             [
              0.5555555555555556,
              "#d8576b"
             ],
             [
              0.6666666666666666,
              "#ed7953"
             ],
             [
              0.7777777777777778,
              "#fb9f3a"
             ],
             [
              0.8888888888888888,
              "#fdca26"
             ],
             [
              1,
              "#f0f921"
             ]
            ],
            "type": "contour"
           }
          ],
          "contourcarpet": [
           {
            "colorbar": {
             "outlinewidth": 0,
             "ticks": ""
            },
            "type": "contourcarpet"
           }
          ],
          "heatmap": [
           {
            "colorbar": {
             "outlinewidth": 0,
             "ticks": ""
            },
            "colorscale": [
             [
              0,
              "#0d0887"
             ],
             [
              0.1111111111111111,
              "#46039f"
             ],
             [
              0.2222222222222222,
              "#7201a8"
             ],
             [
              0.3333333333333333,
              "#9c179e"
             ],
             [
              0.4444444444444444,
              "#bd3786"
             ],
             [
              0.5555555555555556,
              "#d8576b"
             ],
             [
              0.6666666666666666,
              "#ed7953"
             ],
             [
              0.7777777777777778,
              "#fb9f3a"
             ],
             [
              0.8888888888888888,
              "#fdca26"
             ],
             [
              1,
              "#f0f921"
             ]
            ],
            "type": "heatmap"
           }
          ],
          "heatmapgl": [
           {
            "colorbar": {
             "outlinewidth": 0,
             "ticks": ""
            },
            "colorscale": [
             [
              0,
              "#0d0887"
             ],
             [
              0.1111111111111111,
              "#46039f"
             ],
             [
              0.2222222222222222,
              "#7201a8"
             ],
             [
              0.3333333333333333,
              "#9c179e"
             ],
             [
              0.4444444444444444,
              "#bd3786"
             ],
             [
              0.5555555555555556,
              "#d8576b"
             ],
             [
              0.6666666666666666,
              "#ed7953"
             ],
             [
              0.7777777777777778,
              "#fb9f3a"
             ],
             [
              0.8888888888888888,
              "#fdca26"
             ],
             [
              1,
              "#f0f921"
             ]
            ],
            "type": "heatmapgl"
           }
          ],
          "histogram": [
           {
            "marker": {
             "pattern": {
              "fillmode": "overlay",
              "size": 10,
              "solidity": 0.2
             }
            },
            "type": "histogram"
           }
          ],
          "histogram2d": [
           {
            "colorbar": {
             "outlinewidth": 0,
             "ticks": ""
            },
            "colorscale": [
             [
              0,
              "#0d0887"
             ],
             [
              0.1111111111111111,
              "#46039f"
             ],
             [
              0.2222222222222222,
              "#7201a8"
             ],
             [
              0.3333333333333333,
              "#9c179e"
             ],
             [
              0.4444444444444444,
              "#bd3786"
             ],
             [
              0.5555555555555556,
              "#d8576b"
             ],
             [
              0.6666666666666666,
              "#ed7953"
             ],
             [
              0.7777777777777778,
              "#fb9f3a"
             ],
             [
              0.8888888888888888,
              "#fdca26"
             ],
             [
              1,
              "#f0f921"
             ]
            ],
            "type": "histogram2d"
           }
          ],
          "histogram2dcontour": [
           {
            "colorbar": {
             "outlinewidth": 0,
             "ticks": ""
            },
            "colorscale": [
             [
              0,
              "#0d0887"
             ],
             [
              0.1111111111111111,
              "#46039f"
             ],
             [
              0.2222222222222222,
              "#7201a8"
             ],
             [
              0.3333333333333333,
              "#9c179e"
             ],
             [
              0.4444444444444444,
              "#bd3786"
             ],
             [
              0.5555555555555556,
              "#d8576b"
             ],
             [
              0.6666666666666666,
              "#ed7953"
             ],
             [
              0.7777777777777778,
              "#fb9f3a"
             ],
             [
              0.8888888888888888,
              "#fdca26"
             ],
             [
              1,
              "#f0f921"
             ]
            ],
            "type": "histogram2dcontour"
           }
          ],
          "mesh3d": [
           {
            "colorbar": {
             "outlinewidth": 0,
             "ticks": ""
            },
            "type": "mesh3d"
           }
          ],
          "parcoords": [
           {
            "line": {
             "colorbar": {
              "outlinewidth": 0,
              "ticks": ""
             }
            },
            "type": "parcoords"
           }
          ],
          "pie": [
           {
            "automargin": true,
            "type": "pie"
           }
          ],
          "scatter": [
           {
            "fillpattern": {
             "fillmode": "overlay",
             "size": 10,
             "solidity": 0.2
            },
            "type": "scatter"
           }
          ],
          "scatter3d": [
           {
            "line": {
             "colorbar": {
              "outlinewidth": 0,
              "ticks": ""
             }
            },
            "marker": {
             "colorbar": {
              "outlinewidth": 0,
              "ticks": ""
             }
            },
            "type": "scatter3d"
           }
          ],
          "scattercarpet": [
           {
            "marker": {
             "colorbar": {
              "outlinewidth": 0,
              "ticks": ""
             }
            },
            "type": "scattercarpet"
           }
          ],
          "scattergeo": [
           {
            "marker": {
             "colorbar": {
              "outlinewidth": 0,
              "ticks": ""
             }
            },
            "type": "scattergeo"
           }
          ],
          "scattergl": [
           {
            "marker": {
             "colorbar": {
              "outlinewidth": 0,
              "ticks": ""
             }
            },
            "type": "scattergl"
           }
          ],
          "scattermapbox": [
           {
            "marker": {
             "colorbar": {
              "outlinewidth": 0,
              "ticks": ""
             }
            },
            "type": "scattermapbox"
           }
          ],
          "scatterpolar": [
           {
            "marker": {
             "colorbar": {
              "outlinewidth": 0,
              "ticks": ""
             }
            },
            "type": "scatterpolar"
           }
          ],
          "scatterpolargl": [
           {
            "marker": {
             "colorbar": {
              "outlinewidth": 0,
              "ticks": ""
             }
            },
            "type": "scatterpolargl"
           }
          ],
          "scatterternary": [
           {
            "marker": {
             "colorbar": {
              "outlinewidth": 0,
              "ticks": ""
             }
            },
            "type": "scatterternary"
           }
          ],
          "surface": [
           {
            "colorbar": {
             "outlinewidth": 0,
             "ticks": ""
            },
            "colorscale": [
             [
              0,
              "#0d0887"
             ],
             [
              0.1111111111111111,
              "#46039f"
             ],
             [
              0.2222222222222222,
              "#7201a8"
             ],
             [
              0.3333333333333333,
              "#9c179e"
             ],
             [
              0.4444444444444444,
              "#bd3786"
             ],
             [
              0.5555555555555556,
              "#d8576b"
             ],
             [
              0.6666666666666666,
              "#ed7953"
             ],
             [
              0.7777777777777778,
              "#fb9f3a"
             ],
             [
              0.8888888888888888,
              "#fdca26"
             ],
             [
              1,
              "#f0f921"
             ]
            ],
            "type": "surface"
           }
          ],
          "table": [
           {
            "cells": {
             "fill": {
              "color": "#EBF0F8"
             },
             "line": {
              "color": "white"
             }
            },
            "header": {
             "fill": {
              "color": "#C8D4E3"
             },
             "line": {
              "color": "white"
             }
            },
            "type": "table"
           }
          ]
         },
         "layout": {
          "annotationdefaults": {
           "arrowcolor": "#2a3f5f",
           "arrowhead": 0,
           "arrowwidth": 1
          },
          "autotypenumbers": "strict",
          "coloraxis": {
           "colorbar": {
            "outlinewidth": 0,
            "ticks": ""
           }
          },
          "colorscale": {
           "diverging": [
            [
             0,
             "#8e0152"
            ],
            [
             0.1,
             "#c51b7d"
            ],
            [
             0.2,
             "#de77ae"
            ],
            [
             0.3,
             "#f1b6da"
            ],
            [
             0.4,
             "#fde0ef"
            ],
            [
             0.5,
             "#f7f7f7"
            ],
            [
             0.6,
             "#e6f5d0"
            ],
            [
             0.7,
             "#b8e186"
            ],
            [
             0.8,
             "#7fbc41"
            ],
            [
             0.9,
             "#4d9221"
            ],
            [
             1,
             "#276419"
            ]
           ],
           "sequential": [
            [
             0,
             "#0d0887"
            ],
            [
             0.1111111111111111,
             "#46039f"
            ],
            [
             0.2222222222222222,
             "#7201a8"
            ],
            [
             0.3333333333333333,
             "#9c179e"
            ],
            [
             0.4444444444444444,
             "#bd3786"
            ],
            [
             0.5555555555555556,
             "#d8576b"
            ],
            [
             0.6666666666666666,
             "#ed7953"
            ],
            [
             0.7777777777777778,
             "#fb9f3a"
            ],
            [
             0.8888888888888888,
             "#fdca26"
            ],
            [
             1,
             "#f0f921"
            ]
           ],
           "sequentialminus": [
            [
             0,
             "#0d0887"
            ],
            [
             0.1111111111111111,
             "#46039f"
            ],
            [
             0.2222222222222222,
             "#7201a8"
            ],
            [
             0.3333333333333333,
             "#9c179e"
            ],
            [
             0.4444444444444444,
             "#bd3786"
            ],
            [
             0.5555555555555556,
             "#d8576b"
            ],
            [
             0.6666666666666666,
             "#ed7953"
            ],
            [
             0.7777777777777778,
             "#fb9f3a"
            ],
            [
             0.8888888888888888,
             "#fdca26"
            ],
            [
             1,
             "#f0f921"
            ]
           ]
          },
          "colorway": [
           "#636efa",
           "#EF553B",
           "#00cc96",
           "#ab63fa",
           "#FFA15A",
           "#19d3f3",
           "#FF6692",
           "#B6E880",
           "#FF97FF",
           "#FECB52"
          ],
          "font": {
           "color": "#2a3f5f"
          },
          "geo": {
           "bgcolor": "white",
           "lakecolor": "white",
           "landcolor": "#E5ECF6",
           "showlakes": true,
           "showland": true,
           "subunitcolor": "white"
          },
          "hoverlabel": {
           "align": "left"
          },
          "hovermode": "closest",
          "mapbox": {
           "style": "light"
          },
          "paper_bgcolor": "white",
          "plot_bgcolor": "#E5ECF6",
          "polar": {
           "angularaxis": {
            "gridcolor": "white",
            "linecolor": "white",
            "ticks": ""
           },
           "bgcolor": "#E5ECF6",
           "radialaxis": {
            "gridcolor": "white",
            "linecolor": "white",
            "ticks": ""
           }
          },
          "scene": {
           "xaxis": {
            "backgroundcolor": "#E5ECF6",
            "gridcolor": "white",
            "gridwidth": 2,
            "linecolor": "white",
            "showbackground": true,
            "ticks": "",
            "zerolinecolor": "white"
           },
           "yaxis": {
            "backgroundcolor": "#E5ECF6",
            "gridcolor": "white",
            "gridwidth": 2,
            "linecolor": "white",
            "showbackground": true,
            "ticks": "",
            "zerolinecolor": "white"
           },
           "zaxis": {
            "backgroundcolor": "#E5ECF6",
            "gridcolor": "white",
            "gridwidth": 2,
            "linecolor": "white",
            "showbackground": true,
            "ticks": "",
            "zerolinecolor": "white"
           }
          },
          "shapedefaults": {
           "line": {
            "color": "#2a3f5f"
           }
          },
          "ternary": {
           "aaxis": {
            "gridcolor": "white",
            "linecolor": "white",
            "ticks": ""
           },
           "baxis": {
            "gridcolor": "white",
            "linecolor": "white",
            "ticks": ""
           },
           "bgcolor": "#E5ECF6",
           "caxis": {
            "gridcolor": "white",
            "linecolor": "white",
            "ticks": ""
           }
          },
          "title": {
           "x": 0.05
          },
          "xaxis": {
           "automargin": true,
           "gridcolor": "white",
           "linecolor": "white",
           "ticks": "",
           "title": {
            "standoff": 15
           },
           "zerolinecolor": "white",
           "zerolinewidth": 2
          },
          "yaxis": {
           "automargin": true,
           "gridcolor": "white",
           "linecolor": "white",
           "ticks": "",
           "title": {
            "standoff": 15
           },
           "zerolinecolor": "white",
           "zerolinewidth": 2
          }
         }
        },
        "xaxis": {
         "anchor": "y",
         "domain": [
          0,
          1
         ],
         "title": {
          "text": "variable"
         }
        },
        "yaxis": {
         "anchor": "x",
         "domain": [
          0,
          1
         ],
         "title": {
          "text": "value"
         }
        }
       }
      }
     },
     "metadata": {},
     "output_type": "display_data"
    }
   ],
   "source": [
    "analise(df['radius_mean'])"
   ]
  },
  {
   "cell_type": "code",
   "execution_count": 6,
   "metadata": {},
   "outputs": [
    {
     "name": "stdout",
     "output_type": "stream",
     "text": [
      "Nome da coluna:\n",
      " texture_mean\n",
      "\n",
      "tipo da coluna:\n",
      " float64\n",
      "\n",
      "Quantidade dados na coluna:\n",
      " (569,)\n",
      "\n",
      "Quantidade de valores unicos:\n",
      " 479\n",
      "\n",
      "Quantidade de valores nulos:\n",
      " 0\n"
     ]
    },
    {
     "name": "stdout",
     "output_type": "stream",
     "text": [
      "\n",
      "Analisando a média:\n",
      " count    569.000000\n",
      "mean      19.289649\n",
      "std        4.301036\n",
      "min        9.710000\n",
      "25%       16.170000\n",
      "50%       18.840000\n",
      "75%       21.800000\n",
      "max       39.280000\n",
      "Name: texture_mean, dtype: float64\n",
      "\n",
      "Quantidade por opção:\n",
      " texture_mean\n",
      "9.71     1\n",
      "10.38    1\n",
      "10.72    1\n",
      "10.82    1\n",
      "10.89    1\n",
      "        ..\n",
      "31.12    1\n",
      "32.47    1\n",
      "33.56    1\n",
      "33.81    1\n",
      "39.28    1\n",
      "Name: count, Length: 479, dtype: int64\n"
     ]
    },
    {
     "data": {
      "application/vnd.plotly.v1+json": {
       "config": {
        "plotlyServerURL": "https://plot.ly"
       },
       "data": [
        {
         "alignmentgroup": "True",
         "hovertemplate": "variable=%{x}<br>value=%{y}<extra></extra>",
         "legendgroup": "",
         "marker": {
          "color": "#636efa"
         },
         "name": "",
         "notched": false,
         "offsetgroup": "",
         "orientation": "v",
         "showlegend": false,
         "type": "box",
         "x": [
          "texture_mean",
          "texture_mean",
          "texture_mean",
          "texture_mean",
          "texture_mean",
          "texture_mean",
          "texture_mean",
          "texture_mean",
          "texture_mean",
          "texture_mean",
          "texture_mean",
          "texture_mean",
          "texture_mean",
          "texture_mean",
          "texture_mean",
          "texture_mean",
          "texture_mean",
          "texture_mean",
          "texture_mean",
          "texture_mean",
          "texture_mean",
          "texture_mean",
          "texture_mean",
          "texture_mean",
          "texture_mean",
          "texture_mean",
          "texture_mean",
          "texture_mean",
          "texture_mean",
          "texture_mean",
          "texture_mean",
          "texture_mean",
          "texture_mean",
          "texture_mean",
          "texture_mean",
          "texture_mean",
          "texture_mean",
          "texture_mean",
          "texture_mean",
          "texture_mean",
          "texture_mean",
          "texture_mean",
          "texture_mean",
          "texture_mean",
          "texture_mean",
          "texture_mean",
          "texture_mean",
          "texture_mean",
          "texture_mean",
          "texture_mean",
          "texture_mean",
          "texture_mean",
          "texture_mean",
          "texture_mean",
          "texture_mean",
          "texture_mean",
          "texture_mean",
          "texture_mean",
          "texture_mean",
          "texture_mean",
          "texture_mean",
          "texture_mean",
          "texture_mean",
          "texture_mean",
          "texture_mean",
          "texture_mean",
          "texture_mean",
          "texture_mean",
          "texture_mean",
          "texture_mean",
          "texture_mean",
          "texture_mean",
          "texture_mean",
          "texture_mean",
          "texture_mean",
          "texture_mean",
          "texture_mean",
          "texture_mean",
          "texture_mean",
          "texture_mean",
          "texture_mean",
          "texture_mean",
          "texture_mean",
          "texture_mean",
          "texture_mean",
          "texture_mean",
          "texture_mean",
          "texture_mean",
          "texture_mean",
          "texture_mean",
          "texture_mean",
          "texture_mean",
          "texture_mean",
          "texture_mean",
          "texture_mean",
          "texture_mean",
          "texture_mean",
          "texture_mean",
          "texture_mean",
          "texture_mean",
          "texture_mean",
          "texture_mean",
          "texture_mean",
          "texture_mean",
          "texture_mean",
          "texture_mean",
          "texture_mean",
          "texture_mean",
          "texture_mean",
          "texture_mean",
          "texture_mean",
          "texture_mean",
          "texture_mean",
          "texture_mean",
          "texture_mean",
          "texture_mean",
          "texture_mean",
          "texture_mean",
          "texture_mean",
          "texture_mean",
          "texture_mean",
          "texture_mean",
          "texture_mean",
          "texture_mean",
          "texture_mean",
          "texture_mean",
          "texture_mean",
          "texture_mean",
          "texture_mean",
          "texture_mean",
          "texture_mean",
          "texture_mean",
          "texture_mean",
          "texture_mean",
          "texture_mean",
          "texture_mean",
          "texture_mean",
          "texture_mean",
          "texture_mean",
          "texture_mean",
          "texture_mean",
          "texture_mean",
          "texture_mean",
          "texture_mean",
          "texture_mean",
          "texture_mean",
          "texture_mean",
          "texture_mean",
          "texture_mean",
          "texture_mean",
          "texture_mean",
          "texture_mean",
          "texture_mean",
          "texture_mean",
          "texture_mean",
          "texture_mean",
          "texture_mean",
          "texture_mean",
          "texture_mean",
          "texture_mean",
          "texture_mean",
          "texture_mean",
          "texture_mean",
          "texture_mean",
          "texture_mean",
          "texture_mean",
          "texture_mean",
          "texture_mean",
          "texture_mean",
          "texture_mean",
          "texture_mean",
          "texture_mean",
          "texture_mean",
          "texture_mean",
          "texture_mean",
          "texture_mean",
          "texture_mean",
          "texture_mean",
          "texture_mean",
          "texture_mean",
          "texture_mean",
          "texture_mean",
          "texture_mean",
          "texture_mean",
          "texture_mean",
          "texture_mean",
          "texture_mean",
          "texture_mean",
          "texture_mean",
          "texture_mean",
          "texture_mean",
          "texture_mean",
          "texture_mean",
          "texture_mean",
          "texture_mean",
          "texture_mean",
          "texture_mean",
          "texture_mean",
          "texture_mean",
          "texture_mean",
          "texture_mean",
          "texture_mean",
          "texture_mean",
          "texture_mean",
          "texture_mean",
          "texture_mean",
          "texture_mean",
          "texture_mean",
          "texture_mean",
          "texture_mean",
          "texture_mean",
          "texture_mean",
          "texture_mean",
          "texture_mean",
          "texture_mean",
          "texture_mean",
          "texture_mean",
          "texture_mean",
          "texture_mean",
          "texture_mean",
          "texture_mean",
          "texture_mean",
          "texture_mean",
          "texture_mean",
          "texture_mean",
          "texture_mean",
          "texture_mean",
          "texture_mean",
          "texture_mean",
          "texture_mean",
          "texture_mean",
          "texture_mean",
          "texture_mean",
          "texture_mean",
          "texture_mean",
          "texture_mean",
          "texture_mean",
          "texture_mean",
          "texture_mean",
          "texture_mean",
          "texture_mean",
          "texture_mean",
          "texture_mean",
          "texture_mean",
          "texture_mean",
          "texture_mean",
          "texture_mean",
          "texture_mean",
          "texture_mean",
          "texture_mean",
          "texture_mean",
          "texture_mean",
          "texture_mean",
          "texture_mean",
          "texture_mean",
          "texture_mean",
          "texture_mean",
          "texture_mean",
          "texture_mean",
          "texture_mean",
          "texture_mean",
          "texture_mean",
          "texture_mean",
          "texture_mean",
          "texture_mean",
          "texture_mean",
          "texture_mean",
          "texture_mean",
          "texture_mean",
          "texture_mean",
          "texture_mean",
          "texture_mean",
          "texture_mean",
          "texture_mean",
          "texture_mean",
          "texture_mean",
          "texture_mean",
          "texture_mean",
          "texture_mean",
          "texture_mean",
          "texture_mean",
          "texture_mean",
          "texture_mean",
          "texture_mean",
          "texture_mean",
          "texture_mean",
          "texture_mean",
          "texture_mean",
          "texture_mean",
          "texture_mean",
          "texture_mean",
          "texture_mean",
          "texture_mean",
          "texture_mean",
          "texture_mean",
          "texture_mean",
          "texture_mean",
          "texture_mean",
          "texture_mean",
          "texture_mean",
          "texture_mean",
          "texture_mean",
          "texture_mean",
          "texture_mean",
          "texture_mean",
          "texture_mean",
          "texture_mean",
          "texture_mean",
          "texture_mean",
          "texture_mean",
          "texture_mean",
          "texture_mean",
          "texture_mean",
          "texture_mean",
          "texture_mean",
          "texture_mean",
          "texture_mean",
          "texture_mean",
          "texture_mean",
          "texture_mean",
          "texture_mean",
          "texture_mean",
          "texture_mean",
          "texture_mean",
          "texture_mean",
          "texture_mean",
          "texture_mean",
          "texture_mean",
          "texture_mean",
          "texture_mean",
          "texture_mean",
          "texture_mean",
          "texture_mean",
          "texture_mean",
          "texture_mean",
          "texture_mean",
          "texture_mean",
          "texture_mean",
          "texture_mean",
          "texture_mean",
          "texture_mean",
          "texture_mean",
          "texture_mean",
          "texture_mean",
          "texture_mean",
          "texture_mean",
          "texture_mean",
          "texture_mean",
          "texture_mean",
          "texture_mean",
          "texture_mean",
          "texture_mean",
          "texture_mean",
          "texture_mean",
          "texture_mean",
          "texture_mean",
          "texture_mean",
          "texture_mean",
          "texture_mean",
          "texture_mean",
          "texture_mean",
          "texture_mean",
          "texture_mean",
          "texture_mean",
          "texture_mean",
          "texture_mean",
          "texture_mean",
          "texture_mean",
          "texture_mean",
          "texture_mean",
          "texture_mean",
          "texture_mean",
          "texture_mean",
          "texture_mean",
          "texture_mean",
          "texture_mean",
          "texture_mean",
          "texture_mean",
          "texture_mean",
          "texture_mean",
          "texture_mean",
          "texture_mean",
          "texture_mean",
          "texture_mean",
          "texture_mean",
          "texture_mean",
          "texture_mean",
          "texture_mean",
          "texture_mean",
          "texture_mean",
          "texture_mean",
          "texture_mean",
          "texture_mean",
          "texture_mean",
          "texture_mean",
          "texture_mean",
          "texture_mean",
          "texture_mean",
          "texture_mean",
          "texture_mean",
          "texture_mean",
          "texture_mean",
          "texture_mean",
          "texture_mean",
          "texture_mean",
          "texture_mean",
          "texture_mean",
          "texture_mean",
          "texture_mean",
          "texture_mean",
          "texture_mean",
          "texture_mean",
          "texture_mean",
          "texture_mean",
          "texture_mean",
          "texture_mean",
          "texture_mean",
          "texture_mean",
          "texture_mean",
          "texture_mean",
          "texture_mean",
          "texture_mean",
          "texture_mean",
          "texture_mean",
          "texture_mean",
          "texture_mean",
          "texture_mean",
          "texture_mean",
          "texture_mean",
          "texture_mean",
          "texture_mean",
          "texture_mean",
          "texture_mean",
          "texture_mean",
          "texture_mean",
          "texture_mean",
          "texture_mean",
          "texture_mean",
          "texture_mean",
          "texture_mean",
          "texture_mean",
          "texture_mean",
          "texture_mean",
          "texture_mean",
          "texture_mean",
          "texture_mean",
          "texture_mean",
          "texture_mean",
          "texture_mean",
          "texture_mean",
          "texture_mean",
          "texture_mean",
          "texture_mean",
          "texture_mean",
          "texture_mean",
          "texture_mean",
          "texture_mean",
          "texture_mean",
          "texture_mean",
          "texture_mean",
          "texture_mean",
          "texture_mean",
          "texture_mean",
          "texture_mean",
          "texture_mean",
          "texture_mean",
          "texture_mean",
          "texture_mean",
          "texture_mean",
          "texture_mean",
          "texture_mean",
          "texture_mean",
          "texture_mean",
          "texture_mean",
          "texture_mean",
          "texture_mean",
          "texture_mean",
          "texture_mean",
          "texture_mean",
          "texture_mean",
          "texture_mean",
          "texture_mean",
          "texture_mean",
          "texture_mean",
          "texture_mean",
          "texture_mean",
          "texture_mean",
          "texture_mean",
          "texture_mean",
          "texture_mean",
          "texture_mean",
          "texture_mean",
          "texture_mean",
          "texture_mean",
          "texture_mean",
          "texture_mean",
          "texture_mean",
          "texture_mean",
          "texture_mean",
          "texture_mean",
          "texture_mean",
          "texture_mean",
          "texture_mean",
          "texture_mean",
          "texture_mean",
          "texture_mean",
          "texture_mean",
          "texture_mean",
          "texture_mean",
          "texture_mean",
          "texture_mean",
          "texture_mean",
          "texture_mean",
          "texture_mean",
          "texture_mean",
          "texture_mean",
          "texture_mean",
          "texture_mean",
          "texture_mean",
          "texture_mean",
          "texture_mean",
          "texture_mean",
          "texture_mean",
          "texture_mean",
          "texture_mean",
          "texture_mean",
          "texture_mean",
          "texture_mean",
          "texture_mean",
          "texture_mean",
          "texture_mean",
          "texture_mean",
          "texture_mean",
          "texture_mean",
          "texture_mean",
          "texture_mean",
          "texture_mean",
          "texture_mean",
          "texture_mean",
          "texture_mean",
          "texture_mean",
          "texture_mean",
          "texture_mean",
          "texture_mean",
          "texture_mean",
          "texture_mean",
          "texture_mean",
          "texture_mean",
          "texture_mean",
          "texture_mean",
          "texture_mean",
          "texture_mean",
          "texture_mean",
          "texture_mean",
          "texture_mean",
          "texture_mean",
          "texture_mean",
          "texture_mean",
          "texture_mean",
          "texture_mean",
          "texture_mean",
          "texture_mean",
          "texture_mean",
          "texture_mean",
          "texture_mean",
          "texture_mean",
          "texture_mean",
          "texture_mean",
          "texture_mean"
         ],
         "x0": " ",
         "xaxis": "x",
         "y": [
          10.38,
          17.77,
          21.25,
          20.38,
          14.34,
          15.7,
          19.98,
          20.83,
          21.82,
          24.04,
          23.24,
          17.89,
          24.8,
          23.95,
          22.61,
          27.54,
          20.13,
          20.68,
          22.15,
          14.36,
          15.71,
          12.44,
          14.26,
          23.04,
          21.38,
          16.4,
          21.53,
          20.25,
          25.27,
          15.05,
          25.11,
          18.7,
          23.98,
          26.47,
          17.88,
          21.59,
          21.72,
          18.42,
          25.2,
          20.82,
          21.58,
          21.35,
          24.81,
          20.28,
          21.81,
          17.6,
          16.84,
          18.66,
          14.63,
          22.3,
          21.6,
          16.34,
          18.24,
          18.7,
          22.02,
          18.75,
          18.57,
          21.59,
          19.31,
          11.79,
          14.88,
          20.98,
          22.15,
          13.86,
          23.84,
          23.94,
          21.01,
          19.04,
          17.33,
          16.49,
          21.31,
          14.64,
          24.52,
          15.79,
          16.52,
          19.65,
          10.94,
          16.15,
          23.97,
          18,
          20.97,
          15.86,
          24.91,
          26.29,
          15.65,
          18.52,
          21.46,
          24.59,
          21.8,
          15.24,
          24.02,
          22.76,
          14.76,
          18.3,
          19.83,
          23.03,
          17.84,
          19.94,
          12.84,
          19.77,
          24.98,
          13.43,
          20.52,
          19.4,
          19.29,
          15.56,
          18.33,
          18.54,
          19.67,
          21.26,
          16.99,
          20.76,
          19.65,
          20.19,
          15.83,
          21.53,
          15.76,
          16.67,
          22.91,
          20.01,
          10.82,
          17.12,
          20.2,
          10.89,
          16.39,
          17.21,
          24.69,
          18.91,
          16.39,
          25.12,
          13.29,
          19.48,
          21.54,
          13.93,
          21.91,
          22.47,
          16.67,
          15.39,
          17.57,
          13.39,
          11.97,
          18.05,
          17.31,
          15.92,
          14.97,
          14.65,
          16.58,
          18.77,
          15.18,
          17.91,
          20.78,
          20.7,
          15.34,
          13.08,
          15.34,
          17.94,
          20.74,
          19.46,
          12.74,
          12.96,
          20.18,
          15.94,
          18.15,
          22.22,
          22.04,
          19.76,
          9.71,
          18.8,
          24.68,
          16.95,
          12.39,
          19.63,
          11.89,
          14.71,
          15.15,
          14.45,
          18.06,
          20.11,
          22.22,
          13.06,
          21.87,
          26.57,
          20.31,
          14.92,
          22.41,
          15.11,
          18.58,
          17.19,
          17.39,
          15.9,
          23.12,
          21.41,
          18.22,
          26.86,
          23.21,
          16.33,
          22.29,
          21.84,
          22.49,
          20.22,
          19.56,
          19.32,
          26.67,
          23.75,
          18.6,
          16.68,
          17.27,
          20.26,
          22.54,
          12.91,
          22.14,
          18.94,
          18.47,
          25.56,
          23.81,
          16.93,
          18.35,
          17.48,
          21.56,
          32.47,
          13.16,
          13.9,
          17.53,
          20.25,
          17.02,
          13.47,
          15.46,
          15.51,
          23.97,
          22.33,
          19.08,
          27.08,
          33.81,
          27.81,
          15.91,
          21.25,
          26.97,
          21.46,
          27.85,
          39.28,
          15.6,
          15.04,
          18.19,
          23.77,
          23.5,
          19.86,
          17.43,
          14.11,
          25.22,
          14.93,
          23.56,
          18.45,
          19.82,
          17.08,
          19.33,
          17.05,
          28.77,
          17.27,
          23.2,
          33.56,
          27.06,
          23.06,
          22.13,
          19.38,
          22.07,
          31.12,
          18.95,
          21.84,
          16.21,
          20.39,
          16.82,
          13.04,
          20.99,
          15.67,
          24.48,
          17.36,
          14.16,
          19.98,
          17.84,
          15.18,
          26.6,
          14.02,
          18.18,
          18.77,
          15.7,
          18.4,
          20.76,
          13.12,
          19.96,
          18.89,
          19.73,
          19.1,
          16.02,
          17.46,
          13.78,
          13.27,
          12.35,
          18.14,
          18.17,
          23.09,
          18.9,
          19.89,
          23.86,
          18.61,
          18.16,
          24.49,
          15.82,
          14.4,
          12.71,
          13.84,
          19.11,
          15.69,
          13.37,
          10.72,
          18.6,
          16.85,
          14.08,
          18.87,
          18.9,
          17,
          16.18,
          19.66,
          13.32,
          21.51,
          15.21,
          17.3,
          12.88,
          17.93,
          20.71,
          21.88,
          15.51,
          19.35,
          19.86,
          14.78,
          19.02,
          21,
          14.23,
          21.43,
          17.53,
          24.27,
          16.54,
          16.84,
          14.96,
          21.68,
          15.45,
          14.71,
          18.9,
          14.74,
          16.03,
          14.96,
          17.07,
          19.22,
          17.46,
          25.74,
          14.07,
          19.07,
          18.59,
          16.21,
          15.49,
          18.32,
          18.07,
          21.57,
          18.84,
          18.29,
          16.95,
          21.78,
          26.83,
          18.02,
          17.25,
          21.9,
          23.29,
          13.21,
          15.1,
          17.35,
          16.07,
          16.07,
          20.22,
          28.21,
          15.15,
          18.83,
          12.96,
          14.93,
          22.72,
          17.48,
          13.72,
          23.29,
          14.09,
          16.16,
          15.5,
          23.21,
          12.22,
          16.84,
          19.97,
          22.28,
          17.72,
          17.18,
          18.89,
          17.46,
          14.83,
          17.26,
          21.02,
          10.91,
          18.29,
          16.17,
          14.95,
          18.59,
          14.86,
          21.37,
          20.66,
          17.92,
          17.57,
          16.83,
          21.68,
          22.11,
          29.81,
          21.17,
          21.7,
          21.08,
          12.17,
          21.41,
          19.04,
          13.98,
          16.02,
          19.13,
          19.12,
          21.28,
          14.98,
          21.98,
          16.62,
          17.67,
          22.53,
          17.68,
          19.54,
          21.97,
          16.94,
          19.62,
          19.54,
          15.98,
          19.6,
          15.66,
          17.2,
          25.42,
          15.79,
          18.32,
          16.85,
          24.89,
          28.03,
          17.66,
          19.34,
          20.52,
          21.54,
          25,
          28.23,
          13.98,
          17.15,
          30.72,
          29.29,
          25.25,
          25.13,
          28.2,
          27.15,
          26.27,
          26.99,
          18.36,
          18.22,
          20.13,
          20.74,
          18.1,
          23.33,
          18.18,
          18.49,
          28.14,
          14.93,
          29.97,
          15.62,
          15.73,
          20.53,
          16.62,
          14.59,
          19.51,
          18.03,
          19.24,
          14.06,
          17.64,
          11.28,
          16.41,
          16.85,
          18.82,
          16.17,
          20.2,
          22.44,
          13.23,
          20.56,
          12.83,
          20.54,
          20.21,
          18.17,
          17.31,
          17.52,
          21.24,
          16.74,
          24.49,
          16.32,
          19.83,
          12.87,
          13.14,
          20.04,
          17.12,
          15.7,
          23.95,
          14.69,
          14.7,
          20.52,
          13.66,
          19.07,
          18.61,
          20.58,
          20.26,
          18.22,
          16.7,
          13.9,
          21.6,
          19.83,
          18.68,
          15.68,
          13.1,
          18.75,
          12.27,
          13.17,
          13.44,
          17.56,
          20.02,
          16.33,
          20.67,
          17.62,
          20.86,
          22.55,
          24.44,
          25.49,
          25.44,
          14.44,
          24.99,
          25.42,
          28.06,
          20.7,
          23.23,
          16.35,
          16.58,
          19.34,
          24.21,
          21.48,
          22.44,
          29.43,
          21.94,
          28.92,
          27.61,
          19.59,
          27.88,
          22.68,
          23.93,
          27.15,
          29.37,
          30.62,
          25.09,
          22.39,
          28.25,
          28.08,
          29.33,
          24.54
         ],
         "y0": " ",
         "yaxis": "y"
        }
       ],
       "layout": {
        "boxmode": "group",
        "legend": {
         "tracegroupgap": 0
        },
        "margin": {
         "t": 60
        },
        "template": {
         "data": {
          "bar": [
           {
            "error_x": {
             "color": "#2a3f5f"
            },
            "error_y": {
             "color": "#2a3f5f"
            },
            "marker": {
             "line": {
              "color": "#E5ECF6",
              "width": 0.5
             },
             "pattern": {
              "fillmode": "overlay",
              "size": 10,
              "solidity": 0.2
             }
            },
            "type": "bar"
           }
          ],
          "barpolar": [
           {
            "marker": {
             "line": {
              "color": "#E5ECF6",
              "width": 0.5
             },
             "pattern": {
              "fillmode": "overlay",
              "size": 10,
              "solidity": 0.2
             }
            },
            "type": "barpolar"
           }
          ],
          "carpet": [
           {
            "aaxis": {
             "endlinecolor": "#2a3f5f",
             "gridcolor": "white",
             "linecolor": "white",
             "minorgridcolor": "white",
             "startlinecolor": "#2a3f5f"
            },
            "baxis": {
             "endlinecolor": "#2a3f5f",
             "gridcolor": "white",
             "linecolor": "white",
             "minorgridcolor": "white",
             "startlinecolor": "#2a3f5f"
            },
            "type": "carpet"
           }
          ],
          "choropleth": [
           {
            "colorbar": {
             "outlinewidth": 0,
             "ticks": ""
            },
            "type": "choropleth"
           }
          ],
          "contour": [
           {
            "colorbar": {
             "outlinewidth": 0,
             "ticks": ""
            },
            "colorscale": [
             [
              0,
              "#0d0887"
             ],
             [
              0.1111111111111111,
              "#46039f"
             ],
             [
              0.2222222222222222,
              "#7201a8"
             ],
             [
              0.3333333333333333,
              "#9c179e"
             ],
             [
              0.4444444444444444,
              "#bd3786"
             ],
             [
              0.5555555555555556,
              "#d8576b"
             ],
             [
              0.6666666666666666,
              "#ed7953"
             ],
             [
              0.7777777777777778,
              "#fb9f3a"
             ],
             [
              0.8888888888888888,
              "#fdca26"
             ],
             [
              1,
              "#f0f921"
             ]
            ],
            "type": "contour"
           }
          ],
          "contourcarpet": [
           {
            "colorbar": {
             "outlinewidth": 0,
             "ticks": ""
            },
            "type": "contourcarpet"
           }
          ],
          "heatmap": [
           {
            "colorbar": {
             "outlinewidth": 0,
             "ticks": ""
            },
            "colorscale": [
             [
              0,
              "#0d0887"
             ],
             [
              0.1111111111111111,
              "#46039f"
             ],
             [
              0.2222222222222222,
              "#7201a8"
             ],
             [
              0.3333333333333333,
              "#9c179e"
             ],
             [
              0.4444444444444444,
              "#bd3786"
             ],
             [
              0.5555555555555556,
              "#d8576b"
             ],
             [
              0.6666666666666666,
              "#ed7953"
             ],
             [
              0.7777777777777778,
              "#fb9f3a"
             ],
             [
              0.8888888888888888,
              "#fdca26"
             ],
             [
              1,
              "#f0f921"
             ]
            ],
            "type": "heatmap"
           }
          ],
          "heatmapgl": [
           {
            "colorbar": {
             "outlinewidth": 0,
             "ticks": ""
            },
            "colorscale": [
             [
              0,
              "#0d0887"
             ],
             [
              0.1111111111111111,
              "#46039f"
             ],
             [
              0.2222222222222222,
              "#7201a8"
             ],
             [
              0.3333333333333333,
              "#9c179e"
             ],
             [
              0.4444444444444444,
              "#bd3786"
             ],
             [
              0.5555555555555556,
              "#d8576b"
             ],
             [
              0.6666666666666666,
              "#ed7953"
             ],
             [
              0.7777777777777778,
              "#fb9f3a"
             ],
             [
              0.8888888888888888,
              "#fdca26"
             ],
             [
              1,
              "#f0f921"
             ]
            ],
            "type": "heatmapgl"
           }
          ],
          "histogram": [
           {
            "marker": {
             "pattern": {
              "fillmode": "overlay",
              "size": 10,
              "solidity": 0.2
             }
            },
            "type": "histogram"
           }
          ],
          "histogram2d": [
           {
            "colorbar": {
             "outlinewidth": 0,
             "ticks": ""
            },
            "colorscale": [
             [
              0,
              "#0d0887"
             ],
             [
              0.1111111111111111,
              "#46039f"
             ],
             [
              0.2222222222222222,
              "#7201a8"
             ],
             [
              0.3333333333333333,
              "#9c179e"
             ],
             [
              0.4444444444444444,
              "#bd3786"
             ],
             [
              0.5555555555555556,
              "#d8576b"
             ],
             [
              0.6666666666666666,
              "#ed7953"
             ],
             [
              0.7777777777777778,
              "#fb9f3a"
             ],
             [
              0.8888888888888888,
              "#fdca26"
             ],
             [
              1,
              "#f0f921"
             ]
            ],
            "type": "histogram2d"
           }
          ],
          "histogram2dcontour": [
           {
            "colorbar": {
             "outlinewidth": 0,
             "ticks": ""
            },
            "colorscale": [
             [
              0,
              "#0d0887"
             ],
             [
              0.1111111111111111,
              "#46039f"
             ],
             [
              0.2222222222222222,
              "#7201a8"
             ],
             [
              0.3333333333333333,
              "#9c179e"
             ],
             [
              0.4444444444444444,
              "#bd3786"
             ],
             [
              0.5555555555555556,
              "#d8576b"
             ],
             [
              0.6666666666666666,
              "#ed7953"
             ],
             [
              0.7777777777777778,
              "#fb9f3a"
             ],
             [
              0.8888888888888888,
              "#fdca26"
             ],
             [
              1,
              "#f0f921"
             ]
            ],
            "type": "histogram2dcontour"
           }
          ],
          "mesh3d": [
           {
            "colorbar": {
             "outlinewidth": 0,
             "ticks": ""
            },
            "type": "mesh3d"
           }
          ],
          "parcoords": [
           {
            "line": {
             "colorbar": {
              "outlinewidth": 0,
              "ticks": ""
             }
            },
            "type": "parcoords"
           }
          ],
          "pie": [
           {
            "automargin": true,
            "type": "pie"
           }
          ],
          "scatter": [
           {
            "fillpattern": {
             "fillmode": "overlay",
             "size": 10,
             "solidity": 0.2
            },
            "type": "scatter"
           }
          ],
          "scatter3d": [
           {
            "line": {
             "colorbar": {
              "outlinewidth": 0,
              "ticks": ""
             }
            },
            "marker": {
             "colorbar": {
              "outlinewidth": 0,
              "ticks": ""
             }
            },
            "type": "scatter3d"
           }
          ],
          "scattercarpet": [
           {
            "marker": {
             "colorbar": {
              "outlinewidth": 0,
              "ticks": ""
             }
            },
            "type": "scattercarpet"
           }
          ],
          "scattergeo": [
           {
            "marker": {
             "colorbar": {
              "outlinewidth": 0,
              "ticks": ""
             }
            },
            "type": "scattergeo"
           }
          ],
          "scattergl": [
           {
            "marker": {
             "colorbar": {
              "outlinewidth": 0,
              "ticks": ""
             }
            },
            "type": "scattergl"
           }
          ],
          "scattermapbox": [
           {
            "marker": {
             "colorbar": {
              "outlinewidth": 0,
              "ticks": ""
             }
            },
            "type": "scattermapbox"
           }
          ],
          "scatterpolar": [
           {
            "marker": {
             "colorbar": {
              "outlinewidth": 0,
              "ticks": ""
             }
            },
            "type": "scatterpolar"
           }
          ],
          "scatterpolargl": [
           {
            "marker": {
             "colorbar": {
              "outlinewidth": 0,
              "ticks": ""
             }
            },
            "type": "scatterpolargl"
           }
          ],
          "scatterternary": [
           {
            "marker": {
             "colorbar": {
              "outlinewidth": 0,
              "ticks": ""
             }
            },
            "type": "scatterternary"
           }
          ],
          "surface": [
           {
            "colorbar": {
             "outlinewidth": 0,
             "ticks": ""
            },
            "colorscale": [
             [
              0,
              "#0d0887"
             ],
             [
              0.1111111111111111,
              "#46039f"
             ],
             [
              0.2222222222222222,
              "#7201a8"
             ],
             [
              0.3333333333333333,
              "#9c179e"
             ],
             [
              0.4444444444444444,
              "#bd3786"
             ],
             [
              0.5555555555555556,
              "#d8576b"
             ],
             [
              0.6666666666666666,
              "#ed7953"
             ],
             [
              0.7777777777777778,
              "#fb9f3a"
             ],
             [
              0.8888888888888888,
              "#fdca26"
             ],
             [
              1,
              "#f0f921"
             ]
            ],
            "type": "surface"
           }
          ],
          "table": [
           {
            "cells": {
             "fill": {
              "color": "#EBF0F8"
             },
             "line": {
              "color": "white"
             }
            },
            "header": {
             "fill": {
              "color": "#C8D4E3"
             },
             "line": {
              "color": "white"
             }
            },
            "type": "table"
           }
          ]
         },
         "layout": {
          "annotationdefaults": {
           "arrowcolor": "#2a3f5f",
           "arrowhead": 0,
           "arrowwidth": 1
          },
          "autotypenumbers": "strict",
          "coloraxis": {
           "colorbar": {
            "outlinewidth": 0,
            "ticks": ""
           }
          },
          "colorscale": {
           "diverging": [
            [
             0,
             "#8e0152"
            ],
            [
             0.1,
             "#c51b7d"
            ],
            [
             0.2,
             "#de77ae"
            ],
            [
             0.3,
             "#f1b6da"
            ],
            [
             0.4,
             "#fde0ef"
            ],
            [
             0.5,
             "#f7f7f7"
            ],
            [
             0.6,
             "#e6f5d0"
            ],
            [
             0.7,
             "#b8e186"
            ],
            [
             0.8,
             "#7fbc41"
            ],
            [
             0.9,
             "#4d9221"
            ],
            [
             1,
             "#276419"
            ]
           ],
           "sequential": [
            [
             0,
             "#0d0887"
            ],
            [
             0.1111111111111111,
             "#46039f"
            ],
            [
             0.2222222222222222,
             "#7201a8"
            ],
            [
             0.3333333333333333,
             "#9c179e"
            ],
            [
             0.4444444444444444,
             "#bd3786"
            ],
            [
             0.5555555555555556,
             "#d8576b"
            ],
            [
             0.6666666666666666,
             "#ed7953"
            ],
            [
             0.7777777777777778,
             "#fb9f3a"
            ],
            [
             0.8888888888888888,
             "#fdca26"
            ],
            [
             1,
             "#f0f921"
            ]
           ],
           "sequentialminus": [
            [
             0,
             "#0d0887"
            ],
            [
             0.1111111111111111,
             "#46039f"
            ],
            [
             0.2222222222222222,
             "#7201a8"
            ],
            [
             0.3333333333333333,
             "#9c179e"
            ],
            [
             0.4444444444444444,
             "#bd3786"
            ],
            [
             0.5555555555555556,
             "#d8576b"
            ],
            [
             0.6666666666666666,
             "#ed7953"
            ],
            [
             0.7777777777777778,
             "#fb9f3a"
            ],
            [
             0.8888888888888888,
             "#fdca26"
            ],
            [
             1,
             "#f0f921"
            ]
           ]
          },
          "colorway": [
           "#636efa",
           "#EF553B",
           "#00cc96",
           "#ab63fa",
           "#FFA15A",
           "#19d3f3",
           "#FF6692",
           "#B6E880",
           "#FF97FF",
           "#FECB52"
          ],
          "font": {
           "color": "#2a3f5f"
          },
          "geo": {
           "bgcolor": "white",
           "lakecolor": "white",
           "landcolor": "#E5ECF6",
           "showlakes": true,
           "showland": true,
           "subunitcolor": "white"
          },
          "hoverlabel": {
           "align": "left"
          },
          "hovermode": "closest",
          "mapbox": {
           "style": "light"
          },
          "paper_bgcolor": "white",
          "plot_bgcolor": "#E5ECF6",
          "polar": {
           "angularaxis": {
            "gridcolor": "white",
            "linecolor": "white",
            "ticks": ""
           },
           "bgcolor": "#E5ECF6",
           "radialaxis": {
            "gridcolor": "white",
            "linecolor": "white",
            "ticks": ""
           }
          },
          "scene": {
           "xaxis": {
            "backgroundcolor": "#E5ECF6",
            "gridcolor": "white",
            "gridwidth": 2,
            "linecolor": "white",
            "showbackground": true,
            "ticks": "",
            "zerolinecolor": "white"
           },
           "yaxis": {
            "backgroundcolor": "#E5ECF6",
            "gridcolor": "white",
            "gridwidth": 2,
            "linecolor": "white",
            "showbackground": true,
            "ticks": "",
            "zerolinecolor": "white"
           },
           "zaxis": {
            "backgroundcolor": "#E5ECF6",
            "gridcolor": "white",
            "gridwidth": 2,
            "linecolor": "white",
            "showbackground": true,
            "ticks": "",
            "zerolinecolor": "white"
           }
          },
          "shapedefaults": {
           "line": {
            "color": "#2a3f5f"
           }
          },
          "ternary": {
           "aaxis": {
            "gridcolor": "white",
            "linecolor": "white",
            "ticks": ""
           },
           "baxis": {
            "gridcolor": "white",
            "linecolor": "white",
            "ticks": ""
           },
           "bgcolor": "#E5ECF6",
           "caxis": {
            "gridcolor": "white",
            "linecolor": "white",
            "ticks": ""
           }
          },
          "title": {
           "x": 0.05
          },
          "xaxis": {
           "automargin": true,
           "gridcolor": "white",
           "linecolor": "white",
           "ticks": "",
           "title": {
            "standoff": 15
           },
           "zerolinecolor": "white",
           "zerolinewidth": 2
          },
          "yaxis": {
           "automargin": true,
           "gridcolor": "white",
           "linecolor": "white",
           "ticks": "",
           "title": {
            "standoff": 15
           },
           "zerolinecolor": "white",
           "zerolinewidth": 2
          }
         }
        },
        "xaxis": {
         "anchor": "y",
         "domain": [
          0,
          1
         ],
         "title": {
          "text": "variable"
         }
        },
        "yaxis": {
         "anchor": "x",
         "domain": [
          0,
          1
         ],
         "title": {
          "text": "value"
         }
        }
       }
      }
     },
     "metadata": {},
     "output_type": "display_data"
    }
   ],
   "source": [
    "analise(dados=df['texture_mean'])"
   ]
  },
  {
   "cell_type": "code",
   "execution_count": null,
   "metadata": {},
   "outputs": [],
   "source": []
  },
  {
   "cell_type": "code",
   "execution_count": null,
   "metadata": {},
   "outputs": [],
   "source": []
  },
  {
   "cell_type": "code",
   "execution_count": null,
   "metadata": {},
   "outputs": [],
   "source": []
  },
  {
   "cell_type": "code",
   "execution_count": null,
   "metadata": {},
   "outputs": [],
   "source": []
  },
  {
   "cell_type": "code",
   "execution_count": null,
   "metadata": {},
   "outputs": [],
   "source": []
  },
  {
   "cell_type": "code",
   "execution_count": null,
   "metadata": {},
   "outputs": [],
   "source": []
  }
 ],
 "metadata": {
  "kernelspec": {
   "display_name": "Python 3",
   "language": "python",
   "name": "python3"
  },
  "language_info": {
   "codemirror_mode": {
    "name": "ipython",
    "version": 3
   },
   "file_extension": ".py",
   "mimetype": "text/x-python",
   "name": "python",
   "nbconvert_exporter": "python",
   "pygments_lexer": "ipython3",
   "version": "3.10.12"
  }
 },
 "nbformat": 4,
 "nbformat_minor": 2
}
