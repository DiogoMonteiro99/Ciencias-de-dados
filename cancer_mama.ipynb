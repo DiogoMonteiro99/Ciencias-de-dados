{
 "cells": [
  {
   "cell_type": "markdown",
   "metadata": {},
   "source": [
    "Informações do atributo:\n",
    "\n",
    "1) ID número\n",
    "2) Diagnóstico (M = maligno, B = benigno) 3-32)\n",
    "Dez características de valor real são calculadas para cada núcleo celular:\n",
    "\n",
    "a) raio (média das distâncias do centro aos pontos do perímetro) b) textura (desvio padrão dos valores da escala de cinza) c) perímetro\n",
    "d) área e) suavidade (variação local nos comprimentos dos raios) f) compacidade (perímetro^2 / área\n",
    "- 1,0) g) concavidade (severidade das porções côncavas do contorno) h) pontos côncavos (número de porções côncavas do contorno) i)\n",
    "simetria\n",
    "j) dimensão fractal (\"aproximação do litoral\" - 1)\n",
    "\n",
    "A média, o erro padrão e o \"pior\" ou maior (média dos três\n",
    "maiores valores) dessas características foram computados para cada imagem,\n",
    "resultando em 30 características. Por exemplo, o campo 3 é Raio Médio, o campo 13 é Raio SE, o campo\n",
    "23 é Pior Raio.\n",
    "\n",
    "Todos os valores de recurso são recodificados com quatro dígitos significativos.\n",
    "\n",
    "Valores de atributo ausentes: nenhum\n"
   ]
  },
  {
   "cell_type": "markdown",
   "metadata": {},
   "source": [
    "Importando as bibliotecas"
   ]
  },
  {
   "cell_type": "code",
   "execution_count": 3,
   "metadata": {},
   "outputs": [
    {
     "data": {
      "text/html": [
       "<div>\n",
       "<style scoped>\n",
       "    .dataframe tbody tr th:only-of-type {\n",
       "        vertical-align: middle;\n",
       "    }\n",
       "\n",
       "    .dataframe tbody tr th {\n",
       "        vertical-align: top;\n",
       "    }\n",
       "\n",
       "    .dataframe thead th {\n",
       "        text-align: right;\n",
       "    }\n",
       "</style>\n",
       "<table border=\"1\" class=\"dataframe\">\n",
       "  <thead>\n",
       "    <tr style=\"text-align: right;\">\n",
       "      <th></th>\n",
       "      <th>id</th>\n",
       "      <th>diagnosis</th>\n",
       "      <th>radius_mean</th>\n",
       "      <th>texture_mean</th>\n",
       "      <th>perimeter_mean</th>\n",
       "      <th>area_mean</th>\n",
       "      <th>smoothness_mean</th>\n",
       "      <th>compactness_mean</th>\n",
       "      <th>concavity_mean</th>\n",
       "      <th>concave points_mean</th>\n",
       "      <th>...</th>\n",
       "      <th>texture_worst</th>\n",
       "      <th>perimeter_worst</th>\n",
       "      <th>area_worst</th>\n",
       "      <th>smoothness_worst</th>\n",
       "      <th>compactness_worst</th>\n",
       "      <th>concavity_worst</th>\n",
       "      <th>concave points_worst</th>\n",
       "      <th>symmetry_worst</th>\n",
       "      <th>fractal_dimension_worst</th>\n",
       "      <th>Unnamed: 32</th>\n",
       "    </tr>\n",
       "  </thead>\n",
       "  <tbody>\n",
       "    <tr>\n",
       "      <th>0</th>\n",
       "      <td>842302</td>\n",
       "      <td>M</td>\n",
       "      <td>17.99</td>\n",
       "      <td>10.38</td>\n",
       "      <td>122.80</td>\n",
       "      <td>1001.0</td>\n",
       "      <td>0.11840</td>\n",
       "      <td>0.27760</td>\n",
       "      <td>0.3001</td>\n",
       "      <td>0.14710</td>\n",
       "      <td>...</td>\n",
       "      <td>17.33</td>\n",
       "      <td>184.60</td>\n",
       "      <td>2019.0</td>\n",
       "      <td>0.1622</td>\n",
       "      <td>0.6656</td>\n",
       "      <td>0.7119</td>\n",
       "      <td>0.2654</td>\n",
       "      <td>0.4601</td>\n",
       "      <td>0.11890</td>\n",
       "      <td>NaN</td>\n",
       "    </tr>\n",
       "    <tr>\n",
       "      <th>1</th>\n",
       "      <td>842517</td>\n",
       "      <td>M</td>\n",
       "      <td>20.57</td>\n",
       "      <td>17.77</td>\n",
       "      <td>132.90</td>\n",
       "      <td>1326.0</td>\n",
       "      <td>0.08474</td>\n",
       "      <td>0.07864</td>\n",
       "      <td>0.0869</td>\n",
       "      <td>0.07017</td>\n",
       "      <td>...</td>\n",
       "      <td>23.41</td>\n",
       "      <td>158.80</td>\n",
       "      <td>1956.0</td>\n",
       "      <td>0.1238</td>\n",
       "      <td>0.1866</td>\n",
       "      <td>0.2416</td>\n",
       "      <td>0.1860</td>\n",
       "      <td>0.2750</td>\n",
       "      <td>0.08902</td>\n",
       "      <td>NaN</td>\n",
       "    </tr>\n",
       "    <tr>\n",
       "      <th>2</th>\n",
       "      <td>84300903</td>\n",
       "      <td>M</td>\n",
       "      <td>19.69</td>\n",
       "      <td>21.25</td>\n",
       "      <td>130.00</td>\n",
       "      <td>1203.0</td>\n",
       "      <td>0.10960</td>\n",
       "      <td>0.15990</td>\n",
       "      <td>0.1974</td>\n",
       "      <td>0.12790</td>\n",
       "      <td>...</td>\n",
       "      <td>25.53</td>\n",
       "      <td>152.50</td>\n",
       "      <td>1709.0</td>\n",
       "      <td>0.1444</td>\n",
       "      <td>0.4245</td>\n",
       "      <td>0.4504</td>\n",
       "      <td>0.2430</td>\n",
       "      <td>0.3613</td>\n",
       "      <td>0.08758</td>\n",
       "      <td>NaN</td>\n",
       "    </tr>\n",
       "    <tr>\n",
       "      <th>3</th>\n",
       "      <td>84348301</td>\n",
       "      <td>M</td>\n",
       "      <td>11.42</td>\n",
       "      <td>20.38</td>\n",
       "      <td>77.58</td>\n",
       "      <td>386.1</td>\n",
       "      <td>0.14250</td>\n",
       "      <td>0.28390</td>\n",
       "      <td>0.2414</td>\n",
       "      <td>0.10520</td>\n",
       "      <td>...</td>\n",
       "      <td>26.50</td>\n",
       "      <td>98.87</td>\n",
       "      <td>567.7</td>\n",
       "      <td>0.2098</td>\n",
       "      <td>0.8663</td>\n",
       "      <td>0.6869</td>\n",
       "      <td>0.2575</td>\n",
       "      <td>0.6638</td>\n",
       "      <td>0.17300</td>\n",
       "      <td>NaN</td>\n",
       "    </tr>\n",
       "    <tr>\n",
       "      <th>4</th>\n",
       "      <td>84358402</td>\n",
       "      <td>M</td>\n",
       "      <td>20.29</td>\n",
       "      <td>14.34</td>\n",
       "      <td>135.10</td>\n",
       "      <td>1297.0</td>\n",
       "      <td>0.10030</td>\n",
       "      <td>0.13280</td>\n",
       "      <td>0.1980</td>\n",
       "      <td>0.10430</td>\n",
       "      <td>...</td>\n",
       "      <td>16.67</td>\n",
       "      <td>152.20</td>\n",
       "      <td>1575.0</td>\n",
       "      <td>0.1374</td>\n",
       "      <td>0.2050</td>\n",
       "      <td>0.4000</td>\n",
       "      <td>0.1625</td>\n",
       "      <td>0.2364</td>\n",
       "      <td>0.07678</td>\n",
       "      <td>NaN</td>\n",
       "    </tr>\n",
       "  </tbody>\n",
       "</table>\n",
       "<p>5 rows × 33 columns</p>\n",
       "</div>"
      ],
      "text/plain": [
       "         id diagnosis  radius_mean  texture_mean  perimeter_mean  area_mean  \\\n",
       "0    842302         M        17.99         10.38          122.80     1001.0   \n",
       "1    842517         M        20.57         17.77          132.90     1326.0   \n",
       "2  84300903         M        19.69         21.25          130.00     1203.0   \n",
       "3  84348301         M        11.42         20.38           77.58      386.1   \n",
       "4  84358402         M        20.29         14.34          135.10     1297.0   \n",
       "\n",
       "   smoothness_mean  compactness_mean  concavity_mean  concave points_mean  \\\n",
       "0          0.11840           0.27760          0.3001              0.14710   \n",
       "1          0.08474           0.07864          0.0869              0.07017   \n",
       "2          0.10960           0.15990          0.1974              0.12790   \n",
       "3          0.14250           0.28390          0.2414              0.10520   \n",
       "4          0.10030           0.13280          0.1980              0.10430   \n",
       "\n",
       "   ...  texture_worst  perimeter_worst  area_worst  smoothness_worst  \\\n",
       "0  ...          17.33           184.60      2019.0            0.1622   \n",
       "1  ...          23.41           158.80      1956.0            0.1238   \n",
       "2  ...          25.53           152.50      1709.0            0.1444   \n",
       "3  ...          26.50            98.87       567.7            0.2098   \n",
       "4  ...          16.67           152.20      1575.0            0.1374   \n",
       "\n",
       "   compactness_worst  concavity_worst  concave points_worst  symmetry_worst  \\\n",
       "0             0.6656           0.7119                0.2654          0.4601   \n",
       "1             0.1866           0.2416                0.1860          0.2750   \n",
       "2             0.4245           0.4504                0.2430          0.3613   \n",
       "3             0.8663           0.6869                0.2575          0.6638   \n",
       "4             0.2050           0.4000                0.1625          0.2364   \n",
       "\n",
       "   fractal_dimension_worst  Unnamed: 32  \n",
       "0                  0.11890          NaN  \n",
       "1                  0.08902          NaN  \n",
       "2                  0.08758          NaN  \n",
       "3                  0.17300          NaN  \n",
       "4                  0.07678          NaN  \n",
       "\n",
       "[5 rows x 33 columns]"
      ]
     },
     "execution_count": 3,
     "metadata": {},
     "output_type": "execute_result"
    }
   ],
   "source": [
    "import pandas as pd\n",
    "import numpy as np\n",
    "import plotly.express as px\n",
    "import matplotlib.pyplot as plt\n",
    "import seaborn as sns\n",
    "\n",
    "# Avisos\n",
    "import warnings\n",
    "warnings.filterwarnings('ignore')\n",
    "\n",
    "\n",
    "df = pd.read_csv('data_cancer2.csv')\n",
    "\n",
    "df.head()"
   ]
  },
  {
   "cell_type": "code",
   "execution_count": 46,
   "metadata": {},
   "outputs": [],
   "source": [
    "def analise(dados):\n",
    "    if dados.dtypes == 'int64' or dados.dtypes == 'float64':\n",
    "       print(f'tipo da coluna:\\n {dados.dtypes}')\n",
    "       print(f'\\nQuantidade dados na coluna:\\n {dados.shape}')\n",
    "       print(f'\\nQuantidade de valores unicos:\\n {dados.nunique()}')\n",
    "       print(f'\\nQuantidade de valores nulos:\\n {dados.isnull().sum()}')\n",
    "       print(f'\\nAnalisando a média:\\n {dados.describe()}')\n",
    "       print(f'\\nQuantidade por opção:\\n {dados.value_counts().sort_index()}')\n",
    "       fig = px.box(dados)\n",
    "       fig.show()\n",
    "\n",
    "    else:\n",
    "        print(f'tipo da coluna:\\n {dados.dtypes}')\n",
    "        print(f'\\nQuantidade dados na coluna:\\n {dados.shape}')\n",
    "        print(f'\\nQuantidade de valores unicos:\\n {dados.nunique()}')\n",
    "        print(f'\\nQuantidade de valores nulos:\\n {dados.isnull().sum()}')\n",
    "        print(f'\\nQuantidade por opção:\\n {dados.value_counts().sort_index()}')\n",
    "        fig = px.bar(dados)\n",
    "        fig.show()\n"
   ]
  },
  {
   "cell_type": "code",
   "execution_count": 47,
   "metadata": {},
   "outputs": [
    {
     "name": "stdout",
     "output_type": "stream",
     "text": [
      "tipo da coluna:\n",
      " int64\n",
      "\n",
      "Quantidade dados na coluna:\n",
      " (569,)\n",
      "\n",
      "Quantidade de valores unicos:\n",
      " 569\n",
      "\n",
      "Quantidade de valores nulos:\n",
      " 0\n",
      "\n",
      "Analisando a média:\n",
      " count    5.690000e+02\n",
      "mean     3.037183e+07\n",
      "std      1.250206e+08\n",
      "min      8.670000e+03\n",
      "25%      8.692180e+05\n",
      "50%      9.060240e+05\n",
      "75%      8.813129e+06\n",
      "max      9.113205e+08\n",
      "Name: id, dtype: float64\n",
      "\n",
      "Quantidade por opção:\n",
      " id\n",
      "8670         1\n",
      "8913         1\n",
      "8915         1\n",
      "9047         1\n",
      "85715        1\n",
      "            ..\n",
      "911157302    1\n",
      "911296201    1\n",
      "911296202    1\n",
      "911320501    1\n",
      "911320502    1\n",
      "Name: count, Length: 569, dtype: int64\n"
     ]
    },
    {
     "data": {
      "application/vnd.plotly.v1+json": {
       "config": {
        "plotlyServerURL": "https://plot.ly"
       },
       "data": [
        {
         "alignmentgroup": "True",
         "hovertemplate": "variable=%{x}<br>value=%{y}<extra></extra>",
         "legendgroup": "",
         "marker": {
          "color": "#636efa"
         },
         "name": "",
         "notched": false,
         "offsetgroup": "",
         "orientation": "v",
         "showlegend": false,
         "type": "box",
         "x": [
          "id",
          "id",
          "id",
          "id",
          "id",
          "id",
          "id",
          "id",
          "id",
          "id",
          "id",
          "id",
          "id",
          "id",
          "id",
          "id",
          "id",
          "id",
          "id",
          "id",
          "id",
          "id",
          "id",
          "id",
          "id",
          "id",
          "id",
          "id",
          "id",
          "id",
          "id",
          "id",
          "id",
          "id",
          "id",
          "id",
          "id",
          "id",
          "id",
          "id",
          "id",
          "id",
          "id",
          "id",
          "id",
          "id",
          "id",
          "id",
          "id",
          "id",
          "id",
          "id",
          "id",
          "id",
          "id",
          "id",
          "id",
          "id",
          "id",
          "id",
          "id",
          "id",
          "id",
          "id",
          "id",
          "id",
          "id",
          "id",
          "id",
          "id",
          "id",
          "id",
          "id",
          "id",
          "id",
          "id",
          "id",
          "id",
          "id",
          "id",
          "id",
          "id",
          "id",
          "id",
          "id",
          "id",
          "id",
          "id",
          "id",
          "id",
          "id",
          "id",
          "id",
          "id",
          "id",
          "id",
          "id",
          "id",
          "id",
          "id",
          "id",
          "id",
          "id",
          "id",
          "id",
          "id",
          "id",
          "id",
          "id",
          "id",
          "id",
          "id",
          "id",
          "id",
          "id",
          "id",
          "id",
          "id",
          "id",
          "id",
          "id",
          "id",
          "id",
          "id",
          "id",
          "id",
          "id",
          "id",
          "id",
          "id",
          "id",
          "id",
          "id",
          "id",
          "id",
          "id",
          "id",
          "id",
          "id",
          "id",
          "id",
          "id",
          "id",
          "id",
          "id",
          "id",
          "id",
          "id",
          "id",
          "id",
          "id",
          "id",
          "id",
          "id",
          "id",
          "id",
          "id",
          "id",
          "id",
          "id",
          "id",
          "id",
          "id",
          "id",
          "id",
          "id",
          "id",
          "id",
          "id",
          "id",
          "id",
          "id",
          "id",
          "id",
          "id",
          "id",
          "id",
          "id",
          "id",
          "id",
          "id",
          "id",
          "id",
          "id",
          "id",
          "id",
          "id",
          "id",
          "id",
          "id",
          "id",
          "id",
          "id",
          "id",
          "id",
          "id",
          "id",
          "id",
          "id",
          "id",
          "id",
          "id",
          "id",
          "id",
          "id",
          "id",
          "id",
          "id",
          "id",
          "id",
          "id",
          "id",
          "id",
          "id",
          "id",
          "id",
          "id",
          "id",
          "id",
          "id",
          "id",
          "id",
          "id",
          "id",
          "id",
          "id",
          "id",
          "id",
          "id",
          "id",
          "id",
          "id",
          "id",
          "id",
          "id",
          "id",
          "id",
          "id",
          "id",
          "id",
          "id",
          "id",
          "id",
          "id",
          "id",
          "id",
          "id",
          "id",
          "id",
          "id",
          "id",
          "id",
          "id",
          "id",
          "id",
          "id",
          "id",
          "id",
          "id",
          "id",
          "id",
          "id",
          "id",
          "id",
          "id",
          "id",
          "id",
          "id",
          "id",
          "id",
          "id",
          "id",
          "id",
          "id",
          "id",
          "id",
          "id",
          "id",
          "id",
          "id",
          "id",
          "id",
          "id",
          "id",
          "id",
          "id",
          "id",
          "id",
          "id",
          "id",
          "id",
          "id",
          "id",
          "id",
          "id",
          "id",
          "id",
          "id",
          "id",
          "id",
          "id",
          "id",
          "id",
          "id",
          "id",
          "id",
          "id",
          "id",
          "id",
          "id",
          "id",
          "id",
          "id",
          "id",
          "id",
          "id",
          "id",
          "id",
          "id",
          "id",
          "id",
          "id",
          "id",
          "id",
          "id",
          "id",
          "id",
          "id",
          "id",
          "id",
          "id",
          "id",
          "id",
          "id",
          "id",
          "id",
          "id",
          "id",
          "id",
          "id",
          "id",
          "id",
          "id",
          "id",
          "id",
          "id",
          "id",
          "id",
          "id",
          "id",
          "id",
          "id",
          "id",
          "id",
          "id",
          "id",
          "id",
          "id",
          "id",
          "id",
          "id",
          "id",
          "id",
          "id",
          "id",
          "id",
          "id",
          "id",
          "id",
          "id",
          "id",
          "id",
          "id",
          "id",
          "id",
          "id",
          "id",
          "id",
          "id",
          "id",
          "id",
          "id",
          "id",
          "id",
          "id",
          "id",
          "id",
          "id",
          "id",
          "id",
          "id",
          "id",
          "id",
          "id",
          "id",
          "id",
          "id",
          "id",
          "id",
          "id",
          "id",
          "id",
          "id",
          "id",
          "id",
          "id",
          "id",
          "id",
          "id",
          "id",
          "id",
          "id",
          "id",
          "id",
          "id",
          "id",
          "id",
          "id",
          "id",
          "id",
          "id",
          "id",
          "id",
          "id",
          "id",
          "id",
          "id",
          "id",
          "id",
          "id",
          "id",
          "id",
          "id",
          "id",
          "id",
          "id",
          "id",
          "id",
          "id",
          "id",
          "id",
          "id",
          "id",
          "id",
          "id",
          "id",
          "id",
          "id",
          "id",
          "id",
          "id",
          "id",
          "id",
          "id",
          "id",
          "id",
          "id",
          "id",
          "id",
          "id",
          "id",
          "id",
          "id",
          "id",
          "id",
          "id",
          "id",
          "id",
          "id",
          "id",
          "id",
          "id",
          "id",
          "id",
          "id",
          "id",
          "id",
          "id",
          "id",
          "id",
          "id",
          "id",
          "id",
          "id",
          "id",
          "id",
          "id",
          "id",
          "id",
          "id",
          "id",
          "id",
          "id",
          "id",
          "id",
          "id",
          "id",
          "id",
          "id",
          "id",
          "id",
          "id",
          "id",
          "id",
          "id",
          "id",
          "id",
          "id",
          "id",
          "id",
          "id",
          "id",
          "id",
          "id",
          "id",
          "id",
          "id",
          "id",
          "id",
          "id",
          "id",
          "id",
          "id",
          "id",
          "id",
          "id",
          "id",
          "id",
          "id",
          "id",
          "id",
          "id",
          "id",
          "id",
          "id",
          "id",
          "id",
          "id",
          "id",
          "id",
          "id",
          "id",
          "id",
          "id",
          "id",
          "id",
          "id",
          "id",
          "id",
          "id",
          "id",
          "id",
          "id",
          "id",
          "id",
          "id",
          "id",
          "id",
          "id",
          "id",
          "id",
          "id",
          "id",
          "id",
          "id",
          "id",
          "id",
          "id",
          "id"
         ],
         "x0": " ",
         "xaxis": "x",
         "y": [
          842302,
          842517,
          84300903,
          84348301,
          84358402,
          843786,
          844359,
          84458202,
          844981,
          84501001,
          845636,
          84610002,
          846226,
          846381,
          84667401,
          84799002,
          848406,
          84862001,
          849014,
          8510426,
          8510653,
          8510824,
          8511133,
          851509,
          852552,
          852631,
          852763,
          852781,
          852973,
          853201,
          853401,
          853612,
          85382601,
          854002,
          854039,
          854253,
          854268,
          854941,
          855133,
          855138,
          855167,
          855563,
          855625,
          856106,
          85638502,
          857010,
          85713702,
          85715,
          857155,
          857156,
          857343,
          857373,
          857374,
          857392,
          857438,
          85759902,
          857637,
          857793,
          857810,
          858477,
          858970,
          858981,
          858986,
          859196,
          85922302,
          859283,
          859464,
          859465,
          859471,
          859487,
          859575,
          859711,
          859717,
          859983,
          8610175,
          8610404,
          8610629,
          8610637,
          8610862,
          8610908,
          861103,
          8611161,
          8611555,
          8611792,
          8612080,
          8612399,
          86135501,
          86135502,
          861597,
          861598,
          861648,
          861799,
          861853,
          862009,
          862028,
          86208,
          86211,
          862261,
          862485,
          862548,
          862717,
          862722,
          862965,
          862980,
          862989,
          863030,
          863031,
          863270,
          86355,
          864018,
          864033,
          86408,
          86409,
          864292,
          864496,
          864685,
          864726,
          864729,
          864877,
          865128,
          865137,
          86517,
          865423,
          865432,
          865468,
          86561,
          866083,
          866203,
          866458,
          866674,
          866714,
          8670,
          86730502,
          867387,
          867739,
          868202,
          868223,
          868682,
          868826,
          868871,
          868999,
          869104,
          869218,
          869224,
          869254,
          869476,
          869691,
          86973701,
          86973702,
          869931,
          871001501,
          871001502,
          8710441,
          87106,
          8711002,
          8711003,
          8711202,
          8711216,
          871122,
          871149,
          8711561,
          8711803,
          871201,
          8712064,
          8712289,
          8712291,
          87127,
          8712729,
          8712766,
          8712853,
          87139402,
          87163,
          87164,
          871641,
          871642,
          872113,
          872608,
          87281702,
          873357,
          873586,
          873592,
          873593,
          873701,
          873843,
          873885,
          874158,
          874217,
          874373,
          874662,
          874839,
          874858,
          875093,
          875099,
          875263,
          87556202,
          875878,
          875938,
          877159,
          877486,
          877500,
          877501,
          877989,
          878796,
          87880,
          87930,
          879523,
          879804,
          879830,
          8810158,
          8810436,
          881046502,
          8810528,
          8810703,
          881094802,
          8810955,
          8810987,
          8811523,
          8811779,
          8811842,
          88119002,
          8812816,
          8812818,
          8812844,
          8812877,
          8813129,
          88143502,
          88147101,
          88147102,
          88147202,
          881861,
          881972,
          88199202,
          88203002,
          88206102,
          882488,
          88249602,
          88299702,
          883263,
          883270,
          88330202,
          88350402,
          883539,
          883852,
          88411702,
          884180,
          884437,
          884448,
          884626,
          88466802,
          884689,
          884948,
          88518501,
          885429,
          8860702,
          886226,
          886452,
          88649001,
          886776,
          887181,
          88725602,
          887549,
          888264,
          888570,
          889403,
          889719,
          88995002,
          8910251,
          8910499,
          8910506,
          8910720,
          8910721,
          8910748,
          8910988,
          8910996,
          8911163,
          8911164,
          8911230,
          8911670,
          8911800,
          8911834,
          8912049,
          8912055,
          89122,
          8912280,
          8912284,
          8912521,
          8912909,
          8913,
          8913049,
          89143601,
          89143602,
          8915,
          891670,
          891703,
          891716,
          891923,
          891936,
          892189,
          892214,
          892399,
          892438,
          892604,
          89263202,
          892657,
          89296,
          893061,
          89344,
          89346,
          893526,
          893548,
          893783,
          89382601,
          89382602,
          893988,
          894047,
          894089,
          894090,
          894326,
          894329,
          894335,
          894604,
          894618,
          894855,
          895100,
          89511501,
          89511502,
          89524,
          895299,
          8953902,
          895633,
          896839,
          896864,
          897132,
          897137,
          897374,
          89742801,
          897604,
          897630,
          897880,
          89812,
          89813,
          898143,
          89827,
          898431,
          89864002,
          898677,
          898678,
          89869,
          898690,
          899147,
          899187,
          899667,
          899987,
          9010018,
          901011,
          9010258,
          9010259,
          901028,
          9010333,
          901034301,
          901034302,
          901041,
          9010598,
          9010872,
          9010877,
          901088,
          9011494,
          9011495,
          9011971,
          9012000,
          9012315,
          9012568,
          9012795,
          901288,
          9013005,
          901303,
          901315,
          9013579,
          9013594,
          9013838,
          901549,
          901836,
          90250,
          90251,
          902727,
          90291,
          902975,
          902976,
          903011,
          90312,
          90317302,
          903483,
          903507,
          903516,
          903554,
          903811,
          90401601,
          90401602,
          904302,
          904357,
          90439701,
          904647,
          904689,
          9047,
          904969,
          904971,
          905189,
          905190,
          90524101,
          905501,
          905502,
          905520,
          905539,
          905557,
          905680,
          905686,
          905978,
          90602302,
          906024,
          906290,
          906539,
          906564,
          906616,
          906878,
          907145,
          907367,
          907409,
          90745,
          90769601,
          90769602,
          907914,
          907915,
          908194,
          908445,
          908469,
          908489,
          908916,
          909220,
          909231,
          909410,
          909411,
          909445,
          90944601,
          909777,
          9110127,
          9110720,
          9110732,
          9110944,
          911150,
          911157302,
          9111596,
          9111805,
          9111843,
          911201,
          911202,
          9112085,
          9112366,
          9112367,
          9112594,
          9112712,
          911296201,
          911296202,
          9113156,
          911320501,
          911320502,
          9113239,
          9113455,
          9113514,
          9113538,
          911366,
          9113778,
          9113816,
          911384,
          9113846,
          911391,
          911408,
          911654,
          911673,
          911685,
          911916,
          912193,
          91227,
          912519,
          912558,
          912600,
          913063,
          913102,
          913505,
          913512,
          913535,
          91376701,
          91376702,
          914062,
          914101,
          914102,
          914333,
          914366,
          914580,
          914769,
          91485,
          914862,
          91504,
          91505,
          915143,
          915186,
          915276,
          91544001,
          91544002,
          915452,
          915460,
          91550,
          915664,
          915691,
          915940,
          91594602,
          916221,
          916799,
          916838,
          917062,
          917080,
          917092,
          91762702,
          91789,
          917896,
          917897,
          91805,
          91813701,
          91813702,
          918192,
          918465,
          91858,
          91903901,
          91903902,
          91930402,
          919537,
          919555,
          91979701,
          919812,
          921092,
          921362,
          921385,
          921386,
          921644,
          922296,
          922297,
          922576,
          922577,
          922840,
          923169,
          923465,
          923748,
          923780,
          924084,
          924342,
          924632,
          924934,
          924964,
          925236,
          925277,
          925291,
          925292,
          925311,
          925622,
          926125,
          926424,
          926682,
          926954,
          927241,
          92751
         ],
         "y0": " ",
         "yaxis": "y"
        }
       ],
       "layout": {
        "boxmode": "group",
        "legend": {
         "tracegroupgap": 0
        },
        "margin": {
         "t": 60
        },
        "template": {
         "data": {
          "bar": [
           {
            "error_x": {
             "color": "#2a3f5f"
            },
            "error_y": {
             "color": "#2a3f5f"
            },
            "marker": {
             "line": {
              "color": "#E5ECF6",
              "width": 0.5
             },
             "pattern": {
              "fillmode": "overlay",
              "size": 10,
              "solidity": 0.2
             }
            },
            "type": "bar"
           }
          ],
          "barpolar": [
           {
            "marker": {
             "line": {
              "color": "#E5ECF6",
              "width": 0.5
             },
             "pattern": {
              "fillmode": "overlay",
              "size": 10,
              "solidity": 0.2
             }
            },
            "type": "barpolar"
           }
          ],
          "carpet": [
           {
            "aaxis": {
             "endlinecolor": "#2a3f5f",
             "gridcolor": "white",
             "linecolor": "white",
             "minorgridcolor": "white",
             "startlinecolor": "#2a3f5f"
            },
            "baxis": {
             "endlinecolor": "#2a3f5f",
             "gridcolor": "white",
             "linecolor": "white",
             "minorgridcolor": "white",
             "startlinecolor": "#2a3f5f"
            },
            "type": "carpet"
           }
          ],
          "choropleth": [
           {
            "colorbar": {
             "outlinewidth": 0,
             "ticks": ""
            },
            "type": "choropleth"
           }
          ],
          "contour": [
           {
            "colorbar": {
             "outlinewidth": 0,
             "ticks": ""
            },
            "colorscale": [
             [
              0,
              "#0d0887"
             ],
             [
              0.1111111111111111,
              "#46039f"
             ],
             [
              0.2222222222222222,
              "#7201a8"
             ],
             [
              0.3333333333333333,
              "#9c179e"
             ],
             [
              0.4444444444444444,
              "#bd3786"
             ],
             [
              0.5555555555555556,
              "#d8576b"
             ],
             [
              0.6666666666666666,
              "#ed7953"
             ],
             [
              0.7777777777777778,
              "#fb9f3a"
             ],
             [
              0.8888888888888888,
              "#fdca26"
             ],
             [
              1,
              "#f0f921"
             ]
            ],
            "type": "contour"
           }
          ],
          "contourcarpet": [
           {
            "colorbar": {
             "outlinewidth": 0,
             "ticks": ""
            },
            "type": "contourcarpet"
           }
          ],
          "heatmap": [
           {
            "colorbar": {
             "outlinewidth": 0,
             "ticks": ""
            },
            "colorscale": [
             [
              0,
              "#0d0887"
             ],
             [
              0.1111111111111111,
              "#46039f"
             ],
             [
              0.2222222222222222,
              "#7201a8"
             ],
             [
              0.3333333333333333,
              "#9c179e"
             ],
             [
              0.4444444444444444,
              "#bd3786"
             ],
             [
              0.5555555555555556,
              "#d8576b"
             ],
             [
              0.6666666666666666,
              "#ed7953"
             ],
             [
              0.7777777777777778,
              "#fb9f3a"
             ],
             [
              0.8888888888888888,
              "#fdca26"
             ],
             [
              1,
              "#f0f921"
             ]
            ],
            "type": "heatmap"
           }
          ],
          "heatmapgl": [
           {
            "colorbar": {
             "outlinewidth": 0,
             "ticks": ""
            },
            "colorscale": [
             [
              0,
              "#0d0887"
             ],
             [
              0.1111111111111111,
              "#46039f"
             ],
             [
              0.2222222222222222,
              "#7201a8"
             ],
             [
              0.3333333333333333,
              "#9c179e"
             ],
             [
              0.4444444444444444,
              "#bd3786"
             ],
             [
              0.5555555555555556,
              "#d8576b"
             ],
             [
              0.6666666666666666,
              "#ed7953"
             ],
             [
              0.7777777777777778,
              "#fb9f3a"
             ],
             [
              0.8888888888888888,
              "#fdca26"
             ],
             [
              1,
              "#f0f921"
             ]
            ],
            "type": "heatmapgl"
           }
          ],
          "histogram": [
           {
            "marker": {
             "pattern": {
              "fillmode": "overlay",
              "size": 10,
              "solidity": 0.2
             }
            },
            "type": "histogram"
           }
          ],
          "histogram2d": [
           {
            "colorbar": {
             "outlinewidth": 0,
             "ticks": ""
            },
            "colorscale": [
             [
              0,
              "#0d0887"
             ],
             [
              0.1111111111111111,
              "#46039f"
             ],
             [
              0.2222222222222222,
              "#7201a8"
             ],
             [
              0.3333333333333333,
              "#9c179e"
             ],
             [
              0.4444444444444444,
              "#bd3786"
             ],
             [
              0.5555555555555556,
              "#d8576b"
             ],
             [
              0.6666666666666666,
              "#ed7953"
             ],
             [
              0.7777777777777778,
              "#fb9f3a"
             ],
             [
              0.8888888888888888,
              "#fdca26"
             ],
             [
              1,
              "#f0f921"
             ]
            ],
            "type": "histogram2d"
           }
          ],
          "histogram2dcontour": [
           {
            "colorbar": {
             "outlinewidth": 0,
             "ticks": ""
            },
            "colorscale": [
             [
              0,
              "#0d0887"
             ],
             [
              0.1111111111111111,
              "#46039f"
             ],
             [
              0.2222222222222222,
              "#7201a8"
             ],
             [
              0.3333333333333333,
              "#9c179e"
             ],
             [
              0.4444444444444444,
              "#bd3786"
             ],
             [
              0.5555555555555556,
              "#d8576b"
             ],
             [
              0.6666666666666666,
              "#ed7953"
             ],
             [
              0.7777777777777778,
              "#fb9f3a"
             ],
             [
              0.8888888888888888,
              "#fdca26"
             ],
             [
              1,
              "#f0f921"
             ]
            ],
            "type": "histogram2dcontour"
           }
          ],
          "mesh3d": [
           {
            "colorbar": {
             "outlinewidth": 0,
             "ticks": ""
            },
            "type": "mesh3d"
           }
          ],
          "parcoords": [
           {
            "line": {
             "colorbar": {
              "outlinewidth": 0,
              "ticks": ""
             }
            },
            "type": "parcoords"
           }
          ],
          "pie": [
           {
            "automargin": true,
            "type": "pie"
           }
          ],
          "scatter": [
           {
            "fillpattern": {
             "fillmode": "overlay",
             "size": 10,
             "solidity": 0.2
            },
            "type": "scatter"
           }
          ],
          "scatter3d": [
           {
            "line": {
             "colorbar": {
              "outlinewidth": 0,
              "ticks": ""
             }
            },
            "marker": {
             "colorbar": {
              "outlinewidth": 0,
              "ticks": ""
             }
            },
            "type": "scatter3d"
           }
          ],
          "scattercarpet": [
           {
            "marker": {
             "colorbar": {
              "outlinewidth": 0,
              "ticks": ""
             }
            },
            "type": "scattercarpet"
           }
          ],
          "scattergeo": [
           {
            "marker": {
             "colorbar": {
              "outlinewidth": 0,
              "ticks": ""
             }
            },
            "type": "scattergeo"
           }
          ],
          "scattergl": [
           {
            "marker": {
             "colorbar": {
              "outlinewidth": 0,
              "ticks": ""
             }
            },
            "type": "scattergl"
           }
          ],
          "scattermapbox": [
           {
            "marker": {
             "colorbar": {
              "outlinewidth": 0,
              "ticks": ""
             }
            },
            "type": "scattermapbox"
           }
          ],
          "scatterpolar": [
           {
            "marker": {
             "colorbar": {
              "outlinewidth": 0,
              "ticks": ""
             }
            },
            "type": "scatterpolar"
           }
          ],
          "scatterpolargl": [
           {
            "marker": {
             "colorbar": {
              "outlinewidth": 0,
              "ticks": ""
             }
            },
            "type": "scatterpolargl"
           }
          ],
          "scatterternary": [
           {
            "marker": {
             "colorbar": {
              "outlinewidth": 0,
              "ticks": ""
             }
            },
            "type": "scatterternary"
           }
          ],
          "surface": [
           {
            "colorbar": {
             "outlinewidth": 0,
             "ticks": ""
            },
            "colorscale": [
             [
              0,
              "#0d0887"
             ],
             [
              0.1111111111111111,
              "#46039f"
             ],
             [
              0.2222222222222222,
              "#7201a8"
             ],
             [
              0.3333333333333333,
              "#9c179e"
             ],
             [
              0.4444444444444444,
              "#bd3786"
             ],
             [
              0.5555555555555556,
              "#d8576b"
             ],
             [
              0.6666666666666666,
              "#ed7953"
             ],
             [
              0.7777777777777778,
              "#fb9f3a"
             ],
             [
              0.8888888888888888,
              "#fdca26"
             ],
             [
              1,
              "#f0f921"
             ]
            ],
            "type": "surface"
           }
          ],
          "table": [
           {
            "cells": {
             "fill": {
              "color": "#EBF0F8"
             },
             "line": {
              "color": "white"
             }
            },
            "header": {
             "fill": {
              "color": "#C8D4E3"
             },
             "line": {
              "color": "white"
             }
            },
            "type": "table"
           }
          ]
         },
         "layout": {
          "annotationdefaults": {
           "arrowcolor": "#2a3f5f",
           "arrowhead": 0,
           "arrowwidth": 1
          },
          "autotypenumbers": "strict",
          "coloraxis": {
           "colorbar": {
            "outlinewidth": 0,
            "ticks": ""
           }
          },
          "colorscale": {
           "diverging": [
            [
             0,
             "#8e0152"
            ],
            [
             0.1,
             "#c51b7d"
            ],
            [
             0.2,
             "#de77ae"
            ],
            [
             0.3,
             "#f1b6da"
            ],
            [
             0.4,
             "#fde0ef"
            ],
            [
             0.5,
             "#f7f7f7"
            ],
            [
             0.6,
             "#e6f5d0"
            ],
            [
             0.7,
             "#b8e186"
            ],
            [
             0.8,
             "#7fbc41"
            ],
            [
             0.9,
             "#4d9221"
            ],
            [
             1,
             "#276419"
            ]
           ],
           "sequential": [
            [
             0,
             "#0d0887"
            ],
            [
             0.1111111111111111,
             "#46039f"
            ],
            [
             0.2222222222222222,
             "#7201a8"
            ],
            [
             0.3333333333333333,
             "#9c179e"
            ],
            [
             0.4444444444444444,
             "#bd3786"
            ],
            [
             0.5555555555555556,
             "#d8576b"
            ],
            [
             0.6666666666666666,
             "#ed7953"
            ],
            [
             0.7777777777777778,
             "#fb9f3a"
            ],
            [
             0.8888888888888888,
             "#fdca26"
            ],
            [
             1,
             "#f0f921"
            ]
           ],
           "sequentialminus": [
            [
             0,
             "#0d0887"
            ],
            [
             0.1111111111111111,
             "#46039f"
            ],
            [
             0.2222222222222222,
             "#7201a8"
            ],
            [
             0.3333333333333333,
             "#9c179e"
            ],
            [
             0.4444444444444444,
             "#bd3786"
            ],
            [
             0.5555555555555556,
             "#d8576b"
            ],
            [
             0.6666666666666666,
             "#ed7953"
            ],
            [
             0.7777777777777778,
             "#fb9f3a"
            ],
            [
             0.8888888888888888,
             "#fdca26"
            ],
            [
             1,
             "#f0f921"
            ]
           ]
          },
          "colorway": [
           "#636efa",
           "#EF553B",
           "#00cc96",
           "#ab63fa",
           "#FFA15A",
           "#19d3f3",
           "#FF6692",
           "#B6E880",
           "#FF97FF",
           "#FECB52"
          ],
          "font": {
           "color": "#2a3f5f"
          },
          "geo": {
           "bgcolor": "white",
           "lakecolor": "white",
           "landcolor": "#E5ECF6",
           "showlakes": true,
           "showland": true,
           "subunitcolor": "white"
          },
          "hoverlabel": {
           "align": "left"
          },
          "hovermode": "closest",
          "mapbox": {
           "style": "light"
          },
          "paper_bgcolor": "white",
          "plot_bgcolor": "#E5ECF6",
          "polar": {
           "angularaxis": {
            "gridcolor": "white",
            "linecolor": "white",
            "ticks": ""
           },
           "bgcolor": "#E5ECF6",
           "radialaxis": {
            "gridcolor": "white",
            "linecolor": "white",
            "ticks": ""
           }
          },
          "scene": {
           "xaxis": {
            "backgroundcolor": "#E5ECF6",
            "gridcolor": "white",
            "gridwidth": 2,
            "linecolor": "white",
            "showbackground": true,
            "ticks": "",
            "zerolinecolor": "white"
           },
           "yaxis": {
            "backgroundcolor": "#E5ECF6",
            "gridcolor": "white",
            "gridwidth": 2,
            "linecolor": "white",
            "showbackground": true,
            "ticks": "",
            "zerolinecolor": "white"
           },
           "zaxis": {
            "backgroundcolor": "#E5ECF6",
            "gridcolor": "white",
            "gridwidth": 2,
            "linecolor": "white",
            "showbackground": true,
            "ticks": "",
            "zerolinecolor": "white"
           }
          },
          "shapedefaults": {
           "line": {
            "color": "#2a3f5f"
           }
          },
          "ternary": {
           "aaxis": {
            "gridcolor": "white",
            "linecolor": "white",
            "ticks": ""
           },
           "baxis": {
            "gridcolor": "white",
            "linecolor": "white",
            "ticks": ""
           },
           "bgcolor": "#E5ECF6",
           "caxis": {
            "gridcolor": "white",
            "linecolor": "white",
            "ticks": ""
           }
          },
          "title": {
           "x": 0.05
          },
          "xaxis": {
           "automargin": true,
           "gridcolor": "white",
           "linecolor": "white",
           "ticks": "",
           "title": {
            "standoff": 15
           },
           "zerolinecolor": "white",
           "zerolinewidth": 2
          },
          "yaxis": {
           "automargin": true,
           "gridcolor": "white",
           "linecolor": "white",
           "ticks": "",
           "title": {
            "standoff": 15
           },
           "zerolinecolor": "white",
           "zerolinewidth": 2
          }
         }
        },
        "xaxis": {
         "anchor": "y",
         "domain": [
          0,
          1
         ],
         "title": {
          "text": "variable"
         }
        },
        "yaxis": {
         "anchor": "x",
         "domain": [
          0,
          1
         ],
         "title": {
          "text": "value"
         }
        }
       }
      }
     },
     "metadata": {},
     "output_type": "display_data"
    }
   ],
   "source": [
    "analise(dados=df['id'])"
   ]
  },
  {
   "cell_type": "code",
   "execution_count": null,
   "metadata": {},
   "outputs": [],
   "source": []
  },
  {
   "cell_type": "code",
   "execution_count": null,
   "metadata": {},
   "outputs": [],
   "source": []
  },
  {
   "cell_type": "code",
   "execution_count": null,
   "metadata": {},
   "outputs": [],
   "source": []
  },
  {
   "cell_type": "code",
   "execution_count": null,
   "metadata": {},
   "outputs": [],
   "source": []
  },
  {
   "cell_type": "code",
   "execution_count": null,
   "metadata": {},
   "outputs": [],
   "source": []
  },
  {
   "cell_type": "code",
   "execution_count": null,
   "metadata": {},
   "outputs": [],
   "source": []
  },
  {
   "cell_type": "code",
   "execution_count": null,
   "metadata": {},
   "outputs": [],
   "source": []
  },
  {
   "cell_type": "code",
   "execution_count": null,
   "metadata": {},
   "outputs": [],
   "source": []
  },
  {
   "cell_type": "code",
   "execution_count": null,
   "metadata": {},
   "outputs": [],
   "source": []
  },
  {
   "cell_type": "code",
   "execution_count": null,
   "metadata": {},
   "outputs": [],
   "source": []
  }
 ],
 "metadata": {
  "kernelspec": {
   "display_name": "Python 3",
   "language": "python",
   "name": "python3"
  },
  "language_info": {
   "codemirror_mode": {
    "name": "ipython",
    "version": 3
   },
   "file_extension": ".py",
   "mimetype": "text/x-python",
   "name": "python",
   "nbconvert_exporter": "python",
   "pygments_lexer": "ipython3",
   "version": "3.10.12"
  }
 },
 "nbformat": 4,
 "nbformat_minor": 2
}
