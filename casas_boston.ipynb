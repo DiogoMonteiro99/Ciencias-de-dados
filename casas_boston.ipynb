{
 "cells": [
  {
   "cell_type": "markdown",
   "metadata": {},
   "source": [
    "                    Importando as biblitecas"
   ]
  },
  {
   "cell_type": "code",
   "execution_count": 26,
   "metadata": {},
   "outputs": [
    {
     "data": {
      "text/html": [
       "<div>\n",
       "<style scoped>\n",
       "    .dataframe tbody tr th:only-of-type {\n",
       "        vertical-align: middle;\n",
       "    }\n",
       "\n",
       "    .dataframe tbody tr th {\n",
       "        vertical-align: top;\n",
       "    }\n",
       "\n",
       "    .dataframe thead th {\n",
       "        text-align: right;\n",
       "    }\n",
       "</style>\n",
       "<table border=\"1\" class=\"dataframe\">\n",
       "  <thead>\n",
       "    <tr style=\"text-align: right;\">\n",
       "      <th></th>\n",
       "      <th>RM</th>\n",
       "      <th>LSTAT</th>\n",
       "      <th>PTRATIO</th>\n",
       "      <th>MEDV</th>\n",
       "    </tr>\n",
       "  </thead>\n",
       "  <tbody>\n",
       "    <tr>\n",
       "      <th>0</th>\n",
       "      <td>6.575</td>\n",
       "      <td>4.98</td>\n",
       "      <td>15.3</td>\n",
       "      <td>504000.0</td>\n",
       "    </tr>\n",
       "    <tr>\n",
       "      <th>1</th>\n",
       "      <td>6.421</td>\n",
       "      <td>9.14</td>\n",
       "      <td>17.8</td>\n",
       "      <td>453600.0</td>\n",
       "    </tr>\n",
       "    <tr>\n",
       "      <th>2</th>\n",
       "      <td>7.185</td>\n",
       "      <td>4.03</td>\n",
       "      <td>17.8</td>\n",
       "      <td>728700.0</td>\n",
       "    </tr>\n",
       "    <tr>\n",
       "      <th>3</th>\n",
       "      <td>6.998</td>\n",
       "      <td>2.94</td>\n",
       "      <td>18.7</td>\n",
       "      <td>701400.0</td>\n",
       "    </tr>\n",
       "    <tr>\n",
       "      <th>4</th>\n",
       "      <td>7.147</td>\n",
       "      <td>5.33</td>\n",
       "      <td>18.7</td>\n",
       "      <td>760200.0</td>\n",
       "    </tr>\n",
       "    <tr>\n",
       "      <th>...</th>\n",
       "      <td>...</td>\n",
       "      <td>...</td>\n",
       "      <td>...</td>\n",
       "      <td>...</td>\n",
       "    </tr>\n",
       "    <tr>\n",
       "      <th>484</th>\n",
       "      <td>6.593</td>\n",
       "      <td>9.67</td>\n",
       "      <td>21.0</td>\n",
       "      <td>470400.0</td>\n",
       "    </tr>\n",
       "    <tr>\n",
       "      <th>485</th>\n",
       "      <td>6.120</td>\n",
       "      <td>9.08</td>\n",
       "      <td>21.0</td>\n",
       "      <td>432600.0</td>\n",
       "    </tr>\n",
       "    <tr>\n",
       "      <th>486</th>\n",
       "      <td>6.976</td>\n",
       "      <td>5.64</td>\n",
       "      <td>21.0</td>\n",
       "      <td>501900.0</td>\n",
       "    </tr>\n",
       "    <tr>\n",
       "      <th>487</th>\n",
       "      <td>6.794</td>\n",
       "      <td>6.48</td>\n",
       "      <td>21.0</td>\n",
       "      <td>462000.0</td>\n",
       "    </tr>\n",
       "    <tr>\n",
       "      <th>488</th>\n",
       "      <td>6.030</td>\n",
       "      <td>7.88</td>\n",
       "      <td>21.0</td>\n",
       "      <td>249900.0</td>\n",
       "    </tr>\n",
       "  </tbody>\n",
       "</table>\n",
       "<p>489 rows × 4 columns</p>\n",
       "</div>"
      ],
      "text/plain": [
       "        RM  LSTAT  PTRATIO      MEDV\n",
       "0    6.575   4.98     15.3  504000.0\n",
       "1    6.421   9.14     17.8  453600.0\n",
       "2    7.185   4.03     17.8  728700.0\n",
       "3    6.998   2.94     18.7  701400.0\n",
       "4    7.147   5.33     18.7  760200.0\n",
       "..     ...    ...      ...       ...\n",
       "484  6.593   9.67     21.0  470400.0\n",
       "485  6.120   9.08     21.0  432600.0\n",
       "486  6.976   5.64     21.0  501900.0\n",
       "487  6.794   6.48     21.0  462000.0\n",
       "488  6.030   7.88     21.0  249900.0\n",
       "\n",
       "[489 rows x 4 columns]"
      ]
     },
     "execution_count": 26,
     "metadata": {},
     "output_type": "execute_result"
    }
   ],
   "source": [
    "import pandas as pd\n",
    "import numpy as np \n",
    "import seaborn as sns\n",
    "import matplotlib.pyplot as plt\n",
    "import plotly.express as px\n",
    "import statistics as sts \n",
    "import warnings\n",
    "from pyod.models.knn import KNN\n",
    "import scipy.stats as stats \n",
    "\n",
    "\n",
    "warnings.filterwarnings('ignore')\n",
    "\n",
    "df = pd.read_csv('housing.csv')\n",
    "\n",
    "df"
   ]
  },
  {
   "cell_type": "markdown",
   "metadata": {},
   "source": [
    "        Entendendo as colunas\n",
    "RM: É o número médio de cômodos entre os imoveis no bairro.\n",
    "\n",
    "LSTAT: É a porcentagem de proprietários no bairro considerados de \"classe baixa\" (proletariado)\n",
    "\n",
    "PTRATIO: É a razão entre estudantes e professores nas escolas de ensino fundamental e médio no bairro.\n",
    "\n",
    "        Coluna alvo\n",
    "MEDV: Valor médio das casas        "
   ]
  },
  {
   "cell_type": "code",
   "execution_count": 27,
   "metadata": {},
   "outputs": [],
   "source": [
    "class Analisar():\n",
    "    def __init__(self,dados):\n",
    "        self.df = dados\n",
    "    def analise(self):\n",
    "        for i in self.df.columns:\n",
    "            if self.df[i].dtype == 'int64' or self.df[i].dtype == 'float64':\n",
    "                print(f'\\n Nome da coluna:\\n {self.df[i].name}')\n",
    "                print(f'\\n Tipo da coluna:\\n {self.df[i].dtype}')\n",
    "                print(f'\\n Valor media da coluna:\\n%.2f%%' %self.df[i].mean())\n",
    "                print(f'\\n Quantidade de linhas da coluna:\\n {self.df[i].shape}')\n",
    "                print(f'\\n Valores unicos da coluna:\\n {self.df[i].isnull().sum()}')\n",
    "                print(f'\\n Valores nulos da coluna:\\n {self.df[i].describe()}')\n",
    "                fig = px.box(self.df[i])\n",
    "                fig.update_layout(xaxis=dict(showgrid=False),yaxis=dict(showgrid=False),title=f'Boxplot da coluna {i}',template='plotly_dark')\n",
    "                fig.show()\n",
    "Analise = Analisar(df)                "
   ]
  },
  {
   "cell_type": "code",
   "execution_count": 28,
   "metadata": {},
   "outputs": [
    {
     "name": "stdout",
     "output_type": "stream",
     "text": [
      "\n",
      " Nome da coluna:\n",
      " RM\n",
      "\n",
      " Tipo da coluna:\n",
      " float64\n",
      "\n",
      " Valor media da coluna:\n",
      "6.24%\n",
      "\n",
      " Quantidade de linhas da coluna:\n",
      " (489,)\n",
      "\n",
      " Valores unicos da coluna:\n",
      " 0\n",
      "\n",
      " Valores nulos da coluna:\n",
      " count    489.000000\n",
      "mean       6.240288\n",
      "std        0.643650\n",
      "min        3.561000\n",
      "25%        5.880000\n",
      "50%        6.185000\n",
      "75%        6.575000\n",
      "max        8.398000\n",
      "Name: RM, dtype: float64\n"
     ]
    },
    {
     "data": {
      "application/vnd.plotly.v1+json": {
       "config": {
        "plotlyServerURL": "https://plot.ly"
       },
       "data": [
        {
         "alignmentgroup": "True",
         "hovertemplate": "variable=%{x}<br>value=%{y}<extra></extra>",
         "legendgroup": "",
         "marker": {
          "color": "#636efa"
         },
         "name": "",
         "notched": false,
         "offsetgroup": "",
         "orientation": "v",
         "showlegend": false,
         "type": "box",
         "x": [
          "RM",
          "RM",
          "RM",
          "RM",
          "RM",
          "RM",
          "RM",
          "RM",
          "RM",
          "RM",
          "RM",
          "RM",
          "RM",
          "RM",
          "RM",
          "RM",
          "RM",
          "RM",
          "RM",
          "RM",
          "RM",
          "RM",
          "RM",
          "RM",
          "RM",
          "RM",
          "RM",
          "RM",
          "RM",
          "RM",
          "RM",
          "RM",
          "RM",
          "RM",
          "RM",
          "RM",
          "RM",
          "RM",
          "RM",
          "RM",
          "RM",
          "RM",
          "RM",
          "RM",
          "RM",
          "RM",
          "RM",
          "RM",
          "RM",
          "RM",
          "RM",
          "RM",
          "RM",
          "RM",
          "RM",
          "RM",
          "RM",
          "RM",
          "RM",
          "RM",
          "RM",
          "RM",
          "RM",
          "RM",
          "RM",
          "RM",
          "RM",
          "RM",
          "RM",
          "RM",
          "RM",
          "RM",
          "RM",
          "RM",
          "RM",
          "RM",
          "RM",
          "RM",
          "RM",
          "RM",
          "RM",
          "RM",
          "RM",
          "RM",
          "RM",
          "RM",
          "RM",
          "RM",
          "RM",
          "RM",
          "RM",
          "RM",
          "RM",
          "RM",
          "RM",
          "RM",
          "RM",
          "RM",
          "RM",
          "RM",
          "RM",
          "RM",
          "RM",
          "RM",
          "RM",
          "RM",
          "RM",
          "RM",
          "RM",
          "RM",
          "RM",
          "RM",
          "RM",
          "RM",
          "RM",
          "RM",
          "RM",
          "RM",
          "RM",
          "RM",
          "RM",
          "RM",
          "RM",
          "RM",
          "RM",
          "RM",
          "RM",
          "RM",
          "RM",
          "RM",
          "RM",
          "RM",
          "RM",
          "RM",
          "RM",
          "RM",
          "RM",
          "RM",
          "RM",
          "RM",
          "RM",
          "RM",
          "RM",
          "RM",
          "RM",
          "RM",
          "RM",
          "RM",
          "RM",
          "RM",
          "RM",
          "RM",
          "RM",
          "RM",
          "RM",
          "RM",
          "RM",
          "RM",
          "RM",
          "RM",
          "RM",
          "RM",
          "RM",
          "RM",
          "RM",
          "RM",
          "RM",
          "RM",
          "RM",
          "RM",
          "RM",
          "RM",
          "RM",
          "RM",
          "RM",
          "RM",
          "RM",
          "RM",
          "RM",
          "RM",
          "RM",
          "RM",
          "RM",
          "RM",
          "RM",
          "RM",
          "RM",
          "RM",
          "RM",
          "RM",
          "RM",
          "RM",
          "RM",
          "RM",
          "RM",
          "RM",
          "RM",
          "RM",
          "RM",
          "RM",
          "RM",
          "RM",
          "RM",
          "RM",
          "RM",
          "RM",
          "RM",
          "RM",
          "RM",
          "RM",
          "RM",
          "RM",
          "RM",
          "RM",
          "RM",
          "RM",
          "RM",
          "RM",
          "RM",
          "RM",
          "RM",
          "RM",
          "RM",
          "RM",
          "RM",
          "RM",
          "RM",
          "RM",
          "RM",
          "RM",
          "RM",
          "RM",
          "RM",
          "RM",
          "RM",
          "RM",
          "RM",
          "RM",
          "RM",
          "RM",
          "RM",
          "RM",
          "RM",
          "RM",
          "RM",
          "RM",
          "RM",
          "RM",
          "RM",
          "RM",
          "RM",
          "RM",
          "RM",
          "RM",
          "RM",
          "RM",
          "RM",
          "RM",
          "RM",
          "RM",
          "RM",
          "RM",
          "RM",
          "RM",
          "RM",
          "RM",
          "RM",
          "RM",
          "RM",
          "RM",
          "RM",
          "RM",
          "RM",
          "RM",
          "RM",
          "RM",
          "RM",
          "RM",
          "RM",
          "RM",
          "RM",
          "RM",
          "RM",
          "RM",
          "RM",
          "RM",
          "RM",
          "RM",
          "RM",
          "RM",
          "RM",
          "RM",
          "RM",
          "RM",
          "RM",
          "RM",
          "RM",
          "RM",
          "RM",
          "RM",
          "RM",
          "RM",
          "RM",
          "RM",
          "RM",
          "RM",
          "RM",
          "RM",
          "RM",
          "RM",
          "RM",
          "RM",
          "RM",
          "RM",
          "RM",
          "RM",
          "RM",
          "RM",
          "RM",
          "RM",
          "RM",
          "RM",
          "RM",
          "RM",
          "RM",
          "RM",
          "RM",
          "RM",
          "RM",
          "RM",
          "RM",
          "RM",
          "RM",
          "RM",
          "RM",
          "RM",
          "RM",
          "RM",
          "RM",
          "RM",
          "RM",
          "RM",
          "RM",
          "RM",
          "RM",
          "RM",
          "RM",
          "RM",
          "RM",
          "RM",
          "RM",
          "RM",
          "RM",
          "RM",
          "RM",
          "RM",
          "RM",
          "RM",
          "RM",
          "RM",
          "RM",
          "RM",
          "RM",
          "RM",
          "RM",
          "RM",
          "RM",
          "RM",
          "RM",
          "RM",
          "RM",
          "RM",
          "RM",
          "RM",
          "RM",
          "RM",
          "RM",
          "RM",
          "RM",
          "RM",
          "RM",
          "RM",
          "RM",
          "RM",
          "RM",
          "RM",
          "RM",
          "RM",
          "RM",
          "RM",
          "RM",
          "RM",
          "RM",
          "RM",
          "RM",
          "RM",
          "RM",
          "RM",
          "RM",
          "RM",
          "RM",
          "RM",
          "RM",
          "RM",
          "RM",
          "RM",
          "RM",
          "RM",
          "RM",
          "RM",
          "RM",
          "RM",
          "RM",
          "RM",
          "RM",
          "RM",
          "RM",
          "RM",
          "RM",
          "RM",
          "RM",
          "RM",
          "RM",
          "RM",
          "RM",
          "RM",
          "RM",
          "RM",
          "RM",
          "RM",
          "RM",
          "RM",
          "RM",
          "RM",
          "RM",
          "RM",
          "RM",
          "RM",
          "RM",
          "RM",
          "RM",
          "RM",
          "RM",
          "RM",
          "RM",
          "RM",
          "RM",
          "RM",
          "RM",
          "RM",
          "RM",
          "RM",
          "RM",
          "RM",
          "RM",
          "RM",
          "RM",
          "RM",
          "RM",
          "RM",
          "RM",
          "RM",
          "RM",
          "RM",
          "RM",
          "RM",
          "RM",
          "RM",
          "RM",
          "RM",
          "RM",
          "RM",
          "RM",
          "RM",
          "RM",
          "RM",
          "RM",
          "RM",
          "RM",
          "RM",
          "RM",
          "RM",
          "RM",
          "RM",
          "RM",
          "RM",
          "RM",
          "RM",
          "RM"
         ],
         "x0": " ",
         "xaxis": "x",
         "y": [
          6.575,
          6.421,
          7.185,
          6.998,
          7.147,
          6.43,
          6.012,
          6.172,
          5.631,
          6.004,
          6.377,
          6.009,
          5.889,
          5.949,
          6.096,
          5.834,
          5.935,
          5.99,
          5.456,
          5.727,
          5.57,
          5.965,
          6.142,
          5.813,
          5.924,
          5.599,
          5.813,
          6.047,
          6.495,
          6.674,
          5.713,
          6.072,
          5.95,
          5.701,
          6.096,
          5.933,
          5.841,
          5.85,
          5.966,
          6.595,
          7.024,
          6.77,
          6.169,
          6.211,
          6.069,
          5.682,
          5.786,
          6.03,
          5.399,
          5.602,
          5.963,
          6.115,
          6.511,
          5.998,
          5.888,
          7.249,
          6.383,
          6.816,
          6.145,
          5.927,
          5.741,
          5.966,
          6.456,
          6.762,
          7.104,
          6.29,
          5.787,
          5.878,
          5.594,
          5.885,
          6.417,
          5.961,
          6.065,
          6.245,
          6.273,
          6.286,
          6.279,
          6.14,
          6.232,
          5.874,
          6.727,
          6.619,
          6.302,
          6.167,
          6.389,
          6.63,
          6.015,
          6.121,
          7.007,
          7.079,
          6.417,
          6.405,
          6.442,
          6.211,
          6.249,
          6.625,
          6.163,
          8.069,
          7.82,
          7.416,
          6.727,
          6.781,
          6.405,
          6.137,
          6.167,
          5.851,
          5.836,
          6.127,
          6.474,
          6.229,
          6.195,
          6.715,
          5.913,
          6.092,
          6.254,
          5.928,
          6.176,
          6.021,
          5.872,
          5.731,
          5.87,
          6.004,
          5.961,
          5.856,
          5.879,
          5.986,
          5.613,
          5.693,
          6.431,
          5.637,
          6.458,
          6.326,
          6.372,
          5.822,
          5.757,
          6.335,
          5.942,
          6.454,
          5.857,
          6.151,
          6.174,
          5.019,
          5.403,
          5.468,
          4.903,
          6.13,
          5.628,
          4.926,
          5.186,
          5.597,
          6.122,
          5.404,
          5.012,
          5.709,
          6.129,
          6.152,
          5.272,
          6.943,
          6.066,
          6.51,
          6.25,
          5.854,
          6.101,
          5.877,
          6.319,
          6.402,
          5.875,
          5.88,
          5.572,
          6.416,
          5.859,
          6.546,
          6.02,
          6.315,
          6.86,
          6.98,
          7.765,
          6.144,
          7.155,
          6.563,
          5.604,
          6.153,
          6.782,
          6.556,
          7.185,
          6.951,
          6.739,
          7.178,
          6.8,
          6.604,
          7.287,
          7.107,
          7.274,
          6.975,
          7.135,
          6.162,
          7.61,
          7.853,
          5.891,
          6.326,
          5.783,
          6.064,
          5.344,
          5.96,
          5.404,
          5.807,
          6.375,
          5.412,
          6.182,
          5.888,
          6.642,
          5.951,
          6.373,
          6.951,
          6.164,
          6.879,
          6.618,
          8.266,
          8.04,
          7.163,
          7.686,
          6.552,
          5.981,
          7.412,
          8.337,
          8.247,
          6.726,
          6.086,
          6.631,
          7.358,
          6.481,
          6.606,
          6.897,
          6.095,
          6.358,
          6.393,
          5.593,
          5.605,
          6.108,
          6.226,
          6.433,
          6.718,
          6.487,
          6.438,
          6.957,
          8.259,
          6.108,
          5.876,
          7.454,
          7.333,
          6.842,
          7.203,
          7.52,
          8.398,
          7.327,
          7.206,
          5.56,
          7.014,
          7.47,
          5.92,
          5.856,
          6.24,
          6.538,
          7.691,
          6.758,
          6.854,
          7.267,
          6.826,
          6.482,
          6.812,
          7.82,
          6.968,
          7.645,
          7.088,
          6.453,
          6.23,
          6.209,
          6.315,
          6.565,
          6.861,
          7.148,
          6.63,
          6.127,
          6.009,
          6.678,
          6.549,
          5.79,
          6.345,
          7.041,
          6.871,
          6.59,
          6.495,
          6.982,
          7.236,
          6.616,
          7.42,
          6.849,
          6.635,
          5.972,
          4.973,
          6.122,
          6.023,
          6.266,
          6.567,
          5.705,
          5.914,
          5.782,
          6.382,
          6.113,
          6.426,
          6.376,
          6.041,
          5.708,
          6.415,
          6.431,
          6.312,
          6.083,
          5.868,
          6.333,
          6.144,
          5.706,
          6.031,
          6.316,
          6.31,
          6.037,
          5.869,
          5.895,
          6.059,
          5.985,
          5.968,
          7.241,
          6.54,
          6.696,
          6.874,
          6.014,
          5.898,
          6.516,
          6.635,
          6.939,
          6.49,
          6.579,
          5.884,
          6.728,
          5.663,
          5.936,
          6.212,
          6.395,
          6.127,
          6.112,
          6.398,
          6.251,
          5.362,
          5.803,
          3.561,
          4.963,
          3.863,
          4.906,
          4.138,
          7.313,
          6.649,
          6.794,
          6.38,
          6.223,
          6.968,
          6.545,
          5.536,
          5.52,
          4.368,
          5.277,
          4.652,
          5,
          4.88,
          5.39,
          5.713,
          6.051,
          5.036,
          6.193,
          5.887,
          6.471,
          6.405,
          5.747,
          5.453,
          5.852,
          5.987,
          6.343,
          6.404,
          5.349,
          5.531,
          5.683,
          4.138,
          5.608,
          5.617,
          6.852,
          5.757,
          6.657,
          4.628,
          5.155,
          4.519,
          6.434,
          6.782,
          5.304,
          5.957,
          6.824,
          6.411,
          6.006,
          5.648,
          6.103,
          5.565,
          5.896,
          5.837,
          6.202,
          6.193,
          6.38,
          6.348,
          6.833,
          6.425,
          6.436,
          6.208,
          6.629,
          6.461,
          6.152,
          5.935,
          5.627,
          5.818,
          6.406,
          6.219,
          6.485,
          5.854,
          6.459,
          6.341,
          6.251,
          6.185,
          6.417,
          6.749,
          6.655,
          6.297,
          7.393,
          6.728,
          6.525,
          5.976,
          5.936,
          6.301,
          6.081,
          6.701,
          6.376,
          6.317,
          6.513,
          6.209,
          5.759,
          5.952,
          6.003,
          5.926,
          5.713,
          6.167,
          6.229,
          6.437,
          6.98,
          5.427,
          6.162,
          6.484,
          5.304,
          6.185,
          6.229,
          6.242,
          6.75,
          7.061,
          5.762,
          5.871,
          6.312,
          6.114,
          5.905,
          5.454,
          5.414,
          5.093,
          5.983,
          5.983,
          5.707,
          5.926,
          5.67,
          5.39,
          5.794,
          6.019,
          5.569,
          6.027,
          6.593,
          6.12,
          6.976,
          6.794,
          6.03
         ],
         "y0": " ",
         "yaxis": "y"
        }
       ],
       "layout": {
        "autosize": true,
        "boxmode": "group",
        "legend": {
         "tracegroupgap": 0
        },
        "margin": {
         "t": 60
        },
        "template": {
         "data": {
          "bar": [
           {
            "error_x": {
             "color": "#f2f5fa"
            },
            "error_y": {
             "color": "#f2f5fa"
            },
            "marker": {
             "line": {
              "color": "rgb(17,17,17)",
              "width": 0.5
             },
             "pattern": {
              "fillmode": "overlay",
              "size": 10,
              "solidity": 0.2
             }
            },
            "type": "bar"
           }
          ],
          "barpolar": [
           {
            "marker": {
             "line": {
              "color": "rgb(17,17,17)",
              "width": 0.5
             },
             "pattern": {
              "fillmode": "overlay",
              "size": 10,
              "solidity": 0.2
             }
            },
            "type": "barpolar"
           }
          ],
          "carpet": [
           {
            "aaxis": {
             "endlinecolor": "#A2B1C6",
             "gridcolor": "#506784",
             "linecolor": "#506784",
             "minorgridcolor": "#506784",
             "startlinecolor": "#A2B1C6"
            },
            "baxis": {
             "endlinecolor": "#A2B1C6",
             "gridcolor": "#506784",
             "linecolor": "#506784",
             "minorgridcolor": "#506784",
             "startlinecolor": "#A2B1C6"
            },
            "type": "carpet"
           }
          ],
          "choropleth": [
           {
            "colorbar": {
             "outlinewidth": 0,
             "ticks": ""
            },
            "type": "choropleth"
           }
          ],
          "contour": [
           {
            "colorbar": {
             "outlinewidth": 0,
             "ticks": ""
            },
            "colorscale": [
             [
              0,
              "#0d0887"
             ],
             [
              0.1111111111111111,
              "#46039f"
             ],
             [
              0.2222222222222222,
              "#7201a8"
             ],
             [
              0.3333333333333333,
              "#9c179e"
             ],
             [
              0.4444444444444444,
              "#bd3786"
             ],
             [
              0.5555555555555556,
              "#d8576b"
             ],
             [
              0.6666666666666666,
              "#ed7953"
             ],
             [
              0.7777777777777778,
              "#fb9f3a"
             ],
             [
              0.8888888888888888,
              "#fdca26"
             ],
             [
              1,
              "#f0f921"
             ]
            ],
            "type": "contour"
           }
          ],
          "contourcarpet": [
           {
            "colorbar": {
             "outlinewidth": 0,
             "ticks": ""
            },
            "type": "contourcarpet"
           }
          ],
          "heatmap": [
           {
            "colorbar": {
             "outlinewidth": 0,
             "ticks": ""
            },
            "colorscale": [
             [
              0,
              "#0d0887"
             ],
             [
              0.1111111111111111,
              "#46039f"
             ],
             [
              0.2222222222222222,
              "#7201a8"
             ],
             [
              0.3333333333333333,
              "#9c179e"
             ],
             [
              0.4444444444444444,
              "#bd3786"
             ],
             [
              0.5555555555555556,
              "#d8576b"
             ],
             [
              0.6666666666666666,
              "#ed7953"
             ],
             [
              0.7777777777777778,
              "#fb9f3a"
             ],
             [
              0.8888888888888888,
              "#fdca26"
             ],
             [
              1,
              "#f0f921"
             ]
            ],
            "type": "heatmap"
           }
          ],
          "heatmapgl": [
           {
            "colorbar": {
             "outlinewidth": 0,
             "ticks": ""
            },
            "colorscale": [
             [
              0,
              "#0d0887"
             ],
             [
              0.1111111111111111,
              "#46039f"
             ],
             [
              0.2222222222222222,
              "#7201a8"
             ],
             [
              0.3333333333333333,
              "#9c179e"
             ],
             [
              0.4444444444444444,
              "#bd3786"
             ],
             [
              0.5555555555555556,
              "#d8576b"
             ],
             [
              0.6666666666666666,
              "#ed7953"
             ],
             [
              0.7777777777777778,
              "#fb9f3a"
             ],
             [
              0.8888888888888888,
              "#fdca26"
             ],
             [
              1,
              "#f0f921"
             ]
            ],
            "type": "heatmapgl"
           }
          ],
          "histogram": [
           {
            "marker": {
             "pattern": {
              "fillmode": "overlay",
              "size": 10,
              "solidity": 0.2
             }
            },
            "type": "histogram"
           }
          ],
          "histogram2d": [
           {
            "colorbar": {
             "outlinewidth": 0,
             "ticks": ""
            },
            "colorscale": [
             [
              0,
              "#0d0887"
             ],
             [
              0.1111111111111111,
              "#46039f"
             ],
             [
              0.2222222222222222,
              "#7201a8"
             ],
             [
              0.3333333333333333,
              "#9c179e"
             ],
             [
              0.4444444444444444,
              "#bd3786"
             ],
             [
              0.5555555555555556,
              "#d8576b"
             ],
             [
              0.6666666666666666,
              "#ed7953"
             ],
             [
              0.7777777777777778,
              "#fb9f3a"
             ],
             [
              0.8888888888888888,
              "#fdca26"
             ],
             [
              1,
              "#f0f921"
             ]
            ],
            "type": "histogram2d"
           }
          ],
          "histogram2dcontour": [
           {
            "colorbar": {
             "outlinewidth": 0,
             "ticks": ""
            },
            "colorscale": [
             [
              0,
              "#0d0887"
             ],
             [
              0.1111111111111111,
              "#46039f"
             ],
             [
              0.2222222222222222,
              "#7201a8"
             ],
             [
              0.3333333333333333,
              "#9c179e"
             ],
             [
              0.4444444444444444,
              "#bd3786"
             ],
             [
              0.5555555555555556,
              "#d8576b"
             ],
             [
              0.6666666666666666,
              "#ed7953"
             ],
             [
              0.7777777777777778,
              "#fb9f3a"
             ],
             [
              0.8888888888888888,
              "#fdca26"
             ],
             [
              1,
              "#f0f921"
             ]
            ],
            "type": "histogram2dcontour"
           }
          ],
          "mesh3d": [
           {
            "colorbar": {
             "outlinewidth": 0,
             "ticks": ""
            },
            "type": "mesh3d"
           }
          ],
          "parcoords": [
           {
            "line": {
             "colorbar": {
              "outlinewidth": 0,
              "ticks": ""
             }
            },
            "type": "parcoords"
           }
          ],
          "pie": [
           {
            "automargin": true,
            "type": "pie"
           }
          ],
          "scatter": [
           {
            "marker": {
             "line": {
              "color": "#283442"
             }
            },
            "type": "scatter"
           }
          ],
          "scatter3d": [
           {
            "line": {
             "colorbar": {
              "outlinewidth": 0,
              "ticks": ""
             }
            },
            "marker": {
             "colorbar": {
              "outlinewidth": 0,
              "ticks": ""
             }
            },
            "type": "scatter3d"
           }
          ],
          "scattercarpet": [
           {
            "marker": {
             "colorbar": {
              "outlinewidth": 0,
              "ticks": ""
             }
            },
            "type": "scattercarpet"
           }
          ],
          "scattergeo": [
           {
            "marker": {
             "colorbar": {
              "outlinewidth": 0,
              "ticks": ""
             }
            },
            "type": "scattergeo"
           }
          ],
          "scattergl": [
           {
            "marker": {
             "line": {
              "color": "#283442"
             }
            },
            "type": "scattergl"
           }
          ],
          "scattermapbox": [
           {
            "marker": {
             "colorbar": {
              "outlinewidth": 0,
              "ticks": ""
             }
            },
            "type": "scattermapbox"
           }
          ],
          "scatterpolar": [
           {
            "marker": {
             "colorbar": {
              "outlinewidth": 0,
              "ticks": ""
             }
            },
            "type": "scatterpolar"
           }
          ],
          "scatterpolargl": [
           {
            "marker": {
             "colorbar": {
              "outlinewidth": 0,
              "ticks": ""
             }
            },
            "type": "scatterpolargl"
           }
          ],
          "scatterternary": [
           {
            "marker": {
             "colorbar": {
              "outlinewidth": 0,
              "ticks": ""
             }
            },
            "type": "scatterternary"
           }
          ],
          "surface": [
           {
            "colorbar": {
             "outlinewidth": 0,
             "ticks": ""
            },
            "colorscale": [
             [
              0,
              "#0d0887"
             ],
             [
              0.1111111111111111,
              "#46039f"
             ],
             [
              0.2222222222222222,
              "#7201a8"
             ],
             [
              0.3333333333333333,
              "#9c179e"
             ],
             [
              0.4444444444444444,
              "#bd3786"
             ],
             [
              0.5555555555555556,
              "#d8576b"
             ],
             [
              0.6666666666666666,
              "#ed7953"
             ],
             [
              0.7777777777777778,
              "#fb9f3a"
             ],
             [
              0.8888888888888888,
              "#fdca26"
             ],
             [
              1,
              "#f0f921"
             ]
            ],
            "type": "surface"
           }
          ],
          "table": [
           {
            "cells": {
             "fill": {
              "color": "#506784"
             },
             "line": {
              "color": "rgb(17,17,17)"
             }
            },
            "header": {
             "fill": {
              "color": "#2a3f5f"
             },
             "line": {
              "color": "rgb(17,17,17)"
             }
            },
            "type": "table"
           }
          ]
         },
         "layout": {
          "annotationdefaults": {
           "arrowcolor": "#f2f5fa",
           "arrowhead": 0,
           "arrowwidth": 1
          },
          "autotypenumbers": "strict",
          "coloraxis": {
           "colorbar": {
            "outlinewidth": 0,
            "ticks": ""
           }
          },
          "colorscale": {
           "diverging": [
            [
             0,
             "#8e0152"
            ],
            [
             0.1,
             "#c51b7d"
            ],
            [
             0.2,
             "#de77ae"
            ],
            [
             0.3,
             "#f1b6da"
            ],
            [
             0.4,
             "#fde0ef"
            ],
            [
             0.5,
             "#f7f7f7"
            ],
            [
             0.6,
             "#e6f5d0"
            ],
            [
             0.7,
             "#b8e186"
            ],
            [
             0.8,
             "#7fbc41"
            ],
            [
             0.9,
             "#4d9221"
            ],
            [
             1,
             "#276419"
            ]
           ],
           "sequential": [
            [
             0,
             "#0d0887"
            ],
            [
             0.1111111111111111,
             "#46039f"
            ],
            [
             0.2222222222222222,
             "#7201a8"
            ],
            [
             0.3333333333333333,
             "#9c179e"
            ],
            [
             0.4444444444444444,
             "#bd3786"
            ],
            [
             0.5555555555555556,
             "#d8576b"
            ],
            [
             0.6666666666666666,
             "#ed7953"
            ],
            [
             0.7777777777777778,
             "#fb9f3a"
            ],
            [
             0.8888888888888888,
             "#fdca26"
            ],
            [
             1,
             "#f0f921"
            ]
           ],
           "sequentialminus": [
            [
             0,
             "#0d0887"
            ],
            [
             0.1111111111111111,
             "#46039f"
            ],
            [
             0.2222222222222222,
             "#7201a8"
            ],
            [
             0.3333333333333333,
             "#9c179e"
            ],
            [
             0.4444444444444444,
             "#bd3786"
            ],
            [
             0.5555555555555556,
             "#d8576b"
            ],
            [
             0.6666666666666666,
             "#ed7953"
            ],
            [
             0.7777777777777778,
             "#fb9f3a"
            ],
            [
             0.8888888888888888,
             "#fdca26"
            ],
            [
             1,
             "#f0f921"
            ]
           ]
          },
          "colorway": [
           "#636efa",
           "#EF553B",
           "#00cc96",
           "#ab63fa",
           "#FFA15A",
           "#19d3f3",
           "#FF6692",
           "#B6E880",
           "#FF97FF",
           "#FECB52"
          ],
          "font": {
           "color": "#f2f5fa"
          },
          "geo": {
           "bgcolor": "rgb(17,17,17)",
           "lakecolor": "rgb(17,17,17)",
           "landcolor": "rgb(17,17,17)",
           "showlakes": true,
           "showland": true,
           "subunitcolor": "#506784"
          },
          "hoverlabel": {
           "align": "left"
          },
          "hovermode": "closest",
          "mapbox": {
           "style": "dark"
          },
          "paper_bgcolor": "rgb(17,17,17)",
          "plot_bgcolor": "rgb(17,17,17)",
          "polar": {
           "angularaxis": {
            "gridcolor": "#506784",
            "linecolor": "#506784",
            "ticks": ""
           },
           "bgcolor": "rgb(17,17,17)",
           "radialaxis": {
            "gridcolor": "#506784",
            "linecolor": "#506784",
            "ticks": ""
           }
          },
          "scene": {
           "xaxis": {
            "backgroundcolor": "rgb(17,17,17)",
            "gridcolor": "#506784",
            "gridwidth": 2,
            "linecolor": "#506784",
            "showbackground": true,
            "ticks": "",
            "zerolinecolor": "#C8D4E3"
           },
           "yaxis": {
            "backgroundcolor": "rgb(17,17,17)",
            "gridcolor": "#506784",
            "gridwidth": 2,
            "linecolor": "#506784",
            "showbackground": true,
            "ticks": "",
            "zerolinecolor": "#C8D4E3"
           },
           "zaxis": {
            "backgroundcolor": "rgb(17,17,17)",
            "gridcolor": "#506784",
            "gridwidth": 2,
            "linecolor": "#506784",
            "showbackground": true,
            "ticks": "",
            "zerolinecolor": "#C8D4E3"
           }
          },
          "shapedefaults": {
           "line": {
            "color": "#f2f5fa"
           }
          },
          "sliderdefaults": {
           "bgcolor": "#C8D4E3",
           "bordercolor": "rgb(17,17,17)",
           "borderwidth": 1,
           "tickwidth": 0
          },
          "ternary": {
           "aaxis": {
            "gridcolor": "#506784",
            "linecolor": "#506784",
            "ticks": ""
           },
           "baxis": {
            "gridcolor": "#506784",
            "linecolor": "#506784",
            "ticks": ""
           },
           "bgcolor": "rgb(17,17,17)",
           "caxis": {
            "gridcolor": "#506784",
            "linecolor": "#506784",
            "ticks": ""
           }
          },
          "title": {
           "x": 0.05
          },
          "updatemenudefaults": {
           "bgcolor": "#506784",
           "borderwidth": 0
          },
          "xaxis": {
           "automargin": true,
           "gridcolor": "#283442",
           "linecolor": "#506784",
           "ticks": "",
           "title": {
            "standoff": 15
           },
           "zerolinecolor": "#283442",
           "zerolinewidth": 2
          },
          "yaxis": {
           "automargin": true,
           "gridcolor": "#283442",
           "linecolor": "#506784",
           "ticks": "",
           "title": {
            "standoff": 15
           },
           "zerolinecolor": "#283442",
           "zerolinewidth": 2
          }
         }
        },
        "title": {
         "text": "Boxplot da coluna RM"
        },
        "xaxis": {
         "anchor": "y",
         "autorange": true,
         "domain": [
          0,
          1
         ],
         "range": [
          -0.5,
          0.5
         ],
         "showgrid": false,
         "title": {
          "text": "variable"
         },
         "type": "category"
        },
        "yaxis": {
         "anchor": "x",
         "autorange": true,
         "domain": [
          0,
          1
         ],
         "range": [
          3.2922777777777776,
          8.666722222222221
         ],
         "showgrid": false,
         "title": {
          "text": "value"
         },
         "type": "linear"
        }
       }
      },
      "image/png": "[encoded data removed]",
      "text/html": [
       "<div>                            <div id=\"0d5676c7-6833-44dd-a34e-9085407f037f\" class=\"plotly-graph-div\" style=\"height:525px; width:100%;\"></div>            <script type=\"text/javascript\">                require([\"plotly\"], function(Plotly) {                    window.PLOTLYENV=window.PLOTLYENV || {};                                    if (document.getElementById(\"0d5676c7-6833-44dd-a34e-9085407f037f\")) {                    Plotly.newPlot(                        \"0d5676c7-6833-44dd-a34e-9085407f037f\",                        [{\"alignmentgroup\":\"True\",\"hovertemplate\":\"variable=%{x}\\u003cbr\\u003evalue=%{y}\\u003cextra\\u003e\\u003c\\u002fextra\\u003e\",\"legendgroup\":\"\",\"marker\":{\"color\":\"#636efa\"},\"name\":\"\",\"notched\":false,\"offsetgroup\":\"\",\"orientation\":\"v\",\"showlegend\":false,\"x\":[\"RM\",\"RM\",\"RM\",\"RM\",\"RM\",\"RM\",\"RM\",\"RM\",\"RM\",\"RM\",\"RM\",\"RM\",\"RM\",\"RM\",\"RM\",\"RM\",\"RM\",\"RM\",\"RM\",\"RM\",\"RM\",\"RM\",\"RM\",\"RM\",\"RM\",\"RM\",\"RM\",\"RM\",\"RM\",\"RM\",\"RM\",\"RM\",\"RM\",\"RM\",\"RM\",\"RM\",\"RM\",\"RM\",\"RM\",\"RM\",\"RM\",\"RM\",\"RM\",\"RM\",\"RM\",\"RM\",\"RM\",\"RM\",\"RM\",\"RM\",\"RM\",\"RM\",\"RM\",\"RM\",\"RM\",\"RM\",\"RM\",\"RM\",\"RM\",\"RM\",\"RM\",\"RM\",\"RM\",\"RM\",\"RM\",\"RM\",\"RM\",\"RM\",\"RM\",\"RM\",\"RM\",\"RM\",\"RM\",\"RM\",\"RM\",\"RM\",\"RM\",\"RM\",\"RM\",\"RM\",\"RM\",\"RM\",\"RM\",\"RM\",\"RM\",\"RM\",\"RM\",\"RM\",\"RM\",\"RM\",\"RM\",\"RM\",\"RM\",\"RM\",\"RM\",\"RM\",\"RM\",\"RM\",\"RM\",\"RM\",\"RM\",\"RM\",\"RM\",\"RM\",\"RM\",\"RM\",\"RM\",\"RM\",\"RM\",\"RM\",\"RM\",\"RM\",\"RM\",\"RM\",\"RM\",\"RM\",\"RM\",\"RM\",\"RM\",\"RM\",\"RM\",\"RM\",\"RM\",\"RM\",\"RM\",\"RM\",\"RM\",\"RM\",\"RM\",\"RM\",\"RM\",\"RM\",\"RM\",\"RM\",\"RM\",\"RM\",\"RM\",\"RM\",\"RM\",\"RM\",\"RM\",\"RM\",\"RM\",\"RM\",\"RM\",\"RM\",\"RM\",\"RM\",\"RM\",\"RM\",\"RM\",\"RM\",\"RM\",\"RM\",\"RM\",\"RM\",\"RM\",\"RM\",\"RM\",\"RM\",\"RM\",\"RM\",\"RM\",\"RM\",\"RM\",\"RM\",\"RM\",\"RM\",\"RM\",\"RM\",\"RM\",\"RM\",\"RM\",\"RM\",\"RM\",\"RM\",\"RM\",\"RM\",\"RM\",\"RM\",\"RM\",\"RM\",\"RM\",\"RM\",\"RM\",\"RM\",\"RM\",\"RM\",\"RM\",\"RM\",\"RM\",\"RM\",\"RM\",\"RM\",\"RM\",\"RM\",\"RM\",\"RM\",\"RM\",\"RM\",\"RM\",\"RM\",\"RM\",\"RM\",\"RM\",\"RM\",\"RM\",\"RM\",\"RM\",\"RM\",\"RM\",\"RM\",\"RM\",\"RM\",\"RM\",\"RM\",\"RM\",\"RM\",\"RM\",\"RM\",\"RM\",\"RM\",\"RM\",\"RM\",\"RM\",\"RM\",\"RM\",\"RM\",\"RM\",\"RM\",\"RM\",\"RM\",\"RM\",\"RM\",\"RM\",\"RM\",\"RM\",\"RM\",\"RM\",\"RM\",\"RM\",\"RM\",\"RM\",\"RM\",\"RM\",\"RM\",\"RM\",\"RM\",\"RM\",\"RM\",\"RM\",\"RM\",\"RM\",\"RM\",\"RM\",\"RM\",\"RM\",\"RM\",\"RM\",\"RM\",\"RM\",\"RM\",\"RM\",\"RM\",\"RM\",\"RM\",\"RM\",\"RM\",\"RM\",\"RM\",\"RM\",\"RM\",\"RM\",\"RM\",\"RM\",\"RM\",\"RM\",\"RM\",\"RM\",\"RM\",\"RM\",\"RM\",\"RM\",\"RM\",\"RM\",\"RM\",\"RM\",\"RM\",\"RM\",\"RM\",\"RM\",\"RM\",\"RM\",\"RM\",\"RM\",\"RM\",\"RM\",\"RM\",\"RM\",\"RM\",\"RM\",\"RM\",\"RM\",\"RM\",\"RM\",\"RM\",\"RM\",\"RM\",\"RM\",\"RM\",\"RM\",\"RM\",\"RM\",\"RM\",\"RM\",\"RM\",\"RM\",\"RM\",\"RM\",\"RM\",\"RM\",\"RM\",\"RM\",\"RM\",\"RM\",\"RM\",\"RM\",\"RM\",\"RM\",\"RM\",\"RM\",\"RM\",\"RM\",\"RM\",\"RM\",\"RM\",\"RM\",\"RM\",\"RM\",\"RM\",\"RM\",\"RM\",\"RM\",\"RM\",\"RM\",\"RM\",\"RM\",\"RM\",\"RM\",\"RM\",\"RM\",\"RM\",\"RM\",\"RM\",\"RM\",\"RM\",\"RM\",\"RM\",\"RM\",\"RM\",\"RM\",\"RM\",\"RM\",\"RM\",\"RM\",\"RM\",\"RM\",\"RM\",\"RM\",\"RM\",\"RM\",\"RM\",\"RM\",\"RM\",\"RM\",\"RM\",\"RM\",\"RM\",\"RM\",\"RM\",\"RM\",\"RM\",\"RM\",\"RM\",\"RM\",\"RM\",\"RM\",\"RM\",\"RM\",\"RM\",\"RM\",\"RM\",\"RM\",\"RM\",\"RM\",\"RM\",\"RM\",\"RM\",\"RM\",\"RM\",\"RM\",\"RM\",\"RM\",\"RM\",\"RM\",\"RM\",\"RM\",\"RM\",\"RM\",\"RM\",\"RM\",\"RM\",\"RM\",\"RM\",\"RM\",\"RM\",\"RM\",\"RM\",\"RM\",\"RM\",\"RM\",\"RM\",\"RM\",\"RM\",\"RM\",\"RM\",\"RM\",\"RM\",\"RM\",\"RM\",\"RM\",\"RM\",\"RM\",\"RM\",\"RM\",\"RM\",\"RM\",\"RM\",\"RM\",\"RM\",\"RM\",\"RM\",\"RM\",\"RM\",\"RM\",\"RM\",\"RM\",\"RM\",\"RM\",\"RM\",\"RM\",\"RM\",\"RM\",\"RM\",\"RM\",\"RM\",\"RM\",\"RM\",\"RM\",\"RM\",\"RM\",\"RM\",\"RM\",\"RM\",\"RM\",\"RM\",\"RM\",\"RM\",\"RM\",\"RM\",\"RM\",\"RM\",\"RM\",\"RM\",\"RM\",\"RM\",\"RM\",\"RM\",\"RM\",\"RM\",\"RM\",\"RM\",\"RM\",\"RM\",\"RM\",\"RM\",\"RM\",\"RM\",\"RM\"],\"x0\":\" \",\"xaxis\":\"x\",\"y\":[6.575,6.421,7.185,6.998,7.147,6.43,6.012,6.172,5.631,6.004,6.377,6.009,5.889,5.949,6.096,5.834,5.935,5.99,5.456,5.727,5.57,5.965,6.142,5.813,5.924,5.599,5.813,6.047,6.495,6.674,5.713,6.072,5.95,5.701,6.096,5.933,5.841,5.85,5.966,6.595,7.024,6.77,6.169,6.211,6.069,5.682,5.786,6.03,5.399,5.602,5.963,6.115,6.511,5.998,5.888,7.249,6.383,6.816,6.145,5.927,5.741,5.966,6.456,6.762,7.104,6.29,5.787,5.878,5.594,5.885,6.417,5.961,6.065,6.245,6.273,6.286,6.279,6.14,6.232,5.874,6.727,6.619,6.302,6.167,6.389,6.63,6.015,6.121,7.007,7.079,6.417,6.405,6.442,6.211,6.249,6.625,6.163,8.069,7.82,7.416,6.727,6.781,6.405,6.137,6.167,5.851,5.836,6.127,6.474,6.229,6.195,6.715,5.913,6.092,6.254,5.928,6.176,6.021,5.872,5.731,5.87,6.004,5.961,5.856,5.879,5.986,5.613,5.693,6.431,5.637,6.458,6.326,6.372,5.822,5.757,6.335,5.942,6.454,5.857,6.151,6.174,5.019,5.403,5.468,4.903,6.13,5.628,4.926,5.186,5.597,6.122,5.404,5.012,5.709,6.129,6.152,5.272,6.943,6.066,6.51,6.25,5.854,6.101,5.877,6.319,6.402,5.875,5.88,5.572,6.416,5.859,6.546,6.02,6.315,6.86,6.98,7.765,6.144,7.155,6.563,5.604,6.153,6.782,6.556,7.185,6.951,6.739,7.178,6.8,6.604,7.287,7.107,7.274,6.975,7.135,6.162,7.61,7.853,5.891,6.326,5.783,6.064,5.344,5.96,5.404,5.807,6.375,5.412,6.182,5.888,6.642,5.951,6.373,6.951,6.164,6.879,6.618,8.266,8.04,7.163,7.686,6.552,5.981,7.412,8.337,8.247,6.726,6.086,6.631,7.358,6.481,6.606,6.897,6.095,6.358,6.393,5.593,5.605,6.108,6.226,6.433,6.718,6.487,6.438,6.957,8.259,6.108,5.876,7.454,7.333,6.842,7.203,7.52,8.398,7.327,7.206,5.56,7.014,7.47,5.92,5.856,6.24,6.538,7.691,6.758,6.854,7.267,6.826,6.482,6.812,7.82,6.968,7.645,7.088,6.453,6.23,6.209,6.315,6.565,6.861,7.148,6.63,6.127,6.009,6.678,6.549,5.79,6.345,7.041,6.871,6.59,6.495,6.982,7.236,6.616,7.42,6.849,6.635,5.972,4.973,6.122,6.023,6.266,6.567,5.705,5.914,5.782,6.382,6.113,6.426,6.376,6.041,5.708,6.415,6.431,6.312,6.083,5.868,6.333,6.144,5.706,6.031,6.316,6.31,6.037,5.869,5.895,6.059,5.985,5.968,7.241,6.54,6.696,6.874,6.014,5.898,6.516,6.635,6.939,6.49,6.579,5.884,6.728,5.663,5.936,6.212,6.395,6.127,6.112,6.398,6.251,5.362,5.803,3.561,4.963,3.863,4.906,4.138,7.313,6.649,6.794,6.38,6.223,6.968,6.545,5.536,5.52,4.368,5.277,4.652,5.0,4.88,5.39,5.713,6.051,5.036,6.193,5.887,6.471,6.405,5.747,5.453,5.852,5.987,6.343,6.404,5.349,5.531,5.683,4.138,5.608,5.617,6.852,5.757,6.657,4.628,5.155,4.519,6.434,6.782,5.304,5.957,6.824,6.411,6.006,5.648,6.103,5.565,5.896,5.837,6.202,6.193,6.38,6.348,6.833,6.425,6.436,6.208,6.629,6.461,6.152,5.935,5.627,5.818,6.406,6.219,6.485,5.854,6.459,6.341,6.251,6.185,6.417,6.749,6.655,6.297,7.393,6.728,6.525,5.976,5.936,6.301,6.081,6.701,6.376,6.317,6.513,6.209,5.759,5.952,6.003,5.926,5.713,6.167,6.229,6.437,6.98,5.427,6.162,6.484,5.304,6.185,6.229,6.242,6.75,7.061,5.762,5.871,6.312,6.114,5.905,5.454,5.414,5.093,5.983,5.983,5.707,5.926,5.67,5.39,5.794,6.019,5.569,6.027,6.593,6.12,6.976,6.794,6.03],\"y0\":\" \",\"yaxis\":\"y\",\"type\":\"box\"}],                        {\"template\":{\"data\":{\"barpolar\":[{\"marker\":{\"line\":{\"color\":\"rgb(17,17,17)\",\"width\":0.5},\"pattern\":{\"fillmode\":\"overlay\",\"size\":10,\"solidity\":0.2}},\"type\":\"barpolar\"}],\"bar\":[{\"error_x\":{\"color\":\"#f2f5fa\"},\"error_y\":{\"color\":\"#f2f5fa\"},\"marker\":{\"line\":{\"color\":\"rgb(17,17,17)\",\"width\":0.5},\"pattern\":{\"fillmode\":\"overlay\",\"size\":10,\"solidity\":0.2}},\"type\":\"bar\"}],\"carpet\":[{\"aaxis\":{\"endlinecolor\":\"#A2B1C6\",\"gridcolor\":\"#506784\",\"linecolor\":\"#506784\",\"minorgridcolor\":\"#506784\",\"startlinecolor\":\"#A2B1C6\"},\"baxis\":{\"endlinecolor\":\"#A2B1C6\",\"gridcolor\":\"#506784\",\"linecolor\":\"#506784\",\"minorgridcolor\":\"#506784\",\"startlinecolor\":\"#A2B1C6\"},\"type\":\"carpet\"}],\"choropleth\":[{\"colorbar\":{\"outlinewidth\":0,\"ticks\":\"\"},\"type\":\"choropleth\"}],\"contourcarpet\":[{\"colorbar\":{\"outlinewidth\":0,\"ticks\":\"\"},\"type\":\"contourcarpet\"}],\"contour\":[{\"colorbar\":{\"outlinewidth\":0,\"ticks\":\"\"},\"colorscale\":[[0.0,\"#0d0887\"],[0.1111111111111111,\"#46039f\"],[0.2222222222222222,\"#7201a8\"],[0.3333333333333333,\"#9c179e\"],[0.4444444444444444,\"#bd3786\"],[0.5555555555555556,\"#d8576b\"],[0.6666666666666666,\"#ed7953\"],[0.7777777777777778,\"#fb9f3a\"],[0.8888888888888888,\"#fdca26\"],[1.0,\"#f0f921\"]],\"type\":\"contour\"}],\"heatmapgl\":[{\"colorbar\":{\"outlinewidth\":0,\"ticks\":\"\"},\"colorscale\":[[0.0,\"#0d0887\"],[0.1111111111111111,\"#46039f\"],[0.2222222222222222,\"#7201a8\"],[0.3333333333333333,\"#9c179e\"],[0.4444444444444444,\"#bd3786\"],[0.5555555555555556,\"#d8576b\"],[0.6666666666666666,\"#ed7953\"],[0.7777777777777778,\"#fb9f3a\"],[0.8888888888888888,\"#fdca26\"],[1.0,\"#f0f921\"]],\"type\":\"heatmapgl\"}],\"heatmap\":[{\"colorbar\":{\"outlinewidth\":0,\"ticks\":\"\"},\"colorscale\":[[0.0,\"#0d0887\"],[0.1111111111111111,\"#46039f\"],[0.2222222222222222,\"#7201a8\"],[0.3333333333333333,\"#9c179e\"],[0.4444444444444444,\"#bd3786\"],[0.5555555555555556,\"#d8576b\"],[0.6666666666666666,\"#ed7953\"],[0.7777777777777778,\"#fb9f3a\"],[0.8888888888888888,\"#fdca26\"],[1.0,\"#f0f921\"]],\"type\":\"heatmap\"}],\"histogram2dcontour\":[{\"colorbar\":{\"outlinewidth\":0,\"ticks\":\"\"},\"colorscale\":[[0.0,\"#0d0887\"],[0.1111111111111111,\"#46039f\"],[0.2222222222222222,\"#7201a8\"],[0.3333333333333333,\"#9c179e\"],[0.4444444444444444,\"#bd3786\"],[0.5555555555555556,\"#d8576b\"],[0.6666666666666666,\"#ed7953\"],[0.7777777777777778,\"#fb9f3a\"],[0.8888888888888888,\"#fdca26\"],[1.0,\"#f0f921\"]],\"type\":\"histogram2dcontour\"}],\"histogram2d\":[{\"colorbar\":{\"outlinewidth\":0,\"ticks\":\"\"},\"colorscale\":[[0.0,\"#0d0887\"],[0.1111111111111111,\"#46039f\"],[0.2222222222222222,\"#7201a8\"],[0.3333333333333333,\"#9c179e\"],[0.4444444444444444,\"#bd3786\"],[0.5555555555555556,\"#d8576b\"],[0.6666666666666666,\"#ed7953\"],[0.7777777777777778,\"#fb9f3a\"],[0.8888888888888888,\"#fdca26\"],[1.0,\"#f0f921\"]],\"type\":\"histogram2d\"}],\"histogram\":[{\"marker\":{\"pattern\":{\"fillmode\":\"overlay\",\"size\":10,\"solidity\":0.2}},\"type\":\"histogram\"}],\"mesh3d\":[{\"colorbar\":{\"outlinewidth\":0,\"ticks\":\"\"},\"type\":\"mesh3d\"}],\"parcoords\":[{\"line\":{\"colorbar\":{\"outlinewidth\":0,\"ticks\":\"\"}},\"type\":\"parcoords\"}],\"pie\":[{\"automargin\":true,\"type\":\"pie\"}],\"scatter3d\":[{\"line\":{\"colorbar\":{\"outlinewidth\":0,\"ticks\":\"\"}},\"marker\":{\"colorbar\":{\"outlinewidth\":0,\"ticks\":\"\"}},\"type\":\"scatter3d\"}],\"scattercarpet\":[{\"marker\":{\"colorbar\":{\"outlinewidth\":0,\"ticks\":\"\"}},\"type\":\"scattercarpet\"}],\"scattergeo\":[{\"marker\":{\"colorbar\":{\"outlinewidth\":0,\"ticks\":\"\"}},\"type\":\"scattergeo\"}],\"scattergl\":[{\"marker\":{\"line\":{\"color\":\"#283442\"}},\"type\":\"scattergl\"}],\"scattermapbox\":[{\"marker\":{\"colorbar\":{\"outlinewidth\":0,\"ticks\":\"\"}},\"type\":\"scattermapbox\"}],\"scatterpolargl\":[{\"marker\":{\"colorbar\":{\"outlinewidth\":0,\"ticks\":\"\"}},\"type\":\"scatterpolargl\"}],\"scatterpolar\":[{\"marker\":{\"colorbar\":{\"outlinewidth\":0,\"ticks\":\"\"}},\"type\":\"scatterpolar\"}],\"scatter\":[{\"marker\":{\"line\":{\"color\":\"#283442\"}},\"type\":\"scatter\"}],\"scatterternary\":[{\"marker\":{\"colorbar\":{\"outlinewidth\":0,\"ticks\":\"\"}},\"type\":\"scatterternary\"}],\"surface\":[{\"colorbar\":{\"outlinewidth\":0,\"ticks\":\"\"},\"colorscale\":[[0.0,\"#0d0887\"],[0.1111111111111111,\"#46039f\"],[0.2222222222222222,\"#7201a8\"],[0.3333333333333333,\"#9c179e\"],[0.4444444444444444,\"#bd3786\"],[0.5555555555555556,\"#d8576b\"],[0.6666666666666666,\"#ed7953\"],[0.7777777777777778,\"#fb9f3a\"],[0.8888888888888888,\"#fdca26\"],[1.0,\"#f0f921\"]],\"type\":\"surface\"}],\"table\":[{\"cells\":{\"fill\":{\"color\":\"#506784\"},\"line\":{\"color\":\"rgb(17,17,17)\"}},\"header\":{\"fill\":{\"color\":\"#2a3f5f\"},\"line\":{\"color\":\"rgb(17,17,17)\"}},\"type\":\"table\"}]},\"layout\":{\"annotationdefaults\":{\"arrowcolor\":\"#f2f5fa\",\"arrowhead\":0,\"arrowwidth\":1},\"autotypenumbers\":\"strict\",\"coloraxis\":{\"colorbar\":{\"outlinewidth\":0,\"ticks\":\"\"}},\"colorscale\":{\"diverging\":[[0,\"#8e0152\"],[0.1,\"#c51b7d\"],[0.2,\"#de77ae\"],[0.3,\"#f1b6da\"],[0.4,\"#fde0ef\"],[0.5,\"#f7f7f7\"],[0.6,\"#e6f5d0\"],[0.7,\"#b8e186\"],[0.8,\"#7fbc41\"],[0.9,\"#4d9221\"],[1,\"#276419\"]],\"sequential\":[[0.0,\"#0d0887\"],[0.1111111111111111,\"#46039f\"],[0.2222222222222222,\"#7201a8\"],[0.3333333333333333,\"#9c179e\"],[0.4444444444444444,\"#bd3786\"],[0.5555555555555556,\"#d8576b\"],[0.6666666666666666,\"#ed7953\"],[0.7777777777777778,\"#fb9f3a\"],[0.8888888888888888,\"#fdca26\"],[1.0,\"#f0f921\"]],\"sequentialminus\":[[0.0,\"#0d0887\"],[0.1111111111111111,\"#46039f\"],[0.2222222222222222,\"#7201a8\"],[0.3333333333333333,\"#9c179e\"],[0.4444444444444444,\"#bd3786\"],[0.5555555555555556,\"#d8576b\"],[0.6666666666666666,\"#ed7953\"],[0.7777777777777778,\"#fb9f3a\"],[0.8888888888888888,\"#fdca26\"],[1.0,\"#f0f921\"]]},\"colorway\":[\"#636efa\",\"#EF553B\",\"#00cc96\",\"#ab63fa\",\"#FFA15A\",\"#19d3f3\",\"#FF6692\",\"#B6E880\",\"#FF97FF\",\"#FECB52\"],\"font\":{\"color\":\"#f2f5fa\"},\"geo\":{\"bgcolor\":\"rgb(17,17,17)\",\"lakecolor\":\"rgb(17,17,17)\",\"landcolor\":\"rgb(17,17,17)\",\"showlakes\":true,\"showland\":true,\"subunitcolor\":\"#506784\"},\"hoverlabel\":{\"align\":\"left\"},\"hovermode\":\"closest\",\"mapbox\":{\"style\":\"dark\"},\"paper_bgcolor\":\"rgb(17,17,17)\",\"plot_bgcolor\":\"rgb(17,17,17)\",\"polar\":{\"angularaxis\":{\"gridcolor\":\"#506784\",\"linecolor\":\"#506784\",\"ticks\":\"\"},\"bgcolor\":\"rgb(17,17,17)\",\"radialaxis\":{\"gridcolor\":\"#506784\",\"linecolor\":\"#506784\",\"ticks\":\"\"}},\"scene\":{\"xaxis\":{\"backgroundcolor\":\"rgb(17,17,17)\",\"gridcolor\":\"#506784\",\"gridwidth\":2,\"linecolor\":\"#506784\",\"showbackground\":true,\"ticks\":\"\",\"zerolinecolor\":\"#C8D4E3\"},\"yaxis\":{\"backgroundcolor\":\"rgb(17,17,17)\",\"gridcolor\":\"#506784\",\"gridwidth\":2,\"linecolor\":\"#506784\",\"showbackground\":true,\"ticks\":\"\",\"zerolinecolor\":\"#C8D4E3\"},\"zaxis\":{\"backgroundcolor\":\"rgb(17,17,17)\",\"gridcolor\":\"#506784\",\"gridwidth\":2,\"linecolor\":\"#506784\",\"showbackground\":true,\"ticks\":\"\",\"zerolinecolor\":\"#C8D4E3\"}},\"shapedefaults\":{\"line\":{\"color\":\"#f2f5fa\"}},\"sliderdefaults\":{\"bgcolor\":\"#C8D4E3\",\"bordercolor\":\"rgb(17,17,17)\",\"borderwidth\":1,\"tickwidth\":0},\"ternary\":{\"aaxis\":{\"gridcolor\":\"#506784\",\"linecolor\":\"#506784\",\"ticks\":\"\"},\"baxis\":{\"gridcolor\":\"#506784\",\"linecolor\":\"#506784\",\"ticks\":\"\"},\"bgcolor\":\"rgb(17,17,17)\",\"caxis\":{\"gridcolor\":\"#506784\",\"linecolor\":\"#506784\",\"ticks\":\"\"}},\"title\":{\"x\":0.05},\"updatemenudefaults\":{\"bgcolor\":\"#506784\",\"borderwidth\":0},\"xaxis\":{\"automargin\":true,\"gridcolor\":\"#283442\",\"linecolor\":\"#506784\",\"ticks\":\"\",\"title\":{\"standoff\":15},\"zerolinecolor\":\"#283442\",\"zerolinewidth\":2},\"yaxis\":{\"automargin\":true,\"gridcolor\":\"#283442\",\"linecolor\":\"#506784\",\"ticks\":\"\",\"title\":{\"standoff\":15},\"zerolinecolor\":\"#283442\",\"zerolinewidth\":2}}},\"xaxis\":{\"anchor\":\"y\",\"domain\":[0.0,1.0],\"title\":{\"text\":\"variable\"},\"showgrid\":false},\"yaxis\":{\"anchor\":\"x\",\"domain\":[0.0,1.0],\"title\":{\"text\":\"value\"},\"showgrid\":false},\"legend\":{\"tracegroupgap\":0},\"margin\":{\"t\":60},\"boxmode\":\"group\",\"title\":{\"text\":\"Boxplot da coluna RM\"}},                        {\"responsive\": true}                    ).then(function(){\n",
       "                            \n",
       "var gd = document.getElementById('0d5676c7-6833-44dd-a34e-9085407f037f');\n",
       "var x = new MutationObserver(function (mutations, observer) {{\n",
       "        var display = window.getComputedStyle(gd).display;\n",
       "        if (!display || display === 'none') {{\n",
       "            console.log([gd, 'removed!']);\n",
       "            Plotly.purge(gd);\n",
       "            observer.disconnect();\n",
       "        }}\n",
       "}});\n",
       "\n",
       "// Listen for the removal of the full notebook cells\n",
       "var notebookContainer = gd.closest('#notebook-container');\n",
       "if (notebookContainer) {{\n",
       "    x.observe(notebookContainer, {childList: true});\n",
       "}}\n",
       "\n",
       "// Listen for the clearing of the current output cell\n",
       "var outputEl = gd.closest('.output');\n",
       "if (outputEl) {{\n",
       "    x.observe(outputEl, {childList: true});\n",
       "}}\n",
       "\n",
       "                        })                };                });            </script>        </div>"
      ]
     },
     "metadata": {},
     "output_type": "display_data"
    },
    {
     "name": "stdout",
     "output_type": "stream",
     "text": [
      "\n",
      " Nome da coluna:\n",
      " LSTAT\n",
      "\n",
      " Tipo da coluna:\n",
      " float64\n",
      "\n",
      " Valor media da coluna:\n",
      "12.94%\n",
      "\n",
      " Quantidade de linhas da coluna:\n",
      " (489,)\n",
      "\n",
      " Valores unicos da coluna:\n",
      " 0\n",
      "\n",
      " Valores nulos da coluna:\n",
      " count    489.000000\n",
      "mean      12.939632\n",
      "std        7.081990\n",
      "min        1.980000\n",
      "25%        7.370000\n",
      "50%       11.690000\n",
      "75%       17.120000\n",
      "max       37.970000\n",
      "Name: LSTAT, dtype: float64\n"
     ]
    },
    {
     "data": {
      "application/vnd.plotly.v1+json": {
       "config": {
        "plotlyServerURL": "https://plot.ly"
       },
       "data": [
        {
         "alignmentgroup": "True",
         "hovertemplate": "variable=%{x}<br>value=%{y}<extra></extra>",
         "legendgroup": "",
         "marker": {
          "color": "#636efa"
         },
         "name": "",
         "notched": false,
         "offsetgroup": "",
         "orientation": "v",
         "showlegend": false,
         "type": "box",
         "x": [
          "LSTAT",
          "LSTAT",
          "LSTAT",
          "LSTAT",
          "LSTAT",
          "LSTAT",
          "LSTAT",
          "LSTAT",
          "LSTAT",
          "LSTAT",
          "LSTAT",
          "LSTAT",
          "LSTAT",
          "LSTAT",
          "LSTAT",
          "LSTAT",
          "LSTAT",
          "LSTAT",
          "LSTAT",
          "LSTAT",
          "LSTAT",
          "LSTAT",
          "LSTAT",
          "LSTAT",
          "LSTAT",
          "LSTAT",
          "LSTAT",
          "LSTAT",
          "LSTAT",
          "LSTAT",
          "LSTAT",
          "LSTAT",
          "LSTAT",
          "LSTAT",
          "LSTAT",
          "LSTAT",
          "LSTAT",
          "LSTAT",
          "LSTAT",
          "LSTAT",
          "LSTAT",
          "LSTAT",
          "LSTAT",
          "LSTAT",
          "LSTAT",
          "LSTAT",
          "LSTAT",
          "LSTAT",
          "LSTAT",
          "LSTAT",
          "LSTAT",
          "LSTAT",
          "LSTAT",
          "LSTAT",
          "LSTAT",
          "LSTAT",
          "LSTAT",
          "LSTAT",
          "LSTAT",
          "LSTAT",
          "LSTAT",
          "LSTAT",
          "LSTAT",
          "LSTAT",
          "LSTAT",
          "LSTAT",
          "LSTAT",
          "LSTAT",
          "LSTAT",
          "LSTAT",
          "LSTAT",
          "LSTAT",
          "LSTAT",
          "LSTAT",
          "LSTAT",
          "LSTAT",
          "LSTAT",
          "LSTAT",
          "LSTAT",
          "LSTAT",
          "LSTAT",
          "LSTAT",
          "LSTAT",
          "LSTAT",
          "LSTAT",
          "LSTAT",
          "LSTAT",
          "LSTAT",
          "LSTAT",
          "LSTAT",
          "LSTAT",
          "LSTAT",
          "LSTAT",
          "LSTAT",
          "LSTAT",
          "LSTAT",
          "LSTAT",
          "LSTAT",
          "LSTAT",
          "LSTAT",
          "LSTAT",
          "LSTAT",
          "LSTAT",
          "LSTAT",
          "LSTAT",
          "LSTAT",
          "LSTAT",
          "LSTAT",
          "LSTAT",
          "LSTAT",
          "LSTAT",
          "LSTAT",
          "LSTAT",
          "LSTAT",
          "LSTAT",
          "LSTAT",
          "LSTAT",
          "LSTAT",
          "LSTAT",
          "LSTAT",
          "LSTAT",
          "LSTAT",
          "LSTAT",
          "LSTAT",
          "LSTAT",
          "LSTAT",
          "LSTAT",
          "LSTAT",
          "LSTAT",
          "LSTAT",
          "LSTAT",
          "LSTAT",
          "LSTAT",
          "LSTAT",
          "LSTAT",
          "LSTAT",
          "LSTAT",
          "LSTAT",
          "LSTAT",
          "LSTAT",
          "LSTAT",
          "LSTAT",
          "LSTAT",
          "LSTAT",
          "LSTAT",
          "LSTAT",
          "LSTAT",
          "LSTAT",
          "LSTAT",
          "LSTAT",
          "LSTAT",
          "LSTAT",
          "LSTAT",
          "LSTAT",
          "LSTAT",
          "LSTAT",
          "LSTAT",
          "LSTAT",
          "LSTAT",
          "LSTAT",
          "LSTAT",
          "LSTAT",
          "LSTAT",
          "LSTAT",
          "LSTAT",
          "LSTAT",
          "LSTAT",
          "LSTAT",
          "LSTAT",
          "LSTAT",
          "LSTAT",
          "LSTAT",
          "LSTAT",
          "LSTAT",
          "LSTAT",
          "LSTAT",
          "LSTAT",
          "LSTAT",
          "LSTAT",
          "LSTAT",
          "LSTAT",
          "LSTAT",
          "LSTAT",
          "LSTAT",
          "LSTAT",
          "LSTAT",
          "LSTAT",
          "LSTAT",
          "LSTAT",
          "LSTAT",
          "LSTAT",
          "LSTAT",
          "LSTAT",
          "LSTAT",
          "LSTAT",
          "LSTAT",
          "LSTAT",
          "LSTAT",
          "LSTAT",
          "LSTAT",
          "LSTAT",
          "LSTAT",
          "LSTAT",
          "LSTAT",
          "LSTAT",
          "LSTAT",
          "LSTAT",
          "LSTAT",
          "LSTAT",
          "LSTAT",
          "LSTAT",
          "LSTAT",
          "LSTAT",
          "LSTAT",
          "LSTAT",
          "LSTAT",
          "LSTAT",
          "LSTAT",
          "LSTAT",
          "LSTAT",
          "LSTAT",
          "LSTAT",
          "LSTAT",
          "LSTAT",
          "LSTAT",
          "LSTAT",
          "LSTAT",
          "LSTAT",
          "LSTAT",
          "LSTAT",
          "LSTAT",
          "LSTAT",
          "LSTAT",
          "LSTAT",
          "LSTAT",
          "LSTAT",
          "LSTAT",
          "LSTAT",
          "LSTAT",
          "LSTAT",
          "LSTAT",
          "LSTAT",
          "LSTAT",
          "LSTAT",
          "LSTAT",
          "LSTAT",
          "LSTAT",
          "LSTAT",
          "LSTAT",
          "LSTAT",
          "LSTAT",
          "LSTAT",
          "LSTAT",
          "LSTAT",
          "LSTAT",
          "LSTAT",
          "LSTAT",
          "LSTAT",
          "LSTAT",
          "LSTAT",
          "LSTAT",
          "LSTAT",
          "LSTAT",
          "LSTAT",
          "LSTAT",
          "LSTAT",
          "LSTAT",
          "LSTAT",
          "LSTAT",
          "LSTAT",
          "LSTAT",
          "LSTAT",
          "LSTAT",
          "LSTAT",
          "LSTAT",
          "LSTAT",
          "LSTAT",
          "LSTAT",
          "LSTAT",
          "LSTAT",
          "LSTAT",
          "LSTAT",
          "LSTAT",
          "LSTAT",
          "LSTAT",
          "LSTAT",
          "LSTAT",
          "LSTAT",
          "LSTAT",
          "LSTAT",
          "LSTAT",
          "LSTAT",
          "LSTAT",
          "LSTAT",
          "LSTAT",
          "LSTAT",
          "LSTAT",
          "LSTAT",
          "LSTAT",
          "LSTAT",
          "LSTAT",
          "LSTAT",
          "LSTAT",
          "LSTAT",
          "LSTAT",
          "LSTAT",
          "LSTAT",
          "LSTAT",
          "LSTAT",
          "LSTAT",
          "LSTAT",
          "LSTAT",
          "LSTAT",
          "LSTAT",
          "LSTAT",
          "LSTAT",
          "LSTAT",
          "LSTAT",
          "LSTAT",
          "LSTAT",
          "LSTAT",
          "LSTAT",
          "LSTAT",
          "LSTAT",
          "LSTAT",
          "LSTAT",
          "LSTAT",
          "LSTAT",
          "LSTAT",
          "LSTAT",
          "LSTAT",
          "LSTAT",
          "LSTAT",
          "LSTAT",
          "LSTAT",
          "LSTAT",
          "LSTAT",
          "LSTAT",
          "LSTAT",
          "LSTAT",
          "LSTAT",
          "LSTAT",
          "LSTAT",
          "LSTAT",
          "LSTAT",
          "LSTAT",
          "LSTAT",
          "LSTAT",
          "LSTAT",
          "LSTAT",
          "LSTAT",
          "LSTAT",
          "LSTAT",
          "LSTAT",
          "LSTAT",
          "LSTAT",
          "LSTAT",
          "LSTAT",
          "LSTAT",
          "LSTAT",
          "LSTAT",
          "LSTAT",
          "LSTAT",
          "LSTAT",
          "LSTAT",
          "LSTAT",
          "LSTAT",
          "LSTAT",
          "LSTAT",
          "LSTAT",
          "LSTAT",
          "LSTAT",
          "LSTAT",
          "LSTAT",
          "LSTAT",
          "LSTAT",
          "LSTAT",
          "LSTAT",
          "LSTAT",
          "LSTAT",
          "LSTAT",
          "LSTAT",
          "LSTAT",
          "LSTAT",
          "LSTAT",
          "LSTAT",
          "LSTAT",
          "LSTAT",
          "LSTAT",
          "LSTAT",
          "LSTAT",
          "LSTAT",
          "LSTAT",
          "LSTAT",
          "LSTAT",
          "LSTAT",
          "LSTAT",
          "LSTAT",
          "LSTAT",
          "LSTAT",
          "LSTAT",
          "LSTAT",
          "LSTAT",
          "LSTAT",
          "LSTAT",
          "LSTAT",
          "LSTAT",
          "LSTAT",
          "LSTAT",
          "LSTAT",
          "LSTAT",
          "LSTAT",
          "LSTAT",
          "LSTAT",
          "LSTAT",
          "LSTAT",
          "LSTAT",
          "LSTAT",
          "LSTAT",
          "LSTAT",
          "LSTAT",
          "LSTAT",
          "LSTAT",
          "LSTAT",
          "LSTAT",
          "LSTAT",
          "LSTAT",
          "LSTAT",
          "LSTAT",
          "LSTAT",
          "LSTAT",
          "LSTAT",
          "LSTAT",
          "LSTAT",
          "LSTAT",
          "LSTAT",
          "LSTAT",
          "LSTAT",
          "LSTAT",
          "LSTAT",
          "LSTAT",
          "LSTAT",
          "LSTAT",
          "LSTAT",
          "LSTAT",
          "LSTAT",
          "LSTAT",
          "LSTAT",
          "LSTAT",
          "LSTAT",
          "LSTAT",
          "LSTAT",
          "LSTAT",
          "LSTAT",
          "LSTAT",
          "LSTAT",
          "LSTAT",
          "LSTAT",
          "LSTAT",
          "LSTAT",
          "LSTAT",
          "LSTAT",
          "LSTAT",
          "LSTAT",
          "LSTAT",
          "LSTAT",
          "LSTAT",
          "LSTAT",
          "LSTAT",
          "LSTAT",
          "LSTAT",
          "LSTAT",
          "LSTAT",
          "LSTAT",
          "LSTAT",
          "LSTAT",
          "LSTAT",
          "LSTAT",
          "LSTAT",
          "LSTAT",
          "LSTAT",
          "LSTAT",
          "LSTAT",
          "LSTAT",
          "LSTAT",
          "LSTAT",
          "LSTAT",
          "LSTAT",
          "LSTAT"
         ],
         "x0": " ",
         "xaxis": "x",
         "y": [
          4.98,
          9.14,
          4.03,
          2.94,
          5.33,
          5.21,
          12.43,
          19.15,
          29.93,
          17.1,
          20.45,
          13.27,
          15.71,
          8.26,
          10.26,
          8.47,
          6.58,
          14.67,
          11.69,
          11.28,
          21.02,
          13.83,
          18.72,
          19.88,
          16.3,
          16.51,
          14.81,
          17.28,
          12.8,
          11.98,
          22.6,
          13.04,
          27.71,
          18.35,
          20.34,
          9.68,
          11.41,
          8.77,
          10.13,
          4.32,
          1.98,
          4.84,
          5.81,
          7.44,
          9.55,
          10.21,
          14.15,
          18.8,
          30.81,
          16.2,
          13.45,
          9.43,
          5.28,
          8.43,
          14.8,
          4.81,
          5.77,
          3.95,
          6.86,
          9.22,
          13.15,
          14.44,
          6.73,
          9.5,
          8.05,
          4.67,
          10.24,
          8.1,
          13.09,
          8.79,
          6.72,
          9.88,
          5.52,
          7.54,
          6.78,
          8.94,
          11.97,
          10.27,
          12.34,
          9.1,
          5.29,
          7.22,
          6.72,
          7.51,
          9.62,
          6.53,
          12.86,
          8.44,
          5.5,
          5.7,
          8.81,
          8.2,
          8.16,
          6.21,
          10.59,
          6.65,
          11.34,
          4.21,
          3.57,
          6.19,
          9.42,
          7.67,
          10.63,
          13.44,
          12.33,
          16.47,
          18.66,
          14.09,
          12.27,
          15.55,
          13,
          10.16,
          16.21,
          17.09,
          10.45,
          15.76,
          12.04,
          10.3,
          15.37,
          13.61,
          14.37,
          14.27,
          17.93,
          25.41,
          17.58,
          14.81,
          27.26,
          17.19,
          15.39,
          18.34,
          12.6,
          12.26,
          11.12,
          15.03,
          17.31,
          16.96,
          16.9,
          14.59,
          21.32,
          18.46,
          24.16,
          34.41,
          26.82,
          26.42,
          29.29,
          27.8,
          16.65,
          29.53,
          28.32,
          21.45,
          14.1,
          13.28,
          12.12,
          15.79,
          15.12,
          15.02,
          16.14,
          4.59,
          6.43,
          7.39,
          5.5,
          11.64,
          9.81,
          12.14,
          11.1,
          11.32,
          14.43,
          12.03,
          14.69,
          9.04,
          9.64,
          5.33,
          10.11,
          6.29,
          6.92,
          5.04,
          7.56,
          9.45,
          4.82,
          5.68,
          13.98,
          13.15,
          6.68,
          4.56,
          5.39,
          5.1,
          4.69,
          2.87,
          5.03,
          4.38,
          4.08,
          8.61,
          6.62,
          4.56,
          4.45,
          7.43,
          3.11,
          3.81,
          10.87,
          10.97,
          18.06,
          14.66,
          23.09,
          17.27,
          23.98,
          16.03,
          9.38,
          29.55,
          9.47,
          13.51,
          9.69,
          17.92,
          10.5,
          9.71,
          21.46,
          9.93,
          7.6,
          4.14,
          3.13,
          6.36,
          3.92,
          3.76,
          11.65,
          5.25,
          2.47,
          3.95,
          8.05,
          10.88,
          9.54,
          4.73,
          6.36,
          7.37,
          11.38,
          12.4,
          11.22,
          5.19,
          12.5,
          18.46,
          9.16,
          10.15,
          9.52,
          6.56,
          5.9,
          3.59,
          3.53,
          3.54,
          6.57,
          9.25,
          3.11,
          7.79,
          6.9,
          9.59,
          7.26,
          5.91,
          11.25,
          8.1,
          10.45,
          14.79,
          3.16,
          13.65,
          13,
          6.59,
          7.73,
          6.58,
          3.53,
          2.98,
          6.05,
          4.16,
          7.19,
          4.85,
          3.76,
          4.59,
          3.01,
          7.85,
          8.23,
          12.93,
          7.14,
          7.6,
          9.51,
          3.33,
          3.56,
          4.7,
          8.58,
          10.4,
          6.27,
          7.39,
          15.84,
          4.97,
          4.74,
          6.07,
          9.5,
          8.67,
          4.86,
          6.93,
          8.93,
          6.47,
          7.53,
          4.54,
          9.97,
          12.64,
          5.98,
          11.72,
          7.9,
          9.28,
          11.5,
          18.33,
          15.94,
          10.36,
          12.73,
          7.2,
          6.87,
          7.7,
          11.74,
          6.12,
          5.08,
          6.15,
          12.79,
          9.97,
          7.34,
          9.09,
          12.43,
          7.83,
          5.68,
          6.75,
          8.01,
          9.8,
          10.56,
          8.51,
          9.74,
          9.29,
          5.49,
          8.65,
          7.18,
          4.61,
          10.53,
          12.67,
          6.36,
          5.99,
          5.89,
          5.98,
          5.49,
          7.79,
          4.5,
          8.05,
          5.57,
          17.6,
          13.27,
          11.48,
          12.67,
          7.79,
          14.19,
          10.19,
          14.64,
          7.12,
          14,
          13.33,
          34.77,
          37.97,
          13.44,
          23.24,
          21.24,
          23.69,
          21.78,
          17.21,
          21.08,
          23.6,
          24.56,
          30.63,
          30.81,
          28.28,
          31.99,
          30.62,
          20.85,
          17.11,
          18.76,
          25.68,
          15.17,
          16.35,
          17.12,
          19.37,
          19.92,
          30.59,
          29.97,
          26.77,
          20.32,
          20.31,
          19.77,
          27.38,
          22.98,
          23.34,
          12.13,
          26.4,
          19.78,
          10.11,
          21.22,
          34.37,
          20.08,
          36.98,
          29.05,
          25.79,
          26.64,
          20.62,
          22.74,
          15.02,
          15.7,
          14.1,
          23.29,
          17.16,
          24.39,
          15.69,
          14.52,
          21.52,
          24.08,
          17.64,
          19.69,
          12.03,
          16.22,
          15.17,
          23.27,
          18.05,
          26.45,
          34.02,
          22.88,
          22.11,
          19.52,
          16.59,
          18.85,
          23.79,
          23.98,
          17.79,
          16.44,
          18.13,
          19.31,
          17.44,
          17.73,
          17.27,
          16.74,
          18.71,
          18.13,
          19.01,
          16.94,
          16.23,
          14.7,
          16.42,
          14.65,
          13.99,
          10.29,
          13.22,
          14.13,
          17.15,
          21.32,
          18.13,
          14.76,
          16.29,
          12.87,
          14.36,
          11.66,
          18.14,
          24.1,
          18.68,
          24.91,
          18.03,
          13.11,
          10.74,
          7.74,
          7.01,
          10.42,
          13.34,
          10.58,
          14.98,
          11.45,
          18.06,
          23.97,
          29.68,
          18.07,
          13.35,
          12.01,
          13.59,
          17.6,
          21.14,
          14.1,
          12.92,
          15.1,
          14.33,
          9.67,
          9.08,
          5.64,
          6.48,
          7.88
         ],
         "y0": " ",
         "yaxis": "y"
        }
       ],
       "layout": {
        "autosize": true,
        "boxmode": "group",
        "legend": {
         "tracegroupgap": 0
        },
        "margin": {
         "t": 60
        },
        "template": {
         "data": {
          "bar": [
           {
            "error_x": {
             "color": "#f2f5fa"
            },
            "error_y": {
             "color": "#f2f5fa"
            },
            "marker": {
             "line": {
              "color": "rgb(17,17,17)",
              "width": 0.5
             },
             "pattern": {
              "fillmode": "overlay",
              "size": 10,
              "solidity": 0.2
             }
            },
            "type": "bar"
           }
          ],
          "barpolar": [
           {
            "marker": {
             "line": {
              "color": "rgb(17,17,17)",
              "width": 0.5
             },
             "pattern": {
              "fillmode": "overlay",
              "size": 10,
              "solidity": 0.2
             }
            },
            "type": "barpolar"
           }
          ],
          "carpet": [
           {
            "aaxis": {
             "endlinecolor": "#A2B1C6",
             "gridcolor": "#506784",
             "linecolor": "#506784",
             "minorgridcolor": "#506784",
             "startlinecolor": "#A2B1C6"
            },
            "baxis": {
             "endlinecolor": "#A2B1C6",
             "gridcolor": "#506784",
             "linecolor": "#506784",
             "minorgridcolor": "#506784",
             "startlinecolor": "#A2B1C6"
            },
            "type": "carpet"
           }
          ],
          "choropleth": [
           {
            "colorbar": {
             "outlinewidth": 0,
             "ticks": ""
            },
            "type": "choropleth"
           }
          ],
          "contour": [
           {
            "colorbar": {
             "outlinewidth": 0,
             "ticks": ""
            },
            "colorscale": [
             [
              0,
              "#0d0887"
             ],
             [
              0.1111111111111111,
              "#46039f"
             ],
             [
              0.2222222222222222,
              "#7201a8"
             ],
             [
              0.3333333333333333,
              "#9c179e"
             ],
             [
              0.4444444444444444,
              "#bd3786"
             ],
             [
              0.5555555555555556,
              "#d8576b"
             ],
             [
              0.6666666666666666,
              "#ed7953"
             ],
             [
              0.7777777777777778,
              "#fb9f3a"
             ],
             [
              0.8888888888888888,
              "#fdca26"
             ],
             [
              1,
              "#f0f921"
             ]
            ],
            "type": "contour"
           }
          ],
          "contourcarpet": [
           {
            "colorbar": {
             "outlinewidth": 0,
             "ticks": ""
            },
            "type": "contourcarpet"
           }
          ],
          "heatmap": [
           {
            "colorbar": {
             "outlinewidth": 0,
             "ticks": ""
            },
            "colorscale": [
             [
              0,
              "#0d0887"
             ],
             [
              0.1111111111111111,
              "#46039f"
             ],
             [
              0.2222222222222222,
              "#7201a8"
             ],
             [
              0.3333333333333333,
              "#9c179e"
             ],
             [
              0.4444444444444444,
              "#bd3786"
             ],
             [
              0.5555555555555556,
              "#d8576b"
             ],
             [
              0.6666666666666666,
              "#ed7953"
             ],
             [
              0.7777777777777778,
              "#fb9f3a"
             ],
             [
              0.8888888888888888,
              "#fdca26"
             ],
             [
              1,
              "#f0f921"
             ]
            ],
            "type": "heatmap"
           }
          ],
          "heatmapgl": [
           {
            "colorbar": {
             "outlinewidth": 0,
             "ticks": ""
            },
            "colorscale": [
             [
              0,
              "#0d0887"
             ],
             [
              0.1111111111111111,
              "#46039f"
             ],
             [
              0.2222222222222222,
              "#7201a8"
             ],
             [
              0.3333333333333333,
              "#9c179e"
             ],
             [
              0.4444444444444444,
              "#bd3786"
             ],
             [
              0.5555555555555556,
              "#d8576b"
             ],
             [
              0.6666666666666666,
              "#ed7953"
             ],
             [
              0.7777777777777778,
              "#fb9f3a"
             ],
             [
              0.8888888888888888,
              "#fdca26"
             ],
             [
              1,
              "#f0f921"
             ]
            ],
            "type": "heatmapgl"
           }
          ],
          "histogram": [
           {
            "marker": {
             "pattern": {
              "fillmode": "overlay",
              "size": 10,
              "solidity": 0.2
             }
            },
            "type": "histogram"
           }
          ],
          "histogram2d": [
           {
            "colorbar": {
             "outlinewidth": 0,
             "ticks": ""
            },
            "colorscale": [
             [
              0,
              "#0d0887"
             ],
             [
              0.1111111111111111,
              "#46039f"
             ],
             [
              0.2222222222222222,
              "#7201a8"
             ],
             [
              0.3333333333333333,
              "#9c179e"
             ],
             [
              0.4444444444444444,
              "#bd3786"
             ],
             [
              0.5555555555555556,
              "#d8576b"
             ],
             [
              0.6666666666666666,
              "#ed7953"
             ],
             [
              0.7777777777777778,
              "#fb9f3a"
             ],
             [
              0.8888888888888888,
              "#fdca26"
             ],
             [
              1,
              "#f0f921"
             ]
            ],
            "type": "histogram2d"
           }
          ],
          "histogram2dcontour": [
           {
            "colorbar": {
             "outlinewidth": 0,
             "ticks": ""
            },
            "colorscale": [
             [
              0,
              "#0d0887"
             ],
             [
              0.1111111111111111,
              "#46039f"
             ],
             [
              0.2222222222222222,
              "#7201a8"
             ],
             [
              0.3333333333333333,
              "#9c179e"
             ],
             [
              0.4444444444444444,
              "#bd3786"
             ],
             [
              0.5555555555555556,
              "#d8576b"
             ],
             [
              0.6666666666666666,
              "#ed7953"
             ],
             [
              0.7777777777777778,
              "#fb9f3a"
             ],
             [
              0.8888888888888888,
              "#fdca26"
             ],
             [
              1,
              "#f0f921"
             ]
            ],
            "type": "histogram2dcontour"
           }
          ],
          "mesh3d": [
           {
            "colorbar": {
             "outlinewidth": 0,
             "ticks": ""
            },
            "type": "mesh3d"
           }
          ],
          "parcoords": [
           {
            "line": {
             "colorbar": {
              "outlinewidth": 0,
              "ticks": ""
             }
            },
            "type": "parcoords"
           }
          ],
          "pie": [
           {
            "automargin": true,
            "type": "pie"
           }
          ],
          "scatter": [
           {
            "marker": {
             "line": {
              "color": "#283442"
             }
            },
            "type": "scatter"
           }
          ],
          "scatter3d": [
           {
            "line": {
             "colorbar": {
              "outlinewidth": 0,
              "ticks": ""
             }
            },
            "marker": {
             "colorbar": {
              "outlinewidth": 0,
              "ticks": ""
             }
            },
            "type": "scatter3d"
           }
          ],
          "scattercarpet": [
           {
            "marker": {
             "colorbar": {
              "outlinewidth": 0,
              "ticks": ""
             }
            },
            "type": "scattercarpet"
           }
          ],
          "scattergeo": [
           {
            "marker": {
             "colorbar": {
              "outlinewidth": 0,
              "ticks": ""
             }
            },
            "type": "scattergeo"
           }
          ],
          "scattergl": [
           {
            "marker": {
             "line": {
              "color": "#283442"
             }
            },
            "type": "scattergl"
           }
          ],
          "scattermapbox": [
           {
            "marker": {
             "colorbar": {
              "outlinewidth": 0,
              "ticks": ""
             }
            },
            "type": "scattermapbox"
           }
          ],
          "scatterpolar": [
           {
            "marker": {
             "colorbar": {
              "outlinewidth": 0,
              "ticks": ""
             }
            },
            "type": "scatterpolar"
           }
          ],
          "scatterpolargl": [
           {
            "marker": {
             "colorbar": {
              "outlinewidth": 0,
              "ticks": ""
             }
            },
            "type": "scatterpolargl"
           }
          ],
          "scatterternary": [
           {
            "marker": {
             "colorbar": {
              "outlinewidth": 0,
              "ticks": ""
             }
            },
            "type": "scatterternary"
           }
          ],
          "surface": [
           {
            "colorbar": {
             "outlinewidth": 0,
             "ticks": ""
            },
            "colorscale": [
             [
              0,
              "#0d0887"
             ],
             [
              0.1111111111111111,
              "#46039f"
             ],
             [
              0.2222222222222222,
              "#7201a8"
             ],
             [
              0.3333333333333333,
              "#9c179e"
             ],
             [
              0.4444444444444444,
              "#bd3786"
             ],
             [
              0.5555555555555556,
              "#d8576b"
             ],
             [
              0.6666666666666666,
              "#ed7953"
             ],
             [
              0.7777777777777778,
              "#fb9f3a"
             ],
             [
              0.8888888888888888,
              "#fdca26"
             ],
             [
              1,
              "#f0f921"
             ]
            ],
            "type": "surface"
           }
          ],
          "table": [
           {
            "cells": {
             "fill": {
              "color": "#506784"
             },
             "line": {
              "color": "rgb(17,17,17)"
             }
            },
            "header": {
             "fill": {
              "color": "#2a3f5f"
             },
             "line": {
              "color": "rgb(17,17,17)"
             }
            },
            "type": "table"
           }
          ]
         },
         "layout": {
          "annotationdefaults": {
           "arrowcolor": "#f2f5fa",
           "arrowhead": 0,
           "arrowwidth": 1
          },
          "autotypenumbers": "strict",
          "coloraxis": {
           "colorbar": {
            "outlinewidth": 0,
            "ticks": ""
           }
          },
          "colorscale": {
           "diverging": [
            [
             0,
             "#8e0152"
            ],
            [
             0.1,
             "#c51b7d"
            ],
            [
             0.2,
             "#de77ae"
            ],
            [
             0.3,
             "#f1b6da"
            ],
            [
             0.4,
             "#fde0ef"
            ],
            [
             0.5,
             "#f7f7f7"
            ],
            [
             0.6,
             "#e6f5d0"
            ],
            [
             0.7,
             "#b8e186"
            ],
            [
             0.8,
             "#7fbc41"
            ],
            [
             0.9,
             "#4d9221"
            ],
            [
             1,
             "#276419"
            ]
           ],
           "sequential": [
            [
             0,
             "#0d0887"
            ],
            [
             0.1111111111111111,
             "#46039f"
            ],
            [
             0.2222222222222222,
             "#7201a8"
            ],
            [
             0.3333333333333333,
             "#9c179e"
            ],
            [
             0.4444444444444444,
             "#bd3786"
            ],
            [
             0.5555555555555556,
             "#d8576b"
            ],
            [
             0.6666666666666666,
             "#ed7953"
            ],
            [
             0.7777777777777778,
             "#fb9f3a"
            ],
            [
             0.8888888888888888,
             "#fdca26"
            ],
            [
             1,
             "#f0f921"
            ]
           ],
           "sequentialminus": [
            [
             0,
             "#0d0887"
            ],
            [
             0.1111111111111111,
             "#46039f"
            ],
            [
             0.2222222222222222,
             "#7201a8"
            ],
            [
             0.3333333333333333,
             "#9c179e"
            ],
            [
             0.4444444444444444,
             "#bd3786"
            ],
            [
             0.5555555555555556,
             "#d8576b"
            ],
            [
             0.6666666666666666,
             "#ed7953"
            ],
            [
             0.7777777777777778,
             "#fb9f3a"
            ],
            [
             0.8888888888888888,
             "#fdca26"
            ],
            [
             1,
             "#f0f921"
            ]
           ]
          },
          "colorway": [
           "#636efa",
           "#EF553B",
           "#00cc96",
           "#ab63fa",
           "#FFA15A",
           "#19d3f3",
           "#FF6692",
           "#B6E880",
           "#FF97FF",
           "#FECB52"
          ],
          "font": {
           "color": "#f2f5fa"
          },
          "geo": {
           "bgcolor": "rgb(17,17,17)",
           "lakecolor": "rgb(17,17,17)",
           "landcolor": "rgb(17,17,17)",
           "showlakes": true,
           "showland": true,
           "subunitcolor": "#506784"
          },
          "hoverlabel": {
           "align": "left"
          },
          "hovermode": "closest",
          "mapbox": {
           "style": "dark"
          },
          "paper_bgcolor": "rgb(17,17,17)",
          "plot_bgcolor": "rgb(17,17,17)",
          "polar": {
           "angularaxis": {
            "gridcolor": "#506784",
            "linecolor": "#506784",
            "ticks": ""
           },
           "bgcolor": "rgb(17,17,17)",
           "radialaxis": {
            "gridcolor": "#506784",
            "linecolor": "#506784",
            "ticks": ""
           }
          },
          "scene": {
           "xaxis": {
            "backgroundcolor": "rgb(17,17,17)",
            "gridcolor": "#506784",
            "gridwidth": 2,
            "linecolor": "#506784",
            "showbackground": true,
            "ticks": "",
            "zerolinecolor": "#C8D4E3"
           },
           "yaxis": {
            "backgroundcolor": "rgb(17,17,17)",
            "gridcolor": "#506784",
            "gridwidth": 2,
            "linecolor": "#506784",
            "showbackground": true,
            "ticks": "",
            "zerolinecolor": "#C8D4E3"
           },
           "zaxis": {
            "backgroundcolor": "rgb(17,17,17)",
            "gridcolor": "#506784",
            "gridwidth": 2,
            "linecolor": "#506784",
            "showbackground": true,
            "ticks": "",
            "zerolinecolor": "#C8D4E3"
           }
          },
          "shapedefaults": {
           "line": {
            "color": "#f2f5fa"
           }
          },
          "sliderdefaults": {
           "bgcolor": "#C8D4E3",
           "bordercolor": "rgb(17,17,17)",
           "borderwidth": 1,
           "tickwidth": 0
          },
          "ternary": {
           "aaxis": {
            "gridcolor": "#506784",
            "linecolor": "#506784",
            "ticks": ""
           },
           "baxis": {
            "gridcolor": "#506784",
            "linecolor": "#506784",
            "ticks": ""
           },
           "bgcolor": "rgb(17,17,17)",
           "caxis": {
            "gridcolor": "#506784",
            "linecolor": "#506784",
            "ticks": ""
           }
          },
          "title": {
           "x": 0.05
          },
          "updatemenudefaults": {
           "bgcolor": "#506784",
           "borderwidth": 0
          },
          "xaxis": {
           "automargin": true,
           "gridcolor": "#283442",
           "linecolor": "#506784",
           "ticks": "",
           "title": {
            "standoff": 15
           },
           "zerolinecolor": "#283442",
           "zerolinewidth": 2
          },
          "yaxis": {
           "automargin": true,
           "gridcolor": "#283442",
           "linecolor": "#506784",
           "ticks": "",
           "title": {
            "standoff": 15
           },
           "zerolinecolor": "#283442",
           "zerolinewidth": 2
          }
         }
        },
        "title": {
         "text": "Boxplot da coluna LSTAT"
        },
        "xaxis": {
         "anchor": "y",
         "autorange": true,
         "domain": [
          0,
          1
         ],
         "range": [
          -0.5,
          0.5
         ],
         "showgrid": false,
         "title": {
          "text": "variable"
         },
         "type": "category"
        },
        "yaxis": {
         "anchor": "x",
         "autorange": true,
         "domain": [
          0,
          1
         ],
         "range": [
          -0.019444444444444597,
          39.96944444444444
         ],
         "showgrid": false,
         "title": {
          "text": "value"
         },
         "type": "linear"
        }
       }
      },
      "image/png": "[encoded data removed]",
      "text/html": [
       "<div>                            <div id=\"3d28678c-304a-4745-a34f-8d4d3dae3e9b\" class=\"plotly-graph-div\" style=\"height:525px; width:100%;\"></div>            <script type=\"text/javascript\">                require([\"plotly\"], function(Plotly) {                    window.PLOTLYENV=window.PLOTLYENV || {};                                    if (document.getElementById(\"3d28678c-304a-4745-a34f-8d4d3dae3e9b\")) {                    Plotly.newPlot(                        \"3d28678c-304a-4745-a34f-8d4d3dae3e9b\",                        [{\"alignmentgroup\":\"True\",\"hovertemplate\":\"variable=%{x}\\u003cbr\\u003evalue=%{y}\\u003cextra\\u003e\\u003c\\u002fextra\\u003e\",\"legendgroup\":\"\",\"marker\":{\"color\":\"#636efa\"},\"name\":\"\",\"notched\":false,\"offsetgroup\":\"\",\"orientation\":\"v\",\"showlegend\":false,\"x\":[\"LSTAT\",\"LSTAT\",\"LSTAT\",\"LSTAT\",\"LSTAT\",\"LSTAT\",\"LSTAT\",\"LSTAT\",\"LSTAT\",\"LSTAT\",\"LSTAT\",\"LSTAT\",\"LSTAT\",\"LSTAT\",\"LSTAT\",\"LSTAT\",\"LSTAT\",\"LSTAT\",\"LSTAT\",\"LSTAT\",\"LSTAT\",\"LSTAT\",\"LSTAT\",\"LSTAT\",\"LSTAT\",\"LSTAT\",\"LSTAT\",\"LSTAT\",\"LSTAT\",\"LSTAT\",\"LSTAT\",\"LSTAT\",\"LSTAT\",\"LSTAT\",\"LSTAT\",\"LSTAT\",\"LSTAT\",\"LSTAT\",\"LSTAT\",\"LSTAT\",\"LSTAT\",\"LSTAT\",\"LSTAT\",\"LSTAT\",\"LSTAT\",\"LSTAT\",\"LSTAT\",\"LSTAT\",\"LSTAT\",\"LSTAT\",\"LSTAT\",\"LSTAT\",\"LSTAT\",\"LSTAT\",\"LSTAT\",\"LSTAT\",\"LSTAT\",\"LSTAT\",\"LSTAT\",\"LSTAT\",\"LSTAT\",\"LSTAT\",\"LSTAT\",\"LSTAT\",\"LSTAT\",\"LSTAT\",\"LSTAT\",\"LSTAT\",\"LSTAT\",\"LSTAT\",\"LSTAT\",\"LSTAT\",\"LSTAT\",\"LSTAT\",\"LSTAT\",\"LSTAT\",\"LSTAT\",\"LSTAT\",\"LSTAT\",\"LSTAT\",\"LSTAT\",\"LSTAT\",\"LSTAT\",\"LSTAT\",\"LSTAT\",\"LSTAT\",\"LSTAT\",\"LSTAT\",\"LSTAT\",\"LSTAT\",\"LSTAT\",\"LSTAT\",\"LSTAT\",\"LSTAT\",\"LSTAT\",\"LSTAT\",\"LSTAT\",\"LSTAT\",\"LSTAT\",\"LSTAT\",\"LSTAT\",\"LSTAT\",\"LSTAT\",\"LSTAT\",\"LSTAT\",\"LSTAT\",\"LSTAT\",\"LSTAT\",\"LSTAT\",\"LSTAT\",\"LSTAT\",\"LSTAT\",\"LSTAT\",\"LSTAT\",\"LSTAT\",\"LSTAT\",\"LSTAT\",\"LSTAT\",\"LSTAT\",\"LSTAT\",\"LSTAT\",\"LSTAT\",\"LSTAT\",\"LSTAT\",\"LSTAT\",\"LSTAT\",\"LSTAT\",\"LSTAT\",\"LSTAT\",\"LSTAT\",\"LSTAT\",\"LSTAT\",\"LSTAT\",\"LSTAT\",\"LSTAT\",\"LSTAT\",\"LSTAT\",\"LSTAT\",\"LSTAT\",\"LSTAT\",\"LSTAT\",\"LSTAT\",\"LSTAT\",\"LSTAT\",\"LSTAT\",\"LSTAT\",\"LSTAT\",\"LSTAT\",\"LSTAT\",\"LSTAT\",\"LSTAT\",\"LSTAT\",\"LSTAT\",\"LSTAT\",\"LSTAT\",\"LSTAT\",\"LSTAT\",\"LSTAT\",\"LSTAT\",\"LSTAT\",\"LSTAT\",\"LSTAT\",\"LSTAT\",\"LSTAT\",\"LSTAT\",\"LSTAT\",\"LSTAT\",\"LSTAT\",\"LSTAT\",\"LSTAT\",\"LSTAT\",\"LSTAT\",\"LSTAT\",\"LSTAT\",\"LSTAT\",\"LSTAT\",\"LSTAT\",\"LSTAT\",\"LSTAT\",\"LSTAT\",\"LSTAT\",\"LSTAT\",\"LSTAT\",\"LSTAT\",\"LSTAT\",\"LSTAT\",\"LSTAT\",\"LSTAT\",\"LSTAT\",\"LSTAT\",\"LSTAT\",\"LSTAT\",\"LSTAT\",\"LSTAT\",\"LSTAT\",\"LSTAT\",\"LSTAT\",\"LSTAT\",\"LSTAT\",\"LSTAT\",\"LSTAT\",\"LSTAT\",\"LSTAT\",\"LSTAT\",\"LSTAT\",\"LSTAT\",\"LSTAT\",\"LSTAT\",\"LSTAT\",\"LSTAT\",\"LSTAT\",\"LSTAT\",\"LSTAT\",\"LSTAT\",\"LSTAT\",\"LSTAT\",\"LSTAT\",\"LSTAT\",\"LSTAT\",\"LSTAT\",\"LSTAT\",\"LSTAT\",\"LSTAT\",\"LSTAT\",\"LSTAT\",\"LSTAT\",\"LSTAT\",\"LSTAT\",\"LSTAT\",\"LSTAT\",\"LSTAT\",\"LSTAT\",\"LSTAT\",\"LSTAT\",\"LSTAT\",\"LSTAT\",\"LSTAT\",\"LSTAT\",\"LSTAT\",\"LSTAT\",\"LSTAT\",\"LSTAT\",\"LSTAT\",\"LSTAT\",\"LSTAT\",\"LSTAT\",\"LSTAT\",\"LSTAT\",\"LSTAT\",\"LSTAT\",\"LSTAT\",\"LSTAT\",\"LSTAT\",\"LSTAT\",\"LSTAT\",\"LSTAT\",\"LSTAT\",\"LSTAT\",\"LSTAT\",\"LSTAT\",\"LSTAT\",\"LSTAT\",\"LSTAT\",\"LSTAT\",\"LSTAT\",\"LSTAT\",\"LSTAT\",\"LSTAT\",\"LSTAT\",\"LSTAT\",\"LSTAT\",\"LSTAT\",\"LSTAT\",\"LSTAT\",\"LSTAT\",\"LSTAT\",\"LSTAT\",\"LSTAT\",\"LSTAT\",\"LSTAT\",\"LSTAT\",\"LSTAT\",\"LSTAT\",\"LSTAT\",\"LSTAT\",\"LSTAT\",\"LSTAT\",\"LSTAT\",\"LSTAT\",\"LSTAT\",\"LSTAT\",\"LSTAT\",\"LSTAT\",\"LSTAT\",\"LSTAT\",\"LSTAT\",\"LSTAT\",\"LSTAT\",\"LSTAT\",\"LSTAT\",\"LSTAT\",\"LSTAT\",\"LSTAT\",\"LSTAT\",\"LSTAT\",\"LSTAT\",\"LSTAT\",\"LSTAT\",\"LSTAT\",\"LSTAT\",\"LSTAT\",\"LSTAT\",\"LSTAT\",\"LSTAT\",\"LSTAT\",\"LSTAT\",\"LSTAT\",\"LSTAT\",\"LSTAT\",\"LSTAT\",\"LSTAT\",\"LSTAT\",\"LSTAT\",\"LSTAT\",\"LSTAT\",\"LSTAT\",\"LSTAT\",\"LSTAT\",\"LSTAT\",\"LSTAT\",\"LSTAT\",\"LSTAT\",\"LSTAT\",\"LSTAT\",\"LSTAT\",\"LSTAT\",\"LSTAT\",\"LSTAT\",\"LSTAT\",\"LSTAT\",\"LSTAT\",\"LSTAT\",\"LSTAT\",\"LSTAT\",\"LSTAT\",\"LSTAT\",\"LSTAT\",\"LSTAT\",\"LSTAT\",\"LSTAT\",\"LSTAT\",\"LSTAT\",\"LSTAT\",\"LSTAT\",\"LSTAT\",\"LSTAT\",\"LSTAT\",\"LSTAT\",\"LSTAT\",\"LSTAT\",\"LSTAT\",\"LSTAT\",\"LSTAT\",\"LSTAT\",\"LSTAT\",\"LSTAT\",\"LSTAT\",\"LSTAT\",\"LSTAT\",\"LSTAT\",\"LSTAT\",\"LSTAT\",\"LSTAT\",\"LSTAT\",\"LSTAT\",\"LSTAT\",\"LSTAT\",\"LSTAT\",\"LSTAT\",\"LSTAT\",\"LSTAT\",\"LSTAT\",\"LSTAT\",\"LSTAT\",\"LSTAT\",\"LSTAT\",\"LSTAT\",\"LSTAT\",\"LSTAT\",\"LSTAT\",\"LSTAT\",\"LSTAT\",\"LSTAT\",\"LSTAT\",\"LSTAT\",\"LSTAT\",\"LSTAT\",\"LSTAT\",\"LSTAT\",\"LSTAT\",\"LSTAT\",\"LSTAT\",\"LSTAT\",\"LSTAT\",\"LSTAT\",\"LSTAT\",\"LSTAT\",\"LSTAT\",\"LSTAT\",\"LSTAT\",\"LSTAT\",\"LSTAT\",\"LSTAT\",\"LSTAT\",\"LSTAT\",\"LSTAT\",\"LSTAT\",\"LSTAT\",\"LSTAT\",\"LSTAT\",\"LSTAT\",\"LSTAT\",\"LSTAT\",\"LSTAT\",\"LSTAT\",\"LSTAT\",\"LSTAT\",\"LSTAT\",\"LSTAT\",\"LSTAT\",\"LSTAT\",\"LSTAT\",\"LSTAT\",\"LSTAT\",\"LSTAT\",\"LSTAT\",\"LSTAT\",\"LSTAT\",\"LSTAT\",\"LSTAT\",\"LSTAT\",\"LSTAT\",\"LSTAT\",\"LSTAT\",\"LSTAT\",\"LSTAT\",\"LSTAT\",\"LSTAT\",\"LSTAT\",\"LSTAT\",\"LSTAT\",\"LSTAT\",\"LSTAT\",\"LSTAT\",\"LSTAT\",\"LSTAT\",\"LSTAT\",\"LSTAT\",\"LSTAT\",\"LSTAT\",\"LSTAT\",\"LSTAT\",\"LSTAT\",\"LSTAT\",\"LSTAT\",\"LSTAT\",\"LSTAT\",\"LSTAT\",\"LSTAT\",\"LSTAT\",\"LSTAT\",\"LSTAT\",\"LSTAT\",\"LSTAT\",\"LSTAT\",\"LSTAT\",\"LSTAT\",\"LSTAT\",\"LSTAT\",\"LSTAT\",\"LSTAT\",\"LSTAT\",\"LSTAT\",\"LSTAT\",\"LSTAT\",\"LSTAT\",\"LSTAT\",\"LSTAT\",\"LSTAT\"],\"x0\":\" \",\"xaxis\":\"x\",\"y\":[4.98,9.14,4.03,2.94,5.33,5.21,12.43,19.15,29.93,17.1,20.45,13.27,15.71,8.26,10.26,8.47,6.58,14.67,11.69,11.28,21.02,13.83,18.72,19.88,16.3,16.51,14.81,17.28,12.8,11.98,22.6,13.04,27.71,18.35,20.34,9.68,11.41,8.77,10.13,4.32,1.98,4.84,5.81,7.44,9.55,10.21,14.15,18.8,30.81,16.2,13.45,9.43,5.28,8.43,14.8,4.81,5.77,3.95,6.86,9.22,13.15,14.44,6.73,9.5,8.05,4.67,10.24,8.1,13.09,8.79,6.72,9.88,5.52,7.54,6.78,8.94,11.97,10.27,12.34,9.1,5.29,7.22,6.72,7.51,9.62,6.53,12.86,8.44,5.5,5.7,8.81,8.2,8.16,6.21,10.59,6.65,11.34,4.21,3.57,6.19,9.42,7.67,10.63,13.44,12.33,16.47,18.66,14.09,12.27,15.55,13.0,10.16,16.21,17.09,10.45,15.76,12.04,10.3,15.37,13.61,14.37,14.27,17.93,25.41,17.58,14.81,27.26,17.19,15.39,18.34,12.6,12.26,11.12,15.03,17.31,16.96,16.9,14.59,21.32,18.46,24.16,34.41,26.82,26.42,29.29,27.8,16.65,29.53,28.32,21.45,14.1,13.28,12.12,15.79,15.12,15.02,16.14,4.59,6.43,7.39,5.5,11.64,9.81,12.14,11.1,11.32,14.43,12.03,14.69,9.04,9.64,5.33,10.11,6.29,6.92,5.04,7.56,9.45,4.82,5.68,13.98,13.15,6.68,4.56,5.39,5.1,4.69,2.87,5.03,4.38,4.08,8.61,6.62,4.56,4.45,7.43,3.11,3.81,10.87,10.97,18.06,14.66,23.09,17.27,23.98,16.03,9.38,29.55,9.47,13.51,9.69,17.92,10.5,9.71,21.46,9.93,7.6,4.14,3.13,6.36,3.92,3.76,11.65,5.25,2.47,3.95,8.05,10.88,9.54,4.73,6.36,7.37,11.38,12.4,11.22,5.19,12.5,18.46,9.16,10.15,9.52,6.56,5.9,3.59,3.53,3.54,6.57,9.25,3.11,7.79,6.9,9.59,7.26,5.91,11.25,8.1,10.45,14.79,3.16,13.65,13.0,6.59,7.73,6.58,3.53,2.98,6.05,4.16,7.19,4.85,3.76,4.59,3.01,7.85,8.23,12.93,7.14,7.6,9.51,3.33,3.56,4.7,8.58,10.4,6.27,7.39,15.84,4.97,4.74,6.07,9.5,8.67,4.86,6.93,8.93,6.47,7.53,4.54,9.97,12.64,5.98,11.72,7.9,9.28,11.5,18.33,15.94,10.36,12.73,7.2,6.87,7.7,11.74,6.12,5.08,6.15,12.79,9.97,7.34,9.09,12.43,7.83,5.68,6.75,8.01,9.8,10.56,8.51,9.74,9.29,5.49,8.65,7.18,4.61,10.53,12.67,6.36,5.99,5.89,5.98,5.49,7.79,4.5,8.05,5.57,17.6,13.27,11.48,12.67,7.79,14.19,10.19,14.64,7.12,14.0,13.33,34.77,37.97,13.44,23.24,21.24,23.69,21.78,17.21,21.08,23.6,24.56,30.63,30.81,28.28,31.99,30.62,20.85,17.11,18.76,25.68,15.17,16.35,17.12,19.37,19.92,30.59,29.97,26.77,20.32,20.31,19.77,27.38,22.98,23.34,12.13,26.4,19.78,10.11,21.22,34.37,20.08,36.98,29.05,25.79,26.64,20.62,22.74,15.02,15.7,14.1,23.29,17.16,24.39,15.69,14.52,21.52,24.08,17.64,19.69,12.03,16.22,15.17,23.27,18.05,26.45,34.02,22.88,22.11,19.52,16.59,18.85,23.79,23.98,17.79,16.44,18.13,19.31,17.44,17.73,17.27,16.74,18.71,18.13,19.01,16.94,16.23,14.7,16.42,14.65,13.99,10.29,13.22,14.13,17.15,21.32,18.13,14.76,16.29,12.87,14.36,11.66,18.14,24.1,18.68,24.91,18.03,13.11,10.74,7.74,7.01,10.42,13.34,10.58,14.98,11.45,18.06,23.97,29.68,18.07,13.35,12.01,13.59,17.6,21.14,14.1,12.92,15.1,14.33,9.67,9.08,5.64,6.48,7.88],\"y0\":\" \",\"yaxis\":\"y\",\"type\":\"box\"}],                        {\"template\":{\"data\":{\"barpolar\":[{\"marker\":{\"line\":{\"color\":\"rgb(17,17,17)\",\"width\":0.5},\"pattern\":{\"fillmode\":\"overlay\",\"size\":10,\"solidity\":0.2}},\"type\":\"barpolar\"}],\"bar\":[{\"error_x\":{\"color\":\"#f2f5fa\"},\"error_y\":{\"color\":\"#f2f5fa\"},\"marker\":{\"line\":{\"color\":\"rgb(17,17,17)\",\"width\":0.5},\"pattern\":{\"fillmode\":\"overlay\",\"size\":10,\"solidity\":0.2}},\"type\":\"bar\"}],\"carpet\":[{\"aaxis\":{\"endlinecolor\":\"#A2B1C6\",\"gridcolor\":\"#506784\",\"linecolor\":\"#506784\",\"minorgridcolor\":\"#506784\",\"startlinecolor\":\"#A2B1C6\"},\"baxis\":{\"endlinecolor\":\"#A2B1C6\",\"gridcolor\":\"#506784\",\"linecolor\":\"#506784\",\"minorgridcolor\":\"#506784\",\"startlinecolor\":\"#A2B1C6\"},\"type\":\"carpet\"}],\"choropleth\":[{\"colorbar\":{\"outlinewidth\":0,\"ticks\":\"\"},\"type\":\"choropleth\"}],\"contourcarpet\":[{\"colorbar\":{\"outlinewidth\":0,\"ticks\":\"\"},\"type\":\"contourcarpet\"}],\"contour\":[{\"colorbar\":{\"outlinewidth\":0,\"ticks\":\"\"},\"colorscale\":[[0.0,\"#0d0887\"],[0.1111111111111111,\"#46039f\"],[0.2222222222222222,\"#7201a8\"],[0.3333333333333333,\"#9c179e\"],[0.4444444444444444,\"#bd3786\"],[0.5555555555555556,\"#d8576b\"],[0.6666666666666666,\"#ed7953\"],[0.7777777777777778,\"#fb9f3a\"],[0.8888888888888888,\"#fdca26\"],[1.0,\"#f0f921\"]],\"type\":\"contour\"}],\"heatmapgl\":[{\"colorbar\":{\"outlinewidth\":0,\"ticks\":\"\"},\"colorscale\":[[0.0,\"#0d0887\"],[0.1111111111111111,\"#46039f\"],[0.2222222222222222,\"#7201a8\"],[0.3333333333333333,\"#9c179e\"],[0.4444444444444444,\"#bd3786\"],[0.5555555555555556,\"#d8576b\"],[0.6666666666666666,\"#ed7953\"],[0.7777777777777778,\"#fb9f3a\"],[0.8888888888888888,\"#fdca26\"],[1.0,\"#f0f921\"]],\"type\":\"heatmapgl\"}],\"heatmap\":[{\"colorbar\":{\"outlinewidth\":0,\"ticks\":\"\"},\"colorscale\":[[0.0,\"#0d0887\"],[0.1111111111111111,\"#46039f\"],[0.2222222222222222,\"#7201a8\"],[0.3333333333333333,\"#9c179e\"],[0.4444444444444444,\"#bd3786\"],[0.5555555555555556,\"#d8576b\"],[0.6666666666666666,\"#ed7953\"],[0.7777777777777778,\"#fb9f3a\"],[0.8888888888888888,\"#fdca26\"],[1.0,\"#f0f921\"]],\"type\":\"heatmap\"}],\"histogram2dcontour\":[{\"colorbar\":{\"outlinewidth\":0,\"ticks\":\"\"},\"colorscale\":[[0.0,\"#0d0887\"],[0.1111111111111111,\"#46039f\"],[0.2222222222222222,\"#7201a8\"],[0.3333333333333333,\"#9c179e\"],[0.4444444444444444,\"#bd3786\"],[0.5555555555555556,\"#d8576b\"],[0.6666666666666666,\"#ed7953\"],[0.7777777777777778,\"#fb9f3a\"],[0.8888888888888888,\"#fdca26\"],[1.0,\"#f0f921\"]],\"type\":\"histogram2dcontour\"}],\"histogram2d\":[{\"colorbar\":{\"outlinewidth\":0,\"ticks\":\"\"},\"colorscale\":[[0.0,\"#0d0887\"],[0.1111111111111111,\"#46039f\"],[0.2222222222222222,\"#7201a8\"],[0.3333333333333333,\"#9c179e\"],[0.4444444444444444,\"#bd3786\"],[0.5555555555555556,\"#d8576b\"],[0.6666666666666666,\"#ed7953\"],[0.7777777777777778,\"#fb9f3a\"],[0.8888888888888888,\"#fdca26\"],[1.0,\"#f0f921\"]],\"type\":\"histogram2d\"}],\"histogram\":[{\"marker\":{\"pattern\":{\"fillmode\":\"overlay\",\"size\":10,\"solidity\":0.2}},\"type\":\"histogram\"}],\"mesh3d\":[{\"colorbar\":{\"outlinewidth\":0,\"ticks\":\"\"},\"type\":\"mesh3d\"}],\"parcoords\":[{\"line\":{\"colorbar\":{\"outlinewidth\":0,\"ticks\":\"\"}},\"type\":\"parcoords\"}],\"pie\":[{\"automargin\":true,\"type\":\"pie\"}],\"scatter3d\":[{\"line\":{\"colorbar\":{\"outlinewidth\":0,\"ticks\":\"\"}},\"marker\":{\"colorbar\":{\"outlinewidth\":0,\"ticks\":\"\"}},\"type\":\"scatter3d\"}],\"scattercarpet\":[{\"marker\":{\"colorbar\":{\"outlinewidth\":0,\"ticks\":\"\"}},\"type\":\"scattercarpet\"}],\"scattergeo\":[{\"marker\":{\"colorbar\":{\"outlinewidth\":0,\"ticks\":\"\"}},\"type\":\"scattergeo\"}],\"scattergl\":[{\"marker\":{\"line\":{\"color\":\"#283442\"}},\"type\":\"scattergl\"}],\"scattermapbox\":[{\"marker\":{\"colorbar\":{\"outlinewidth\":0,\"ticks\":\"\"}},\"type\":\"scattermapbox\"}],\"scatterpolargl\":[{\"marker\":{\"colorbar\":{\"outlinewidth\":0,\"ticks\":\"\"}},\"type\":\"scatterpolargl\"}],\"scatterpolar\":[{\"marker\":{\"colorbar\":{\"outlinewidth\":0,\"ticks\":\"\"}},\"type\":\"scatterpolar\"}],\"scatter\":[{\"marker\":{\"line\":{\"color\":\"#283442\"}},\"type\":\"scatter\"}],\"scatterternary\":[{\"marker\":{\"colorbar\":{\"outlinewidth\":0,\"ticks\":\"\"}},\"type\":\"scatterternary\"}],\"surface\":[{\"colorbar\":{\"outlinewidth\":0,\"ticks\":\"\"},\"colorscale\":[[0.0,\"#0d0887\"],[0.1111111111111111,\"#46039f\"],[0.2222222222222222,\"#7201a8\"],[0.3333333333333333,\"#9c179e\"],[0.4444444444444444,\"#bd3786\"],[0.5555555555555556,\"#d8576b\"],[0.6666666666666666,\"#ed7953\"],[0.7777777777777778,\"#fb9f3a\"],[0.8888888888888888,\"#fdca26\"],[1.0,\"#f0f921\"]],\"type\":\"surface\"}],\"table\":[{\"cells\":{\"fill\":{\"color\":\"#506784\"},\"line\":{\"color\":\"rgb(17,17,17)\"}},\"header\":{\"fill\":{\"color\":\"#2a3f5f\"},\"line\":{\"color\":\"rgb(17,17,17)\"}},\"type\":\"table\"}]},\"layout\":{\"annotationdefaults\":{\"arrowcolor\":\"#f2f5fa\",\"arrowhead\":0,\"arrowwidth\":1},\"autotypenumbers\":\"strict\",\"coloraxis\":{\"colorbar\":{\"outlinewidth\":0,\"ticks\":\"\"}},\"colorscale\":{\"diverging\":[[0,\"#8e0152\"],[0.1,\"#c51b7d\"],[0.2,\"#de77ae\"],[0.3,\"#f1b6da\"],[0.4,\"#fde0ef\"],[0.5,\"#f7f7f7\"],[0.6,\"#e6f5d0\"],[0.7,\"#b8e186\"],[0.8,\"#7fbc41\"],[0.9,\"#4d9221\"],[1,\"#276419\"]],\"sequential\":[[0.0,\"#0d0887\"],[0.1111111111111111,\"#46039f\"],[0.2222222222222222,\"#7201a8\"],[0.3333333333333333,\"#9c179e\"],[0.4444444444444444,\"#bd3786\"],[0.5555555555555556,\"#d8576b\"],[0.6666666666666666,\"#ed7953\"],[0.7777777777777778,\"#fb9f3a\"],[0.8888888888888888,\"#fdca26\"],[1.0,\"#f0f921\"]],\"sequentialminus\":[[0.0,\"#0d0887\"],[0.1111111111111111,\"#46039f\"],[0.2222222222222222,\"#7201a8\"],[0.3333333333333333,\"#9c179e\"],[0.4444444444444444,\"#bd3786\"],[0.5555555555555556,\"#d8576b\"],[0.6666666666666666,\"#ed7953\"],[0.7777777777777778,\"#fb9f3a\"],[0.8888888888888888,\"#fdca26\"],[1.0,\"#f0f921\"]]},\"colorway\":[\"#636efa\",\"#EF553B\",\"#00cc96\",\"#ab63fa\",\"#FFA15A\",\"#19d3f3\",\"#FF6692\",\"#B6E880\",\"#FF97FF\",\"#FECB52\"],\"font\":{\"color\":\"#f2f5fa\"},\"geo\":{\"bgcolor\":\"rgb(17,17,17)\",\"lakecolor\":\"rgb(17,17,17)\",\"landcolor\":\"rgb(17,17,17)\",\"showlakes\":true,\"showland\":true,\"subunitcolor\":\"#506784\"},\"hoverlabel\":{\"align\":\"left\"},\"hovermode\":\"closest\",\"mapbox\":{\"style\":\"dark\"},\"paper_bgcolor\":\"rgb(17,17,17)\",\"plot_bgcolor\":\"rgb(17,17,17)\",\"polar\":{\"angularaxis\":{\"gridcolor\":\"#506784\",\"linecolor\":\"#506784\",\"ticks\":\"\"},\"bgcolor\":\"rgb(17,17,17)\",\"radialaxis\":{\"gridcolor\":\"#506784\",\"linecolor\":\"#506784\",\"ticks\":\"\"}},\"scene\":{\"xaxis\":{\"backgroundcolor\":\"rgb(17,17,17)\",\"gridcolor\":\"#506784\",\"gridwidth\":2,\"linecolor\":\"#506784\",\"showbackground\":true,\"ticks\":\"\",\"zerolinecolor\":\"#C8D4E3\"},\"yaxis\":{\"backgroundcolor\":\"rgb(17,17,17)\",\"gridcolor\":\"#506784\",\"gridwidth\":2,\"linecolor\":\"#506784\",\"showbackground\":true,\"ticks\":\"\",\"zerolinecolor\":\"#C8D4E3\"},\"zaxis\":{\"backgroundcolor\":\"rgb(17,17,17)\",\"gridcolor\":\"#506784\",\"gridwidth\":2,\"linecolor\":\"#506784\",\"showbackground\":true,\"ticks\":\"\",\"zerolinecolor\":\"#C8D4E3\"}},\"shapedefaults\":{\"line\":{\"color\":\"#f2f5fa\"}},\"sliderdefaults\":{\"bgcolor\":\"#C8D4E3\",\"bordercolor\":\"rgb(17,17,17)\",\"borderwidth\":1,\"tickwidth\":0},\"ternary\":{\"aaxis\":{\"gridcolor\":\"#506784\",\"linecolor\":\"#506784\",\"ticks\":\"\"},\"baxis\":{\"gridcolor\":\"#506784\",\"linecolor\":\"#506784\",\"ticks\":\"\"},\"bgcolor\":\"rgb(17,17,17)\",\"caxis\":{\"gridcolor\":\"#506784\",\"linecolor\":\"#506784\",\"ticks\":\"\"}},\"title\":{\"x\":0.05},\"updatemenudefaults\":{\"bgcolor\":\"#506784\",\"borderwidth\":0},\"xaxis\":{\"automargin\":true,\"gridcolor\":\"#283442\",\"linecolor\":\"#506784\",\"ticks\":\"\",\"title\":{\"standoff\":15},\"zerolinecolor\":\"#283442\",\"zerolinewidth\":2},\"yaxis\":{\"automargin\":true,\"gridcolor\":\"#283442\",\"linecolor\":\"#506784\",\"ticks\":\"\",\"title\":{\"standoff\":15},\"zerolinecolor\":\"#283442\",\"zerolinewidth\":2}}},\"xaxis\":{\"anchor\":\"y\",\"domain\":[0.0,1.0],\"title\":{\"text\":\"variable\"},\"showgrid\":false},\"yaxis\":{\"anchor\":\"x\",\"domain\":[0.0,1.0],\"title\":{\"text\":\"value\"},\"showgrid\":false},\"legend\":{\"tracegroupgap\":0},\"margin\":{\"t\":60},\"boxmode\":\"group\",\"title\":{\"text\":\"Boxplot da coluna LSTAT\"}},                        {\"responsive\": true}                    ).then(function(){\n",
       "                            \n",
       "var gd = document.getElementById('3d28678c-304a-4745-a34f-8d4d3dae3e9b');\n",
       "var x = new MutationObserver(function (mutations, observer) {{\n",
       "        var display = window.getComputedStyle(gd).display;\n",
       "        if (!display || display === 'none') {{\n",
       "            console.log([gd, 'removed!']);\n",
       "            Plotly.purge(gd);\n",
       "            observer.disconnect();\n",
       "        }}\n",
       "}});\n",
       "\n",
       "// Listen for the removal of the full notebook cells\n",
       "var notebookContainer = gd.closest('#notebook-container');\n",
       "if (notebookContainer) {{\n",
       "    x.observe(notebookContainer, {childList: true});\n",
       "}}\n",
       "\n",
       "// Listen for the clearing of the current output cell\n",
       "var outputEl = gd.closest('.output');\n",
       "if (outputEl) {{\n",
       "    x.observe(outputEl, {childList: true});\n",
       "}}\n",
       "\n",
       "                        })                };                });            </script>        </div>"
      ]
     },
     "metadata": {},
     "output_type": "display_data"
    },
    {
     "name": "stdout",
     "output_type": "stream",
     "text": [
      "\n",
      " Nome da coluna:\n",
      " PTRATIO\n",
      "\n",
      " Tipo da coluna:\n",
      " float64\n",
      "\n",
      " Valor media da coluna:\n",
      "18.52%\n",
      "\n",
      " Quantidade de linhas da coluna:\n",
      " (489,)\n",
      "\n",
      " Valores unicos da coluna:\n",
      " 0\n",
      "\n",
      " Valores nulos da coluna:\n",
      " count    489.000000\n",
      "mean      18.516564\n",
      "std        2.111268\n",
      "min       12.600000\n",
      "25%       17.400000\n",
      "50%       19.100000\n",
      "75%       20.200000\n",
      "max       22.000000\n",
      "Name: PTRATIO, dtype: float64\n"
     ]
    },
    {
     "data": {
      "application/vnd.plotly.v1+json": {
       "config": {
        "plotlyServerURL": "https://plot.ly"
       },
       "data": [
        {
         "alignmentgroup": "True",
         "hovertemplate": "variable=%{x}<br>value=%{y}<extra></extra>",
         "legendgroup": "",
         "marker": {
          "color": "#636efa"
         },
         "name": "",
         "notched": false,
         "offsetgroup": "",
         "orientation": "v",
         "showlegend": false,
         "type": "box",
         "x": [
          "PTRATIO",
          "PTRATIO",
          "PTRATIO",
          "PTRATIO",
          "PTRATIO",
          "PTRATIO",
          "PTRATIO",
          "PTRATIO",
          "PTRATIO",
          "PTRATIO",
          "PTRATIO",
          "PTRATIO",
          "PTRATIO",
          "PTRATIO",
          "PTRATIO",
          "PTRATIO",
          "PTRATIO",
          "PTRATIO",
          "PTRATIO",
          "PTRATIO",
          "PTRATIO",
          "PTRATIO",
          "PTRATIO",
          "PTRATIO",
          "PTRATIO",
          "PTRATIO",
          "PTRATIO",
          "PTRATIO",
          "PTRATIO",
          "PTRATIO",
          "PTRATIO",
          "PTRATIO",
          "PTRATIO",
          "PTRATIO",
          "PTRATIO",
          "PTRATIO",
          "PTRATIO",
          "PTRATIO",
          "PTRATIO",
          "PTRATIO",
          "PTRATIO",
          "PTRATIO",
          "PTRATIO",
          "PTRATIO",
          "PTRATIO",
          "PTRATIO",
          "PTRATIO",
          "PTRATIO",
          "PTRATIO",
          "PTRATIO",
          "PTRATIO",
          "PTRATIO",
          "PTRATIO",
          "PTRATIO",
          "PTRATIO",
          "PTRATIO",
          "PTRATIO",
          "PTRATIO",
          "PTRATIO",
          "PTRATIO",
          "PTRATIO",
          "PTRATIO",
          "PTRATIO",
          "PTRATIO",
          "PTRATIO",
          "PTRATIO",
          "PTRATIO",
          "PTRATIO",
          "PTRATIO",
          "PTRATIO",
          "PTRATIO",
          "PTRATIO",
          "PTRATIO",
          "PTRATIO",
          "PTRATIO",
          "PTRATIO",
          "PTRATIO",
          "PTRATIO",
          "PTRATIO",
          "PTRATIO",
          "PTRATIO",
          "PTRATIO",
          "PTRATIO",
          "PTRATIO",
          "PTRATIO",
          "PTRATIO",
          "PTRATIO",
          "PTRATIO",
          "PTRATIO",
          "PTRATIO",
          "PTRATIO",
          "PTRATIO",
          "PTRATIO",
          "PTRATIO",
          "PTRATIO",
          "PTRATIO",
          "PTRATIO",
          "PTRATIO",
          "PTRATIO",
          "PTRATIO",
          "PTRATIO",
          "PTRATIO",
          "PTRATIO",
          "PTRATIO",
          "PTRATIO",
          "PTRATIO",
          "PTRATIO",
          "PTRATIO",
          "PTRATIO",
          "PTRATIO",
          "PTRATIO",
          "PTRATIO",
          "PTRATIO",
          "PTRATIO",
          "PTRATIO",
          "PTRATIO",
          "PTRATIO",
          "PTRATIO",
          "PTRATIO",
          "PTRATIO",
          "PTRATIO",
          "PTRATIO",
          "PTRATIO",
          "PTRATIO",
          "PTRATIO",
          "PTRATIO",
          "PTRATIO",
          "PTRATIO",
          "PTRATIO",
          "PTRATIO",
          "PTRATIO",
          "PTRATIO",
          "PTRATIO",
          "PTRATIO",
          "PTRATIO",
          "PTRATIO",
          "PTRATIO",
          "PTRATIO",
          "PTRATIO",
          "PTRATIO",
          "PTRATIO",
          "PTRATIO",
          "PTRATIO",
          "PTRATIO",
          "PTRATIO",
          "PTRATIO",
          "PTRATIO",
          "PTRATIO",
          "PTRATIO",
          "PTRATIO",
          "PTRATIO",
          "PTRATIO",
          "PTRATIO",
          "PTRATIO",
          "PTRATIO",
          "PTRATIO",
          "PTRATIO",
          "PTRATIO",
          "PTRATIO",
          "PTRATIO",
          "PTRATIO",
          "PTRATIO",
          "PTRATIO",
          "PTRATIO",
          "PTRATIO",
          "PTRATIO",
          "PTRATIO",
          "PTRATIO",
          "PTRATIO",
          "PTRATIO",
          "PTRATIO",
          "PTRATIO",
          "PTRATIO",
          "PTRATIO",
          "PTRATIO",
          "PTRATIO",
          "PTRATIO",
          "PTRATIO",
          "PTRATIO",
          "PTRATIO",
          "PTRATIO",
          "PTRATIO",
          "PTRATIO",
          "PTRATIO",
          "PTRATIO",
          "PTRATIO",
          "PTRATIO",
          "PTRATIO",
          "PTRATIO",
          "PTRATIO",
          "PTRATIO",
          "PTRATIO",
          "PTRATIO",
          "PTRATIO",
          "PTRATIO",
          "PTRATIO",
          "PTRATIO",
          "PTRATIO",
          "PTRATIO",
          "PTRATIO",
          "PTRATIO",
          "PTRATIO",
          "PTRATIO",
          "PTRATIO",
          "PTRATIO",
          "PTRATIO",
          "PTRATIO",
          "PTRATIO",
          "PTRATIO",
          "PTRATIO",
          "PTRATIO",
          "PTRATIO",
          "PTRATIO",
          "PTRATIO",
          "PTRATIO",
          "PTRATIO",
          "PTRATIO",
          "PTRATIO",
          "PTRATIO",
          "PTRATIO",
          "PTRATIO",
          "PTRATIO",
          "PTRATIO",
          "PTRATIO",
          "PTRATIO",
          "PTRATIO",
          "PTRATIO",
          "PTRATIO",
          "PTRATIO",
          "PTRATIO",
          "PTRATIO",
          "PTRATIO",
          "PTRATIO",
          "PTRATIO",
          "PTRATIO",
          "PTRATIO",
          "PTRATIO",
          "PTRATIO",
          "PTRATIO",
          "PTRATIO",
          "PTRATIO",
          "PTRATIO",
          "PTRATIO",
          "PTRATIO",
          "PTRATIO",
          "PTRATIO",
          "PTRATIO",
          "PTRATIO",
          "PTRATIO",
          "PTRATIO",
          "PTRATIO",
          "PTRATIO",
          "PTRATIO",
          "PTRATIO",
          "PTRATIO",
          "PTRATIO",
          "PTRATIO",
          "PTRATIO",
          "PTRATIO",
          "PTRATIO",
          "PTRATIO",
          "PTRATIO",
          "PTRATIO",
          "PTRATIO",
          "PTRATIO",
          "PTRATIO",
          "PTRATIO",
          "PTRATIO",
          "PTRATIO",
          "PTRATIO",
          "PTRATIO",
          "PTRATIO",
          "PTRATIO",
          "PTRATIO",
          "PTRATIO",
          "PTRATIO",
          "PTRATIO",
          "PTRATIO",
          "PTRATIO",
          "PTRATIO",
          "PTRATIO",
          "PTRATIO",
          "PTRATIO",
          "PTRATIO",
          "PTRATIO",
          "PTRATIO",
          "PTRATIO",
          "PTRATIO",
          "PTRATIO",
          "PTRATIO",
          "PTRATIO",
          "PTRATIO",
          "PTRATIO",
          "PTRATIO",
          "PTRATIO",
          "PTRATIO",
          "PTRATIO",
          "PTRATIO",
          "PTRATIO",
          "PTRATIO",
          "PTRATIO",
          "PTRATIO",
          "PTRATIO",
          "PTRATIO",
          "PTRATIO",
          "PTRATIO",
          "PTRATIO",
          "PTRATIO",
          "PTRATIO",
          "PTRATIO",
          "PTRATIO",
          "PTRATIO",
          "PTRATIO",
          "PTRATIO",
          "PTRATIO",
          "PTRATIO",
          "PTRATIO",
          "PTRATIO",
          "PTRATIO",
          "PTRATIO",
          "PTRATIO",
          "PTRATIO",
          "PTRATIO",
          "PTRATIO",
          "PTRATIO",
          "PTRATIO",
          "PTRATIO",
          "PTRATIO",
          "PTRATIO",
          "PTRATIO",
          "PTRATIO",
          "PTRATIO",
          "PTRATIO",
          "PTRATIO",
          "PTRATIO",
          "PTRATIO",
          "PTRATIO",
          "PTRATIO",
          "PTRATIO",
          "PTRATIO",
          "PTRATIO",
          "PTRATIO",
          "PTRATIO",
          "PTRATIO",
          "PTRATIO",
          "PTRATIO",
          "PTRATIO",
          "PTRATIO",
          "PTRATIO",
          "PTRATIO",
          "PTRATIO",
          "PTRATIO",
          "PTRATIO",
          "PTRATIO",
          "PTRATIO",
          "PTRATIO",
          "PTRATIO",
          "PTRATIO",
          "PTRATIO",
          "PTRATIO",
          "PTRATIO",
          "PTRATIO",
          "PTRATIO",
          "PTRATIO",
          "PTRATIO",
          "PTRATIO",
          "PTRATIO",
          "PTRATIO",
          "PTRATIO",
          "PTRATIO",
          "PTRATIO",
          "PTRATIO",
          "PTRATIO",
          "PTRATIO",
          "PTRATIO",
          "PTRATIO",
          "PTRATIO",
          "PTRATIO",
          "PTRATIO",
          "PTRATIO",
          "PTRATIO",
          "PTRATIO",
          "PTRATIO",
          "PTRATIO",
          "PTRATIO",
          "PTRATIO",
          "PTRATIO",
          "PTRATIO",
          "PTRATIO",
          "PTRATIO",
          "PTRATIO",
          "PTRATIO",
          "PTRATIO",
          "PTRATIO",
          "PTRATIO",
          "PTRATIO",
          "PTRATIO",
          "PTRATIO",
          "PTRATIO",
          "PTRATIO",
          "PTRATIO",
          "PTRATIO",
          "PTRATIO",
          "PTRATIO",
          "PTRATIO",
          "PTRATIO",
          "PTRATIO",
          "PTRATIO",
          "PTRATIO",
          "PTRATIO",
          "PTRATIO",
          "PTRATIO",
          "PTRATIO",
          "PTRATIO",
          "PTRATIO",
          "PTRATIO",
          "PTRATIO",
          "PTRATIO",
          "PTRATIO",
          "PTRATIO",
          "PTRATIO",
          "PTRATIO",
          "PTRATIO",
          "PTRATIO",
          "PTRATIO",
          "PTRATIO",
          "PTRATIO",
          "PTRATIO",
          "PTRATIO",
          "PTRATIO",
          "PTRATIO",
          "PTRATIO",
          "PTRATIO",
          "PTRATIO",
          "PTRATIO",
          "PTRATIO",
          "PTRATIO",
          "PTRATIO",
          "PTRATIO",
          "PTRATIO",
          "PTRATIO",
          "PTRATIO",
          "PTRATIO",
          "PTRATIO",
          "PTRATIO",
          "PTRATIO",
          "PTRATIO",
          "PTRATIO",
          "PTRATIO",
          "PTRATIO",
          "PTRATIO",
          "PTRATIO",
          "PTRATIO",
          "PTRATIO",
          "PTRATIO",
          "PTRATIO",
          "PTRATIO",
          "PTRATIO",
          "PTRATIO",
          "PTRATIO",
          "PTRATIO",
          "PTRATIO",
          "PTRATIO",
          "PTRATIO",
          "PTRATIO",
          "PTRATIO",
          "PTRATIO",
          "PTRATIO",
          "PTRATIO",
          "PTRATIO",
          "PTRATIO",
          "PTRATIO",
          "PTRATIO",
          "PTRATIO",
          "PTRATIO",
          "PTRATIO",
          "PTRATIO",
          "PTRATIO",
          "PTRATIO",
          "PTRATIO",
          "PTRATIO",
          "PTRATIO",
          "PTRATIO",
          "PTRATIO",
          "PTRATIO",
          "PTRATIO",
          "PTRATIO",
          "PTRATIO",
          "PTRATIO"
         ],
         "x0": " ",
         "xaxis": "x",
         "y": [
          15.3,
          17.8,
          17.8,
          18.7,
          18.7,
          18.7,
          15.2,
          15.2,
          15.2,
          15.2,
          15.2,
          15.2,
          15.2,
          21,
          21,
          21,
          21,
          21,
          21,
          21,
          21,
          21,
          21,
          21,
          21,
          21,
          21,
          21,
          21,
          21,
          21,
          21,
          21,
          21,
          21,
          19.2,
          19.2,
          19.2,
          19.2,
          18.3,
          18.3,
          17.9,
          17.9,
          17.9,
          17.9,
          17.9,
          17.9,
          17.9,
          17.9,
          17.9,
          16.8,
          16.8,
          16.8,
          16.8,
          21.1,
          17.9,
          17.3,
          15.1,
          19.7,
          19.7,
          19.7,
          19.7,
          19.7,
          19.7,
          18.6,
          16.1,
          16.1,
          18.9,
          18.9,
          18.9,
          19.2,
          19.2,
          19.2,
          19.2,
          18.7,
          18.7,
          18.7,
          18.7,
          18.7,
          18.7,
          19,
          19,
          19,
          19,
          18.5,
          18.5,
          18.5,
          18.5,
          17.8,
          17.8,
          17.8,
          17.8,
          18.2,
          18.2,
          18.2,
          18,
          18,
          18,
          18,
          18,
          20.9,
          20.9,
          20.9,
          20.9,
          20.9,
          20.9,
          20.9,
          20.9,
          20.9,
          20.9,
          20.9,
          17.8,
          17.8,
          17.8,
          17.8,
          17.8,
          17.8,
          17.8,
          17.8,
          17.8,
          19.1,
          19.1,
          19.1,
          19.1,
          19.1,
          19.1,
          19.1,
          21.2,
          21.2,
          21.2,
          21.2,
          21.2,
          21.2,
          21.2,
          21.2,
          21.2,
          21.2,
          21.2,
          21.2,
          21.2,
          21.2,
          21.2,
          14.7,
          14.7,
          14.7,
          14.7,
          14.7,
          14.7,
          14.7,
          14.7,
          14.7,
          14.7,
          14.7,
          14.7,
          14.7,
          14.7,
          14.7,
          14.7,
          14.7,
          14.7,
          14.7,
          14.7,
          14.7,
          14.7,
          14.7,
          14.7,
          14.7,
          14.7,
          16.6,
          16.6,
          16.6,
          16.6,
          16.6,
          16.6,
          16.6,
          17.8,
          17.8,
          17.8,
          17.8,
          17.8,
          17.8,
          17.8,
          15.2,
          15.2,
          15.2,
          15.2,
          15.2,
          15.2,
          15.6,
          15.6,
          12.6,
          12.6,
          12.6,
          17,
          17,
          14.7,
          14.7,
          14.7,
          18.6,
          18.6,
          18.6,
          18.6,
          18.6,
          18.6,
          18.6,
          18.6,
          18.6,
          18.6,
          18.6,
          16.4,
          16.4,
          16.4,
          16.4,
          17.4,
          17.4,
          17.4,
          17.4,
          17.4,
          17.4,
          17.4,
          17.4,
          17.4,
          17.4,
          17.4,
          17.4,
          17.4,
          17.4,
          17.4,
          17.4,
          17.4,
          16.6,
          16.6,
          16.6,
          16.6,
          16.6,
          16.6,
          19.1,
          19.1,
          19.1,
          19.1,
          19.1,
          19.1,
          19.1,
          19.1,
          19.1,
          19.1,
          16.4,
          16.4,
          15.9,
          13,
          13,
          13,
          13,
          13,
          13,
          13,
          13,
          13,
          13,
          18.6,
          18.6,
          18.6,
          18.6,
          18.6,
          17.6,
          17.6,
          17.6,
          17.6,
          17.6,
          14.9,
          14.9,
          14.9,
          14.9,
          15.3,
          15.3,
          18.2,
          16.6,
          16.6,
          16.6,
          19.2,
          19.2,
          19.2,
          16,
          16,
          16,
          16,
          16,
          14.8,
          14.8,
          14.8,
          16.1,
          16.1,
          16.1,
          18.4,
          18.4,
          18.4,
          18.4,
          18.4,
          18.4,
          18.4,
          18.4,
          18.4,
          18.4,
          18.4,
          18.4,
          18.4,
          18.4,
          18.4,
          18.4,
          19.6,
          19.6,
          19.6,
          19.6,
          19.6,
          19.6,
          19.6,
          19.6,
          16.9,
          16.9,
          16.9,
          16.9,
          16.9,
          20.2,
          20.2,
          20.2,
          20.2,
          20.2,
          20.2,
          20.2,
          20.2,
          15.5,
          15.9,
          17.6,
          17.6,
          18.8,
          18.8,
          17.9,
          17,
          19.7,
          19.7,
          18.3,
          18.3,
          17,
          22,
          22,
          20.2,
          20.2,
          20.2,
          20.2,
          20.2,
          20.2,
          20.2,
          20.2,
          20.2,
          20.2,
          20.2,
          20.2,
          20.2,
          20.2,
          20.2,
          20.2,
          20.2,
          20.2,
          20.2,
          20.2,
          20.2,
          20.2,
          20.2,
          20.2,
          20.2,
          20.2,
          20.2,
          20.2,
          20.2,
          20.2,
          20.2,
          20.2,
          20.2,
          20.2,
          20.2,
          20.2,
          20.2,
          20.2,
          20.2,
          20.2,
          20.2,
          20.2,
          20.2,
          20.2,
          20.2,
          20.2,
          20.2,
          20.2,
          20.2,
          20.2,
          20.2,
          20.2,
          20.2,
          20.2,
          20.2,
          20.2,
          20.2,
          20.2,
          20.2,
          20.2,
          20.2,
          20.2,
          20.2,
          20.2,
          20.2,
          20.2,
          20.2,
          20.2,
          20.2,
          20.2,
          20.2,
          20.2,
          20.2,
          20.2,
          20.2,
          20.2,
          20.2,
          20.2,
          20.2,
          20.2,
          20.2,
          20.2,
          20.2,
          20.2,
          20.2,
          20.2,
          20.2,
          20.2,
          20.2,
          20.2,
          20.2,
          20.2,
          20.2,
          20.2,
          20.2,
          20.2,
          20.2,
          20.2,
          20.2,
          20.2,
          20.2,
          20.2,
          20.2,
          20.2,
          20.2,
          20.2,
          20.2,
          20.2,
          20.2,
          20.2,
          20.2,
          20.2,
          20.2,
          20.2,
          20.2,
          20.2,
          20.2,
          20.2,
          20.2,
          20.2,
          20.2,
          20.2,
          20.2,
          20.2,
          20.2,
          20.2,
          20.1,
          20.1,
          20.1,
          20.1,
          20.1,
          19.2,
          19.2,
          19.2,
          19.2,
          19.2,
          19.2,
          19.2,
          19.2,
          21,
          21,
          21,
          21,
          21
         ],
         "y0": " ",
         "yaxis": "y"
        }
       ],
       "layout": {
        "autosize": true,
        "boxmode": "group",
        "legend": {
         "tracegroupgap": 0
        },
        "margin": {
         "t": 60
        },
        "template": {
         "data": {
          "bar": [
           {
            "error_x": {
             "color": "#f2f5fa"
            },
            "error_y": {
             "color": "#f2f5fa"
            },
            "marker": {
             "line": {
              "color": "rgb(17,17,17)",
              "width": 0.5
             },
             "pattern": {
              "fillmode": "overlay",
              "size": 10,
              "solidity": 0.2
             }
            },
            "type": "bar"
           }
          ],
          "barpolar": [
           {
            "marker": {
             "line": {
              "color": "rgb(17,17,17)",
              "width": 0.5
             },
             "pattern": {
              "fillmode": "overlay",
              "size": 10,
              "solidity": 0.2
             }
            },
            "type": "barpolar"
           }
          ],
          "carpet": [
           {
            "aaxis": {
             "endlinecolor": "#A2B1C6",
             "gridcolor": "#506784",
             "linecolor": "#506784",
             "minorgridcolor": "#506784",
             "startlinecolor": "#A2B1C6"
            },
            "baxis": {
             "endlinecolor": "#A2B1C6",
             "gridcolor": "#506784",
             "linecolor": "#506784",
             "minorgridcolor": "#506784",
             "startlinecolor": "#A2B1C6"
            },
            "type": "carpet"
           }
          ],
          "choropleth": [
           {
            "colorbar": {
             "outlinewidth": 0,
             "ticks": ""
            },
            "type": "choropleth"
           }
          ],
          "contour": [
           {
            "colorbar": {
             "outlinewidth": 0,
             "ticks": ""
            },
            "colorscale": [
             [
              0,
              "#0d0887"
             ],
             [
              0.1111111111111111,
              "#46039f"
             ],
             [
              0.2222222222222222,
              "#7201a8"
             ],
             [
              0.3333333333333333,
              "#9c179e"
             ],
             [
              0.4444444444444444,
              "#bd3786"
             ],
             [
              0.5555555555555556,
              "#d8576b"
             ],
             [
              0.6666666666666666,
              "#ed7953"
             ],
             [
              0.7777777777777778,
              "#fb9f3a"
             ],
             [
              0.8888888888888888,
              "#fdca26"
             ],
             [
              1,
              "#f0f921"
             ]
            ],
            "type": "contour"
           }
          ],
          "contourcarpet": [
           {
            "colorbar": {
             "outlinewidth": 0,
             "ticks": ""
            },
            "type": "contourcarpet"
           }
          ],
          "heatmap": [
           {
            "colorbar": {
             "outlinewidth": 0,
             "ticks": ""
            },
            "colorscale": [
             [
              0,
              "#0d0887"
             ],
             [
              0.1111111111111111,
              "#46039f"
             ],
             [
              0.2222222222222222,
              "#7201a8"
             ],
             [
              0.3333333333333333,
              "#9c179e"
             ],
             [
              0.4444444444444444,
              "#bd3786"
             ],
             [
              0.5555555555555556,
              "#d8576b"
             ],
             [
              0.6666666666666666,
              "#ed7953"
             ],
             [
              0.7777777777777778,
              "#fb9f3a"
             ],
             [
              0.8888888888888888,
              "#fdca26"
             ],
             [
              1,
              "#f0f921"
             ]
            ],
            "type": "heatmap"
           }
          ],
          "heatmapgl": [
           {
            "colorbar": {
             "outlinewidth": 0,
             "ticks": ""
            },
            "colorscale": [
             [
              0,
              "#0d0887"
             ],
             [
              0.1111111111111111,
              "#46039f"
             ],
             [
              0.2222222222222222,
              "#7201a8"
             ],
             [
              0.3333333333333333,
              "#9c179e"
             ],
             [
              0.4444444444444444,
              "#bd3786"
             ],
             [
              0.5555555555555556,
              "#d8576b"
             ],
             [
              0.6666666666666666,
              "#ed7953"
             ],
             [
              0.7777777777777778,
              "#fb9f3a"
             ],
             [
              0.8888888888888888,
              "#fdca26"
             ],
             [
              1,
              "#f0f921"
             ]
            ],
            "type": "heatmapgl"
           }
          ],
          "histogram": [
           {
            "marker": {
             "pattern": {
              "fillmode": "overlay",
              "size": 10,
              "solidity": 0.2
             }
            },
            "type": "histogram"
           }
          ],
          "histogram2d": [
           {
            "colorbar": {
             "outlinewidth": 0,
             "ticks": ""
            },
            "colorscale": [
             [
              0,
              "#0d0887"
             ],
             [
              0.1111111111111111,
              "#46039f"
             ],
             [
              0.2222222222222222,
              "#7201a8"
             ],
             [
              0.3333333333333333,
              "#9c179e"
             ],
             [
              0.4444444444444444,
              "#bd3786"
             ],
             [
              0.5555555555555556,
              "#d8576b"
             ],
             [
              0.6666666666666666,
              "#ed7953"
             ],
             [
              0.7777777777777778,
              "#fb9f3a"
             ],
             [
              0.8888888888888888,
              "#fdca26"
             ],
             [
              1,
              "#f0f921"
             ]
            ],
            "type": "histogram2d"
           }
          ],
          "histogram2dcontour": [
           {
            "colorbar": {
             "outlinewidth": 0,
             "ticks": ""
            },
            "colorscale": [
             [
              0,
              "#0d0887"
             ],
             [
              0.1111111111111111,
              "#46039f"
             ],
             [
              0.2222222222222222,
              "#7201a8"
             ],
             [
              0.3333333333333333,
              "#9c179e"
             ],
             [
              0.4444444444444444,
              "#bd3786"
             ],
             [
              0.5555555555555556,
              "#d8576b"
             ],
             [
              0.6666666666666666,
              "#ed7953"
             ],
             [
              0.7777777777777778,
              "#fb9f3a"
             ],
             [
              0.8888888888888888,
              "#fdca26"
             ],
             [
              1,
              "#f0f921"
             ]
            ],
            "type": "histogram2dcontour"
           }
          ],
          "mesh3d": [
           {
            "colorbar": {
             "outlinewidth": 0,
             "ticks": ""
            },
            "type": "mesh3d"
           }
          ],
          "parcoords": [
           {
            "line": {
             "colorbar": {
              "outlinewidth": 0,
              "ticks": ""
             }
            },
            "type": "parcoords"
           }
          ],
          "pie": [
           {
            "automargin": true,
            "type": "pie"
           }
          ],
          "scatter": [
           {
            "marker": {
             "line": {
              "color": "#283442"
             }
            },
            "type": "scatter"
           }
          ],
          "scatter3d": [
           {
            "line": {
             "colorbar": {
              "outlinewidth": 0,
              "ticks": ""
             }
            },
            "marker": {
             "colorbar": {
              "outlinewidth": 0,
              "ticks": ""
             }
            },
            "type": "scatter3d"
           }
          ],
          "scattercarpet": [
           {
            "marker": {
             "colorbar": {
              "outlinewidth": 0,
              "ticks": ""
             }
            },
            "type": "scattercarpet"
           }
          ],
          "scattergeo": [
           {
            "marker": {
             "colorbar": {
              "outlinewidth": 0,
              "ticks": ""
             }
            },
            "type": "scattergeo"
           }
          ],
          "scattergl": [
           {
            "marker": {
             "line": {
              "color": "#283442"
             }
            },
            "type": "scattergl"
           }
          ],
          "scattermapbox": [
           {
            "marker": {
             "colorbar": {
              "outlinewidth": 0,
              "ticks": ""
             }
            },
            "type": "scattermapbox"
           }
          ],
          "scatterpolar": [
           {
            "marker": {
             "colorbar": {
              "outlinewidth": 0,
              "ticks": ""
             }
            },
            "type": "scatterpolar"
           }
          ],
          "scatterpolargl": [
           {
            "marker": {
             "colorbar": {
              "outlinewidth": 0,
              "ticks": ""
             }
            },
            "type": "scatterpolargl"
           }
          ],
          "scatterternary": [
           {
            "marker": {
             "colorbar": {
              "outlinewidth": 0,
              "ticks": ""
             }
            },
            "type": "scatterternary"
           }
          ],
          "surface": [
           {
            "colorbar": {
             "outlinewidth": 0,
             "ticks": ""
            },
            "colorscale": [
             [
              0,
              "#0d0887"
             ],
             [
              0.1111111111111111,
              "#46039f"
             ],
             [
              0.2222222222222222,
              "#7201a8"
             ],
             [
              0.3333333333333333,
              "#9c179e"
             ],
             [
              0.4444444444444444,
              "#bd3786"
             ],
             [
              0.5555555555555556,
              "#d8576b"
             ],
             [
              0.6666666666666666,
              "#ed7953"
             ],
             [
              0.7777777777777778,
              "#fb9f3a"
             ],
             [
              0.8888888888888888,
              "#fdca26"
             ],
             [
              1,
              "#f0f921"
             ]
            ],
            "type": "surface"
           }
          ],
          "table": [
           {
            "cells": {
             "fill": {
              "color": "#506784"
             },
             "line": {
              "color": "rgb(17,17,17)"
             }
            },
            "header": {
             "fill": {
              "color": "#2a3f5f"
             },
             "line": {
              "color": "rgb(17,17,17)"
             }
            },
            "type": "table"
           }
          ]
         },
         "layout": {
          "annotationdefaults": {
           "arrowcolor": "#f2f5fa",
           "arrowhead": 0,
           "arrowwidth": 1
          },
          "autotypenumbers": "strict",
          "coloraxis": {
           "colorbar": {
            "outlinewidth": 0,
            "ticks": ""
           }
          },
          "colorscale": {
           "diverging": [
            [
             0,
             "#8e0152"
            ],
            [
             0.1,
             "#c51b7d"
            ],
            [
             0.2,
             "#de77ae"
            ],
            [
             0.3,
             "#f1b6da"
            ],
            [
             0.4,
             "#fde0ef"
            ],
            [
             0.5,
             "#f7f7f7"
            ],
            [
             0.6,
             "#e6f5d0"
            ],
            [
             0.7,
             "#b8e186"
            ],
            [
             0.8,
             "#7fbc41"
            ],
            [
             0.9,
             "#4d9221"
            ],
            [
             1,
             "#276419"
            ]
           ],
           "sequential": [
            [
             0,
             "#0d0887"
            ],
            [
             0.1111111111111111,
             "#46039f"
            ],
            [
             0.2222222222222222,
             "#7201a8"
            ],
            [
             0.3333333333333333,
             "#9c179e"
            ],
            [
             0.4444444444444444,
             "#bd3786"
            ],
            [
             0.5555555555555556,
             "#d8576b"
            ],
            [
             0.6666666666666666,
             "#ed7953"
            ],
            [
             0.7777777777777778,
             "#fb9f3a"
            ],
            [
             0.8888888888888888,
             "#fdca26"
            ],
            [
             1,
             "#f0f921"
            ]
           ],
           "sequentialminus": [
            [
             0,
             "#0d0887"
            ],
            [
             0.1111111111111111,
             "#46039f"
            ],
            [
             0.2222222222222222,
             "#7201a8"
            ],
            [
             0.3333333333333333,
             "#9c179e"
            ],
            [
             0.4444444444444444,
             "#bd3786"
            ],
            [
             0.5555555555555556,
             "#d8576b"
            ],
            [
             0.6666666666666666,
             "#ed7953"
            ],
            [
             0.7777777777777778,
             "#fb9f3a"
            ],
            [
             0.8888888888888888,
             "#fdca26"
            ],
            [
             1,
             "#f0f921"
            ]
           ]
          },
          "colorway": [
           "#636efa",
           "#EF553B",
           "#00cc96",
           "#ab63fa",
           "#FFA15A",
           "#19d3f3",
           "#FF6692",
           "#B6E880",
           "#FF97FF",
           "#FECB52"
          ],
          "font": {
           "color": "#f2f5fa"
          },
          "geo": {
           "bgcolor": "rgb(17,17,17)",
           "lakecolor": "rgb(17,17,17)",
           "landcolor": "rgb(17,17,17)",
           "showlakes": true,
           "showland": true,
           "subunitcolor": "#506784"
          },
          "hoverlabel": {
           "align": "left"
          },
          "hovermode": "closest",
          "mapbox": {
           "style": "dark"
          },
          "paper_bgcolor": "rgb(17,17,17)",
          "plot_bgcolor": "rgb(17,17,17)",
          "polar": {
           "angularaxis": {
            "gridcolor": "#506784",
            "linecolor": "#506784",
            "ticks": ""
           },
           "bgcolor": "rgb(17,17,17)",
           "radialaxis": {
            "gridcolor": "#506784",
            "linecolor": "#506784",
            "ticks": ""
           }
          },
          "scene": {
           "xaxis": {
            "backgroundcolor": "rgb(17,17,17)",
            "gridcolor": "#506784",
            "gridwidth": 2,
            "linecolor": "#506784",
            "showbackground": true,
            "ticks": "",
            "zerolinecolor": "#C8D4E3"
           },
           "yaxis": {
            "backgroundcolor": "rgb(17,17,17)",
            "gridcolor": "#506784",
            "gridwidth": 2,
            "linecolor": "#506784",
            "showbackground": true,
            "ticks": "",
            "zerolinecolor": "#C8D4E3"
           },
           "zaxis": {
            "backgroundcolor": "rgb(17,17,17)",
            "gridcolor": "#506784",
            "gridwidth": 2,
            "linecolor": "#506784",
            "showbackground": true,
            "ticks": "",
            "zerolinecolor": "#C8D4E3"
           }
          },
          "shapedefaults": {
           "line": {
            "color": "#f2f5fa"
           }
          },
          "sliderdefaults": {
           "bgcolor": "#C8D4E3",
           "bordercolor": "rgb(17,17,17)",
           "borderwidth": 1,
           "tickwidth": 0
          },
          "ternary": {
           "aaxis": {
            "gridcolor": "#506784",
            "linecolor": "#506784",
            "ticks": ""
           },
           "baxis": {
            "gridcolor": "#506784",
            "linecolor": "#506784",
            "ticks": ""
           },
           "bgcolor": "rgb(17,17,17)",
           "caxis": {
            "gridcolor": "#506784",
            "linecolor": "#506784",
            "ticks": ""
           }
          },
          "title": {
           "x": 0.05
          },
          "updatemenudefaults": {
           "bgcolor": "#506784",
           "borderwidth": 0
          },
          "xaxis": {
           "automargin": true,
           "gridcolor": "#283442",
           "linecolor": "#506784",
           "ticks": "",
           "title": {
            "standoff": 15
           },
           "zerolinecolor": "#283442",
           "zerolinewidth": 2
          },
          "yaxis": {
           "automargin": true,
           "gridcolor": "#283442",
           "linecolor": "#506784",
           "ticks": "",
           "title": {
            "standoff": 15
           },
           "zerolinecolor": "#283442",
           "zerolinewidth": 2
          }
         }
        },
        "title": {
         "text": "Boxplot da coluna PTRATIO"
        },
        "xaxis": {
         "anchor": "y",
         "autorange": true,
         "domain": [
          0,
          1
         ],
         "range": [
          -0.5,
          0.5
         ],
         "showgrid": false,
         "title": {
          "text": "variable"
         },
         "type": "category"
        },
        "yaxis": {
         "anchor": "x",
         "autorange": true,
         "domain": [
          0,
          1
         ],
         "range": [
          12.077777777777778,
          22.522222222222222
         ],
         "showgrid": false,
         "title": {
          "text": "value"
         },
         "type": "linear"
        }
       }
      },
      "image/png": "[encoded data removed]",
      "text/html": [
       "<div>                            <div id=\"53c9807a-d077-4141-bcf7-d97c3ebf7ab9\" class=\"plotly-graph-div\" style=\"height:525px; width:100%;\"></div>            <script type=\"text/javascript\">                require([\"plotly\"], function(Plotly) {                    window.PLOTLYENV=window.PLOTLYENV || {};                                    if (document.getElementById(\"53c9807a-d077-4141-bcf7-d97c3ebf7ab9\")) {                    Plotly.newPlot(                        \"53c9807a-d077-4141-bcf7-d97c3ebf7ab9\",                        [{\"alignmentgroup\":\"True\",\"hovertemplate\":\"variable=%{x}\\u003cbr\\u003evalue=%{y}\\u003cextra\\u003e\\u003c\\u002fextra\\u003e\",\"legendgroup\":\"\",\"marker\":{\"color\":\"#636efa\"},\"name\":\"\",\"notched\":false,\"offsetgroup\":\"\",\"orientation\":\"v\",\"showlegend\":false,\"x\":[\"PTRATIO\",\"PTRATIO\",\"PTRATIO\",\"PTRATIO\",\"PTRATIO\",\"PTRATIO\",\"PTRATIO\",\"PTRATIO\",\"PTRATIO\",\"PTRATIO\",\"PTRATIO\",\"PTRATIO\",\"PTRATIO\",\"PTRATIO\",\"PTRATIO\",\"PTRATIO\",\"PTRATIO\",\"PTRATIO\",\"PTRATIO\",\"PTRATIO\",\"PTRATIO\",\"PTRATIO\",\"PTRATIO\",\"PTRATIO\",\"PTRATIO\",\"PTRATIO\",\"PTRATIO\",\"PTRATIO\",\"PTRATIO\",\"PTRATIO\",\"PTRATIO\",\"PTRATIO\",\"PTRATIO\",\"PTRATIO\",\"PTRATIO\",\"PTRATIO\",\"PTRATIO\",\"PTRATIO\",\"PTRATIO\",\"PTRATIO\",\"PTRATIO\",\"PTRATIO\",\"PTRATIO\",\"PTRATIO\",\"PTRATIO\",\"PTRATIO\",\"PTRATIO\",\"PTRATIO\",\"PTRATIO\",\"PTRATIO\",\"PTRATIO\",\"PTRATIO\",\"PTRATIO\",\"PTRATIO\",\"PTRATIO\",\"PTRATIO\",\"PTRATIO\",\"PTRATIO\",\"PTRATIO\",\"PTRATIO\",\"PTRATIO\",\"PTRATIO\",\"PTRATIO\",\"PTRATIO\",\"PTRATIO\",\"PTRATIO\",\"PTRATIO\",\"PTRATIO\",\"PTRATIO\",\"PTRATIO\",\"PTRATIO\",\"PTRATIO\",\"PTRATIO\",\"PTRATIO\",\"PTRATIO\",\"PTRATIO\",\"PTRATIO\",\"PTRATIO\",\"PTRATIO\",\"PTRATIO\",\"PTRATIO\",\"PTRATIO\",\"PTRATIO\",\"PTRATIO\",\"PTRATIO\",\"PTRATIO\",\"PTRATIO\",\"PTRATIO\",\"PTRATIO\",\"PTRATIO\",\"PTRATIO\",\"PTRATIO\",\"PTRATIO\",\"PTRATIO\",\"PTRATIO\",\"PTRATIO\",\"PTRATIO\",\"PTRATIO\",\"PTRATIO\",\"PTRATIO\",\"PTRATIO\",\"PTRATIO\",\"PTRATIO\",\"PTRATIO\",\"PTRATIO\",\"PTRATIO\",\"PTRATIO\",\"PTRATIO\",\"PTRATIO\",\"PTRATIO\",\"PTRATIO\",\"PTRATIO\",\"PTRATIO\",\"PTRATIO\",\"PTRATIO\",\"PTRATIO\",\"PTRATIO\",\"PTRATIO\",\"PTRATIO\",\"PTRATIO\",\"PTRATIO\",\"PTRATIO\",\"PTRATIO\",\"PTRATIO\",\"PTRATIO\",\"PTRATIO\",\"PTRATIO\",\"PTRATIO\",\"PTRATIO\",\"PTRATIO\",\"PTRATIO\",\"PTRATIO\",\"PTRATIO\",\"PTRATIO\",\"PTRATIO\",\"PTRATIO\",\"PTRATIO\",\"PTRATIO\",\"PTRATIO\",\"PTRATIO\",\"PTRATIO\",\"PTRATIO\",\"PTRATIO\",\"PTRATIO\",\"PTRATIO\",\"PTRATIO\",\"PTRATIO\",\"PTRATIO\",\"PTRATIO\",\"PTRATIO\",\"PTRATIO\",\"PTRATIO\",\"PTRATIO\",\"PTRATIO\",\"PTRATIO\",\"PTRATIO\",\"PTRATIO\",\"PTRATIO\",\"PTRATIO\",\"PTRATIO\",\"PTRATIO\",\"PTRATIO\",\"PTRATIO\",\"PTRATIO\",\"PTRATIO\",\"PTRATIO\",\"PTRATIO\",\"PTRATIO\",\"PTRATIO\",\"PTRATIO\",\"PTRATIO\",\"PTRATIO\",\"PTRATIO\",\"PTRATIO\",\"PTRATIO\",\"PTRATIO\",\"PTRATIO\",\"PTRATIO\",\"PTRATIO\",\"PTRATIO\",\"PTRATIO\",\"PTRATIO\",\"PTRATIO\",\"PTRATIO\",\"PTRATIO\",\"PTRATIO\",\"PTRATIO\",\"PTRATIO\",\"PTRATIO\",\"PTRATIO\",\"PTRATIO\",\"PTRATIO\",\"PTRATIO\",\"PTRATIO\",\"PTRATIO\",\"PTRATIO\",\"PTRATIO\",\"PTRATIO\",\"PTRATIO\",\"PTRATIO\",\"PTRATIO\",\"PTRATIO\",\"PTRATIO\",\"PTRATIO\",\"PTRATIO\",\"PTRATIO\",\"PTRATIO\",\"PTRATIO\",\"PTRATIO\",\"PTRATIO\",\"PTRATIO\",\"PTRATIO\",\"PTRATIO\",\"PTRATIO\",\"PTRATIO\",\"PTRATIO\",\"PTRATIO\",\"PTRATIO\",\"PTRATIO\",\"PTRATIO\",\"PTRATIO\",\"PTRATIO\",\"PTRATIO\",\"PTRATIO\",\"PTRATIO\",\"PTRATIO\",\"PTRATIO\",\"PTRATIO\",\"PTRATIO\",\"PTRATIO\",\"PTRATIO\",\"PTRATIO\",\"PTRATIO\",\"PTRATIO\",\"PTRATIO\",\"PTRATIO\",\"PTRATIO\",\"PTRATIO\",\"PTRATIO\",\"PTRATIO\",\"PTRATIO\",\"PTRATIO\",\"PTRATIO\",\"PTRATIO\",\"PTRATIO\",\"PTRATIO\",\"PTRATIO\",\"PTRATIO\",\"PTRATIO\",\"PTRATIO\",\"PTRATIO\",\"PTRATIO\",\"PTRATIO\",\"PTRATIO\",\"PTRATIO\",\"PTRATIO\",\"PTRATIO\",\"PTRATIO\",\"PTRATIO\",\"PTRATIO\",\"PTRATIO\",\"PTRATIO\",\"PTRATIO\",\"PTRATIO\",\"PTRATIO\",\"PTRATIO\",\"PTRATIO\",\"PTRATIO\",\"PTRATIO\",\"PTRATIO\",\"PTRATIO\",\"PTRATIO\",\"PTRATIO\",\"PTRATIO\",\"PTRATIO\",\"PTRATIO\",\"PTRATIO\",\"PTRATIO\",\"PTRATIO\",\"PTRATIO\",\"PTRATIO\",\"PTRATIO\",\"PTRATIO\",\"PTRATIO\",\"PTRATIO\",\"PTRATIO\",\"PTRATIO\",\"PTRATIO\",\"PTRATIO\",\"PTRATIO\",\"PTRATIO\",\"PTRATIO\",\"PTRATIO\",\"PTRATIO\",\"PTRATIO\",\"PTRATIO\",\"PTRATIO\",\"PTRATIO\",\"PTRATIO\",\"PTRATIO\",\"PTRATIO\",\"PTRATIO\",\"PTRATIO\",\"PTRATIO\",\"PTRATIO\",\"PTRATIO\",\"PTRATIO\",\"PTRATIO\",\"PTRATIO\",\"PTRATIO\",\"PTRATIO\",\"PTRATIO\",\"PTRATIO\",\"PTRATIO\",\"PTRATIO\",\"PTRATIO\",\"PTRATIO\",\"PTRATIO\",\"PTRATIO\",\"PTRATIO\",\"PTRATIO\",\"PTRATIO\",\"PTRATIO\",\"PTRATIO\",\"PTRATIO\",\"PTRATIO\",\"PTRATIO\",\"PTRATIO\",\"PTRATIO\",\"PTRATIO\",\"PTRATIO\",\"PTRATIO\",\"PTRATIO\",\"PTRATIO\",\"PTRATIO\",\"PTRATIO\",\"PTRATIO\",\"PTRATIO\",\"PTRATIO\",\"PTRATIO\",\"PTRATIO\",\"PTRATIO\",\"PTRATIO\",\"PTRATIO\",\"PTRATIO\",\"PTRATIO\",\"PTRATIO\",\"PTRATIO\",\"PTRATIO\",\"PTRATIO\",\"PTRATIO\",\"PTRATIO\",\"PTRATIO\",\"PTRATIO\",\"PTRATIO\",\"PTRATIO\",\"PTRATIO\",\"PTRATIO\",\"PTRATIO\",\"PTRATIO\",\"PTRATIO\",\"PTRATIO\",\"PTRATIO\",\"PTRATIO\",\"PTRATIO\",\"PTRATIO\",\"PTRATIO\",\"PTRATIO\",\"PTRATIO\",\"PTRATIO\",\"PTRATIO\",\"PTRATIO\",\"PTRATIO\",\"PTRATIO\",\"PTRATIO\",\"PTRATIO\",\"PTRATIO\",\"PTRATIO\",\"PTRATIO\",\"PTRATIO\",\"PTRATIO\",\"PTRATIO\",\"PTRATIO\",\"PTRATIO\",\"PTRATIO\",\"PTRATIO\",\"PTRATIO\",\"PTRATIO\",\"PTRATIO\",\"PTRATIO\",\"PTRATIO\",\"PTRATIO\",\"PTRATIO\",\"PTRATIO\",\"PTRATIO\",\"PTRATIO\",\"PTRATIO\",\"PTRATIO\",\"PTRATIO\",\"PTRATIO\",\"PTRATIO\",\"PTRATIO\",\"PTRATIO\",\"PTRATIO\",\"PTRATIO\",\"PTRATIO\",\"PTRATIO\",\"PTRATIO\",\"PTRATIO\",\"PTRATIO\",\"PTRATIO\",\"PTRATIO\",\"PTRATIO\",\"PTRATIO\",\"PTRATIO\",\"PTRATIO\",\"PTRATIO\",\"PTRATIO\",\"PTRATIO\",\"PTRATIO\",\"PTRATIO\",\"PTRATIO\",\"PTRATIO\",\"PTRATIO\",\"PTRATIO\",\"PTRATIO\",\"PTRATIO\",\"PTRATIO\",\"PTRATIO\",\"PTRATIO\",\"PTRATIO\",\"PTRATIO\",\"PTRATIO\",\"PTRATIO\",\"PTRATIO\",\"PTRATIO\",\"PTRATIO\",\"PTRATIO\",\"PTRATIO\",\"PTRATIO\",\"PTRATIO\",\"PTRATIO\",\"PTRATIO\",\"PTRATIO\",\"PTRATIO\",\"PTRATIO\",\"PTRATIO\",\"PTRATIO\",\"PTRATIO\",\"PTRATIO\",\"PTRATIO\",\"PTRATIO\",\"PTRATIO\",\"PTRATIO\",\"PTRATIO\",\"PTRATIO\",\"PTRATIO\",\"PTRATIO\",\"PTRATIO\",\"PTRATIO\",\"PTRATIO\",\"PTRATIO\",\"PTRATIO\",\"PTRATIO\",\"PTRATIO\",\"PTRATIO\",\"PTRATIO\",\"PTRATIO\",\"PTRATIO\",\"PTRATIO\",\"PTRATIO\",\"PTRATIO\",\"PTRATIO\",\"PTRATIO\",\"PTRATIO\",\"PTRATIO\",\"PTRATIO\",\"PTRATIO\",\"PTRATIO\",\"PTRATIO\",\"PTRATIO\",\"PTRATIO\",\"PTRATIO\",\"PTRATIO\",\"PTRATIO\",\"PTRATIO\",\"PTRATIO\",\"PTRATIO\",\"PTRATIO\"],\"x0\":\" \",\"xaxis\":\"x\",\"y\":[15.3,17.8,17.8,18.7,18.7,18.7,15.2,15.2,15.2,15.2,15.2,15.2,15.2,21.0,21.0,21.0,21.0,21.0,21.0,21.0,21.0,21.0,21.0,21.0,21.0,21.0,21.0,21.0,21.0,21.0,21.0,21.0,21.0,21.0,21.0,19.2,19.2,19.2,19.2,18.3,18.3,17.9,17.9,17.9,17.9,17.9,17.9,17.9,17.9,17.9,16.8,16.8,16.8,16.8,21.1,17.9,17.3,15.1,19.7,19.7,19.7,19.7,19.7,19.7,18.6,16.1,16.1,18.9,18.9,18.9,19.2,19.2,19.2,19.2,18.7,18.7,18.7,18.7,18.7,18.7,19.0,19.0,19.0,19.0,18.5,18.5,18.5,18.5,17.8,17.8,17.8,17.8,18.2,18.2,18.2,18.0,18.0,18.0,18.0,18.0,20.9,20.9,20.9,20.9,20.9,20.9,20.9,20.9,20.9,20.9,20.9,17.8,17.8,17.8,17.8,17.8,17.8,17.8,17.8,17.8,19.1,19.1,19.1,19.1,19.1,19.1,19.1,21.2,21.2,21.2,21.2,21.2,21.2,21.2,21.2,21.2,21.2,21.2,21.2,21.2,21.2,21.2,14.7,14.7,14.7,14.7,14.7,14.7,14.7,14.7,14.7,14.7,14.7,14.7,14.7,14.7,14.7,14.7,14.7,14.7,14.7,14.7,14.7,14.7,14.7,14.7,14.7,14.7,16.6,16.6,16.6,16.6,16.6,16.6,16.6,17.8,17.8,17.8,17.8,17.8,17.8,17.8,15.2,15.2,15.2,15.2,15.2,15.2,15.6,15.6,12.6,12.6,12.6,17.0,17.0,14.7,14.7,14.7,18.6,18.6,18.6,18.6,18.6,18.6,18.6,18.6,18.6,18.6,18.6,16.4,16.4,16.4,16.4,17.4,17.4,17.4,17.4,17.4,17.4,17.4,17.4,17.4,17.4,17.4,17.4,17.4,17.4,17.4,17.4,17.4,16.6,16.6,16.6,16.6,16.6,16.6,19.1,19.1,19.1,19.1,19.1,19.1,19.1,19.1,19.1,19.1,16.4,16.4,15.9,13.0,13.0,13.0,13.0,13.0,13.0,13.0,13.0,13.0,13.0,18.6,18.6,18.6,18.6,18.6,17.6,17.6,17.6,17.6,17.6,14.9,14.9,14.9,14.9,15.3,15.3,18.2,16.6,16.6,16.6,19.2,19.2,19.2,16.0,16.0,16.0,16.0,16.0,14.8,14.8,14.8,16.1,16.1,16.1,18.4,18.4,18.4,18.4,18.4,18.4,18.4,18.4,18.4,18.4,18.4,18.4,18.4,18.4,18.4,18.4,19.6,19.6,19.6,19.6,19.6,19.6,19.6,19.6,16.9,16.9,16.9,16.9,16.9,20.2,20.2,20.2,20.2,20.2,20.2,20.2,20.2,15.5,15.9,17.6,17.6,18.8,18.8,17.9,17.0,19.7,19.7,18.3,18.3,17.0,22.0,22.0,20.2,20.2,20.2,20.2,20.2,20.2,20.2,20.2,20.2,20.2,20.2,20.2,20.2,20.2,20.2,20.2,20.2,20.2,20.2,20.2,20.2,20.2,20.2,20.2,20.2,20.2,20.2,20.2,20.2,20.2,20.2,20.2,20.2,20.2,20.2,20.2,20.2,20.2,20.2,20.2,20.2,20.2,20.2,20.2,20.2,20.2,20.2,20.2,20.2,20.2,20.2,20.2,20.2,20.2,20.2,20.2,20.2,20.2,20.2,20.2,20.2,20.2,20.2,20.2,20.2,20.2,20.2,20.2,20.2,20.2,20.2,20.2,20.2,20.2,20.2,20.2,20.2,20.2,20.2,20.2,20.2,20.2,20.2,20.2,20.2,20.2,20.2,20.2,20.2,20.2,20.2,20.2,20.2,20.2,20.2,20.2,20.2,20.2,20.2,20.2,20.2,20.2,20.2,20.2,20.2,20.2,20.2,20.2,20.2,20.2,20.2,20.2,20.2,20.2,20.2,20.2,20.2,20.2,20.2,20.2,20.2,20.2,20.2,20.2,20.2,20.2,20.1,20.1,20.1,20.1,20.1,19.2,19.2,19.2,19.2,19.2,19.2,19.2,19.2,21.0,21.0,21.0,21.0,21.0],\"y0\":\" \",\"yaxis\":\"y\",\"type\":\"box\"}],                        {\"template\":{\"data\":{\"barpolar\":[{\"marker\":{\"line\":{\"color\":\"rgb(17,17,17)\",\"width\":0.5},\"pattern\":{\"fillmode\":\"overlay\",\"size\":10,\"solidity\":0.2}},\"type\":\"barpolar\"}],\"bar\":[{\"error_x\":{\"color\":\"#f2f5fa\"},\"error_y\":{\"color\":\"#f2f5fa\"},\"marker\":{\"line\":{\"color\":\"rgb(17,17,17)\",\"width\":0.5},\"pattern\":{\"fillmode\":\"overlay\",\"size\":10,\"solidity\":0.2}},\"type\":\"bar\"}],\"carpet\":[{\"aaxis\":{\"endlinecolor\":\"#A2B1C6\",\"gridcolor\":\"#506784\",\"linecolor\":\"#506784\",\"minorgridcolor\":\"#506784\",\"startlinecolor\":\"#A2B1C6\"},\"baxis\":{\"endlinecolor\":\"#A2B1C6\",\"gridcolor\":\"#506784\",\"linecolor\":\"#506784\",\"minorgridcolor\":\"#506784\",\"startlinecolor\":\"#A2B1C6\"},\"type\":\"carpet\"}],\"choropleth\":[{\"colorbar\":{\"outlinewidth\":0,\"ticks\":\"\"},\"type\":\"choropleth\"}],\"contourcarpet\":[{\"colorbar\":{\"outlinewidth\":0,\"ticks\":\"\"},\"type\":\"contourcarpet\"}],\"contour\":[{\"colorbar\":{\"outlinewidth\":0,\"ticks\":\"\"},\"colorscale\":[[0.0,\"#0d0887\"],[0.1111111111111111,\"#46039f\"],[0.2222222222222222,\"#7201a8\"],[0.3333333333333333,\"#9c179e\"],[0.4444444444444444,\"#bd3786\"],[0.5555555555555556,\"#d8576b\"],[0.6666666666666666,\"#ed7953\"],[0.7777777777777778,\"#fb9f3a\"],[0.8888888888888888,\"#fdca26\"],[1.0,\"#f0f921\"]],\"type\":\"contour\"}],\"heatmapgl\":[{\"colorbar\":{\"outlinewidth\":0,\"ticks\":\"\"},\"colorscale\":[[0.0,\"#0d0887\"],[0.1111111111111111,\"#46039f\"],[0.2222222222222222,\"#7201a8\"],[0.3333333333333333,\"#9c179e\"],[0.4444444444444444,\"#bd3786\"],[0.5555555555555556,\"#d8576b\"],[0.6666666666666666,\"#ed7953\"],[0.7777777777777778,\"#fb9f3a\"],[0.8888888888888888,\"#fdca26\"],[1.0,\"#f0f921\"]],\"type\":\"heatmapgl\"}],\"heatmap\":[{\"colorbar\":{\"outlinewidth\":0,\"ticks\":\"\"},\"colorscale\":[[0.0,\"#0d0887\"],[0.1111111111111111,\"#46039f\"],[0.2222222222222222,\"#7201a8\"],[0.3333333333333333,\"#9c179e\"],[0.4444444444444444,\"#bd3786\"],[0.5555555555555556,\"#d8576b\"],[0.6666666666666666,\"#ed7953\"],[0.7777777777777778,\"#fb9f3a\"],[0.8888888888888888,\"#fdca26\"],[1.0,\"#f0f921\"]],\"type\":\"heatmap\"}],\"histogram2dcontour\":[{\"colorbar\":{\"outlinewidth\":0,\"ticks\":\"\"},\"colorscale\":[[0.0,\"#0d0887\"],[0.1111111111111111,\"#46039f\"],[0.2222222222222222,\"#7201a8\"],[0.3333333333333333,\"#9c179e\"],[0.4444444444444444,\"#bd3786\"],[0.5555555555555556,\"#d8576b\"],[0.6666666666666666,\"#ed7953\"],[0.7777777777777778,\"#fb9f3a\"],[0.8888888888888888,\"#fdca26\"],[1.0,\"#f0f921\"]],\"type\":\"histogram2dcontour\"}],\"histogram2d\":[{\"colorbar\":{\"outlinewidth\":0,\"ticks\":\"\"},\"colorscale\":[[0.0,\"#0d0887\"],[0.1111111111111111,\"#46039f\"],[0.2222222222222222,\"#7201a8\"],[0.3333333333333333,\"#9c179e\"],[0.4444444444444444,\"#bd3786\"],[0.5555555555555556,\"#d8576b\"],[0.6666666666666666,\"#ed7953\"],[0.7777777777777778,\"#fb9f3a\"],[0.8888888888888888,\"#fdca26\"],[1.0,\"#f0f921\"]],\"type\":\"histogram2d\"}],\"histogram\":[{\"marker\":{\"pattern\":{\"fillmode\":\"overlay\",\"size\":10,\"solidity\":0.2}},\"type\":\"histogram\"}],\"mesh3d\":[{\"colorbar\":{\"outlinewidth\":0,\"ticks\":\"\"},\"type\":\"mesh3d\"}],\"parcoords\":[{\"line\":{\"colorbar\":{\"outlinewidth\":0,\"ticks\":\"\"}},\"type\":\"parcoords\"}],\"pie\":[{\"automargin\":true,\"type\":\"pie\"}],\"scatter3d\":[{\"line\":{\"colorbar\":{\"outlinewidth\":0,\"ticks\":\"\"}},\"marker\":{\"colorbar\":{\"outlinewidth\":0,\"ticks\":\"\"}},\"type\":\"scatter3d\"}],\"scattercarpet\":[{\"marker\":{\"colorbar\":{\"outlinewidth\":0,\"ticks\":\"\"}},\"type\":\"scattercarpet\"}],\"scattergeo\":[{\"marker\":{\"colorbar\":{\"outlinewidth\":0,\"ticks\":\"\"}},\"type\":\"scattergeo\"}],\"scattergl\":[{\"marker\":{\"line\":{\"color\":\"#283442\"}},\"type\":\"scattergl\"}],\"scattermapbox\":[{\"marker\":{\"colorbar\":{\"outlinewidth\":0,\"ticks\":\"\"}},\"type\":\"scattermapbox\"}],\"scatterpolargl\":[{\"marker\":{\"colorbar\":{\"outlinewidth\":0,\"ticks\":\"\"}},\"type\":\"scatterpolargl\"}],\"scatterpolar\":[{\"marker\":{\"colorbar\":{\"outlinewidth\":0,\"ticks\":\"\"}},\"type\":\"scatterpolar\"}],\"scatter\":[{\"marker\":{\"line\":{\"color\":\"#283442\"}},\"type\":\"scatter\"}],\"scatterternary\":[{\"marker\":{\"colorbar\":{\"outlinewidth\":0,\"ticks\":\"\"}},\"type\":\"scatterternary\"}],\"surface\":[{\"colorbar\":{\"outlinewidth\":0,\"ticks\":\"\"},\"colorscale\":[[0.0,\"#0d0887\"],[0.1111111111111111,\"#46039f\"],[0.2222222222222222,\"#7201a8\"],[0.3333333333333333,\"#9c179e\"],[0.4444444444444444,\"#bd3786\"],[0.5555555555555556,\"#d8576b\"],[0.6666666666666666,\"#ed7953\"],[0.7777777777777778,\"#fb9f3a\"],[0.8888888888888888,\"#fdca26\"],[1.0,\"#f0f921\"]],\"type\":\"surface\"}],\"table\":[{\"cells\":{\"fill\":{\"color\":\"#506784\"},\"line\":{\"color\":\"rgb(17,17,17)\"}},\"header\":{\"fill\":{\"color\":\"#2a3f5f\"},\"line\":{\"color\":\"rgb(17,17,17)\"}},\"type\":\"table\"}]},\"layout\":{\"annotationdefaults\":{\"arrowcolor\":\"#f2f5fa\",\"arrowhead\":0,\"arrowwidth\":1},\"autotypenumbers\":\"strict\",\"coloraxis\":{\"colorbar\":{\"outlinewidth\":0,\"ticks\":\"\"}},\"colorscale\":{\"diverging\":[[0,\"#8e0152\"],[0.1,\"#c51b7d\"],[0.2,\"#de77ae\"],[0.3,\"#f1b6da\"],[0.4,\"#fde0ef\"],[0.5,\"#f7f7f7\"],[0.6,\"#e6f5d0\"],[0.7,\"#b8e186\"],[0.8,\"#7fbc41\"],[0.9,\"#4d9221\"],[1,\"#276419\"]],\"sequential\":[[0.0,\"#0d0887\"],[0.1111111111111111,\"#46039f\"],[0.2222222222222222,\"#7201a8\"],[0.3333333333333333,\"#9c179e\"],[0.4444444444444444,\"#bd3786\"],[0.5555555555555556,\"#d8576b\"],[0.6666666666666666,\"#ed7953\"],[0.7777777777777778,\"#fb9f3a\"],[0.8888888888888888,\"#fdca26\"],[1.0,\"#f0f921\"]],\"sequentialminus\":[[0.0,\"#0d0887\"],[0.1111111111111111,\"#46039f\"],[0.2222222222222222,\"#7201a8\"],[0.3333333333333333,\"#9c179e\"],[0.4444444444444444,\"#bd3786\"],[0.5555555555555556,\"#d8576b\"],[0.6666666666666666,\"#ed7953\"],[0.7777777777777778,\"#fb9f3a\"],[0.8888888888888888,\"#fdca26\"],[1.0,\"#f0f921\"]]},\"colorway\":[\"#636efa\",\"#EF553B\",\"#00cc96\",\"#ab63fa\",\"#FFA15A\",\"#19d3f3\",\"#FF6692\",\"#B6E880\",\"#FF97FF\",\"#FECB52\"],\"font\":{\"color\":\"#f2f5fa\"},\"geo\":{\"bgcolor\":\"rgb(17,17,17)\",\"lakecolor\":\"rgb(17,17,17)\",\"landcolor\":\"rgb(17,17,17)\",\"showlakes\":true,\"showland\":true,\"subunitcolor\":\"#506784\"},\"hoverlabel\":{\"align\":\"left\"},\"hovermode\":\"closest\",\"mapbox\":{\"style\":\"dark\"},\"paper_bgcolor\":\"rgb(17,17,17)\",\"plot_bgcolor\":\"rgb(17,17,17)\",\"polar\":{\"angularaxis\":{\"gridcolor\":\"#506784\",\"linecolor\":\"#506784\",\"ticks\":\"\"},\"bgcolor\":\"rgb(17,17,17)\",\"radialaxis\":{\"gridcolor\":\"#506784\",\"linecolor\":\"#506784\",\"ticks\":\"\"}},\"scene\":{\"xaxis\":{\"backgroundcolor\":\"rgb(17,17,17)\",\"gridcolor\":\"#506784\",\"gridwidth\":2,\"linecolor\":\"#506784\",\"showbackground\":true,\"ticks\":\"\",\"zerolinecolor\":\"#C8D4E3\"},\"yaxis\":{\"backgroundcolor\":\"rgb(17,17,17)\",\"gridcolor\":\"#506784\",\"gridwidth\":2,\"linecolor\":\"#506784\",\"showbackground\":true,\"ticks\":\"\",\"zerolinecolor\":\"#C8D4E3\"},\"zaxis\":{\"backgroundcolor\":\"rgb(17,17,17)\",\"gridcolor\":\"#506784\",\"gridwidth\":2,\"linecolor\":\"#506784\",\"showbackground\":true,\"ticks\":\"\",\"zerolinecolor\":\"#C8D4E3\"}},\"shapedefaults\":{\"line\":{\"color\":\"#f2f5fa\"}},\"sliderdefaults\":{\"bgcolor\":\"#C8D4E3\",\"bordercolor\":\"rgb(17,17,17)\",\"borderwidth\":1,\"tickwidth\":0},\"ternary\":{\"aaxis\":{\"gridcolor\":\"#506784\",\"linecolor\":\"#506784\",\"ticks\":\"\"},\"baxis\":{\"gridcolor\":\"#506784\",\"linecolor\":\"#506784\",\"ticks\":\"\"},\"bgcolor\":\"rgb(17,17,17)\",\"caxis\":{\"gridcolor\":\"#506784\",\"linecolor\":\"#506784\",\"ticks\":\"\"}},\"title\":{\"x\":0.05},\"updatemenudefaults\":{\"bgcolor\":\"#506784\",\"borderwidth\":0},\"xaxis\":{\"automargin\":true,\"gridcolor\":\"#283442\",\"linecolor\":\"#506784\",\"ticks\":\"\",\"title\":{\"standoff\":15},\"zerolinecolor\":\"#283442\",\"zerolinewidth\":2},\"yaxis\":{\"automargin\":true,\"gridcolor\":\"#283442\",\"linecolor\":\"#506784\",\"ticks\":\"\",\"title\":{\"standoff\":15},\"zerolinecolor\":\"#283442\",\"zerolinewidth\":2}}},\"xaxis\":{\"anchor\":\"y\",\"domain\":[0.0,1.0],\"title\":{\"text\":\"variable\"},\"showgrid\":false},\"yaxis\":{\"anchor\":\"x\",\"domain\":[0.0,1.0],\"title\":{\"text\":\"value\"},\"showgrid\":false},\"legend\":{\"tracegroupgap\":0},\"margin\":{\"t\":60},\"boxmode\":\"group\",\"title\":{\"text\":\"Boxplot da coluna PTRATIO\"}},                        {\"responsive\": true}                    ).then(function(){\n",
       "                            \n",
       "var gd = document.getElementById('53c9807a-d077-4141-bcf7-d97c3ebf7ab9');\n",
       "var x = new MutationObserver(function (mutations, observer) {{\n",
       "        var display = window.getComputedStyle(gd).display;\n",
       "        if (!display || display === 'none') {{\n",
       "            console.log([gd, 'removed!']);\n",
       "            Plotly.purge(gd);\n",
       "            observer.disconnect();\n",
       "        }}\n",
       "}});\n",
       "\n",
       "// Listen for the removal of the full notebook cells\n",
       "var notebookContainer = gd.closest('#notebook-container');\n",
       "if (notebookContainer) {{\n",
       "    x.observe(notebookContainer, {childList: true});\n",
       "}}\n",
       "\n",
       "// Listen for the clearing of the current output cell\n",
       "var outputEl = gd.closest('.output');\n",
       "if (outputEl) {{\n",
       "    x.observe(outputEl, {childList: true});\n",
       "}}\n",
       "\n",
       "                        })                };                });            </script>        </div>"
      ]
     },
     "metadata": {},
     "output_type": "display_data"
    },
    {
     "name": "stdout",
     "output_type": "stream",
     "text": [
      "\n",
      " Nome da coluna:\n",
      " MEDV\n",
      "\n",
      " Tipo da coluna:\n",
      " float64\n",
      "\n",
      " Valor media da coluna:\n",
      "454342.94%\n",
      "\n",
      " Quantidade de linhas da coluna:\n",
      " (489,)\n",
      "\n",
      " Valores unicos da coluna:\n",
      " 0\n",
      "\n",
      " Valores nulos da coluna:\n",
      " count    4.890000e+02\n",
      "mean     4.543429e+05\n",
      "std      1.653403e+05\n",
      "min      1.050000e+05\n",
      "25%      3.507000e+05\n",
      "50%      4.389000e+05\n",
      "75%      5.187000e+05\n",
      "max      1.024800e+06\n",
      "Name: MEDV, dtype: float64\n"
     ]
    },
    {
     "data": {
      "application/vnd.plotly.v1+json": {
       "config": {
        "plotlyServerURL": "https://plot.ly"
       },
       "data": [
        {
         "alignmentgroup": "True",
         "hovertemplate": "variable=%{x}<br>value=%{y}<extra></extra>",
         "legendgroup": "",
         "marker": {
          "color": "#636efa"
         },
         "name": "",
         "notched": false,
         "offsetgroup": "",
         "orientation": "v",
         "showlegend": false,
         "type": "box",
         "x": [
          "MEDV",
          "MEDV",
          "MEDV",
          "MEDV",
          "MEDV",
          "MEDV",
          "MEDV",
          "MEDV",
          "MEDV",
          "MEDV",
          "MEDV",
          "MEDV",
          "MEDV",
          "MEDV",
          "MEDV",
          "MEDV",
          "MEDV",
          "MEDV",
          "MEDV",
          "MEDV",
          "MEDV",
          "MEDV",
          "MEDV",
          "MEDV",
          "MEDV",
          "MEDV",
          "MEDV",
          "MEDV",
          "MEDV",
          "MEDV",
          "MEDV",
          "MEDV",
          "MEDV",
          "MEDV",
          "MEDV",
          "MEDV",
          "MEDV",
          "MEDV",
          "MEDV",
          "MEDV",
          "MEDV",
          "MEDV",
          "MEDV",
          "MEDV",
          "MEDV",
          "MEDV",
          "MEDV",
          "MEDV",
          "MEDV",
          "MEDV",
          "MEDV",
          "MEDV",
          "MEDV",
          "MEDV",
          "MEDV",
          "MEDV",
          "MEDV",
          "MEDV",
          "MEDV",
          "MEDV",
          "MEDV",
          "MEDV",
          "MEDV",
          "MEDV",
          "MEDV",
          "MEDV",
          "MEDV",
          "MEDV",
          "MEDV",
          "MEDV",
          "MEDV",
          "MEDV",
          "MEDV",
          "MEDV",
          "MEDV",
          "MEDV",
          "MEDV",
          "MEDV",
          "MEDV",
          "MEDV",
          "MEDV",
          "MEDV",
          "MEDV",
          "MEDV",
          "MEDV",
          "MEDV",
          "MEDV",
          "MEDV",
          "MEDV",
          "MEDV",
          "MEDV",
          "MEDV",
          "MEDV",
          "MEDV",
          "MEDV",
          "MEDV",
          "MEDV",
          "MEDV",
          "MEDV",
          "MEDV",
          "MEDV",
          "MEDV",
          "MEDV",
          "MEDV",
          "MEDV",
          "MEDV",
          "MEDV",
          "MEDV",
          "MEDV",
          "MEDV",
          "MEDV",
          "MEDV",
          "MEDV",
          "MEDV",
          "MEDV",
          "MEDV",
          "MEDV",
          "MEDV",
          "MEDV",
          "MEDV",
          "MEDV",
          "MEDV",
          "MEDV",
          "MEDV",
          "MEDV",
          "MEDV",
          "MEDV",
          "MEDV",
          "MEDV",
          "MEDV",
          "MEDV",
          "MEDV",
          "MEDV",
          "MEDV",
          "MEDV",
          "MEDV",
          "MEDV",
          "MEDV",
          "MEDV",
          "MEDV",
          "MEDV",
          "MEDV",
          "MEDV",
          "MEDV",
          "MEDV",
          "MEDV",
          "MEDV",
          "MEDV",
          "MEDV",
          "MEDV",
          "MEDV",
          "MEDV",
          "MEDV",
          "MEDV",
          "MEDV",
          "MEDV",
          "MEDV",
          "MEDV",
          "MEDV",
          "MEDV",
          "MEDV",
          "MEDV",
          "MEDV",
          "MEDV",
          "MEDV",
          "MEDV",
          "MEDV",
          "MEDV",
          "MEDV",
          "MEDV",
          "MEDV",
          "MEDV",
          "MEDV",
          "MEDV",
          "MEDV",
          "MEDV",
          "MEDV",
          "MEDV",
          "MEDV",
          "MEDV",
          "MEDV",
          "MEDV",
          "MEDV",
          "MEDV",
          "MEDV",
          "MEDV",
          "MEDV",
          "MEDV",
          "MEDV",
          "MEDV",
          "MEDV",
          "MEDV",
          "MEDV",
          "MEDV",
          "MEDV",
          "MEDV",
          "MEDV",
          "MEDV",
          "MEDV",
          "MEDV",
          "MEDV",
          "MEDV",
          "MEDV",
          "MEDV",
          "MEDV",
          "MEDV",
          "MEDV",
          "MEDV",
          "MEDV",
          "MEDV",
          "MEDV",
          "MEDV",
          "MEDV",
          "MEDV",
          "MEDV",
          "MEDV",
          "MEDV",
          "MEDV",
          "MEDV",
          "MEDV",
          "MEDV",
          "MEDV",
          "MEDV",
          "MEDV",
          "MEDV",
          "MEDV",
          "MEDV",
          "MEDV",
          "MEDV",
          "MEDV",
          "MEDV",
          "MEDV",
          "MEDV",
          "MEDV",
          "MEDV",
          "MEDV",
          "MEDV",
          "MEDV",
          "MEDV",
          "MEDV",
          "MEDV",
          "MEDV",
          "MEDV",
          "MEDV",
          "MEDV",
          "MEDV",
          "MEDV",
          "MEDV",
          "MEDV",
          "MEDV",
          "MEDV",
          "MEDV",
          "MEDV",
          "MEDV",
          "MEDV",
          "MEDV",
          "MEDV",
          "MEDV",
          "MEDV",
          "MEDV",
          "MEDV",
          "MEDV",
          "MEDV",
          "MEDV",
          "MEDV",
          "MEDV",
          "MEDV",
          "MEDV",
          "MEDV",
          "MEDV",
          "MEDV",
          "MEDV",
          "MEDV",
          "MEDV",
          "MEDV",
          "MEDV",
          "MEDV",
          "MEDV",
          "MEDV",
          "MEDV",
          "MEDV",
          "MEDV",
          "MEDV",
          "MEDV",
          "MEDV",
          "MEDV",
          "MEDV",
          "MEDV",
          "MEDV",
          "MEDV",
          "MEDV",
          "MEDV",
          "MEDV",
          "MEDV",
          "MEDV",
          "MEDV",
          "MEDV",
          "MEDV",
          "MEDV",
          "MEDV",
          "MEDV",
          "MEDV",
          "MEDV",
          "MEDV",
          "MEDV",
          "MEDV",
          "MEDV",
          "MEDV",
          "MEDV",
          "MEDV",
          "MEDV",
          "MEDV",
          "MEDV",
          "MEDV",
          "MEDV",
          "MEDV",
          "MEDV",
          "MEDV",
          "MEDV",
          "MEDV",
          "MEDV",
          "MEDV",
          "MEDV",
          "MEDV",
          "MEDV",
          "MEDV",
          "MEDV",
          "MEDV",
          "MEDV",
          "MEDV",
          "MEDV",
          "MEDV",
          "MEDV",
          "MEDV",
          "MEDV",
          "MEDV",
          "MEDV",
          "MEDV",
          "MEDV",
          "MEDV",
          "MEDV",
          "MEDV",
          "MEDV",
          "MEDV",
          "MEDV",
          "MEDV",
          "MEDV",
          "MEDV",
          "MEDV",
          "MEDV",
          "MEDV",
          "MEDV",
          "MEDV",
          "MEDV",
          "MEDV",
          "MEDV",
          "MEDV",
          "MEDV",
          "MEDV",
          "MEDV",
          "MEDV",
          "MEDV",
          "MEDV",
          "MEDV",
          "MEDV",
          "MEDV",
          "MEDV",
          "MEDV",
          "MEDV",
          "MEDV",
          "MEDV",
          "MEDV",
          "MEDV",
          "MEDV",
          "MEDV",
          "MEDV",
          "MEDV",
          "MEDV",
          "MEDV",
          "MEDV",
          "MEDV",
          "MEDV",
          "MEDV",
          "MEDV",
          "MEDV",
          "MEDV",
          "MEDV",
          "MEDV",
          "MEDV",
          "MEDV",
          "MEDV",
          "MEDV",
          "MEDV",
          "MEDV",
          "MEDV",
          "MEDV",
          "MEDV",
          "MEDV",
          "MEDV",
          "MEDV",
          "MEDV",
          "MEDV",
          "MEDV",
          "MEDV",
          "MEDV",
          "MEDV",
          "MEDV",
          "MEDV",
          "MEDV",
          "MEDV",
          "MEDV",
          "MEDV",
          "MEDV",
          "MEDV",
          "MEDV",
          "MEDV",
          "MEDV",
          "MEDV",
          "MEDV",
          "MEDV",
          "MEDV",
          "MEDV",
          "MEDV",
          "MEDV",
          "MEDV",
          "MEDV",
          "MEDV",
          "MEDV",
          "MEDV",
          "MEDV",
          "MEDV",
          "MEDV",
          "MEDV",
          "MEDV",
          "MEDV",
          "MEDV",
          "MEDV",
          "MEDV",
          "MEDV",
          "MEDV",
          "MEDV",
          "MEDV",
          "MEDV",
          "MEDV",
          "MEDV",
          "MEDV",
          "MEDV",
          "MEDV",
          "MEDV",
          "MEDV",
          "MEDV",
          "MEDV",
          "MEDV",
          "MEDV",
          "MEDV",
          "MEDV",
          "MEDV",
          "MEDV",
          "MEDV",
          "MEDV",
          "MEDV",
          "MEDV",
          "MEDV",
          "MEDV",
          "MEDV",
          "MEDV",
          "MEDV",
          "MEDV",
          "MEDV",
          "MEDV",
          "MEDV",
          "MEDV",
          "MEDV",
          "MEDV",
          "MEDV",
          "MEDV",
          "MEDV",
          "MEDV",
          "MEDV",
          "MEDV",
          "MEDV",
          "MEDV",
          "MEDV",
          "MEDV",
          "MEDV",
          "MEDV",
          "MEDV",
          "MEDV",
          "MEDV"
         ],
         "x0": " ",
         "xaxis": "x",
         "y": [
          504000,
          453600,
          728700,
          701400,
          760200,
          602700,
          480900,
          569100,
          346500,
          396900,
          315000,
          396900,
          455700,
          428400,
          382200,
          417900,
          485100,
          367500,
          424200,
          382200,
          285600,
          411600,
          319200,
          304500,
          327600,
          291900,
          348600,
          310800,
          386400,
          441000,
          266700,
          304500,
          277200,
          275100,
          283500,
          396900,
          420000,
          441000,
          518700,
          646800,
          732900,
          558600,
          531300,
          518700,
          445200,
          405300,
          420000,
          348600,
          302400,
          407400,
          413700,
          430500,
          525000,
          491400,
          396900,
          743400,
          518700,
          663600,
          489300,
          411600,
          392700,
          336000,
          466200,
          525000,
          693000,
          493500,
          407400,
          462000,
          365400,
          438900,
          508200,
          455700,
          478800,
          491400,
          506100,
          449400,
          420000,
          436800,
          445200,
          426300,
          588000,
          501900,
          520800,
          480900,
          501900,
          558600,
          472500,
          466200,
          495600,
          602700,
          474600,
          462000,
          480900,
          525000,
          432600,
          596400,
          449400,
          812700,
          919800,
          697200,
          577500,
          556500,
          390600,
          405300,
          422100,
          409500,
          409500,
          428400,
          415800,
          407400,
          455700,
          478800,
          394800,
          392700,
          388500,
          384300,
          445200,
          403200,
          428400,
          405300,
          462000,
          426300,
          430500,
          363300,
          394800,
          449400,
          329700,
          340200,
          378000,
          300300,
          403200,
          411600,
          483000,
          386400,
          327600,
          380100,
          365400,
          359100,
          279300,
          373800,
          294000,
          302400,
          281400,
          327600,
          247800,
          289800,
          327600,
          306600,
          373800,
          323400,
          451500,
          411600,
          321300,
          407400,
          357000,
          327600,
          275100,
          867300,
          510300,
          489300,
          567000,
          476700,
          525000,
          499800,
          499800,
          468300,
          365400,
          401100,
          485100,
          495600,
          474600,
          617400,
          487200,
          516600,
          627900,
          781200,
          835800,
          760200,
          795900,
          682500,
          554400,
          621600,
          672000,
          625800,
          732900,
          777000,
          640500,
          764400,
          653100,
          611100,
          699300,
          636300,
          726600,
          732900,
          690900,
          506100,
          888300,
          1018500,
          474600,
          512400,
          472500,
          512400,
          420000,
          455700,
          405300,
          470400,
          590100,
          497700,
          525000,
          489300,
          602700,
          451500,
          483000,
          560700,
          455700,
          577500,
          632100,
          940800,
          789600,
          663600,
          980700,
          661500,
          510300,
          665700,
          875700,
          1014300,
          609000,
          504000,
          527100,
          661500,
          497700,
          489300,
          462000,
          422100,
          466200,
          497700,
          369600,
          388500,
          510300,
          430500,
          514500,
          550200,
          512400,
          520800,
          621600,
          898800,
          459900,
          438900,
          924000,
          756000,
          632100,
          709800,
          905100,
          1024800,
          651000,
          766500,
          478800,
          644700,
          913500,
          434700,
          443100,
          529200,
          512400,
          739200,
          680400,
          672000,
          697200,
          695100,
          611100,
          737100,
          953400,
          743400,
          966000,
          676200,
          462000,
          422100,
          487200,
          468300,
          520800,
          598500,
          783300,
          585900,
          501900,
          455700,
          600600,
          569100,
          426300,
          472500,
          609000,
          520800,
          462000,
          554400,
          695100,
          758100,
          596400,
          701400,
          592200,
          478800,
          426300,
          338100,
          464100,
          407400,
          453600,
          499800,
          340200,
          373800,
          415800,
          485100,
          441000,
          499800,
          485100,
          428400,
          388500,
          525000,
          516600,
          483000,
          466200,
          405300,
          474600,
          415800,
          359100,
          407400,
          466200,
          434700,
          443100,
          409500,
          388500,
          432600,
          399000,
          392700,
          686700,
          346500,
          501900,
          655200,
          367500,
          361200,
          485100,
          514500,
          558600,
          480900,
          506100,
          390600,
          632100,
          382200,
          432600,
          373800,
          455700,
          476700,
          474600,
          525000,
          417900,
          436800,
          352800,
          577500,
          459900,
          485100,
          289800,
          289800,
          315000,
          291900,
          279300,
          275100,
          214200,
          218400,
          228900,
          237300,
          258300,
          184800,
          151200,
          220500,
          155400,
          214200,
          241500,
          317100,
          487200,
          203700,
          289800,
          266700,
          275100,
          262500,
          178500,
          105000,
          132300,
          117600,
          151200,
          254100,
          174300,
          178500,
          105000,
          249900,
          585900,
          361200,
          577500,
          315000,
          361200,
          375900,
          342300,
          147000,
          151200,
          157500,
          218400,
          184800,
          176400,
          350700,
          298200,
          436800,
          281400,
          245700,
          174300,
          214200,
          228900,
          231000,
          199500,
          304500,
          296100,
          338100,
          300300,
          245700,
          281400,
          201600,
          182700,
          176400,
          268800,
          220500,
          359100,
          386400,
          323400,
          226800,
          247800,
          312900,
          264600,
          296100,
          273000,
          281400,
          319200,
          338100,
          373800,
          312900,
          296100,
          266700,
          283500,
          312900,
          420000,
          344400,
          371700,
          409500,
          424200,
          449400,
          417900,
          399000,
          401100,
          401100,
          422100,
          417900,
          411600,
          487200,
          625800,
          289800,
          279300,
          350700,
          252000,
          306600,
          449400,
          483000,
          497700,
          525000,
          457800,
          432600,
          445200,
          401100,
          432600,
          319200,
          147000,
          170100,
          285600,
          422100,
          457800,
          514500,
          485100,
          413700,
          384300,
          445200,
          367500,
          352800,
          470400,
          432600,
          501900,
          462000,
          249900
         ],
         "y0": " ",
         "yaxis": "y"
        }
       ],
       "layout": {
        "autosize": true,
        "boxmode": "group",
        "legend": {
         "tracegroupgap": 0
        },
        "margin": {
         "t": 60
        },
        "template": {
         "data": {
          "bar": [
           {
            "error_x": {
             "color": "#f2f5fa"
            },
            "error_y": {
             "color": "#f2f5fa"
            },
            "marker": {
             "line": {
              "color": "rgb(17,17,17)",
              "width": 0.5
             },
             "pattern": {
              "fillmode": "overlay",
              "size": 10,
              "solidity": 0.2
             }
            },
            "type": "bar"
           }
          ],
          "barpolar": [
           {
            "marker": {
             "line": {
              "color": "rgb(17,17,17)",
              "width": 0.5
             },
             "pattern": {
              "fillmode": "overlay",
              "size": 10,
              "solidity": 0.2
             }
            },
            "type": "barpolar"
           }
          ],
          "carpet": [
           {
            "aaxis": {
             "endlinecolor": "#A2B1C6",
             "gridcolor": "#506784",
             "linecolor": "#506784",
             "minorgridcolor": "#506784",
             "startlinecolor": "#A2B1C6"
            },
            "baxis": {
             "endlinecolor": "#A2B1C6",
             "gridcolor": "#506784",
             "linecolor": "#506784",
             "minorgridcolor": "#506784",
             "startlinecolor": "#A2B1C6"
            },
            "type": "carpet"
           }
          ],
          "choropleth": [
           {
            "colorbar": {
             "outlinewidth": 0,
             "ticks": ""
            },
            "type": "choropleth"
           }
          ],
          "contour": [
           {
            "colorbar": {
             "outlinewidth": 0,
             "ticks": ""
            },
            "colorscale": [
             [
              0,
              "#0d0887"
             ],
             [
              0.1111111111111111,
              "#46039f"
             ],
             [
              0.2222222222222222,
              "#7201a8"
             ],
             [
              0.3333333333333333,
              "#9c179e"
             ],
             [
              0.4444444444444444,
              "#bd3786"
             ],
             [
              0.5555555555555556,
              "#d8576b"
             ],
             [
              0.6666666666666666,
              "#ed7953"
             ],
             [
              0.7777777777777778,
              "#fb9f3a"
             ],
             [
              0.8888888888888888,
              "#fdca26"
             ],
             [
              1,
              "#f0f921"
             ]
            ],
            "type": "contour"
           }
          ],
          "contourcarpet": [
           {
            "colorbar": {
             "outlinewidth": 0,
             "ticks": ""
            },
            "type": "contourcarpet"
           }
          ],
          "heatmap": [
           {
            "colorbar": {
             "outlinewidth": 0,
             "ticks": ""
            },
            "colorscale": [
             [
              0,
              "#0d0887"
             ],
             [
              0.1111111111111111,
              "#46039f"
             ],
             [
              0.2222222222222222,
              "#7201a8"
             ],
             [
              0.3333333333333333,
              "#9c179e"
             ],
             [
              0.4444444444444444,
              "#bd3786"
             ],
             [
              0.5555555555555556,
              "#d8576b"
             ],
             [
              0.6666666666666666,
              "#ed7953"
             ],
             [
              0.7777777777777778,
              "#fb9f3a"
             ],
             [
              0.8888888888888888,
              "#fdca26"
             ],
             [
              1,
              "#f0f921"
             ]
            ],
            "type": "heatmap"
           }
          ],
          "heatmapgl": [
           {
            "colorbar": {
             "outlinewidth": 0,
             "ticks": ""
            },
            "colorscale": [
             [
              0,
              "#0d0887"
             ],
             [
              0.1111111111111111,
              "#46039f"
             ],
             [
              0.2222222222222222,
              "#7201a8"
             ],
             [
              0.3333333333333333,
              "#9c179e"
             ],
             [
              0.4444444444444444,
              "#bd3786"
             ],
             [
              0.5555555555555556,
              "#d8576b"
             ],
             [
              0.6666666666666666,
              "#ed7953"
             ],
             [
              0.7777777777777778,
              "#fb9f3a"
             ],
             [
              0.8888888888888888,
              "#fdca26"
             ],
             [
              1,
              "#f0f921"
             ]
            ],
            "type": "heatmapgl"
           }
          ],
          "histogram": [
           {
            "marker": {
             "pattern": {
              "fillmode": "overlay",
              "size": 10,
              "solidity": 0.2
             }
            },
            "type": "histogram"
           }
          ],
          "histogram2d": [
           {
            "colorbar": {
             "outlinewidth": 0,
             "ticks": ""
            },
            "colorscale": [
             [
              0,
              "#0d0887"
             ],
             [
              0.1111111111111111,
              "#46039f"
             ],
             [
              0.2222222222222222,
              "#7201a8"
             ],
             [
              0.3333333333333333,
              "#9c179e"
             ],
             [
              0.4444444444444444,
              "#bd3786"
             ],
             [
              0.5555555555555556,
              "#d8576b"
             ],
             [
              0.6666666666666666,
              "#ed7953"
             ],
             [
              0.7777777777777778,
              "#fb9f3a"
             ],
             [
              0.8888888888888888,
              "#fdca26"
             ],
             [
              1,
              "#f0f921"
             ]
            ],
            "type": "histogram2d"
           }
          ],
          "histogram2dcontour": [
           {
            "colorbar": {
             "outlinewidth": 0,
             "ticks": ""
            },
            "colorscale": [
             [
              0,
              "#0d0887"
             ],
             [
              0.1111111111111111,
              "#46039f"
             ],
             [
              0.2222222222222222,
              "#7201a8"
             ],
             [
              0.3333333333333333,
              "#9c179e"
             ],
             [
              0.4444444444444444,
              "#bd3786"
             ],
             [
              0.5555555555555556,
              "#d8576b"
             ],
             [
              0.6666666666666666,
              "#ed7953"
             ],
             [
              0.7777777777777778,
              "#fb9f3a"
             ],
             [
              0.8888888888888888,
              "#fdca26"
             ],
             [
              1,
              "#f0f921"
             ]
            ],
            "type": "histogram2dcontour"
           }
          ],
          "mesh3d": [
           {
            "colorbar": {
             "outlinewidth": 0,
             "ticks": ""
            },
            "type": "mesh3d"
           }
          ],
          "parcoords": [
           {
            "line": {
             "colorbar": {
              "outlinewidth": 0,
              "ticks": ""
             }
            },
            "type": "parcoords"
           }
          ],
          "pie": [
           {
            "automargin": true,
            "type": "pie"
           }
          ],
          "scatter": [
           {
            "marker": {
             "line": {
              "color": "#283442"
             }
            },
            "type": "scatter"
           }
          ],
          "scatter3d": [
           {
            "line": {
             "colorbar": {
              "outlinewidth": 0,
              "ticks": ""
             }
            },
            "marker": {
             "colorbar": {
              "outlinewidth": 0,
              "ticks": ""
             }
            },
            "type": "scatter3d"
           }
          ],
          "scattercarpet": [
           {
            "marker": {
             "colorbar": {
              "outlinewidth": 0,
              "ticks": ""
             }
            },
            "type": "scattercarpet"
           }
          ],
          "scattergeo": [
           {
            "marker": {
             "colorbar": {
              "outlinewidth": 0,
              "ticks": ""
             }
            },
            "type": "scattergeo"
           }
          ],
          "scattergl": [
           {
            "marker": {
             "line": {
              "color": "#283442"
             }
            },
            "type": "scattergl"
           }
          ],
          "scattermapbox": [
           {
            "marker": {
             "colorbar": {
              "outlinewidth": 0,
              "ticks": ""
             }
            },
            "type": "scattermapbox"
           }
          ],
          "scatterpolar": [
           {
            "marker": {
             "colorbar": {
              "outlinewidth": 0,
              "ticks": ""
             }
            },
            "type": "scatterpolar"
           }
          ],
          "scatterpolargl": [
           {
            "marker": {
             "colorbar": {
              "outlinewidth": 0,
              "ticks": ""
             }
            },
            "type": "scatterpolargl"
           }
          ],
          "scatterternary": [
           {
            "marker": {
             "colorbar": {
              "outlinewidth": 0,
              "ticks": ""
             }
            },
            "type": "scatterternary"
           }
          ],
          "surface": [
           {
            "colorbar": {
             "outlinewidth": 0,
             "ticks": ""
            },
            "colorscale": [
             [
              0,
              "#0d0887"
             ],
             [
              0.1111111111111111,
              "#46039f"
             ],
             [
              0.2222222222222222,
              "#7201a8"
             ],
             [
              0.3333333333333333,
              "#9c179e"
             ],
             [
              0.4444444444444444,
              "#bd3786"
             ],
             [
              0.5555555555555556,
              "#d8576b"
             ],
             [
              0.6666666666666666,
              "#ed7953"
             ],
             [
              0.7777777777777778,
              "#fb9f3a"
             ],
             [
              0.8888888888888888,
              "#fdca26"
             ],
             [
              1,
              "#f0f921"
             ]
            ],
            "type": "surface"
           }
          ],
          "table": [
           {
            "cells": {
             "fill": {
              "color": "#506784"
             },
             "line": {
              "color": "rgb(17,17,17)"
             }
            },
            "header": {
             "fill": {
              "color": "#2a3f5f"
             },
             "line": {
              "color": "rgb(17,17,17)"
             }
            },
            "type": "table"
           }
          ]
         },
         "layout": {
          "annotationdefaults": {
           "arrowcolor": "#f2f5fa",
           "arrowhead": 0,
           "arrowwidth": 1
          },
          "autotypenumbers": "strict",
          "coloraxis": {
           "colorbar": {
            "outlinewidth": 0,
            "ticks": ""
           }
          },
          "colorscale": {
           "diverging": [
            [
             0,
             "#8e0152"
            ],
            [
             0.1,
             "#c51b7d"
            ],
            [
             0.2,
             "#de77ae"
            ],
            [
             0.3,
             "#f1b6da"
            ],
            [
             0.4,
             "#fde0ef"
            ],
            [
             0.5,
             "#f7f7f7"
            ],
            [
             0.6,
             "#e6f5d0"
            ],
            [
             0.7,
             "#b8e186"
            ],
            [
             0.8,
             "#7fbc41"
            ],
            [
             0.9,
             "#4d9221"
            ],
            [
             1,
             "#276419"
            ]
           ],
           "sequential": [
            [
             0,
             "#0d0887"
            ],
            [
             0.1111111111111111,
             "#46039f"
            ],
            [
             0.2222222222222222,
             "#7201a8"
            ],
            [
             0.3333333333333333,
             "#9c179e"
            ],
            [
             0.4444444444444444,
             "#bd3786"
            ],
            [
             0.5555555555555556,
             "#d8576b"
            ],
            [
             0.6666666666666666,
             "#ed7953"
            ],
            [
             0.7777777777777778,
             "#fb9f3a"
            ],
            [
             0.8888888888888888,
             "#fdca26"
            ],
            [
             1,
             "#f0f921"
            ]
           ],
           "sequentialminus": [
            [
             0,
             "#0d0887"
            ],
            [
             0.1111111111111111,
             "#46039f"
            ],
            [
             0.2222222222222222,
             "#7201a8"
            ],
            [
             0.3333333333333333,
             "#9c179e"
            ],
            [
             0.4444444444444444,
             "#bd3786"
            ],
            [
             0.5555555555555556,
             "#d8576b"
            ],
            [
             0.6666666666666666,
             "#ed7953"
            ],
            [
             0.7777777777777778,
             "#fb9f3a"
            ],
            [
             0.8888888888888888,
             "#fdca26"
            ],
            [
             1,
             "#f0f921"
            ]
           ]
          },
          "colorway": [
           "#636efa",
           "#EF553B",
           "#00cc96",
           "#ab63fa",
           "#FFA15A",
           "#19d3f3",
           "#FF6692",
           "#B6E880",
           "#FF97FF",
           "#FECB52"
          ],
          "font": {
           "color": "#f2f5fa"
          },
          "geo": {
           "bgcolor": "rgb(17,17,17)",
           "lakecolor": "rgb(17,17,17)",
           "landcolor": "rgb(17,17,17)",
           "showlakes": true,
           "showland": true,
           "subunitcolor": "#506784"
          },
          "hoverlabel": {
           "align": "left"
          },
          "hovermode": "closest",
          "mapbox": {
           "style": "dark"
          },
          "paper_bgcolor": "rgb(17,17,17)",
          "plot_bgcolor": "rgb(17,17,17)",
          "polar": {
           "angularaxis": {
            "gridcolor": "#506784",
            "linecolor": "#506784",
            "ticks": ""
           },
           "bgcolor": "rgb(17,17,17)",
           "radialaxis": {
            "gridcolor": "#506784",
            "linecolor": "#506784",
            "ticks": ""
           }
          },
          "scene": {
           "xaxis": {
            "backgroundcolor": "rgb(17,17,17)",
            "gridcolor": "#506784",
            "gridwidth": 2,
            "linecolor": "#506784",
            "showbackground": true,
            "ticks": "",
            "zerolinecolor": "#C8D4E3"
           },
           "yaxis": {
            "backgroundcolor": "rgb(17,17,17)",
            "gridcolor": "#506784",
            "gridwidth": 2,
            "linecolor": "#506784",
            "showbackground": true,
            "ticks": "",
            "zerolinecolor": "#C8D4E3"
           },
           "zaxis": {
            "backgroundcolor": "rgb(17,17,17)",
            "gridcolor": "#506784",
            "gridwidth": 2,
            "linecolor": "#506784",
            "showbackground": true,
            "ticks": "",
            "zerolinecolor": "#C8D4E3"
           }
          },
          "shapedefaults": {
           "line": {
            "color": "#f2f5fa"
           }
          },
          "sliderdefaults": {
           "bgcolor": "#C8D4E3",
           "bordercolor": "rgb(17,17,17)",
           "borderwidth": 1,
           "tickwidth": 0
          },
          "ternary": {
           "aaxis": {
            "gridcolor": "#506784",
            "linecolor": "#506784",
            "ticks": ""
           },
           "baxis": {
            "gridcolor": "#506784",
            "linecolor": "#506784",
            "ticks": ""
           },
           "bgcolor": "rgb(17,17,17)",
           "caxis": {
            "gridcolor": "#506784",
            "linecolor": "#506784",
            "ticks": ""
           }
          },
          "title": {
           "x": 0.05
          },
          "updatemenudefaults": {
           "bgcolor": "#506784",
           "borderwidth": 0
          },
          "xaxis": {
           "automargin": true,
           "gridcolor": "#283442",
           "linecolor": "#506784",
           "ticks": "",
           "title": {
            "standoff": 15
           },
           "zerolinecolor": "#283442",
           "zerolinewidth": 2
          },
          "yaxis": {
           "automargin": true,
           "gridcolor": "#283442",
           "linecolor": "#506784",
           "ticks": "",
           "title": {
            "standoff": 15
           },
           "zerolinecolor": "#283442",
           "zerolinewidth": 2
          }
         }
        },
        "title": {
         "text": "Boxplot da coluna MEDV"
        },
        "xaxis": {
         "anchor": "y",
         "autorange": true,
         "domain": [
          0,
          1
         ],
         "range": [
          -0.5,
          0.5
         ],
         "showgrid": false,
         "title": {
          "text": "variable"
         },
         "type": "category"
        },
        "yaxis": {
         "anchor": "x",
         "autorange": true,
         "domain": [
          0,
          1
         ],
         "range": [
          53900.00000000001,
          1075900
         ],
         "showgrid": false,
         "title": {
          "text": "value"
         },
         "type": "linear"
        }
       }
      },
      "image/png": "[encoded data removed]",
      "text/html": [
       "<div>                            <div id=\"c33bfc9d-5717-41c9-915b-ed37dc64272c\" class=\"plotly-graph-div\" style=\"height:525px; width:100%;\"></div>            <script type=\"text/javascript\">                require([\"plotly\"], function(Plotly) {                    window.PLOTLYENV=window.PLOTLYENV || {};                                    if (document.getElementById(\"c33bfc9d-5717-41c9-915b-ed37dc64272c\")) {                    Plotly.newPlot(                        \"c33bfc9d-5717-41c9-915b-ed37dc64272c\",                        [{\"alignmentgroup\":\"True\",\"hovertemplate\":\"variable=%{x}\\u003cbr\\u003evalue=%{y}\\u003cextra\\u003e\\u003c\\u002fextra\\u003e\",\"legendgroup\":\"\",\"marker\":{\"color\":\"#636efa\"},\"name\":\"\",\"notched\":false,\"offsetgroup\":\"\",\"orientation\":\"v\",\"showlegend\":false,\"x\":[\"MEDV\",\"MEDV\",\"MEDV\",\"MEDV\",\"MEDV\",\"MEDV\",\"MEDV\",\"MEDV\",\"MEDV\",\"MEDV\",\"MEDV\",\"MEDV\",\"MEDV\",\"MEDV\",\"MEDV\",\"MEDV\",\"MEDV\",\"MEDV\",\"MEDV\",\"MEDV\",\"MEDV\",\"MEDV\",\"MEDV\",\"MEDV\",\"MEDV\",\"MEDV\",\"MEDV\",\"MEDV\",\"MEDV\",\"MEDV\",\"MEDV\",\"MEDV\",\"MEDV\",\"MEDV\",\"MEDV\",\"MEDV\",\"MEDV\",\"MEDV\",\"MEDV\",\"MEDV\",\"MEDV\",\"MEDV\",\"MEDV\",\"MEDV\",\"MEDV\",\"MEDV\",\"MEDV\",\"MEDV\",\"MEDV\",\"MEDV\",\"MEDV\",\"MEDV\",\"MEDV\",\"MEDV\",\"MEDV\",\"MEDV\",\"MEDV\",\"MEDV\",\"MEDV\",\"MEDV\",\"MEDV\",\"MEDV\",\"MEDV\",\"MEDV\",\"MEDV\",\"MEDV\",\"MEDV\",\"MEDV\",\"MEDV\",\"MEDV\",\"MEDV\",\"MEDV\",\"MEDV\",\"MEDV\",\"MEDV\",\"MEDV\",\"MEDV\",\"MEDV\",\"MEDV\",\"MEDV\",\"MEDV\",\"MEDV\",\"MEDV\",\"MEDV\",\"MEDV\",\"MEDV\",\"MEDV\",\"MEDV\",\"MEDV\",\"MEDV\",\"MEDV\",\"MEDV\",\"MEDV\",\"MEDV\",\"MEDV\",\"MEDV\",\"MEDV\",\"MEDV\",\"MEDV\",\"MEDV\",\"MEDV\",\"MEDV\",\"MEDV\",\"MEDV\",\"MEDV\",\"MEDV\",\"MEDV\",\"MEDV\",\"MEDV\",\"MEDV\",\"MEDV\",\"MEDV\",\"MEDV\",\"MEDV\",\"MEDV\",\"MEDV\",\"MEDV\",\"MEDV\",\"MEDV\",\"MEDV\",\"MEDV\",\"MEDV\",\"MEDV\",\"MEDV\",\"MEDV\",\"MEDV\",\"MEDV\",\"MEDV\",\"MEDV\",\"MEDV\",\"MEDV\",\"MEDV\",\"MEDV\",\"MEDV\",\"MEDV\",\"MEDV\",\"MEDV\",\"MEDV\",\"MEDV\",\"MEDV\",\"MEDV\",\"MEDV\",\"MEDV\",\"MEDV\",\"MEDV\",\"MEDV\",\"MEDV\",\"MEDV\",\"MEDV\",\"MEDV\",\"MEDV\",\"MEDV\",\"MEDV\",\"MEDV\",\"MEDV\",\"MEDV\",\"MEDV\",\"MEDV\",\"MEDV\",\"MEDV\",\"MEDV\",\"MEDV\",\"MEDV\",\"MEDV\",\"MEDV\",\"MEDV\",\"MEDV\",\"MEDV\",\"MEDV\",\"MEDV\",\"MEDV\",\"MEDV\",\"MEDV\",\"MEDV\",\"MEDV\",\"MEDV\",\"MEDV\",\"MEDV\",\"MEDV\",\"MEDV\",\"MEDV\",\"MEDV\",\"MEDV\",\"MEDV\",\"MEDV\",\"MEDV\",\"MEDV\",\"MEDV\",\"MEDV\",\"MEDV\",\"MEDV\",\"MEDV\",\"MEDV\",\"MEDV\",\"MEDV\",\"MEDV\",\"MEDV\",\"MEDV\",\"MEDV\",\"MEDV\",\"MEDV\",\"MEDV\",\"MEDV\",\"MEDV\",\"MEDV\",\"MEDV\",\"MEDV\",\"MEDV\",\"MEDV\",\"MEDV\",\"MEDV\",\"MEDV\",\"MEDV\",\"MEDV\",\"MEDV\",\"MEDV\",\"MEDV\",\"MEDV\",\"MEDV\",\"MEDV\",\"MEDV\",\"MEDV\",\"MEDV\",\"MEDV\",\"MEDV\",\"MEDV\",\"MEDV\",\"MEDV\",\"MEDV\",\"MEDV\",\"MEDV\",\"MEDV\",\"MEDV\",\"MEDV\",\"MEDV\",\"MEDV\",\"MEDV\",\"MEDV\",\"MEDV\",\"MEDV\",\"MEDV\",\"MEDV\",\"MEDV\",\"MEDV\",\"MEDV\",\"MEDV\",\"MEDV\",\"MEDV\",\"MEDV\",\"MEDV\",\"MEDV\",\"MEDV\",\"MEDV\",\"MEDV\",\"MEDV\",\"MEDV\",\"MEDV\",\"MEDV\",\"MEDV\",\"MEDV\",\"MEDV\",\"MEDV\",\"MEDV\",\"MEDV\",\"MEDV\",\"MEDV\",\"MEDV\",\"MEDV\",\"MEDV\",\"MEDV\",\"MEDV\",\"MEDV\",\"MEDV\",\"MEDV\",\"MEDV\",\"MEDV\",\"MEDV\",\"MEDV\",\"MEDV\",\"MEDV\",\"MEDV\",\"MEDV\",\"MEDV\",\"MEDV\",\"MEDV\",\"MEDV\",\"MEDV\",\"MEDV\",\"MEDV\",\"MEDV\",\"MEDV\",\"MEDV\",\"MEDV\",\"MEDV\",\"MEDV\",\"MEDV\",\"MEDV\",\"MEDV\",\"MEDV\",\"MEDV\",\"MEDV\",\"MEDV\",\"MEDV\",\"MEDV\",\"MEDV\",\"MEDV\",\"MEDV\",\"MEDV\",\"MEDV\",\"MEDV\",\"MEDV\",\"MEDV\",\"MEDV\",\"MEDV\",\"MEDV\",\"MEDV\",\"MEDV\",\"MEDV\",\"MEDV\",\"MEDV\",\"MEDV\",\"MEDV\",\"MEDV\",\"MEDV\",\"MEDV\",\"MEDV\",\"MEDV\",\"MEDV\",\"MEDV\",\"MEDV\",\"MEDV\",\"MEDV\",\"MEDV\",\"MEDV\",\"MEDV\",\"MEDV\",\"MEDV\",\"MEDV\",\"MEDV\",\"MEDV\",\"MEDV\",\"MEDV\",\"MEDV\",\"MEDV\",\"MEDV\",\"MEDV\",\"MEDV\",\"MEDV\",\"MEDV\",\"MEDV\",\"MEDV\",\"MEDV\",\"MEDV\",\"MEDV\",\"MEDV\",\"MEDV\",\"MEDV\",\"MEDV\",\"MEDV\",\"MEDV\",\"MEDV\",\"MEDV\",\"MEDV\",\"MEDV\",\"MEDV\",\"MEDV\",\"MEDV\",\"MEDV\",\"MEDV\",\"MEDV\",\"MEDV\",\"MEDV\",\"MEDV\",\"MEDV\",\"MEDV\",\"MEDV\",\"MEDV\",\"MEDV\",\"MEDV\",\"MEDV\",\"MEDV\",\"MEDV\",\"MEDV\",\"MEDV\",\"MEDV\",\"MEDV\",\"MEDV\",\"MEDV\",\"MEDV\",\"MEDV\",\"MEDV\",\"MEDV\",\"MEDV\",\"MEDV\",\"MEDV\",\"MEDV\",\"MEDV\",\"MEDV\",\"MEDV\",\"MEDV\",\"MEDV\",\"MEDV\",\"MEDV\",\"MEDV\",\"MEDV\",\"MEDV\",\"MEDV\",\"MEDV\",\"MEDV\",\"MEDV\",\"MEDV\",\"MEDV\",\"MEDV\",\"MEDV\",\"MEDV\",\"MEDV\",\"MEDV\",\"MEDV\",\"MEDV\",\"MEDV\",\"MEDV\",\"MEDV\",\"MEDV\",\"MEDV\",\"MEDV\",\"MEDV\",\"MEDV\",\"MEDV\",\"MEDV\",\"MEDV\",\"MEDV\",\"MEDV\",\"MEDV\",\"MEDV\",\"MEDV\",\"MEDV\",\"MEDV\",\"MEDV\",\"MEDV\",\"MEDV\",\"MEDV\",\"MEDV\",\"MEDV\",\"MEDV\",\"MEDV\",\"MEDV\",\"MEDV\",\"MEDV\",\"MEDV\",\"MEDV\",\"MEDV\",\"MEDV\",\"MEDV\",\"MEDV\",\"MEDV\",\"MEDV\",\"MEDV\",\"MEDV\",\"MEDV\",\"MEDV\",\"MEDV\",\"MEDV\",\"MEDV\",\"MEDV\",\"MEDV\",\"MEDV\",\"MEDV\",\"MEDV\",\"MEDV\",\"MEDV\",\"MEDV\",\"MEDV\",\"MEDV\",\"MEDV\",\"MEDV\",\"MEDV\",\"MEDV\",\"MEDV\",\"MEDV\",\"MEDV\",\"MEDV\",\"MEDV\",\"MEDV\",\"MEDV\",\"MEDV\",\"MEDV\",\"MEDV\",\"MEDV\",\"MEDV\"],\"x0\":\" \",\"xaxis\":\"x\",\"y\":[504000.0,453600.0,728700.0,701400.0,760200.0,602700.0,480900.0,569100.0,346500.0,396900.0,315000.0,396900.0,455700.0,428400.0,382200.0,417900.0,485100.0,367500.0,424200.0,382200.0,285600.0,411600.0,319200.0,304500.0,327600.0,291900.0,348600.0,310800.0,386400.0,441000.0,266700.0,304500.0,277200.0,275100.0,283500.0,396900.0,420000.0,441000.0,518700.0,646800.0,732900.0,558600.0,531300.0,518700.0,445200.0,405300.0,420000.0,348600.0,302400.0,407400.0,413700.0,430500.0,525000.0,491400.0,396900.0,743400.0,518700.0,663600.0,489300.0,411600.0,392700.0,336000.0,466200.0,525000.0,693000.0,493500.0,407400.0,462000.0,365400.0,438900.0,508200.0,455700.0,478800.0,491400.0,506100.0,449400.0,420000.0,436800.0,445200.0,426300.0,588000.0,501900.0,520800.0,480900.0,501900.0,558600.0,472500.0,466200.0,495600.0,602700.0,474600.0,462000.0,480900.0,525000.0,432600.0,596400.0,449400.0,812700.0,919800.0,697200.0,577500.0,556500.0,390600.0,405300.0,422100.0,409500.0,409500.0,428400.0,415800.0,407400.0,455700.0,478800.0,394800.0,392700.0,388500.0,384300.0,445200.0,403200.0,428400.0,405300.0,462000.0,426300.0,430500.0,363300.0,394800.0,449400.0,329700.0,340200.0,378000.0,300300.0,403200.0,411600.0,483000.0,386400.0,327600.0,380100.0,365400.0,359100.0,279300.0,373800.0,294000.0,302400.0,281400.0,327600.0,247800.0,289800.0,327600.0,306600.0,373800.0,323400.0,451500.0,411600.0,321300.0,407400.0,357000.0,327600.0,275100.0,867300.0,510300.0,489300.0,567000.0,476700.0,525000.0,499800.0,499800.0,468300.0,365400.0,401100.0,485100.0,495600.0,474600.0,617400.0,487200.0,516600.0,627900.0,781200.0,835800.0,760200.0,795900.0,682500.0,554400.0,621600.0,672000.0,625800.0,732900.0,777000.0,640500.0,764400.0,653100.0,611100.0,699300.0,636300.0,726600.0,732900.0,690900.0,506100.0,888300.0,1018500.0,474600.0,512400.0,472500.0,512400.0,420000.0,455700.0,405300.0,470400.0,590100.0,497700.0,525000.0,489300.0,602700.0,451500.0,483000.0,560700.0,455700.0,577500.0,632100.0,940800.0,789600.0,663600.0,980700.0,661500.0,510300.0,665700.0,875700.0,1014300.0,609000.0,504000.0,527100.0,661500.0,497700.0,489300.0,462000.0,422100.0,466200.0,497700.0,369600.0,388500.0,510300.0,430500.0,514500.0,550200.0,512400.0,520800.0,621600.0,898800.0,459900.0,438900.0,924000.0,756000.0,632100.0,709800.0,905100.0,1024800.0,651000.0,766500.0,478800.0,644700.0,913500.0,434700.0,443100.0,529200.0,512400.0,739200.0,680400.0,672000.0,697200.0,695100.0,611100.0,737100.0,953400.0,743400.0,966000.0,676200.0,462000.0,422100.0,487200.0,468300.0,520800.0,598500.0,783300.0,585900.0,501900.0,455700.0,600600.0,569100.0,426300.0,472500.0,609000.0,520800.0,462000.0,554400.0,695100.0,758100.0,596400.0,701400.0,592200.0,478800.0,426300.0,338100.0,464100.0,407400.0,453600.0,499800.0,340200.0,373800.0,415800.0,485100.0,441000.0,499800.0,485100.0,428400.0,388500.0,525000.0,516600.0,483000.0,466200.0,405300.0,474600.0,415800.0,359100.0,407400.0,466200.0,434700.0,443100.0,409500.0,388500.0,432600.0,399000.0,392700.0,686700.0,346500.0,501900.0,655200.0,367500.0,361200.0,485100.0,514500.0,558600.0,480900.0,506100.0,390600.0,632100.0,382200.0,432600.0,373800.0,455700.0,476700.0,474600.0,525000.0,417900.0,436800.0,352800.0,577500.0,459900.0,485100.0,289800.0,289800.0,315000.0,291900.0,279300.0,275100.0,214200.0,218400.0,228900.0,237300.0,258300.0,184800.0,151200.0,220500.0,155400.0,214200.0,241500.0,317100.0,487200.0,203700.0,289800.0,266700.0,275100.0,262500.0,178500.0,105000.0,132300.0,117600.0,151200.0,254100.0,174300.0,178500.0,105000.0,249900.0,585900.0,361200.0,577500.0,315000.0,361200.0,375900.0,342300.0,147000.0,151200.0,157500.0,218400.0,184800.0,176400.0,350700.0,298200.0,436800.0,281400.0,245700.0,174300.0,214200.0,228900.0,231000.0,199500.0,304500.0,296100.0,338100.0,300300.0,245700.0,281400.0,201600.0,182700.0,176400.0,268800.0,220500.0,359100.0,386400.0,323400.0,226800.0,247800.0,312900.0,264600.0,296100.0,273000.0,281400.0,319200.0,338100.0,373800.0,312900.0,296100.0,266700.0,283500.0,312900.0,420000.0,344400.0,371700.0,409500.0,424200.0,449400.0,417900.0,399000.0,401100.0,401100.0,422100.0,417900.0,411600.0,487200.0,625800.0,289800.0,279300.0,350700.0,252000.0,306600.0,449400.0,483000.0,497700.0,525000.0,457800.0,432600.0,445200.0,401100.0,432600.0,319200.0,147000.0,170100.0,285600.0,422100.0,457800.0,514500.0,485100.0,413700.0,384300.0,445200.0,367500.0,352800.0,470400.0,432600.0,501900.0,462000.0,249900.0],\"y0\":\" \",\"yaxis\":\"y\",\"type\":\"box\"}],                        {\"template\":{\"data\":{\"barpolar\":[{\"marker\":{\"line\":{\"color\":\"rgb(17,17,17)\",\"width\":0.5},\"pattern\":{\"fillmode\":\"overlay\",\"size\":10,\"solidity\":0.2}},\"type\":\"barpolar\"}],\"bar\":[{\"error_x\":{\"color\":\"#f2f5fa\"},\"error_y\":{\"color\":\"#f2f5fa\"},\"marker\":{\"line\":{\"color\":\"rgb(17,17,17)\",\"width\":0.5},\"pattern\":{\"fillmode\":\"overlay\",\"size\":10,\"solidity\":0.2}},\"type\":\"bar\"}],\"carpet\":[{\"aaxis\":{\"endlinecolor\":\"#A2B1C6\",\"gridcolor\":\"#506784\",\"linecolor\":\"#506784\",\"minorgridcolor\":\"#506784\",\"startlinecolor\":\"#A2B1C6\"},\"baxis\":{\"endlinecolor\":\"#A2B1C6\",\"gridcolor\":\"#506784\",\"linecolor\":\"#506784\",\"minorgridcolor\":\"#506784\",\"startlinecolor\":\"#A2B1C6\"},\"type\":\"carpet\"}],\"choropleth\":[{\"colorbar\":{\"outlinewidth\":0,\"ticks\":\"\"},\"type\":\"choropleth\"}],\"contourcarpet\":[{\"colorbar\":{\"outlinewidth\":0,\"ticks\":\"\"},\"type\":\"contourcarpet\"}],\"contour\":[{\"colorbar\":{\"outlinewidth\":0,\"ticks\":\"\"},\"colorscale\":[[0.0,\"#0d0887\"],[0.1111111111111111,\"#46039f\"],[0.2222222222222222,\"#7201a8\"],[0.3333333333333333,\"#9c179e\"],[0.4444444444444444,\"#bd3786\"],[0.5555555555555556,\"#d8576b\"],[0.6666666666666666,\"#ed7953\"],[0.7777777777777778,\"#fb9f3a\"],[0.8888888888888888,\"#fdca26\"],[1.0,\"#f0f921\"]],\"type\":\"contour\"}],\"heatmapgl\":[{\"colorbar\":{\"outlinewidth\":0,\"ticks\":\"\"},\"colorscale\":[[0.0,\"#0d0887\"],[0.1111111111111111,\"#46039f\"],[0.2222222222222222,\"#7201a8\"],[0.3333333333333333,\"#9c179e\"],[0.4444444444444444,\"#bd3786\"],[0.5555555555555556,\"#d8576b\"],[0.6666666666666666,\"#ed7953\"],[0.7777777777777778,\"#fb9f3a\"],[0.8888888888888888,\"#fdca26\"],[1.0,\"#f0f921\"]],\"type\":\"heatmapgl\"}],\"heatmap\":[{\"colorbar\":{\"outlinewidth\":0,\"ticks\":\"\"},\"colorscale\":[[0.0,\"#0d0887\"],[0.1111111111111111,\"#46039f\"],[0.2222222222222222,\"#7201a8\"],[0.3333333333333333,\"#9c179e\"],[0.4444444444444444,\"#bd3786\"],[0.5555555555555556,\"#d8576b\"],[0.6666666666666666,\"#ed7953\"],[0.7777777777777778,\"#fb9f3a\"],[0.8888888888888888,\"#fdca26\"],[1.0,\"#f0f921\"]],\"type\":\"heatmap\"}],\"histogram2dcontour\":[{\"colorbar\":{\"outlinewidth\":0,\"ticks\":\"\"},\"colorscale\":[[0.0,\"#0d0887\"],[0.1111111111111111,\"#46039f\"],[0.2222222222222222,\"#7201a8\"],[0.3333333333333333,\"#9c179e\"],[0.4444444444444444,\"#bd3786\"],[0.5555555555555556,\"#d8576b\"],[0.6666666666666666,\"#ed7953\"],[0.7777777777777778,\"#fb9f3a\"],[0.8888888888888888,\"#fdca26\"],[1.0,\"#f0f921\"]],\"type\":\"histogram2dcontour\"}],\"histogram2d\":[{\"colorbar\":{\"outlinewidth\":0,\"ticks\":\"\"},\"colorscale\":[[0.0,\"#0d0887\"],[0.1111111111111111,\"#46039f\"],[0.2222222222222222,\"#7201a8\"],[0.3333333333333333,\"#9c179e\"],[0.4444444444444444,\"#bd3786\"],[0.5555555555555556,\"#d8576b\"],[0.6666666666666666,\"#ed7953\"],[0.7777777777777778,\"#fb9f3a\"],[0.8888888888888888,\"#fdca26\"],[1.0,\"#f0f921\"]],\"type\":\"histogram2d\"}],\"histogram\":[{\"marker\":{\"pattern\":{\"fillmode\":\"overlay\",\"size\":10,\"solidity\":0.2}},\"type\":\"histogram\"}],\"mesh3d\":[{\"colorbar\":{\"outlinewidth\":0,\"ticks\":\"\"},\"type\":\"mesh3d\"}],\"parcoords\":[{\"line\":{\"colorbar\":{\"outlinewidth\":0,\"ticks\":\"\"}},\"type\":\"parcoords\"}],\"pie\":[{\"automargin\":true,\"type\":\"pie\"}],\"scatter3d\":[{\"line\":{\"colorbar\":{\"outlinewidth\":0,\"ticks\":\"\"}},\"marker\":{\"colorbar\":{\"outlinewidth\":0,\"ticks\":\"\"}},\"type\":\"scatter3d\"}],\"scattercarpet\":[{\"marker\":{\"colorbar\":{\"outlinewidth\":0,\"ticks\":\"\"}},\"type\":\"scattercarpet\"}],\"scattergeo\":[{\"marker\":{\"colorbar\":{\"outlinewidth\":0,\"ticks\":\"\"}},\"type\":\"scattergeo\"}],\"scattergl\":[{\"marker\":{\"line\":{\"color\":\"#283442\"}},\"type\":\"scattergl\"}],\"scattermapbox\":[{\"marker\":{\"colorbar\":{\"outlinewidth\":0,\"ticks\":\"\"}},\"type\":\"scattermapbox\"}],\"scatterpolargl\":[{\"marker\":{\"colorbar\":{\"outlinewidth\":0,\"ticks\":\"\"}},\"type\":\"scatterpolargl\"}],\"scatterpolar\":[{\"marker\":{\"colorbar\":{\"outlinewidth\":0,\"ticks\":\"\"}},\"type\":\"scatterpolar\"}],\"scatter\":[{\"marker\":{\"line\":{\"color\":\"#283442\"}},\"type\":\"scatter\"}],\"scatterternary\":[{\"marker\":{\"colorbar\":{\"outlinewidth\":0,\"ticks\":\"\"}},\"type\":\"scatterternary\"}],\"surface\":[{\"colorbar\":{\"outlinewidth\":0,\"ticks\":\"\"},\"colorscale\":[[0.0,\"#0d0887\"],[0.1111111111111111,\"#46039f\"],[0.2222222222222222,\"#7201a8\"],[0.3333333333333333,\"#9c179e\"],[0.4444444444444444,\"#bd3786\"],[0.5555555555555556,\"#d8576b\"],[0.6666666666666666,\"#ed7953\"],[0.7777777777777778,\"#fb9f3a\"],[0.8888888888888888,\"#fdca26\"],[1.0,\"#f0f921\"]],\"type\":\"surface\"}],\"table\":[{\"cells\":{\"fill\":{\"color\":\"#506784\"},\"line\":{\"color\":\"rgb(17,17,17)\"}},\"header\":{\"fill\":{\"color\":\"#2a3f5f\"},\"line\":{\"color\":\"rgb(17,17,17)\"}},\"type\":\"table\"}]},\"layout\":{\"annotationdefaults\":{\"arrowcolor\":\"#f2f5fa\",\"arrowhead\":0,\"arrowwidth\":1},\"autotypenumbers\":\"strict\",\"coloraxis\":{\"colorbar\":{\"outlinewidth\":0,\"ticks\":\"\"}},\"colorscale\":{\"diverging\":[[0,\"#8e0152\"],[0.1,\"#c51b7d\"],[0.2,\"#de77ae\"],[0.3,\"#f1b6da\"],[0.4,\"#fde0ef\"],[0.5,\"#f7f7f7\"],[0.6,\"#e6f5d0\"],[0.7,\"#b8e186\"],[0.8,\"#7fbc41\"],[0.9,\"#4d9221\"],[1,\"#276419\"]],\"sequential\":[[0.0,\"#0d0887\"],[0.1111111111111111,\"#46039f\"],[0.2222222222222222,\"#7201a8\"],[0.3333333333333333,\"#9c179e\"],[0.4444444444444444,\"#bd3786\"],[0.5555555555555556,\"#d8576b\"],[0.6666666666666666,\"#ed7953\"],[0.7777777777777778,\"#fb9f3a\"],[0.8888888888888888,\"#fdca26\"],[1.0,\"#f0f921\"]],\"sequentialminus\":[[0.0,\"#0d0887\"],[0.1111111111111111,\"#46039f\"],[0.2222222222222222,\"#7201a8\"],[0.3333333333333333,\"#9c179e\"],[0.4444444444444444,\"#bd3786\"],[0.5555555555555556,\"#d8576b\"],[0.6666666666666666,\"#ed7953\"],[0.7777777777777778,\"#fb9f3a\"],[0.8888888888888888,\"#fdca26\"],[1.0,\"#f0f921\"]]},\"colorway\":[\"#636efa\",\"#EF553B\",\"#00cc96\",\"#ab63fa\",\"#FFA15A\",\"#19d3f3\",\"#FF6692\",\"#B6E880\",\"#FF97FF\",\"#FECB52\"],\"font\":{\"color\":\"#f2f5fa\"},\"geo\":{\"bgcolor\":\"rgb(17,17,17)\",\"lakecolor\":\"rgb(17,17,17)\",\"landcolor\":\"rgb(17,17,17)\",\"showlakes\":true,\"showland\":true,\"subunitcolor\":\"#506784\"},\"hoverlabel\":{\"align\":\"left\"},\"hovermode\":\"closest\",\"mapbox\":{\"style\":\"dark\"},\"paper_bgcolor\":\"rgb(17,17,17)\",\"plot_bgcolor\":\"rgb(17,17,17)\",\"polar\":{\"angularaxis\":{\"gridcolor\":\"#506784\",\"linecolor\":\"#506784\",\"ticks\":\"\"},\"bgcolor\":\"rgb(17,17,17)\",\"radialaxis\":{\"gridcolor\":\"#506784\",\"linecolor\":\"#506784\",\"ticks\":\"\"}},\"scene\":{\"xaxis\":{\"backgroundcolor\":\"rgb(17,17,17)\",\"gridcolor\":\"#506784\",\"gridwidth\":2,\"linecolor\":\"#506784\",\"showbackground\":true,\"ticks\":\"\",\"zerolinecolor\":\"#C8D4E3\"},\"yaxis\":{\"backgroundcolor\":\"rgb(17,17,17)\",\"gridcolor\":\"#506784\",\"gridwidth\":2,\"linecolor\":\"#506784\",\"showbackground\":true,\"ticks\":\"\",\"zerolinecolor\":\"#C8D4E3\"},\"zaxis\":{\"backgroundcolor\":\"rgb(17,17,17)\",\"gridcolor\":\"#506784\",\"gridwidth\":2,\"linecolor\":\"#506784\",\"showbackground\":true,\"ticks\":\"\",\"zerolinecolor\":\"#C8D4E3\"}},\"shapedefaults\":{\"line\":{\"color\":\"#f2f5fa\"}},\"sliderdefaults\":{\"bgcolor\":\"#C8D4E3\",\"bordercolor\":\"rgb(17,17,17)\",\"borderwidth\":1,\"tickwidth\":0},\"ternary\":{\"aaxis\":{\"gridcolor\":\"#506784\",\"linecolor\":\"#506784\",\"ticks\":\"\"},\"baxis\":{\"gridcolor\":\"#506784\",\"linecolor\":\"#506784\",\"ticks\":\"\"},\"bgcolor\":\"rgb(17,17,17)\",\"caxis\":{\"gridcolor\":\"#506784\",\"linecolor\":\"#506784\",\"ticks\":\"\"}},\"title\":{\"x\":0.05},\"updatemenudefaults\":{\"bgcolor\":\"#506784\",\"borderwidth\":0},\"xaxis\":{\"automargin\":true,\"gridcolor\":\"#283442\",\"linecolor\":\"#506784\",\"ticks\":\"\",\"title\":{\"standoff\":15},\"zerolinecolor\":\"#283442\",\"zerolinewidth\":2},\"yaxis\":{\"automargin\":true,\"gridcolor\":\"#283442\",\"linecolor\":\"#506784\",\"ticks\":\"\",\"title\":{\"standoff\":15},\"zerolinecolor\":\"#283442\",\"zerolinewidth\":2}}},\"xaxis\":{\"anchor\":\"y\",\"domain\":[0.0,1.0],\"title\":{\"text\":\"variable\"},\"showgrid\":false},\"yaxis\":{\"anchor\":\"x\",\"domain\":[0.0,1.0],\"title\":{\"text\":\"value\"},\"showgrid\":false},\"legend\":{\"tracegroupgap\":0},\"margin\":{\"t\":60},\"boxmode\":\"group\",\"title\":{\"text\":\"Boxplot da coluna MEDV\"}},                        {\"responsive\": true}                    ).then(function(){\n",
       "                            \n",
       "var gd = document.getElementById('c33bfc9d-5717-41c9-915b-ed37dc64272c');\n",
       "var x = new MutationObserver(function (mutations, observer) {{\n",
       "        var display = window.getComputedStyle(gd).display;\n",
       "        if (!display || display === 'none') {{\n",
       "            console.log([gd, 'removed!']);\n",
       "            Plotly.purge(gd);\n",
       "            observer.disconnect();\n",
       "        }}\n",
       "}});\n",
       "\n",
       "// Listen for the removal of the full notebook cells\n",
       "var notebookContainer = gd.closest('#notebook-container');\n",
       "if (notebookContainer) {{\n",
       "    x.observe(notebookContainer, {childList: true});\n",
       "}}\n",
       "\n",
       "// Listen for the clearing of the current output cell\n",
       "var outputEl = gd.closest('.output');\n",
       "if (outputEl) {{\n",
       "    x.observe(outputEl, {childList: true});\n",
       "}}\n",
       "\n",
       "                        })                };                });            </script>        </div>"
      ]
     },
     "metadata": {},
     "output_type": "display_data"
    }
   ],
   "source": [
    "Analise.analise()"
   ]
  },
  {
   "cell_type": "code",
   "execution_count": 4,
   "metadata": {},
   "outputs": [
    {
     "data": {
      "application/vnd.plotly.v1+json": {
       "config": {
        "plotlyServerURL": "https://plot.ly"
       },
       "data": [
        {
         "dimensions": [
          {
           "axis": {
            "matches": true
           },
           "label": "RM",
           "values": [
            6.575,
            6.421,
            7.185,
            6.998,
            7.147,
            6.43,
            6.012,
            6.172,
            5.631,
            6.004,
            6.377,
            6.009,
            5.889,
            5.949,
            6.096,
            5.834,
            5.935,
            5.99,
            5.456,
            5.727,
            5.57,
            5.965,
            6.142,
            5.813,
            5.924,
            5.599,
            5.813,
            6.047,
            6.495,
            6.674,
            5.713,
            6.072,
            5.95,
            5.701,
            6.096,
            5.933,
            5.841,
            5.85,
            5.966,
            6.595,
            7.024,
            6.77,
            6.169,
            6.211,
            6.069,
            5.682,
            5.786,
            6.03,
            5.399,
            5.602,
            5.963,
            6.115,
            6.511,
            5.998,
            5.888,
            7.249,
            6.383,
            6.816,
            6.145,
            5.927,
            5.741,
            5.966,
            6.456,
            6.762,
            7.104,
            6.29,
            5.787,
            5.878,
            5.594,
            5.885,
            6.417,
            5.961,
            6.065,
            6.245,
            6.273,
            6.286,
            6.279,
            6.14,
            6.232,
            5.874,
            6.727,
            6.619,
            6.302,
            6.167,
            6.389,
            6.63,
            6.015,
            6.121,
            7.007,
            7.079,
            6.417,
            6.405,
            6.442,
            6.211,
            6.249,
            6.625,
            6.163,
            8.069,
            7.82,
            7.416,
            6.727,
            6.781,
            6.405,
            6.137,
            6.167,
            5.851,
            5.836,
            6.127,
            6.474,
            6.229,
            6.195,
            6.715,
            5.913,
            6.092,
            6.254,
            5.928,
            6.176,
            6.021,
            5.872,
            5.731,
            5.87,
            6.004,
            5.961,
            5.856,
            5.879,
            5.986,
            5.613,
            5.693,
            6.431,
            5.637,
            6.458,
            6.326,
            6.372,
            5.822,
            5.757,
            6.335,
            5.942,
            6.454,
            5.857,
            6.151,
            6.174,
            5.019,
            5.403,
            5.468,
            4.903,
            6.13,
            5.628,
            4.926,
            5.186,
            5.597,
            6.122,
            5.404,
            5.012,
            5.709,
            6.129,
            6.152,
            5.272,
            6.943,
            6.066,
            6.51,
            6.25,
            5.854,
            6.101,
            5.877,
            6.319,
            6.402,
            5.875,
            5.88,
            5.572,
            6.416,
            5.859,
            6.546,
            6.02,
            6.315,
            6.86,
            6.98,
            7.765,
            6.144,
            7.155,
            6.563,
            5.604,
            6.153,
            6.782,
            6.556,
            7.185,
            6.951,
            6.739,
            7.178,
            6.8,
            6.604,
            7.287,
            7.107,
            7.274,
            6.975,
            7.135,
            6.162,
            7.61,
            7.853,
            5.891,
            6.326,
            5.783,
            6.064,
            5.344,
            5.96,
            5.404,
            5.807,
            6.375,
            5.412,
            6.182,
            5.888,
            6.642,
            5.951,
            6.373,
            6.951,
            6.164,
            6.879,
            6.618,
            8.266,
            8.04,
            7.163,
            7.686,
            6.552,
            5.981,
            7.412,
            8.337,
            8.247,
            6.726,
            6.086,
            6.631,
            7.358,
            6.481,
            6.606,
            6.897,
            6.095,
            6.358,
            6.393,
            5.593,
            5.605,
            6.108,
            6.226,
            6.433,
            6.718,
            6.487,
            6.438,
            6.957,
            8.259,
            6.108,
            5.876,
            7.454,
            7.333,
            6.842,
            7.203,
            7.52,
            8.398,
            7.327,
            7.206,
            5.56,
            7.014,
            7.47,
            5.92,
            5.856,
            6.24,
            6.538,
            7.691,
            6.758,
            6.854,
            7.267,
            6.826,
            6.482,
            6.812,
            7.82,
            6.968,
            7.645,
            7.088,
            6.453,
            6.23,
            6.209,
            6.315,
            6.565,
            6.861,
            7.148,
            6.63,
            6.127,
            6.009,
            6.678,
            6.549,
            5.79,
            6.345,
            7.041,
            6.871,
            6.59,
            6.495,
            6.982,
            7.236,
            6.616,
            7.42,
            6.849,
            6.635,
            5.972,
            4.973,
            6.122,
            6.023,
            6.266,
            6.567,
            5.705,
            5.914,
            5.782,
            6.382,
            6.113,
            6.426,
            6.376,
            6.041,
            5.708,
            6.415,
            6.431,
            6.312,
            6.083,
            5.868,
            6.333,
            6.144,
            5.706,
            6.031,
            6.316,
            6.31,
            6.037,
            5.869,
            5.895,
            6.059,
            5.985,
            5.968,
            7.241,
            6.54,
            6.696,
            6.874,
            6.014,
            5.898,
            6.516,
            6.635,
            6.939,
            6.49,
            6.579,
            5.884,
            6.728,
            5.663,
            5.936,
            6.212,
            6.395,
            6.127,
            6.112,
            6.398,
            6.251,
            5.362,
            5.803,
            3.561,
            4.963,
            3.863,
            4.906,
            4.138,
            7.313,
            6.649,
            6.794,
            6.38,
            6.223,
            6.968,
            6.545,
            5.536,
            5.52,
            4.368,
            5.277,
            4.652,
            5,
            4.88,
            5.39,
            5.713,
            6.051,
            5.036,
            6.193,
            5.887,
            6.471,
            6.405,
            5.747,
            5.453,
            5.852,
            5.987,
            6.343,
            6.404,
            5.349,
            5.531,
            5.683,
            4.138,
            5.608,
            5.617,
            6.852,
            5.757,
            6.657,
            4.628,
            5.155,
            4.519,
            6.434,
            6.782,
            5.304,
            5.957,
            6.824,
            6.411,
            6.006,
            5.648,
            6.103,
            5.565,
            5.896,
            5.837,
            6.202,
            6.193,
            6.38,
            6.348,
            6.833,
            6.425,
            6.436,
            6.208,
            6.629,
            6.461,
            6.152,
            5.935,
            5.627,
            5.818,
            6.406,
            6.219,
            6.485,
            5.854,
            6.459,
            6.341,
            6.251,
            6.185,
            6.417,
            6.749,
            6.655,
            6.297,
            7.393,
            6.728,
            6.525,
            5.976,
            5.936,
            6.301,
            6.081,
            6.701,
            6.376,
            6.317,
            6.513,
            6.209,
            5.759,
            5.952,
            6.003,
            5.926,
            5.713,
            6.167,
            6.229,
            6.437,
            6.98,
            5.427,
            6.162,
            6.484,
            5.304,
            6.185,
            6.229,
            6.242,
            6.75,
            7.061,
            5.762,
            5.871,
            6.312,
            6.114,
            5.905,
            5.454,
            5.414,
            5.093,
            5.983,
            5.983,
            5.707,
            5.926,
            5.67,
            5.39,
            5.794,
            6.019,
            5.569,
            6.027,
            6.593,
            6.12,
            6.976,
            6.794,
            6.03
           ]
          },
          {
           "axis": {
            "matches": true
           },
           "label": "LSTAT",
           "values": [
            4.98,
            9.14,
            4.03,
            2.94,
            5.33,
            5.21,
            12.43,
            19.15,
            29.93,
            17.1,
            20.45,
            13.27,
            15.71,
            8.26,
            10.26,
            8.47,
            6.58,
            14.67,
            11.69,
            11.28,
            21.02,
            13.83,
            18.72,
            19.88,
            16.3,
            16.51,
            14.81,
            17.28,
            12.8,
            11.98,
            22.6,
            13.04,
            27.71,
            18.35,
            20.34,
            9.68,
            11.41,
            8.77,
            10.13,
            4.32,
            1.98,
            4.84,
            5.81,
            7.44,
            9.55,
            10.21,
            14.15,
            18.8,
            30.81,
            16.2,
            13.45,
            9.43,
            5.28,
            8.43,
            14.8,
            4.81,
            5.77,
            3.95,
            6.86,
            9.22,
            13.15,
            14.44,
            6.73,
            9.5,
            8.05,
            4.67,
            10.24,
            8.1,
            13.09,
            8.79,
            6.72,
            9.88,
            5.52,
            7.54,
            6.78,
            8.94,
            11.97,
            10.27,
            12.34,
            9.1,
            5.29,
            7.22,
            6.72,
            7.51,
            9.62,
            6.53,
            12.86,
            8.44,
            5.5,
            5.7,
            8.81,
            8.2,
            8.16,
            6.21,
            10.59,
            6.65,
            11.34,
            4.21,
            3.57,
            6.19,
            9.42,
            7.67,
            10.63,
            13.44,
            12.33,
            16.47,
            18.66,
            14.09,
            12.27,
            15.55,
            13,
            10.16,
            16.21,
            17.09,
            10.45,
            15.76,
            12.04,
            10.3,
            15.37,
            13.61,
            14.37,
            14.27,
            17.93,
            25.41,
            17.58,
            14.81,
            27.26,
            17.19,
            15.39,
            18.34,
            12.6,
            12.26,
            11.12,
            15.03,
            17.31,
            16.96,
            16.9,
            14.59,
            21.32,
            18.46,
            24.16,
            34.41,
            26.82,
            26.42,
            29.29,
            27.8,
            16.65,
            29.53,
            28.32,
            21.45,
            14.1,
            13.28,
            12.12,
            15.79,
            15.12,
            15.02,
            16.14,
            4.59,
            6.43,
            7.39,
            5.5,
            11.64,
            9.81,
            12.14,
            11.1,
            11.32,
            14.43,
            12.03,
            14.69,
            9.04,
            9.64,
            5.33,
            10.11,
            6.29,
            6.92,
            5.04,
            7.56,
            9.45,
            4.82,
            5.68,
            13.98,
            13.15,
            6.68,
            4.56,
            5.39,
            5.1,
            4.69,
            2.87,
            5.03,
            4.38,
            4.08,
            8.61,
            6.62,
            4.56,
            4.45,
            7.43,
            3.11,
            3.81,
            10.87,
            10.97,
            18.06,
            14.66,
            23.09,
            17.27,
            23.98,
            16.03,
            9.38,
            29.55,
            9.47,
            13.51,
            9.69,
            17.92,
            10.5,
            9.71,
            21.46,
            9.93,
            7.6,
            4.14,
            3.13,
            6.36,
            3.92,
            3.76,
            11.65,
            5.25,
            2.47,
            3.95,
            8.05,
            10.88,
            9.54,
            4.73,
            6.36,
            7.37,
            11.38,
            12.4,
            11.22,
            5.19,
            12.5,
            18.46,
            9.16,
            10.15,
            9.52,
            6.56,
            5.9,
            3.59,
            3.53,
            3.54,
            6.57,
            9.25,
            3.11,
            7.79,
            6.9,
            9.59,
            7.26,
            5.91,
            11.25,
            8.1,
            10.45,
            14.79,
            3.16,
            13.65,
            13,
            6.59,
            7.73,
            6.58,
            3.53,
            2.98,
            6.05,
            4.16,
            7.19,
            4.85,
            3.76,
            4.59,
            3.01,
            7.85,
            8.23,
            12.93,
            7.14,
            7.6,
            9.51,
            3.33,
            3.56,
            4.7,
            8.58,
            10.4,
            6.27,
            7.39,
            15.84,
            4.97,
            4.74,
            6.07,
            9.5,
            8.67,
            4.86,
            6.93,
            8.93,
            6.47,
            7.53,
            4.54,
            9.97,
            12.64,
            5.98,
            11.72,
            7.9,
            9.28,
            11.5,
            18.33,
            15.94,
            10.36,
            12.73,
            7.2,
            6.87,
            7.7,
            11.74,
            6.12,
            5.08,
            6.15,
            12.79,
            9.97,
            7.34,
            9.09,
            12.43,
            7.83,
            5.68,
            6.75,
            8.01,
            9.8,
            10.56,
            8.51,
            9.74,
            9.29,
            5.49,
            8.65,
            7.18,
            4.61,
            10.53,
            12.67,
            6.36,
            5.99,
            5.89,
            5.98,
            5.49,
            7.79,
            4.5,
            8.05,
            5.57,
            17.6,
            13.27,
            11.48,
            12.67,
            7.79,
            14.19,
            10.19,
            14.64,
            7.12,
            14,
            13.33,
            34.77,
            37.97,
            13.44,
            23.24,
            21.24,
            23.69,
            21.78,
            17.21,
            21.08,
            23.6,
            24.56,
            30.63,
            30.81,
            28.28,
            31.99,
            30.62,
            20.85,
            17.11,
            18.76,
            25.68,
            15.17,
            16.35,
            17.12,
            19.37,
            19.92,
            30.59,
            29.97,
            26.77,
            20.32,
            20.31,
            19.77,
            27.38,
            22.98,
            23.34,
            12.13,
            26.4,
            19.78,
            10.11,
            21.22,
            34.37,
            20.08,
            36.98,
            29.05,
            25.79,
            26.64,
            20.62,
            22.74,
            15.02,
            15.7,
            14.1,
            23.29,
            17.16,
            24.39,
            15.69,
            14.52,
            21.52,
            24.08,
            17.64,
            19.69,
            12.03,
            16.22,
            15.17,
            23.27,
            18.05,
            26.45,
            34.02,
            22.88,
            22.11,
            19.52,
            16.59,
            18.85,
            23.79,
            23.98,
            17.79,
            16.44,
            18.13,
            19.31,
            17.44,
            17.73,
            17.27,
            16.74,
            18.71,
            18.13,
            19.01,
            16.94,
            16.23,
            14.7,
            16.42,
            14.65,
            13.99,
            10.29,
            13.22,
            14.13,
            17.15,
            21.32,
            18.13,
            14.76,
            16.29,
            12.87,
            14.36,
            11.66,
            18.14,
            24.1,
            18.68,
            24.91,
            18.03,
            13.11,
            10.74,
            7.74,
            7.01,
            10.42,
            13.34,
            10.58,
            14.98,
            11.45,
            18.06,
            23.97,
            29.68,
            18.07,
            13.35,
            12.01,
            13.59,
            17.6,
            21.14,
            14.1,
            12.92,
            15.1,
            14.33,
            9.67,
            9.08,
            5.64,
            6.48,
            7.88
           ]
          },
          {
           "axis": {
            "matches": true
           },
           "label": "PTRATIO",
           "values": [
            15.3,
            17.8,
            17.8,
            18.7,
            18.7,
            18.7,
            15.2,
            15.2,
            15.2,
            15.2,
            15.2,
            15.2,
            15.2,
            21,
            21,
            21,
            21,
            21,
            21,
            21,
            21,
            21,
            21,
            21,
            21,
            21,
            21,
            21,
            21,
            21,
            21,
            21,
            21,
            21,
            21,
            19.2,
            19.2,
            19.2,
            19.2,
            18.3,
            18.3,
            17.9,
            17.9,
            17.9,
            17.9,
            17.9,
            17.9,
            17.9,
            17.9,
            17.9,
            16.8,
            16.8,
            16.8,
            16.8,
            21.1,
            17.9,
            17.3,
            15.1,
            19.7,
            19.7,
            19.7,
            19.7,
            19.7,
            19.7,
            18.6,
            16.1,
            16.1,
            18.9,
            18.9,
            18.9,
            19.2,
            19.2,
            19.2,
            19.2,
            18.7,
            18.7,
            18.7,
            18.7,
            18.7,
            18.7,
            19,
            19,
            19,
            19,
            18.5,
            18.5,
            18.5,
            18.5,
            17.8,
            17.8,
            17.8,
            17.8,
            18.2,
            18.2,
            18.2,
            18,
            18,
            18,
            18,
            18,
            20.9,
            20.9,
            20.9,
            20.9,
            20.9,
            20.9,
            20.9,
            20.9,
            20.9,
            20.9,
            20.9,
            17.8,
            17.8,
            17.8,
            17.8,
            17.8,
            17.8,
            17.8,
            17.8,
            17.8,
            19.1,
            19.1,
            19.1,
            19.1,
            19.1,
            19.1,
            19.1,
            21.2,
            21.2,
            21.2,
            21.2,
            21.2,
            21.2,
            21.2,
            21.2,
            21.2,
            21.2,
            21.2,
            21.2,
            21.2,
            21.2,
            21.2,
            14.7,
            14.7,
            14.7,
            14.7,
            14.7,
            14.7,
            14.7,
            14.7,
            14.7,
            14.7,
            14.7,
            14.7,
            14.7,
            14.7,
            14.7,
            14.7,
            14.7,
            14.7,
            14.7,
            14.7,
            14.7,
            14.7,
            14.7,
            14.7,
            14.7,
            14.7,
            16.6,
            16.6,
            16.6,
            16.6,
            16.6,
            16.6,
            16.6,
            17.8,
            17.8,
            17.8,
            17.8,
            17.8,
            17.8,
            17.8,
            15.2,
            15.2,
            15.2,
            15.2,
            15.2,
            15.2,
            15.6,
            15.6,
            12.6,
            12.6,
            12.6,
            17,
            17,
            14.7,
            14.7,
            14.7,
            18.6,
            18.6,
            18.6,
            18.6,
            18.6,
            18.6,
            18.6,
            18.6,
            18.6,
            18.6,
            18.6,
            16.4,
            16.4,
            16.4,
            16.4,
            17.4,
            17.4,
            17.4,
            17.4,
            17.4,
            17.4,
            17.4,
            17.4,
            17.4,
            17.4,
            17.4,
            17.4,
            17.4,
            17.4,
            17.4,
            17.4,
            17.4,
            16.6,
            16.6,
            16.6,
            16.6,
            16.6,
            16.6,
            19.1,
            19.1,
            19.1,
            19.1,
            19.1,
            19.1,
            19.1,
            19.1,
            19.1,
            19.1,
            16.4,
            16.4,
            15.9,
            13,
            13,
            13,
            13,
            13,
            13,
            13,
            13,
            13,
            13,
            18.6,
            18.6,
            18.6,
            18.6,
            18.6,
            17.6,
            17.6,
            17.6,
            17.6,
            17.6,
            14.9,
            14.9,
            14.9,
            14.9,
            15.3,
            15.3,
            18.2,
            16.6,
            16.6,
            16.6,
            19.2,
            19.2,
            19.2,
            16,
            16,
            16,
            16,
            16,
            14.8,
            14.8,
            14.8,
            16.1,
            16.1,
            16.1,
            18.4,
            18.4,
            18.4,
            18.4,
            18.4,
            18.4,
            18.4,
            18.4,
            18.4,
            18.4,
            18.4,
            18.4,
            18.4,
            18.4,
            18.4,
            18.4,
            19.6,
            19.6,
            19.6,
            19.6,
            19.6,
            19.6,
            19.6,
            19.6,
            16.9,
            16.9,
            16.9,
            16.9,
            16.9,
            20.2,
            20.2,
            20.2,
            20.2,
            20.2,
            20.2,
            20.2,
            20.2,
            15.5,
            15.9,
            17.6,
            17.6,
            18.8,
            18.8,
            17.9,
            17,
            19.7,
            19.7,
            18.3,
            18.3,
            17,
            22,
            22,
            20.2,
            20.2,
            20.2,
            20.2,
            20.2,
            20.2,
            20.2,
            20.2,
            20.2,
            20.2,
            20.2,
            20.2,
            20.2,
            20.2,
            20.2,
            20.2,
            20.2,
            20.2,
            20.2,
            20.2,
            20.2,
            20.2,
            20.2,
            20.2,
            20.2,
            20.2,
            20.2,
            20.2,
            20.2,
            20.2,
            20.2,
            20.2,
            20.2,
            20.2,
            20.2,
            20.2,
            20.2,
            20.2,
            20.2,
            20.2,
            20.2,
            20.2,
            20.2,
            20.2,
            20.2,
            20.2,
            20.2,
            20.2,
            20.2,
            20.2,
            20.2,
            20.2,
            20.2,
            20.2,
            20.2,
            20.2,
            20.2,
            20.2,
            20.2,
            20.2,
            20.2,
            20.2,
            20.2,
            20.2,
            20.2,
            20.2,
            20.2,
            20.2,
            20.2,
            20.2,
            20.2,
            20.2,
            20.2,
            20.2,
            20.2,
            20.2,
            20.2,
            20.2,
            20.2,
            20.2,
            20.2,
            20.2,
            20.2,
            20.2,
            20.2,
            20.2,
            20.2,
            20.2,
            20.2,
            20.2,
            20.2,
            20.2,
            20.2,
            20.2,
            20.2,
            20.2,
            20.2,
            20.2,
            20.2,
            20.2,
            20.2,
            20.2,
            20.2,
            20.2,
            20.2,
            20.2,
            20.2,
            20.2,
            20.2,
            20.2,
            20.2,
            20.2,
            20.2,
            20.2,
            20.2,
            20.2,
            20.2,
            20.2,
            20.2,
            20.2,
            20.2,
            20.2,
            20.2,
            20.2,
            20.2,
            20.2,
            20.1,
            20.1,
            20.1,
            20.1,
            20.1,
            19.2,
            19.2,
            19.2,
            19.2,
            19.2,
            19.2,
            19.2,
            19.2,
            21,
            21,
            21,
            21,
            21
           ]
          },
          {
           "axis": {
            "matches": true
           },
           "label": "MEDV",
           "values": [
            504000,
            453600,
            728700,
            701400,
            760200,
            602700,
            480900,
            569100,
            346500,
            396900,
            315000,
            396900,
            455700,
            428400,
            382200,
            417900,
            485100,
            367500,
            424200,
            382200,
            285600,
            411600,
            319200,
            304500,
            327600,
            291900,
            348600,
            310800,
            386400,
            441000,
            266700,
            304500,
            277200,
            275100,
            283500,
            396900,
            420000,
            441000,
            518700,
            646800,
            732900,
            558600,
            531300,
            518700,
            445200,
            405300,
            420000,
            348600,
            302400,
            407400,
            413700,
            430500,
            525000,
            491400,
            396900,
            743400,
            518700,
            663600,
            489300,
            411600,
            392700,
            336000,
            466200,
            525000,
            693000,
            493500,
            407400,
            462000,
            365400,
            438900,
            508200,
            455700,
            478800,
            491400,
            506100,
            449400,
            420000,
            436800,
            445200,
            426300,
            588000,
            501900,
            520800,
            480900,
            501900,
            558600,
            472500,
            466200,
            495600,
            602700,
            474600,
            462000,
            480900,
            525000,
            432600,
            596400,
            449400,
            812700,
            919800,
            697200,
            577500,
            556500,
            390600,
            405300,
            422100,
            409500,
            409500,
            428400,
            415800,
            407400,
            455700,
            478800,
            394800,
            392700,
            388500,
            384300,
            445200,
            403200,
            428400,
            405300,
            462000,
            426300,
            430500,
            363300,
            394800,
            449400,
            329700,
            340200,
            378000,
            300300,
            403200,
            411600,
            483000,
            386400,
            327600,
            380100,
            365400,
            359100,
            279300,
            373800,
            294000,
            302400,
            281400,
            327600,
            247800,
            289800,
            327600,
            306600,
            373800,
            323400,
            451500,
            411600,
            321300,
            407400,
            357000,
            327600,
            275100,
            867300,
            510300,
            489300,
            567000,
            476700,
            525000,
            499800,
            499800,
            468300,
            365400,
            401100,
            485100,
            495600,
            474600,
            617400,
            487200,
            516600,
            627900,
            781200,
            835800,
            760200,
            795900,
            682500,
            554400,
            621600,
            672000,
            625800,
            732900,
            777000,
            640500,
            764400,
            653100,
            611100,
            699300,
            636300,
            726600,
            732900,
            690900,
            506100,
            888300,
            1018500,
            474600,
            512400,
            472500,
            512400,
            420000,
            455700,
            405300,
            470400,
            590100,
            497700,
            525000,
            489300,
            602700,
            451500,
            483000,
            560700,
            455700,
            577500,
            632100,
            940800,
            789600,
            663600,
            980700,
            661500,
            510300,
            665700,
            875700,
            1014300,
            609000,
            504000,
            527100,
            661500,
            497700,
            489300,
            462000,
            422100,
            466200,
            497700,
            369600,
            388500,
            510300,
            430500,
            514500,
            550200,
            512400,
            520800,
            621600,
            898800,
            459900,
            438900,
            924000,
            756000,
            632100,
            709800,
            905100,
            1024800,
            651000,
            766500,
            478800,
            644700,
            913500,
            434700,
            443100,
            529200,
            512400,
            739200,
            680400,
            672000,
            697200,
            695100,
            611100,
            737100,
            953400,
            743400,
            966000,
            676200,
            462000,
            422100,
            487200,
            468300,
            520800,
            598500,
            783300,
            585900,
            501900,
            455700,
            600600,
            569100,
            426300,
            472500,
            609000,
            520800,
            462000,
            554400,
            695100,
            758100,
            596400,
            701400,
            592200,
            478800,
            426300,
            338100,
            464100,
            407400,
            453600,
            499800,
            340200,
            373800,
            415800,
            485100,
            441000,
            499800,
            485100,
            428400,
            388500,
            525000,
            516600,
            483000,
            466200,
            405300,
            474600,
            415800,
            359100,
            407400,
            466200,
            434700,
            443100,
            409500,
            388500,
            432600,
            399000,
            392700,
            686700,
            346500,
            501900,
            655200,
            367500,
            361200,
            485100,
            514500,
            558600,
            480900,
            506100,
            390600,
            632100,
            382200,
            432600,
            373800,
            455700,
            476700,
            474600,
            525000,
            417900,
            436800,
            352800,
            577500,
            459900,
            485100,
            289800,
            289800,
            315000,
            291900,
            279300,
            275100,
            214200,
            218400,
            228900,
            237300,
            258300,
            184800,
            151200,
            220500,
            155400,
            214200,
            241500,
            317100,
            487200,
            203700,
            289800,
            266700,
            275100,
            262500,
            178500,
            105000,
            132300,
            117600,
            151200,
            254100,
            174300,
            178500,
            105000,
            249900,
            585900,
            361200,
            577500,
            315000,
            361200,
            375900,
            342300,
            147000,
            151200,
            157500,
            218400,
            184800,
            176400,
            350700,
            298200,
            436800,
            281400,
            245700,
            174300,
            214200,
            228900,
            231000,
            199500,
            304500,
            296100,
            338100,
            300300,
            245700,
            281400,
            201600,
            182700,
            176400,
            268800,
            220500,
            359100,
            386400,
            323400,
            226800,
            247800,
            312900,
            264600,
            296100,
            273000,
            281400,
            319200,
            338100,
            373800,
            312900,
            296100,
            266700,
            283500,
            312900,
            420000,
            344400,
            371700,
            409500,
            424200,
            449400,
            417900,
            399000,
            401100,
            401100,
            422100,
            417900,
            411600,
            487200,
            625800,
            289800,
            279300,
            350700,
            252000,
            306600,
            449400,
            483000,
            497700,
            525000,
            457800,
            432600,
            445200,
            401100,
            432600,
            319200,
            147000,
            170100,
            285600,
            422100,
            457800,
            514500,
            485100,
            413700,
            384300,
            445200,
            367500,
            352800,
            470400,
            432600,
            501900,
            462000,
            249900
           ]
          }
         ],
         "hovertemplate": "%{xaxis.title.text}=%{x}<br>%{yaxis.title.text}=%{y}<extra></extra>",
         "legendgroup": "",
         "marker": {
          "color": "#636efa",
          "symbol": "circle"
         },
         "name": "",
         "showlegend": false,
         "type": "splom"
        }
       ],
       "layout": {
        "dragmode": "select",
        "height": 800,
        "legend": {
         "tracegroupgap": 0
        },
        "margin": {
         "t": 60
        },
        "template": {
         "data": {
          "bar": [
           {
            "error_x": {
             "color": "#f2f5fa"
            },
            "error_y": {
             "color": "#f2f5fa"
            },
            "marker": {
             "line": {
              "color": "rgb(17,17,17)",
              "width": 0.5
             },
             "pattern": {
              "fillmode": "overlay",
              "size": 10,
              "solidity": 0.2
             }
            },
            "type": "bar"
           }
          ],
          "barpolar": [
           {
            "marker": {
             "line": {
              "color": "rgb(17,17,17)",
              "width": 0.5
             },
             "pattern": {
              "fillmode": "overlay",
              "size": 10,
              "solidity": 0.2
             }
            },
            "type": "barpolar"
           }
          ],
          "carpet": [
           {
            "aaxis": {
             "endlinecolor": "#A2B1C6",
             "gridcolor": "#506784",
             "linecolor": "#506784",
             "minorgridcolor": "#506784",
             "startlinecolor": "#A2B1C6"
            },
            "baxis": {
             "endlinecolor": "#A2B1C6",
             "gridcolor": "#506784",
             "linecolor": "#506784",
             "minorgridcolor": "#506784",
             "startlinecolor": "#A2B1C6"
            },
            "type": "carpet"
           }
          ],
          "choropleth": [
           {
            "colorbar": {
             "outlinewidth": 0,
             "ticks": ""
            },
            "type": "choropleth"
           }
          ],
          "contour": [
           {
            "colorbar": {
             "outlinewidth": 0,
             "ticks": ""
            },
            "colorscale": [
             [
              0,
              "#0d0887"
             ],
             [
              0.1111111111111111,
              "#46039f"
             ],
             [
              0.2222222222222222,
              "#7201a8"
             ],
             [
              0.3333333333333333,
              "#9c179e"
             ],
             [
              0.4444444444444444,
              "#bd3786"
             ],
             [
              0.5555555555555556,
              "#d8576b"
             ],
             [
              0.6666666666666666,
              "#ed7953"
             ],
             [
              0.7777777777777778,
              "#fb9f3a"
             ],
             [
              0.8888888888888888,
              "#fdca26"
             ],
             [
              1,
              "#f0f921"
             ]
            ],
            "type": "contour"
           }
          ],
          "contourcarpet": [
           {
            "colorbar": {
             "outlinewidth": 0,
             "ticks": ""
            },
            "type": "contourcarpet"
           }
          ],
          "heatmap": [
           {
            "colorbar": {
             "outlinewidth": 0,
             "ticks": ""
            },
            "colorscale": [
             [
              0,
              "#0d0887"
             ],
             [
              0.1111111111111111,
              "#46039f"
             ],
             [
              0.2222222222222222,
              "#7201a8"
             ],
             [
              0.3333333333333333,
              "#9c179e"
             ],
             [
              0.4444444444444444,
              "#bd3786"
             ],
             [
              0.5555555555555556,
              "#d8576b"
             ],
             [
              0.6666666666666666,
              "#ed7953"
             ],
             [
              0.7777777777777778,
              "#fb9f3a"
             ],
             [
              0.8888888888888888,
              "#fdca26"
             ],
             [
              1,
              "#f0f921"
             ]
            ],
            "type": "heatmap"
           }
          ],
          "heatmapgl": [
           {
            "colorbar": {
             "outlinewidth": 0,
             "ticks": ""
            },
            "colorscale": [
             [
              0,
              "#0d0887"
             ],
             [
              0.1111111111111111,
              "#46039f"
             ],
             [
              0.2222222222222222,
              "#7201a8"
             ],
             [
              0.3333333333333333,
              "#9c179e"
             ],
             [
              0.4444444444444444,
              "#bd3786"
             ],
             [
              0.5555555555555556,
              "#d8576b"
             ],
             [
              0.6666666666666666,
              "#ed7953"
             ],
             [
              0.7777777777777778,
              "#fb9f3a"
             ],
             [
              0.8888888888888888,
              "#fdca26"
             ],
             [
              1,
              "#f0f921"
             ]
            ],
            "type": "heatmapgl"
           }
          ],
          "histogram": [
           {
            "marker": {
             "pattern": {
              "fillmode": "overlay",
              "size": 10,
              "solidity": 0.2
             }
            },
            "type": "histogram"
           }
          ],
          "histogram2d": [
           {
            "colorbar": {
             "outlinewidth": 0,
             "ticks": ""
            },
            "colorscale": [
             [
              0,
              "#0d0887"
             ],
             [
              0.1111111111111111,
              "#46039f"
             ],
             [
              0.2222222222222222,
              "#7201a8"
             ],
             [
              0.3333333333333333,
              "#9c179e"
             ],
             [
              0.4444444444444444,
              "#bd3786"
             ],
             [
              0.5555555555555556,
              "#d8576b"
             ],
             [
              0.6666666666666666,
              "#ed7953"
             ],
             [
              0.7777777777777778,
              "#fb9f3a"
             ],
             [
              0.8888888888888888,
              "#fdca26"
             ],
             [
              1,
              "#f0f921"
             ]
            ],
            "type": "histogram2d"
           }
          ],
          "histogram2dcontour": [
           {
            "colorbar": {
             "outlinewidth": 0,
             "ticks": ""
            },
            "colorscale": [
             [
              0,
              "#0d0887"
             ],
             [
              0.1111111111111111,
              "#46039f"
             ],
             [
              0.2222222222222222,
              "#7201a8"
             ],
             [
              0.3333333333333333,
              "#9c179e"
             ],
             [
              0.4444444444444444,
              "#bd3786"
             ],
             [
              0.5555555555555556,
              "#d8576b"
             ],
             [
              0.6666666666666666,
              "#ed7953"
             ],
             [
              0.7777777777777778,
              "#fb9f3a"
             ],
             [
              0.8888888888888888,
              "#fdca26"
             ],
             [
              1,
              "#f0f921"
             ]
            ],
            "type": "histogram2dcontour"
           }
          ],
          "mesh3d": [
           {
            "colorbar": {
             "outlinewidth": 0,
             "ticks": ""
            },
            "type": "mesh3d"
           }
          ],
          "parcoords": [
           {
            "line": {
             "colorbar": {
              "outlinewidth": 0,
              "ticks": ""
             }
            },
            "type": "parcoords"
           }
          ],
          "pie": [
           {
            "automargin": true,
            "type": "pie"
           }
          ],
          "scatter": [
           {
            "marker": {
             "line": {
              "color": "#283442"
             }
            },
            "type": "scatter"
           }
          ],
          "scatter3d": [
           {
            "line": {
             "colorbar": {
              "outlinewidth": 0,
              "ticks": ""
             }
            },
            "marker": {
             "colorbar": {
              "outlinewidth": 0,
              "ticks": ""
             }
            },
            "type": "scatter3d"
           }
          ],
          "scattercarpet": [
           {
            "marker": {
             "colorbar": {
              "outlinewidth": 0,
              "ticks": ""
             }
            },
            "type": "scattercarpet"
           }
          ],
          "scattergeo": [
           {
            "marker": {
             "colorbar": {
              "outlinewidth": 0,
              "ticks": ""
             }
            },
            "type": "scattergeo"
           }
          ],
          "scattergl": [
           {
            "marker": {
             "line": {
              "color": "#283442"
             }
            },
            "type": "scattergl"
           }
          ],
          "scattermapbox": [
           {
            "marker": {
             "colorbar": {
              "outlinewidth": 0,
              "ticks": ""
             }
            },
            "type": "scattermapbox"
           }
          ],
          "scatterpolar": [
           {
            "marker": {
             "colorbar": {
              "outlinewidth": 0,
              "ticks": ""
             }
            },
            "type": "scatterpolar"
           }
          ],
          "scatterpolargl": [
           {
            "marker": {
             "colorbar": {
              "outlinewidth": 0,
              "ticks": ""
             }
            },
            "type": "scatterpolargl"
           }
          ],
          "scatterternary": [
           {
            "marker": {
             "colorbar": {
              "outlinewidth": 0,
              "ticks": ""
             }
            },
            "type": "scatterternary"
           }
          ],
          "surface": [
           {
            "colorbar": {
             "outlinewidth": 0,
             "ticks": ""
            },
            "colorscale": [
             [
              0,
              "#0d0887"
             ],
             [
              0.1111111111111111,
              "#46039f"
             ],
             [
              0.2222222222222222,
              "#7201a8"
             ],
             [
              0.3333333333333333,
              "#9c179e"
             ],
             [
              0.4444444444444444,
              "#bd3786"
             ],
             [
              0.5555555555555556,
              "#d8576b"
             ],
             [
              0.6666666666666666,
              "#ed7953"
             ],
             [
              0.7777777777777778,
              "#fb9f3a"
             ],
             [
              0.8888888888888888,
              "#fdca26"
             ],
             [
              1,
              "#f0f921"
             ]
            ],
            "type": "surface"
           }
          ],
          "table": [
           {
            "cells": {
             "fill": {
              "color": "#506784"
             },
             "line": {
              "color": "rgb(17,17,17)"
             }
            },
            "header": {
             "fill": {
              "color": "#2a3f5f"
             },
             "line": {
              "color": "rgb(17,17,17)"
             }
            },
            "type": "table"
           }
          ]
         },
         "layout": {
          "annotationdefaults": {
           "arrowcolor": "#f2f5fa",
           "arrowhead": 0,
           "arrowwidth": 1
          },
          "autotypenumbers": "strict",
          "coloraxis": {
           "colorbar": {
            "outlinewidth": 0,
            "ticks": ""
           }
          },
          "colorscale": {
           "diverging": [
            [
             0,
             "#8e0152"
            ],
            [
             0.1,
             "#c51b7d"
            ],
            [
             0.2,
             "#de77ae"
            ],
            [
             0.3,
             "#f1b6da"
            ],
            [
             0.4,
             "#fde0ef"
            ],
            [
             0.5,
             "#f7f7f7"
            ],
            [
             0.6,
             "#e6f5d0"
            ],
            [
             0.7,
             "#b8e186"
            ],
            [
             0.8,
             "#7fbc41"
            ],
            [
             0.9,
             "#4d9221"
            ],
            [
             1,
             "#276419"
            ]
           ],
           "sequential": [
            [
             0,
             "#0d0887"
            ],
            [
             0.1111111111111111,
             "#46039f"
            ],
            [
             0.2222222222222222,
             "#7201a8"
            ],
            [
             0.3333333333333333,
             "#9c179e"
            ],
            [
             0.4444444444444444,
             "#bd3786"
            ],
            [
             0.5555555555555556,
             "#d8576b"
            ],
            [
             0.6666666666666666,
             "#ed7953"
            ],
            [
             0.7777777777777778,
             "#fb9f3a"
            ],
            [
             0.8888888888888888,
             "#fdca26"
            ],
            [
             1,
             "#f0f921"
            ]
           ],
           "sequentialminus": [
            [
             0,
             "#0d0887"
            ],
            [
             0.1111111111111111,
             "#46039f"
            ],
            [
             0.2222222222222222,
             "#7201a8"
            ],
            [
             0.3333333333333333,
             "#9c179e"
            ],
            [
             0.4444444444444444,
             "#bd3786"
            ],
            [
             0.5555555555555556,
             "#d8576b"
            ],
            [
             0.6666666666666666,
             "#ed7953"
            ],
            [
             0.7777777777777778,
             "#fb9f3a"
            ],
            [
             0.8888888888888888,
             "#fdca26"
            ],
            [
             1,
             "#f0f921"
            ]
           ]
          },
          "colorway": [
           "#636efa",
           "#EF553B",
           "#00cc96",
           "#ab63fa",
           "#FFA15A",
           "#19d3f3",
           "#FF6692",
           "#B6E880",
           "#FF97FF",
           "#FECB52"
          ],
          "font": {
           "color": "#f2f5fa"
          },
          "geo": {
           "bgcolor": "rgb(17,17,17)",
           "lakecolor": "rgb(17,17,17)",
           "landcolor": "rgb(17,17,17)",
           "showlakes": true,
           "showland": true,
           "subunitcolor": "#506784"
          },
          "hoverlabel": {
           "align": "left"
          },
          "hovermode": "closest",
          "mapbox": {
           "style": "dark"
          },
          "paper_bgcolor": "rgb(17,17,17)",
          "plot_bgcolor": "rgb(17,17,17)",
          "polar": {
           "angularaxis": {
            "gridcolor": "#506784",
            "linecolor": "#506784",
            "ticks": ""
           },
           "bgcolor": "rgb(17,17,17)",
           "radialaxis": {
            "gridcolor": "#506784",
            "linecolor": "#506784",
            "ticks": ""
           }
          },
          "scene": {
           "xaxis": {
            "backgroundcolor": "rgb(17,17,17)",
            "gridcolor": "#506784",
            "gridwidth": 2,
            "linecolor": "#506784",
            "showbackground": true,
            "ticks": "",
            "zerolinecolor": "#C8D4E3"
           },
           "yaxis": {
            "backgroundcolor": "rgb(17,17,17)",
            "gridcolor": "#506784",
            "gridwidth": 2,
            "linecolor": "#506784",
            "showbackground": true,
            "ticks": "",
            "zerolinecolor": "#C8D4E3"
           },
           "zaxis": {
            "backgroundcolor": "rgb(17,17,17)",
            "gridcolor": "#506784",
            "gridwidth": 2,
            "linecolor": "#506784",
            "showbackground": true,
            "ticks": "",
            "zerolinecolor": "#C8D4E3"
           }
          },
          "shapedefaults": {
           "line": {
            "color": "#f2f5fa"
           }
          },
          "sliderdefaults": {
           "bgcolor": "#C8D4E3",
           "bordercolor": "rgb(17,17,17)",
           "borderwidth": 1,
           "tickwidth": 0
          },
          "ternary": {
           "aaxis": {
            "gridcolor": "#506784",
            "linecolor": "#506784",
            "ticks": ""
           },
           "baxis": {
            "gridcolor": "#506784",
            "linecolor": "#506784",
            "ticks": ""
           },
           "bgcolor": "rgb(17,17,17)",
           "caxis": {
            "gridcolor": "#506784",
            "linecolor": "#506784",
            "ticks": ""
           }
          },
          "title": {
           "x": 0.05
          },
          "updatemenudefaults": {
           "bgcolor": "#506784",
           "borderwidth": 0
          },
          "xaxis": {
           "automargin": true,
           "gridcolor": "#283442",
           "linecolor": "#506784",
           "ticks": "",
           "title": {
            "standoff": 15
           },
           "zerolinecolor": "#283442",
           "zerolinewidth": 2
          },
          "yaxis": {
           "automargin": true,
           "gridcolor": "#283442",
           "linecolor": "#506784",
           "ticks": "",
           "title": {
            "standoff": 15
           },
           "zerolinecolor": "#283442",
           "zerolinewidth": 2
          }
         }
        },
        "title": {
         "text": "Correlação"
        },
        "width": 800,
        "xaxis": {
         "autorange": true,
         "range": [
          3.131588316467341,
          8.827411683532658
         ],
         "type": "linear"
        },
        "xaxis2": {
         "autorange": true,
         "range": [
          -1.2150643974241033,
          41.1650643974241
         ],
         "type": "linear"
        },
        "xaxis3": {
         "autorange": true,
         "range": [
          11.765501379944801,
          22.834498620055196
         ],
         "type": "linear"
        },
        "xaxis4": {
         "autorange": true,
         "range": [
          23343.42226310949,
          1106456.5777368904
         ],
         "type": "linear"
        },
        "yaxis": {
         "autorange": true,
         "range": [
          3.131588316467341,
          8.827411683532658
         ],
         "type": "linear"
        },
        "yaxis2": {
         "autorange": true,
         "range": [
          -1.2150643974241033,
          41.1650643974241
         ],
         "type": "linear"
        },
        "yaxis3": {
         "autorange": true,
         "range": [
          11.765501379944801,
          22.834498620055196
         ],
         "type": "linear"
        },
        "yaxis4": {
         "autorange": true,
         "range": [
          23343.42226310949,
          1106456.5777368904
         ],
         "type": "linear"
        }
       }
      },
      "image/png": "[encoded data removed]",
      "text/html": [
       "<div>                            <div id=\"463c305b-a3e2-4d02-bbff-b385965b001d\" class=\"plotly-graph-div\" style=\"height:800px; width:800px;\"></div>            <script type=\"text/javascript\">                require([\"plotly\"], function(Plotly) {                    window.PLOTLYENV=window.PLOTLYENV || {};                                    if (document.getElementById(\"463c305b-a3e2-4d02-bbff-b385965b001d\")) {                    Plotly.newPlot(                        \"463c305b-a3e2-4d02-bbff-b385965b001d\",                        [{\"dimensions\":[{\"axis\":{\"matches\":true},\"label\":\"RM\",\"values\":[6.575,6.421,7.185,6.998,7.147,6.43,6.012,6.172,5.631,6.004,6.377,6.009,5.889,5.949,6.096,5.834,5.935,5.99,5.456,5.727,5.57,5.965,6.142,5.813,5.924,5.599,5.813,6.047,6.495,6.674,5.713,6.072,5.95,5.701,6.096,5.933,5.841,5.85,5.966,6.595,7.024,6.77,6.169,6.211,6.069,5.682,5.786,6.03,5.399,5.602,5.963,6.115,6.511,5.998,5.888,7.249,6.383,6.816,6.145,5.927,5.741,5.966,6.456,6.762,7.104,6.29,5.787,5.878,5.594,5.885,6.417,5.961,6.065,6.245,6.273,6.286,6.279,6.14,6.232,5.874,6.727,6.619,6.302,6.167,6.389,6.63,6.015,6.121,7.007,7.079,6.417,6.405,6.442,6.211,6.249,6.625,6.163,8.069,7.82,7.416,6.727,6.781,6.405,6.137,6.167,5.851,5.836,6.127,6.474,6.229,6.195,6.715,5.913,6.092,6.254,5.928,6.176,6.021,5.872,5.731,5.87,6.004,5.961,5.856,5.879,5.986,5.613,5.693,6.431,5.637,6.458,6.326,6.372,5.822,5.757,6.335,5.942,6.454,5.857,6.151,6.174,5.019,5.403,5.468,4.903,6.13,5.628,4.926,5.186,5.597,6.122,5.404,5.012,5.709,6.129,6.152,5.272,6.943,6.066,6.51,6.25,5.854,6.101,5.877,6.319,6.402,5.875,5.88,5.572,6.416,5.859,6.546,6.02,6.315,6.86,6.98,7.765,6.144,7.155,6.563,5.604,6.153,6.782,6.556,7.185,6.951,6.739,7.178,6.8,6.604,7.287,7.107,7.274,6.975,7.135,6.162,7.61,7.853,5.891,6.326,5.783,6.064,5.344,5.96,5.404,5.807,6.375,5.412,6.182,5.888,6.642,5.951,6.373,6.951,6.164,6.879,6.618,8.266,8.04,7.163,7.686,6.552,5.981,7.412,8.337,8.247,6.726,6.086,6.631,7.358,6.481,6.606,6.897,6.095,6.358,6.393,5.593,5.605,6.108,6.226,6.433,6.718,6.487,6.438,6.957,8.259,6.108,5.876,7.454,7.333,6.842,7.203,7.52,8.398,7.327,7.206,5.56,7.014,7.47,5.92,5.856,6.24,6.538,7.691,6.758,6.854,7.267,6.826,6.482,6.812,7.82,6.968,7.645,7.088,6.453,6.23,6.209,6.315,6.565,6.861,7.148,6.63,6.127,6.009,6.678,6.549,5.79,6.345,7.041,6.871,6.59,6.495,6.982,7.236,6.616,7.42,6.849,6.635,5.972,4.973,6.122,6.023,6.266,6.567,5.705,5.914,5.782,6.382,6.113,6.426,6.376,6.041,5.708,6.415,6.431,6.312,6.083,5.868,6.333,6.144,5.706,6.031,6.316,6.31,6.037,5.869,5.895,6.059,5.985,5.968,7.241,6.54,6.696,6.874,6.014,5.898,6.516,6.635,6.939,6.49,6.579,5.884,6.728,5.663,5.936,6.212,6.395,6.127,6.112,6.398,6.251,5.362,5.803,3.561,4.963,3.863,4.906,4.138,7.313,6.649,6.794,6.38,6.223,6.968,6.545,5.536,5.52,4.368,5.277,4.652,5.0,4.88,5.39,5.713,6.051,5.036,6.193,5.887,6.471,6.405,5.747,5.453,5.852,5.987,6.343,6.404,5.349,5.531,5.683,4.138,5.608,5.617,6.852,5.757,6.657,4.628,5.155,4.519,6.434,6.782,5.304,5.957,6.824,6.411,6.006,5.648,6.103,5.565,5.896,5.837,6.202,6.193,6.38,6.348,6.833,6.425,6.436,6.208,6.629,6.461,6.152,5.935,5.627,5.818,6.406,6.219,6.485,5.854,6.459,6.341,6.251,6.185,6.417,6.749,6.655,6.297,7.393,6.728,6.525,5.976,5.936,6.301,6.081,6.701,6.376,6.317,6.513,6.209,5.759,5.952,6.003,5.926,5.713,6.167,6.229,6.437,6.98,5.427,6.162,6.484,5.304,6.185,6.229,6.242,6.75,7.061,5.762,5.871,6.312,6.114,5.905,5.454,5.414,5.093,5.983,5.983,5.707,5.926,5.67,5.39,5.794,6.019,5.569,6.027,6.593,6.12,6.976,6.794,6.03]},{\"axis\":{\"matches\":true},\"label\":\"LSTAT\",\"values\":[4.98,9.14,4.03,2.94,5.33,5.21,12.43,19.15,29.93,17.1,20.45,13.27,15.71,8.26,10.26,8.47,6.58,14.67,11.69,11.28,21.02,13.83,18.72,19.88,16.3,16.51,14.81,17.28,12.8,11.98,22.6,13.04,27.71,18.35,20.34,9.68,11.41,8.77,10.13,4.32,1.98,4.84,5.81,7.44,9.55,10.21,14.15,18.8,30.81,16.2,13.45,9.43,5.28,8.43,14.8,4.81,5.77,3.95,6.86,9.22,13.15,14.44,6.73,9.5,8.05,4.67,10.24,8.1,13.09,8.79,6.72,9.88,5.52,7.54,6.78,8.94,11.97,10.27,12.34,9.1,5.29,7.22,6.72,7.51,9.62,6.53,12.86,8.44,5.5,5.7,8.81,8.2,8.16,6.21,10.59,6.65,11.34,4.21,3.57,6.19,9.42,7.67,10.63,13.44,12.33,16.47,18.66,14.09,12.27,15.55,13.0,10.16,16.21,17.09,10.45,15.76,12.04,10.3,15.37,13.61,14.37,14.27,17.93,25.41,17.58,14.81,27.26,17.19,15.39,18.34,12.6,12.26,11.12,15.03,17.31,16.96,16.9,14.59,21.32,18.46,24.16,34.41,26.82,26.42,29.29,27.8,16.65,29.53,28.32,21.45,14.1,13.28,12.12,15.79,15.12,15.02,16.14,4.59,6.43,7.39,5.5,11.64,9.81,12.14,11.1,11.32,14.43,12.03,14.69,9.04,9.64,5.33,10.11,6.29,6.92,5.04,7.56,9.45,4.82,5.68,13.98,13.15,6.68,4.56,5.39,5.1,4.69,2.87,5.03,4.38,4.08,8.61,6.62,4.56,4.45,7.43,3.11,3.81,10.87,10.97,18.06,14.66,23.09,17.27,23.98,16.03,9.38,29.55,9.47,13.51,9.69,17.92,10.5,9.71,21.46,9.93,7.6,4.14,3.13,6.36,3.92,3.76,11.65,5.25,2.47,3.95,8.05,10.88,9.54,4.73,6.36,7.37,11.38,12.4,11.22,5.19,12.5,18.46,9.16,10.15,9.52,6.56,5.9,3.59,3.53,3.54,6.57,9.25,3.11,7.79,6.9,9.59,7.26,5.91,11.25,8.1,10.45,14.79,3.16,13.65,13.0,6.59,7.73,6.58,3.53,2.98,6.05,4.16,7.19,4.85,3.76,4.59,3.01,7.85,8.23,12.93,7.14,7.6,9.51,3.33,3.56,4.7,8.58,10.4,6.27,7.39,15.84,4.97,4.74,6.07,9.5,8.67,4.86,6.93,8.93,6.47,7.53,4.54,9.97,12.64,5.98,11.72,7.9,9.28,11.5,18.33,15.94,10.36,12.73,7.2,6.87,7.7,11.74,6.12,5.08,6.15,12.79,9.97,7.34,9.09,12.43,7.83,5.68,6.75,8.01,9.8,10.56,8.51,9.74,9.29,5.49,8.65,7.18,4.61,10.53,12.67,6.36,5.99,5.89,5.98,5.49,7.79,4.5,8.05,5.57,17.6,13.27,11.48,12.67,7.79,14.19,10.19,14.64,7.12,14.0,13.33,34.77,37.97,13.44,23.24,21.24,23.69,21.78,17.21,21.08,23.6,24.56,30.63,30.81,28.28,31.99,30.62,20.85,17.11,18.76,25.68,15.17,16.35,17.12,19.37,19.92,30.59,29.97,26.77,20.32,20.31,19.77,27.38,22.98,23.34,12.13,26.4,19.78,10.11,21.22,34.37,20.08,36.98,29.05,25.79,26.64,20.62,22.74,15.02,15.7,14.1,23.29,17.16,24.39,15.69,14.52,21.52,24.08,17.64,19.69,12.03,16.22,15.17,23.27,18.05,26.45,34.02,22.88,22.11,19.52,16.59,18.85,23.79,23.98,17.79,16.44,18.13,19.31,17.44,17.73,17.27,16.74,18.71,18.13,19.01,16.94,16.23,14.7,16.42,14.65,13.99,10.29,13.22,14.13,17.15,21.32,18.13,14.76,16.29,12.87,14.36,11.66,18.14,24.1,18.68,24.91,18.03,13.11,10.74,7.74,7.01,10.42,13.34,10.58,14.98,11.45,18.06,23.97,29.68,18.07,13.35,12.01,13.59,17.6,21.14,14.1,12.92,15.1,14.33,9.67,9.08,5.64,6.48,7.88]},{\"axis\":{\"matches\":true},\"label\":\"PTRATIO\",\"values\":[15.3,17.8,17.8,18.7,18.7,18.7,15.2,15.2,15.2,15.2,15.2,15.2,15.2,21.0,21.0,21.0,21.0,21.0,21.0,21.0,21.0,21.0,21.0,21.0,21.0,21.0,21.0,21.0,21.0,21.0,21.0,21.0,21.0,21.0,21.0,19.2,19.2,19.2,19.2,18.3,18.3,17.9,17.9,17.9,17.9,17.9,17.9,17.9,17.9,17.9,16.8,16.8,16.8,16.8,21.1,17.9,17.3,15.1,19.7,19.7,19.7,19.7,19.7,19.7,18.6,16.1,16.1,18.9,18.9,18.9,19.2,19.2,19.2,19.2,18.7,18.7,18.7,18.7,18.7,18.7,19.0,19.0,19.0,19.0,18.5,18.5,18.5,18.5,17.8,17.8,17.8,17.8,18.2,18.2,18.2,18.0,18.0,18.0,18.0,18.0,20.9,20.9,20.9,20.9,20.9,20.9,20.9,20.9,20.9,20.9,20.9,17.8,17.8,17.8,17.8,17.8,17.8,17.8,17.8,17.8,19.1,19.1,19.1,19.1,19.1,19.1,19.1,21.2,21.2,21.2,21.2,21.2,21.2,21.2,21.2,21.2,21.2,21.2,21.2,21.2,21.2,21.2,14.7,14.7,14.7,14.7,14.7,14.7,14.7,14.7,14.7,14.7,14.7,14.7,14.7,14.7,14.7,14.7,14.7,14.7,14.7,14.7,14.7,14.7,14.7,14.7,14.7,14.7,16.6,16.6,16.6,16.6,16.6,16.6,16.6,17.8,17.8,17.8,17.8,17.8,17.8,17.8,15.2,15.2,15.2,15.2,15.2,15.2,15.6,15.6,12.6,12.6,12.6,17.0,17.0,14.7,14.7,14.7,18.6,18.6,18.6,18.6,18.6,18.6,18.6,18.6,18.6,18.6,18.6,16.4,16.4,16.4,16.4,17.4,17.4,17.4,17.4,17.4,17.4,17.4,17.4,17.4,17.4,17.4,17.4,17.4,17.4,17.4,17.4,17.4,16.6,16.6,16.6,16.6,16.6,16.6,19.1,19.1,19.1,19.1,19.1,19.1,19.1,19.1,19.1,19.1,16.4,16.4,15.9,13.0,13.0,13.0,13.0,13.0,13.0,13.0,13.0,13.0,13.0,18.6,18.6,18.6,18.6,18.6,17.6,17.6,17.6,17.6,17.6,14.9,14.9,14.9,14.9,15.3,15.3,18.2,16.6,16.6,16.6,19.2,19.2,19.2,16.0,16.0,16.0,16.0,16.0,14.8,14.8,14.8,16.1,16.1,16.1,18.4,18.4,18.4,18.4,18.4,18.4,18.4,18.4,18.4,18.4,18.4,18.4,18.4,18.4,18.4,18.4,19.6,19.6,19.6,19.6,19.6,19.6,19.6,19.6,16.9,16.9,16.9,16.9,16.9,20.2,20.2,20.2,20.2,20.2,20.2,20.2,20.2,15.5,15.9,17.6,17.6,18.8,18.8,17.9,17.0,19.7,19.7,18.3,18.3,17.0,22.0,22.0,20.2,20.2,20.2,20.2,20.2,20.2,20.2,20.2,20.2,20.2,20.2,20.2,20.2,20.2,20.2,20.2,20.2,20.2,20.2,20.2,20.2,20.2,20.2,20.2,20.2,20.2,20.2,20.2,20.2,20.2,20.2,20.2,20.2,20.2,20.2,20.2,20.2,20.2,20.2,20.2,20.2,20.2,20.2,20.2,20.2,20.2,20.2,20.2,20.2,20.2,20.2,20.2,20.2,20.2,20.2,20.2,20.2,20.2,20.2,20.2,20.2,20.2,20.2,20.2,20.2,20.2,20.2,20.2,20.2,20.2,20.2,20.2,20.2,20.2,20.2,20.2,20.2,20.2,20.2,20.2,20.2,20.2,20.2,20.2,20.2,20.2,20.2,20.2,20.2,20.2,20.2,20.2,20.2,20.2,20.2,20.2,20.2,20.2,20.2,20.2,20.2,20.2,20.2,20.2,20.2,20.2,20.2,20.2,20.2,20.2,20.2,20.2,20.2,20.2,20.2,20.2,20.2,20.2,20.2,20.2,20.2,20.2,20.2,20.2,20.2,20.2,20.1,20.1,20.1,20.1,20.1,19.2,19.2,19.2,19.2,19.2,19.2,19.2,19.2,21.0,21.0,21.0,21.0,21.0]},{\"axis\":{\"matches\":true},\"label\":\"MEDV\",\"values\":[504000.0,453600.0,728700.0,701400.0,760200.0,602700.0,480900.0,569100.0,346500.0,396900.0,315000.0,396900.0,455700.0,428400.0,382200.0,417900.0,485100.0,367500.0,424200.0,382200.0,285600.0,411600.0,319200.0,304500.0,327600.0,291900.0,348600.0,310800.0,386400.0,441000.0,266700.0,304500.0,277200.0,275100.0,283500.0,396900.0,420000.0,441000.0,518700.0,646800.0,732900.0,558600.0,531300.0,518700.0,445200.0,405300.0,420000.0,348600.0,302400.0,407400.0,413700.0,430500.0,525000.0,491400.0,396900.0,743400.0,518700.0,663600.0,489300.0,411600.0,392700.0,336000.0,466200.0,525000.0,693000.0,493500.0,407400.0,462000.0,365400.0,438900.0,508200.0,455700.0,478800.0,491400.0,506100.0,449400.0,420000.0,436800.0,445200.0,426300.0,588000.0,501900.0,520800.0,480900.0,501900.0,558600.0,472500.0,466200.0,495600.0,602700.0,474600.0,462000.0,480900.0,525000.0,432600.0,596400.0,449400.0,812700.0,919800.0,697200.0,577500.0,556500.0,390600.0,405300.0,422100.0,409500.0,409500.0,428400.0,415800.0,407400.0,455700.0,478800.0,394800.0,392700.0,388500.0,384300.0,445200.0,403200.0,428400.0,405300.0,462000.0,426300.0,430500.0,363300.0,394800.0,449400.0,329700.0,340200.0,378000.0,300300.0,403200.0,411600.0,483000.0,386400.0,327600.0,380100.0,365400.0,359100.0,279300.0,373800.0,294000.0,302400.0,281400.0,327600.0,247800.0,289800.0,327600.0,306600.0,373800.0,323400.0,451500.0,411600.0,321300.0,407400.0,357000.0,327600.0,275100.0,867300.0,510300.0,489300.0,567000.0,476700.0,525000.0,499800.0,499800.0,468300.0,365400.0,401100.0,485100.0,495600.0,474600.0,617400.0,487200.0,516600.0,627900.0,781200.0,835800.0,760200.0,795900.0,682500.0,554400.0,621600.0,672000.0,625800.0,732900.0,777000.0,640500.0,764400.0,653100.0,611100.0,699300.0,636300.0,726600.0,732900.0,690900.0,506100.0,888300.0,1018500.0,474600.0,512400.0,472500.0,512400.0,420000.0,455700.0,405300.0,470400.0,590100.0,497700.0,525000.0,489300.0,602700.0,451500.0,483000.0,560700.0,455700.0,577500.0,632100.0,940800.0,789600.0,663600.0,980700.0,661500.0,510300.0,665700.0,875700.0,1014300.0,609000.0,504000.0,527100.0,661500.0,497700.0,489300.0,462000.0,422100.0,466200.0,497700.0,369600.0,388500.0,510300.0,430500.0,514500.0,550200.0,512400.0,520800.0,621600.0,898800.0,459900.0,438900.0,924000.0,756000.0,632100.0,709800.0,905100.0,1024800.0,651000.0,766500.0,478800.0,644700.0,913500.0,434700.0,443100.0,529200.0,512400.0,739200.0,680400.0,672000.0,697200.0,695100.0,611100.0,737100.0,953400.0,743400.0,966000.0,676200.0,462000.0,422100.0,487200.0,468300.0,520800.0,598500.0,783300.0,585900.0,501900.0,455700.0,600600.0,569100.0,426300.0,472500.0,609000.0,520800.0,462000.0,554400.0,695100.0,758100.0,596400.0,701400.0,592200.0,478800.0,426300.0,338100.0,464100.0,407400.0,453600.0,499800.0,340200.0,373800.0,415800.0,485100.0,441000.0,499800.0,485100.0,428400.0,388500.0,525000.0,516600.0,483000.0,466200.0,405300.0,474600.0,415800.0,359100.0,407400.0,466200.0,434700.0,443100.0,409500.0,388500.0,432600.0,399000.0,392700.0,686700.0,346500.0,501900.0,655200.0,367500.0,361200.0,485100.0,514500.0,558600.0,480900.0,506100.0,390600.0,632100.0,382200.0,432600.0,373800.0,455700.0,476700.0,474600.0,525000.0,417900.0,436800.0,352800.0,577500.0,459900.0,485100.0,289800.0,289800.0,315000.0,291900.0,279300.0,275100.0,214200.0,218400.0,228900.0,237300.0,258300.0,184800.0,151200.0,220500.0,155400.0,214200.0,241500.0,317100.0,487200.0,203700.0,289800.0,266700.0,275100.0,262500.0,178500.0,105000.0,132300.0,117600.0,151200.0,254100.0,174300.0,178500.0,105000.0,249900.0,585900.0,361200.0,577500.0,315000.0,361200.0,375900.0,342300.0,147000.0,151200.0,157500.0,218400.0,184800.0,176400.0,350700.0,298200.0,436800.0,281400.0,245700.0,174300.0,214200.0,228900.0,231000.0,199500.0,304500.0,296100.0,338100.0,300300.0,245700.0,281400.0,201600.0,182700.0,176400.0,268800.0,220500.0,359100.0,386400.0,323400.0,226800.0,247800.0,312900.0,264600.0,296100.0,273000.0,281400.0,319200.0,338100.0,373800.0,312900.0,296100.0,266700.0,283500.0,312900.0,420000.0,344400.0,371700.0,409500.0,424200.0,449400.0,417900.0,399000.0,401100.0,401100.0,422100.0,417900.0,411600.0,487200.0,625800.0,289800.0,279300.0,350700.0,252000.0,306600.0,449400.0,483000.0,497700.0,525000.0,457800.0,432600.0,445200.0,401100.0,432600.0,319200.0,147000.0,170100.0,285600.0,422100.0,457800.0,514500.0,485100.0,413700.0,384300.0,445200.0,367500.0,352800.0,470400.0,432600.0,501900.0,462000.0,249900.0]}],\"hovertemplate\":\"%{xaxis.title.text}=%{x}\\u003cbr\\u003e%{yaxis.title.text}=%{y}\\u003cextra\\u003e\\u003c\\u002fextra\\u003e\",\"legendgroup\":\"\",\"marker\":{\"color\":\"#636efa\",\"symbol\":\"circle\"},\"name\":\"\",\"showlegend\":false,\"type\":\"splom\"}],                        {\"template\":{\"data\":{\"barpolar\":[{\"marker\":{\"line\":{\"color\":\"rgb(17,17,17)\",\"width\":0.5},\"pattern\":{\"fillmode\":\"overlay\",\"size\":10,\"solidity\":0.2}},\"type\":\"barpolar\"}],\"bar\":[{\"error_x\":{\"color\":\"#f2f5fa\"},\"error_y\":{\"color\":\"#f2f5fa\"},\"marker\":{\"line\":{\"color\":\"rgb(17,17,17)\",\"width\":0.5},\"pattern\":{\"fillmode\":\"overlay\",\"size\":10,\"solidity\":0.2}},\"type\":\"bar\"}],\"carpet\":[{\"aaxis\":{\"endlinecolor\":\"#A2B1C6\",\"gridcolor\":\"#506784\",\"linecolor\":\"#506784\",\"minorgridcolor\":\"#506784\",\"startlinecolor\":\"#A2B1C6\"},\"baxis\":{\"endlinecolor\":\"#A2B1C6\",\"gridcolor\":\"#506784\",\"linecolor\":\"#506784\",\"minorgridcolor\":\"#506784\",\"startlinecolor\":\"#A2B1C6\"},\"type\":\"carpet\"}],\"choropleth\":[{\"colorbar\":{\"outlinewidth\":0,\"ticks\":\"\"},\"type\":\"choropleth\"}],\"contourcarpet\":[{\"colorbar\":{\"outlinewidth\":0,\"ticks\":\"\"},\"type\":\"contourcarpet\"}],\"contour\":[{\"colorbar\":{\"outlinewidth\":0,\"ticks\":\"\"},\"colorscale\":[[0.0,\"#0d0887\"],[0.1111111111111111,\"#46039f\"],[0.2222222222222222,\"#7201a8\"],[0.3333333333333333,\"#9c179e\"],[0.4444444444444444,\"#bd3786\"],[0.5555555555555556,\"#d8576b\"],[0.6666666666666666,\"#ed7953\"],[0.7777777777777778,\"#fb9f3a\"],[0.8888888888888888,\"#fdca26\"],[1.0,\"#f0f921\"]],\"type\":\"contour\"}],\"heatmapgl\":[{\"colorbar\":{\"outlinewidth\":0,\"ticks\":\"\"},\"colorscale\":[[0.0,\"#0d0887\"],[0.1111111111111111,\"#46039f\"],[0.2222222222222222,\"#7201a8\"],[0.3333333333333333,\"#9c179e\"],[0.4444444444444444,\"#bd3786\"],[0.5555555555555556,\"#d8576b\"],[0.6666666666666666,\"#ed7953\"],[0.7777777777777778,\"#fb9f3a\"],[0.8888888888888888,\"#fdca26\"],[1.0,\"#f0f921\"]],\"type\":\"heatmapgl\"}],\"heatmap\":[{\"colorbar\":{\"outlinewidth\":0,\"ticks\":\"\"},\"colorscale\":[[0.0,\"#0d0887\"],[0.1111111111111111,\"#46039f\"],[0.2222222222222222,\"#7201a8\"],[0.3333333333333333,\"#9c179e\"],[0.4444444444444444,\"#bd3786\"],[0.5555555555555556,\"#d8576b\"],[0.6666666666666666,\"#ed7953\"],[0.7777777777777778,\"#fb9f3a\"],[0.8888888888888888,\"#fdca26\"],[1.0,\"#f0f921\"]],\"type\":\"heatmap\"}],\"histogram2dcontour\":[{\"colorbar\":{\"outlinewidth\":0,\"ticks\":\"\"},\"colorscale\":[[0.0,\"#0d0887\"],[0.1111111111111111,\"#46039f\"],[0.2222222222222222,\"#7201a8\"],[0.3333333333333333,\"#9c179e\"],[0.4444444444444444,\"#bd3786\"],[0.5555555555555556,\"#d8576b\"],[0.6666666666666666,\"#ed7953\"],[0.7777777777777778,\"#fb9f3a\"],[0.8888888888888888,\"#fdca26\"],[1.0,\"#f0f921\"]],\"type\":\"histogram2dcontour\"}],\"histogram2d\":[{\"colorbar\":{\"outlinewidth\":0,\"ticks\":\"\"},\"colorscale\":[[0.0,\"#0d0887\"],[0.1111111111111111,\"#46039f\"],[0.2222222222222222,\"#7201a8\"],[0.3333333333333333,\"#9c179e\"],[0.4444444444444444,\"#bd3786\"],[0.5555555555555556,\"#d8576b\"],[0.6666666666666666,\"#ed7953\"],[0.7777777777777778,\"#fb9f3a\"],[0.8888888888888888,\"#fdca26\"],[1.0,\"#f0f921\"]],\"type\":\"histogram2d\"}],\"histogram\":[{\"marker\":{\"pattern\":{\"fillmode\":\"overlay\",\"size\":10,\"solidity\":0.2}},\"type\":\"histogram\"}],\"mesh3d\":[{\"colorbar\":{\"outlinewidth\":0,\"ticks\":\"\"},\"type\":\"mesh3d\"}],\"parcoords\":[{\"line\":{\"colorbar\":{\"outlinewidth\":0,\"ticks\":\"\"}},\"type\":\"parcoords\"}],\"pie\":[{\"automargin\":true,\"type\":\"pie\"}],\"scatter3d\":[{\"line\":{\"colorbar\":{\"outlinewidth\":0,\"ticks\":\"\"}},\"marker\":{\"colorbar\":{\"outlinewidth\":0,\"ticks\":\"\"}},\"type\":\"scatter3d\"}],\"scattercarpet\":[{\"marker\":{\"colorbar\":{\"outlinewidth\":0,\"ticks\":\"\"}},\"type\":\"scattercarpet\"}],\"scattergeo\":[{\"marker\":{\"colorbar\":{\"outlinewidth\":0,\"ticks\":\"\"}},\"type\":\"scattergeo\"}],\"scattergl\":[{\"marker\":{\"line\":{\"color\":\"#283442\"}},\"type\":\"scattergl\"}],\"scattermapbox\":[{\"marker\":{\"colorbar\":{\"outlinewidth\":0,\"ticks\":\"\"}},\"type\":\"scattermapbox\"}],\"scatterpolargl\":[{\"marker\":{\"colorbar\":{\"outlinewidth\":0,\"ticks\":\"\"}},\"type\":\"scatterpolargl\"}],\"scatterpolar\":[{\"marker\":{\"colorbar\":{\"outlinewidth\":0,\"ticks\":\"\"}},\"type\":\"scatterpolar\"}],\"scatter\":[{\"marker\":{\"line\":{\"color\":\"#283442\"}},\"type\":\"scatter\"}],\"scatterternary\":[{\"marker\":{\"colorbar\":{\"outlinewidth\":0,\"ticks\":\"\"}},\"type\":\"scatterternary\"}],\"surface\":[{\"colorbar\":{\"outlinewidth\":0,\"ticks\":\"\"},\"colorscale\":[[0.0,\"#0d0887\"],[0.1111111111111111,\"#46039f\"],[0.2222222222222222,\"#7201a8\"],[0.3333333333333333,\"#9c179e\"],[0.4444444444444444,\"#bd3786\"],[0.5555555555555556,\"#d8576b\"],[0.6666666666666666,\"#ed7953\"],[0.7777777777777778,\"#fb9f3a\"],[0.8888888888888888,\"#fdca26\"],[1.0,\"#f0f921\"]],\"type\":\"surface\"}],\"table\":[{\"cells\":{\"fill\":{\"color\":\"#506784\"},\"line\":{\"color\":\"rgb(17,17,17)\"}},\"header\":{\"fill\":{\"color\":\"#2a3f5f\"},\"line\":{\"color\":\"rgb(17,17,17)\"}},\"type\":\"table\"}]},\"layout\":{\"annotationdefaults\":{\"arrowcolor\":\"#f2f5fa\",\"arrowhead\":0,\"arrowwidth\":1},\"autotypenumbers\":\"strict\",\"coloraxis\":{\"colorbar\":{\"outlinewidth\":0,\"ticks\":\"\"}},\"colorscale\":{\"diverging\":[[0,\"#8e0152\"],[0.1,\"#c51b7d\"],[0.2,\"#de77ae\"],[0.3,\"#f1b6da\"],[0.4,\"#fde0ef\"],[0.5,\"#f7f7f7\"],[0.6,\"#e6f5d0\"],[0.7,\"#b8e186\"],[0.8,\"#7fbc41\"],[0.9,\"#4d9221\"],[1,\"#276419\"]],\"sequential\":[[0.0,\"#0d0887\"],[0.1111111111111111,\"#46039f\"],[0.2222222222222222,\"#7201a8\"],[0.3333333333333333,\"#9c179e\"],[0.4444444444444444,\"#bd3786\"],[0.5555555555555556,\"#d8576b\"],[0.6666666666666666,\"#ed7953\"],[0.7777777777777778,\"#fb9f3a\"],[0.8888888888888888,\"#fdca26\"],[1.0,\"#f0f921\"]],\"sequentialminus\":[[0.0,\"#0d0887\"],[0.1111111111111111,\"#46039f\"],[0.2222222222222222,\"#7201a8\"],[0.3333333333333333,\"#9c179e\"],[0.4444444444444444,\"#bd3786\"],[0.5555555555555556,\"#d8576b\"],[0.6666666666666666,\"#ed7953\"],[0.7777777777777778,\"#fb9f3a\"],[0.8888888888888888,\"#fdca26\"],[1.0,\"#f0f921\"]]},\"colorway\":[\"#636efa\",\"#EF553B\",\"#00cc96\",\"#ab63fa\",\"#FFA15A\",\"#19d3f3\",\"#FF6692\",\"#B6E880\",\"#FF97FF\",\"#FECB52\"],\"font\":{\"color\":\"#f2f5fa\"},\"geo\":{\"bgcolor\":\"rgb(17,17,17)\",\"lakecolor\":\"rgb(17,17,17)\",\"landcolor\":\"rgb(17,17,17)\",\"showlakes\":true,\"showland\":true,\"subunitcolor\":\"#506784\"},\"hoverlabel\":{\"align\":\"left\"},\"hovermode\":\"closest\",\"mapbox\":{\"style\":\"dark\"},\"paper_bgcolor\":\"rgb(17,17,17)\",\"plot_bgcolor\":\"rgb(17,17,17)\",\"polar\":{\"angularaxis\":{\"gridcolor\":\"#506784\",\"linecolor\":\"#506784\",\"ticks\":\"\"},\"bgcolor\":\"rgb(17,17,17)\",\"radialaxis\":{\"gridcolor\":\"#506784\",\"linecolor\":\"#506784\",\"ticks\":\"\"}},\"scene\":{\"xaxis\":{\"backgroundcolor\":\"rgb(17,17,17)\",\"gridcolor\":\"#506784\",\"gridwidth\":2,\"linecolor\":\"#506784\",\"showbackground\":true,\"ticks\":\"\",\"zerolinecolor\":\"#C8D4E3\"},\"yaxis\":{\"backgroundcolor\":\"rgb(17,17,17)\",\"gridcolor\":\"#506784\",\"gridwidth\":2,\"linecolor\":\"#506784\",\"showbackground\":true,\"ticks\":\"\",\"zerolinecolor\":\"#C8D4E3\"},\"zaxis\":{\"backgroundcolor\":\"rgb(17,17,17)\",\"gridcolor\":\"#506784\",\"gridwidth\":2,\"linecolor\":\"#506784\",\"showbackground\":true,\"ticks\":\"\",\"zerolinecolor\":\"#C8D4E3\"}},\"shapedefaults\":{\"line\":{\"color\":\"#f2f5fa\"}},\"sliderdefaults\":{\"bgcolor\":\"#C8D4E3\",\"bordercolor\":\"rgb(17,17,17)\",\"borderwidth\":1,\"tickwidth\":0},\"ternary\":{\"aaxis\":{\"gridcolor\":\"#506784\",\"linecolor\":\"#506784\",\"ticks\":\"\"},\"baxis\":{\"gridcolor\":\"#506784\",\"linecolor\":\"#506784\",\"ticks\":\"\"},\"bgcolor\":\"rgb(17,17,17)\",\"caxis\":{\"gridcolor\":\"#506784\",\"linecolor\":\"#506784\",\"ticks\":\"\"}},\"title\":{\"x\":0.05},\"updatemenudefaults\":{\"bgcolor\":\"#506784\",\"borderwidth\":0},\"xaxis\":{\"automargin\":true,\"gridcolor\":\"#283442\",\"linecolor\":\"#506784\",\"ticks\":\"\",\"title\":{\"standoff\":15},\"zerolinecolor\":\"#283442\",\"zerolinewidth\":2},\"yaxis\":{\"automargin\":true,\"gridcolor\":\"#283442\",\"linecolor\":\"#506784\",\"ticks\":\"\",\"title\":{\"standoff\":15},\"zerolinecolor\":\"#283442\",\"zerolinewidth\":2}}},\"legend\":{\"tracegroupgap\":0},\"margin\":{\"t\":60},\"dragmode\":\"select\",\"height\":800,\"width\":800,\"title\":{\"text\":\"Correla\\u00e7\\u00e3o\"}},                        {\"responsive\": true}                    ).then(function(){\n",
       "                            \n",
       "var gd = document.getElementById('463c305b-a3e2-4d02-bbff-b385965b001d');\n",
       "var x = new MutationObserver(function (mutations, observer) {{\n",
       "        var display = window.getComputedStyle(gd).display;\n",
       "        if (!display || display === 'none') {{\n",
       "            console.log([gd, 'removed!']);\n",
       "            Plotly.purge(gd);\n",
       "            observer.disconnect();\n",
       "        }}\n",
       "}});\n",
       "\n",
       "// Listen for the removal of the full notebook cells\n",
       "var notebookContainer = gd.closest('#notebook-container');\n",
       "if (notebookContainer) {{\n",
       "    x.observe(notebookContainer, {childList: true});\n",
       "}}\n",
       "\n",
       "// Listen for the clearing of the current output cell\n",
       "var outputEl = gd.closest('.output');\n",
       "if (outputEl) {{\n",
       "    x.observe(outputEl, {childList: true});\n",
       "}}\n",
       "\n",
       "                        })                };                });            </script>        </div>"
      ]
     },
     "metadata": {},
     "output_type": "display_data"
    }
   ],
   "source": [
    "fig = px.scatter_matrix(df,dimensions=[\"RM\", \"LSTAT\", \"PTRATIO\", \"MEDV\"])\n",
    "fig.update_layout(height=800,width=800,title='Correlação',template='plotly_dark')\n",
    "fig.show()\n"
   ]
  },
  {
   "cell_type": "code",
   "execution_count": 5,
   "metadata": {},
   "outputs": [
    {
     "data": {
      "image/png": "[encoded data removed]",
      "text/plain": [
       "<Figure size 432x288 with 1 Axes>"
      ]
     },
     "metadata": {
      "needs_background": "light"
     },
     "output_type": "display_data"
    }
   ],
   "source": [
    "stats.probplot(df.MEDV,dist='norm',plot=plt)\n",
    "plt.title('Normal Q-Q plot')\n",
    "plt.show()\n"
   ]
  },
  {
   "cell_type": "code",
   "execution_count": null,
   "metadata": {},
   "outputs": [],
   "source": []
  },
  {
   "cell_type": "code",
   "execution_count": null,
   "metadata": {},
   "outputs": [],
   "source": []
  },
  {
   "cell_type": "code",
   "execution_count": null,
   "metadata": {},
   "outputs": [],
   "source": []
  },
  {
   "cell_type": "code",
   "execution_count": null,
   "metadata": {},
   "outputs": [],
   "source": []
  },
  {
   "cell_type": "code",
   "execution_count": null,
   "metadata": {},
   "outputs": [],
   "source": [
    "\n",
    " "
   ]
  },
  {
   "cell_type": "code",
   "execution_count": null,
   "metadata": {},
   "outputs": [],
   "source": [
    "\n"
   ]
  },
  {
   "cell_type": "code",
   "execution_count": null,
   "metadata": {},
   "outputs": [],
   "source": []
  },
  {
   "cell_type": "code",
   "execution_count": null,
   "metadata": {},
   "outputs": [],
   "source": []
  },
  {
   "cell_type": "code",
   "execution_count": null,
   "metadata": {},
   "outputs": [],
   "source": []
  },
  {
   "cell_type": "code",
   "execution_count": null,
   "metadata": {},
   "outputs": [],
   "source": []
  },
  {
   "cell_type": "code",
   "execution_count": null,
   "metadata": {},
   "outputs": [],
   "source": []
  },
  {
   "cell_type": "code",
   "execution_count": null,
   "metadata": {},
   "outputs": [],
   "source": []
  },
  {
   "cell_type": "code",
   "execution_count": null,
   "metadata": {},
   "outputs": [],
   "source": []
  },
  {
   "cell_type": "code",
   "execution_count": null,
   "metadata": {},
   "outputs": [],
   "source": []
  },
  {
   "cell_type": "code",
   "execution_count": null,
   "metadata": {},
   "outputs": [],
   "source": []
  },
  {
   "cell_type": "code",
   "execution_count": null,
   "metadata": {},
   "outputs": [],
   "source": []
  }
 ],
 "metadata": {
  "kernelspec": {
   "display_name": "Python 3 (ipykernel)",
   "language": "python",
   "name": "python3"
  },
  "language_info": {
   "codemirror_mode": {
    "name": "ipython",
    "version": 3
   },
   "file_extension": ".py",
   "mimetype": "text/x-python",
   "name": "python",
   "nbconvert_exporter": "python",
   "pygments_lexer": "ipython3",
   "version": "3.10.12"
  }
 },
 "nbformat": 4,
 "nbformat_minor": 4
}
